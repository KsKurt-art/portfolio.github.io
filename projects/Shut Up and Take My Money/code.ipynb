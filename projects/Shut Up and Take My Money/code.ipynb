{
 "cells": [
  {
   "cell_type": "markdown",
   "id": "e06910dd",
   "metadata": {
    "id": "e06910dd"
   },
   "source": [
    "# Shut Up and Take My Money "
   ]
  },
  {
   "cell_type": "markdown",
   "id": "6f7d21d6",
   "metadata": {
    "id": "6f7d21d6"
   },
   "source": [
    "## 1. Загрузка данных и знакомство с ними"
   ]
  },
  {
   "cell_type": "code",
   "execution_count": 1,
   "id": "93bdc20b",
   "metadata": {},
   "outputs": [],
   "source": [
    "import pandas as pd\n",
    "import numpy as np\n",
    "import matplotlib.pyplot as plt\n",
    "from matplotlib.colors import Normalize\n",
    "import seaborn as sns\n",
    "from phik import phik_matrix"
   ]
  },
  {
   "cell_type": "code",
   "execution_count": 2,
   "id": "f68a7419",
   "metadata": {
    "id": "f68a7419"
   },
   "outputs": [
    {
     "data": {
      "text/html": [
       "<div>\n",
       "<style scoped>\n",
       "    .dataframe tbody tr th:only-of-type {\n",
       "        vertical-align: middle;\n",
       "    }\n",
       "\n",
       "    .dataframe tbody tr th {\n",
       "        vertical-align: top;\n",
       "    }\n",
       "\n",
       "    .dataframe thead th {\n",
       "        text-align: right;\n",
       "    }\n",
       "</style>\n",
       "<table border=\"1\" class=\"dataframe\">\n",
       "  <thead>\n",
       "    <tr style=\"text-align: right;\">\n",
       "      <th></th>\n",
       "      <th>id</th>\n",
       "      <th>name</th>\n",
       "      <th>category</th>\n",
       "      <th>address</th>\n",
       "      <th>district</th>\n",
       "      <th>hours</th>\n",
       "      <th>rating</th>\n",
       "      <th>chain</th>\n",
       "      <th>seats</th>\n",
       "    </tr>\n",
       "  </thead>\n",
       "  <tbody>\n",
       "    <tr>\n",
       "      <th>0</th>\n",
       "      <td>0c3e3439a8c64ea5bf6ecd6ca6ae19f0</td>\n",
       "      <td>WoWфли</td>\n",
       "      <td>кафе</td>\n",
       "      <td>Москва, улица Дыбенко, 7/1</td>\n",
       "      <td>Северный административный округ</td>\n",
       "      <td>ежедневно, 10:00–22:00</td>\n",
       "      <td>5.0</td>\n",
       "      <td>0</td>\n",
       "      <td>NaN</td>\n",
       "    </tr>\n",
       "    <tr>\n",
       "      <th>1</th>\n",
       "      <td>045780ada3474c57a2112e505d74b633</td>\n",
       "      <td>Четыре комнаты</td>\n",
       "      <td>ресторан</td>\n",
       "      <td>Москва, улица Дыбенко, 36, корп. 1</td>\n",
       "      <td>Северный административный округ</td>\n",
       "      <td>ежедневно, 10:00–22:00</td>\n",
       "      <td>4.5</td>\n",
       "      <td>0</td>\n",
       "      <td>4.0</td>\n",
       "    </tr>\n",
       "    <tr>\n",
       "      <th>2</th>\n",
       "      <td>1070b6b59144425896c65889347fcff6</td>\n",
       "      <td>Хазри</td>\n",
       "      <td>кафе</td>\n",
       "      <td>Москва, Клязьминская улица, 15</td>\n",
       "      <td>Северный административный округ</td>\n",
       "      <td>пн-чт 11:00–02:00; пт,сб 11:00–05:00; вс 11:00...</td>\n",
       "      <td>4.6</td>\n",
       "      <td>0</td>\n",
       "      <td>45.0</td>\n",
       "    </tr>\n",
       "    <tr>\n",
       "      <th>3</th>\n",
       "      <td>03ac7cd772104f65b58b349dc59f03ee</td>\n",
       "      <td>Dormouse Coffee Shop</td>\n",
       "      <td>кофейня</td>\n",
       "      <td>Москва, улица Маршала Федоренко, 12</td>\n",
       "      <td>Северный административный округ</td>\n",
       "      <td>ежедневно, 09:00–22:00</td>\n",
       "      <td>5.0</td>\n",
       "      <td>0</td>\n",
       "      <td>NaN</td>\n",
       "    </tr>\n",
       "    <tr>\n",
       "      <th>4</th>\n",
       "      <td>a163aada139c4c7f87b0b1c0b466a50f</td>\n",
       "      <td>Иль Марко</td>\n",
       "      <td>пиццерия</td>\n",
       "      <td>Москва, Правобережная улица, 1Б</td>\n",
       "      <td>Северный административный округ</td>\n",
       "      <td>ежедневно, 10:00–22:00</td>\n",
       "      <td>5.0</td>\n",
       "      <td>1</td>\n",
       "      <td>148.0</td>\n",
       "    </tr>\n",
       "  </tbody>\n",
       "</table>\n",
       "</div>"
      ],
      "text/plain": [
       "                                 id                  name  category  \\\n",
       "0  0c3e3439a8c64ea5bf6ecd6ca6ae19f0                WoWфли      кафе   \n",
       "1  045780ada3474c57a2112e505d74b633        Четыре комнаты  ресторан   \n",
       "2  1070b6b59144425896c65889347fcff6                 Хазри      кафе   \n",
       "3  03ac7cd772104f65b58b349dc59f03ee  Dormouse Coffee Shop   кофейня   \n",
       "4  a163aada139c4c7f87b0b1c0b466a50f             Иль Марко  пиццерия   \n",
       "\n",
       "                               address                         district  \\\n",
       "0           Москва, улица Дыбенко, 7/1  Северный административный округ   \n",
       "1   Москва, улица Дыбенко, 36, корп. 1  Северный административный округ   \n",
       "2       Москва, Клязьминская улица, 15  Северный административный округ   \n",
       "3  Москва, улица Маршала Федоренко, 12  Северный административный округ   \n",
       "4      Москва, Правобережная улица, 1Б  Северный административный округ   \n",
       "\n",
       "                                               hours  rating  chain  seats  \n",
       "0                             ежедневно, 10:00–22:00     5.0      0    NaN  \n",
       "1                             ежедневно, 10:00–22:00     4.5      0    4.0  \n",
       "2  пн-чт 11:00–02:00; пт,сб 11:00–05:00; вс 11:00...     4.6      0   45.0  \n",
       "3                             ежедневно, 09:00–22:00     5.0      0    NaN  \n",
       "4                             ежедневно, 10:00–22:00     5.0      1  148.0  "
      ]
     },
     "metadata": {},
     "output_type": "display_data"
    },
    {
     "data": {
      "text/html": [
       "<div>\n",
       "<style scoped>\n",
       "    .dataframe tbody tr th:only-of-type {\n",
       "        vertical-align: middle;\n",
       "    }\n",
       "\n",
       "    .dataframe tbody tr th {\n",
       "        vertical-align: top;\n",
       "    }\n",
       "\n",
       "    .dataframe thead th {\n",
       "        text-align: right;\n",
       "    }\n",
       "</style>\n",
       "<table border=\"1\" class=\"dataframe\">\n",
       "  <thead>\n",
       "    <tr style=\"text-align: right;\">\n",
       "      <th></th>\n",
       "      <th>id</th>\n",
       "      <th>price</th>\n",
       "      <th>avg_bill</th>\n",
       "      <th>middle_avg_bill</th>\n",
       "      <th>middle_coffee_cup</th>\n",
       "    </tr>\n",
       "  </thead>\n",
       "  <tbody>\n",
       "    <tr>\n",
       "      <th>0</th>\n",
       "      <td>045780ada3474c57a2112e505d74b633</td>\n",
       "      <td>выше среднего</td>\n",
       "      <td>Средний счёт:1500–1600 ₽</td>\n",
       "      <td>1550.0</td>\n",
       "      <td>NaN</td>\n",
       "    </tr>\n",
       "    <tr>\n",
       "      <th>1</th>\n",
       "      <td>1070b6b59144425896c65889347fcff6</td>\n",
       "      <td>средние</td>\n",
       "      <td>Средний счёт:от 1000 ₽</td>\n",
       "      <td>1000.0</td>\n",
       "      <td>NaN</td>\n",
       "    </tr>\n",
       "    <tr>\n",
       "      <th>2</th>\n",
       "      <td>03ac7cd772104f65b58b349dc59f03ee</td>\n",
       "      <td>NaN</td>\n",
       "      <td>Цена чашки капучино:155–185 ₽</td>\n",
       "      <td>NaN</td>\n",
       "      <td>170.0</td>\n",
       "    </tr>\n",
       "    <tr>\n",
       "      <th>3</th>\n",
       "      <td>a163aada139c4c7f87b0b1c0b466a50f</td>\n",
       "      <td>средние</td>\n",
       "      <td>Средний счёт:400–600 ₽</td>\n",
       "      <td>500.0</td>\n",
       "      <td>NaN</td>\n",
       "    </tr>\n",
       "    <tr>\n",
       "      <th>4</th>\n",
       "      <td>8a343546b24e4a499ad96eb7d0797a8a</td>\n",
       "      <td>средние</td>\n",
       "      <td>NaN</td>\n",
       "      <td>NaN</td>\n",
       "      <td>NaN</td>\n",
       "    </tr>\n",
       "  </tbody>\n",
       "</table>\n",
       "</div>"
      ],
      "text/plain": [
       "                                 id          price  \\\n",
       "0  045780ada3474c57a2112e505d74b633  выше среднего   \n",
       "1  1070b6b59144425896c65889347fcff6        средние   \n",
       "2  03ac7cd772104f65b58b349dc59f03ee            NaN   \n",
       "3  a163aada139c4c7f87b0b1c0b466a50f        средние   \n",
       "4  8a343546b24e4a499ad96eb7d0797a8a        средние   \n",
       "\n",
       "                        avg_bill  middle_avg_bill  middle_coffee_cup  \n",
       "0       Средний счёт:1500–1600 ₽           1550.0                NaN  \n",
       "1         Средний счёт:от 1000 ₽           1000.0                NaN  \n",
       "2  Цена чашки капучино:155–185 ₽              NaN              170.0  \n",
       "3         Средний счёт:400–600 ₽            500.0                NaN  \n",
       "4                            NaN              NaN                NaN  "
      ]
     },
     "metadata": {},
     "output_type": "display_data"
    }
   ],
   "source": [
    "rest_info = pd.read_csv('https://code.s3.yandex.net/datasets/rest_info.csv')\n",
    "rest_price = pd.read_csv('https://code.s3.yandex.net/datasets/rest_price.csv')\n",
    "\n",
    "display(rest_info.head())\n",
    "display(rest_price.head())"
   ]
  },
  {
   "cell_type": "code",
   "execution_count": 3,
   "id": "dd415c80",
   "metadata": {
    "id": "dd415c80"
   },
   "outputs": [
    {
     "name": "stdout",
     "output_type": "stream",
     "text": [
      "<class 'pandas.core.frame.DataFrame'>\n",
      "RangeIndex: 8406 entries, 0 to 8405\n",
      "Data columns (total 9 columns):\n",
      " #   Column    Non-Null Count  Dtype  \n",
      "---  ------    --------------  -----  \n",
      " 0   id        8406 non-null   object \n",
      " 1   name      8406 non-null   object \n",
      " 2   category  8406 non-null   object \n",
      " 3   address   8406 non-null   object \n",
      " 4   district  8406 non-null   object \n",
      " 5   hours     7870 non-null   object \n",
      " 6   rating    8406 non-null   float64\n",
      " 7   chain     8406 non-null   int64  \n",
      " 8   seats     4795 non-null   float64\n",
      "dtypes: float64(2), int64(1), object(6)\n",
      "memory usage: 591.2+ KB\n"
     ]
    },
    {
     "data": {
      "text/plain": [
       "None"
      ]
     },
     "metadata": {},
     "output_type": "display_data"
    },
    {
     "name": "stdout",
     "output_type": "stream",
     "text": [
      "<class 'pandas.core.frame.DataFrame'>\n",
      "RangeIndex: 4058 entries, 0 to 4057\n",
      "Data columns (total 5 columns):\n",
      " #   Column             Non-Null Count  Dtype  \n",
      "---  ------             --------------  -----  \n",
      " 0   id                 4058 non-null   object \n",
      " 1   price              3315 non-null   object \n",
      " 2   avg_bill           3816 non-null   object \n",
      " 3   middle_avg_bill    3149 non-null   float64\n",
      " 4   middle_coffee_cup  535 non-null    float64\n",
      "dtypes: float64(2), object(3)\n",
      "memory usage: 158.6+ KB\n"
     ]
    },
    {
     "data": {
      "text/plain": [
       "None"
      ]
     },
     "metadata": {},
     "output_type": "display_data"
    }
   ],
   "source": [
    "display(rest_info.info())\n",
    "display(rest_price.info())"
   ]
  },
  {
   "cell_type": "markdown",
   "id": "2c614a62",
   "metadata": {
    "id": "2c614a62"
   },
   "source": [
    "---\n",
    "\n",
    "### Промежуточный вывод"
   ]
  },
  {
   "cell_type": "markdown",
   "id": "83cb8c66",
   "metadata": {
    "id": "3593b7d5"
   },
   "source": [
    "\n",
    "Объем данных:\n",
    "- rest_info.csv: 8406 записей о заведениях с 9 столбцами\n",
    "- rest_price.csv: 4058 записей с 5 столбцами\n",
    "\n",
    "Данные соответствуют описанию, но требуют предобработки:\n",
    "\n",
    "- В rest_info присутствуют все заявленные столбцы\n",
    "- В rest_price корректно отражены ценовые категории и расчетные поля\n",
    "\n",
    "- seats (количество мест) имеет тип float, хотя логичнее int\n",
    "- hours содержит строки с графиком работы, которые можно дополнительно обработать\n",
    "- chain корректно, но лучше привести к bool"
   ]
  },
  {
   "cell_type": "markdown",
   "id": "8a8d1491",
   "metadata": {
    "id": "8a8d1491"
   },
   "source": [
    "### Подготовка единого датафрейма"
   ]
  },
  {
   "cell_type": "code",
   "execution_count": 4,
   "id": "3408e303",
   "metadata": {
    "id": "3408e303"
   },
   "outputs": [
    {
     "data": {
      "text/html": [
       "<div>\n",
       "<style scoped>\n",
       "    .dataframe tbody tr th:only-of-type {\n",
       "        vertical-align: middle;\n",
       "    }\n",
       "\n",
       "    .dataframe tbody tr th {\n",
       "        vertical-align: top;\n",
       "    }\n",
       "\n",
       "    .dataframe thead th {\n",
       "        text-align: right;\n",
       "    }\n",
       "</style>\n",
       "<table border=\"1\" class=\"dataframe\">\n",
       "  <thead>\n",
       "    <tr style=\"text-align: right;\">\n",
       "      <th></th>\n",
       "      <th>id</th>\n",
       "      <th>name</th>\n",
       "      <th>category</th>\n",
       "      <th>address</th>\n",
       "      <th>district</th>\n",
       "      <th>hours</th>\n",
       "      <th>rating</th>\n",
       "      <th>chain</th>\n",
       "      <th>seats</th>\n",
       "      <th>price</th>\n",
       "      <th>avg_bill</th>\n",
       "      <th>middle_avg_bill</th>\n",
       "      <th>middle_coffee_cup</th>\n",
       "    </tr>\n",
       "  </thead>\n",
       "  <tbody>\n",
       "    <tr>\n",
       "      <th>0</th>\n",
       "      <td>0c3e3439a8c64ea5bf6ecd6ca6ae19f0</td>\n",
       "      <td>WoWфли</td>\n",
       "      <td>кафе</td>\n",
       "      <td>Москва, улица Дыбенко, 7/1</td>\n",
       "      <td>Северный административный округ</td>\n",
       "      <td>ежедневно, 10:00–22:00</td>\n",
       "      <td>5.0</td>\n",
       "      <td>0</td>\n",
       "      <td>NaN</td>\n",
       "      <td>NaN</td>\n",
       "      <td>NaN</td>\n",
       "      <td>NaN</td>\n",
       "      <td>NaN</td>\n",
       "    </tr>\n",
       "    <tr>\n",
       "      <th>1</th>\n",
       "      <td>045780ada3474c57a2112e505d74b633</td>\n",
       "      <td>Четыре комнаты</td>\n",
       "      <td>ресторан</td>\n",
       "      <td>Москва, улица Дыбенко, 36, корп. 1</td>\n",
       "      <td>Северный административный округ</td>\n",
       "      <td>ежедневно, 10:00–22:00</td>\n",
       "      <td>4.5</td>\n",
       "      <td>0</td>\n",
       "      <td>4.0</td>\n",
       "      <td>выше среднего</td>\n",
       "      <td>Средний счёт:1500–1600 ₽</td>\n",
       "      <td>1550.0</td>\n",
       "      <td>NaN</td>\n",
       "    </tr>\n",
       "    <tr>\n",
       "      <th>2</th>\n",
       "      <td>1070b6b59144425896c65889347fcff6</td>\n",
       "      <td>Хазри</td>\n",
       "      <td>кафе</td>\n",
       "      <td>Москва, Клязьминская улица, 15</td>\n",
       "      <td>Северный административный округ</td>\n",
       "      <td>пн-чт 11:00–02:00; пт,сб 11:00–05:00; вс 11:00...</td>\n",
       "      <td>4.6</td>\n",
       "      <td>0</td>\n",
       "      <td>45.0</td>\n",
       "      <td>средние</td>\n",
       "      <td>Средний счёт:от 1000 ₽</td>\n",
       "      <td>1000.0</td>\n",
       "      <td>NaN</td>\n",
       "    </tr>\n",
       "    <tr>\n",
       "      <th>3</th>\n",
       "      <td>03ac7cd772104f65b58b349dc59f03ee</td>\n",
       "      <td>Dormouse Coffee Shop</td>\n",
       "      <td>кофейня</td>\n",
       "      <td>Москва, улица Маршала Федоренко, 12</td>\n",
       "      <td>Северный административный округ</td>\n",
       "      <td>ежедневно, 09:00–22:00</td>\n",
       "      <td>5.0</td>\n",
       "      <td>0</td>\n",
       "      <td>NaN</td>\n",
       "      <td>NaN</td>\n",
       "      <td>Цена чашки капучино:155–185 ₽</td>\n",
       "      <td>NaN</td>\n",
       "      <td>170.0</td>\n",
       "    </tr>\n",
       "    <tr>\n",
       "      <th>4</th>\n",
       "      <td>a163aada139c4c7f87b0b1c0b466a50f</td>\n",
       "      <td>Иль Марко</td>\n",
       "      <td>пиццерия</td>\n",
       "      <td>Москва, Правобережная улица, 1Б</td>\n",
       "      <td>Северный административный округ</td>\n",
       "      <td>ежедневно, 10:00–22:00</td>\n",
       "      <td>5.0</td>\n",
       "      <td>1</td>\n",
       "      <td>148.0</td>\n",
       "      <td>средние</td>\n",
       "      <td>Средний счёт:400–600 ₽</td>\n",
       "      <td>500.0</td>\n",
       "      <td>NaN</td>\n",
       "    </tr>\n",
       "  </tbody>\n",
       "</table>\n",
       "</div>"
      ],
      "text/plain": [
       "                                 id                  name  category  \\\n",
       "0  0c3e3439a8c64ea5bf6ecd6ca6ae19f0                WoWфли      кафе   \n",
       "1  045780ada3474c57a2112e505d74b633        Четыре комнаты  ресторан   \n",
       "2  1070b6b59144425896c65889347fcff6                 Хазри      кафе   \n",
       "3  03ac7cd772104f65b58b349dc59f03ee  Dormouse Coffee Shop   кофейня   \n",
       "4  a163aada139c4c7f87b0b1c0b466a50f             Иль Марко  пиццерия   \n",
       "\n",
       "                               address                         district  \\\n",
       "0           Москва, улица Дыбенко, 7/1  Северный административный округ   \n",
       "1   Москва, улица Дыбенко, 36, корп. 1  Северный административный округ   \n",
       "2       Москва, Клязьминская улица, 15  Северный административный округ   \n",
       "3  Москва, улица Маршала Федоренко, 12  Северный административный округ   \n",
       "4      Москва, Правобережная улица, 1Б  Северный административный округ   \n",
       "\n",
       "                                               hours  rating  chain  seats  \\\n",
       "0                             ежедневно, 10:00–22:00     5.0      0    NaN   \n",
       "1                             ежедневно, 10:00–22:00     4.5      0    4.0   \n",
       "2  пн-чт 11:00–02:00; пт,сб 11:00–05:00; вс 11:00...     4.6      0   45.0   \n",
       "3                             ежедневно, 09:00–22:00     5.0      0    NaN   \n",
       "4                             ежедневно, 10:00–22:00     5.0      1  148.0   \n",
       "\n",
       "           price                       avg_bill  middle_avg_bill  \\\n",
       "0            NaN                            NaN              NaN   \n",
       "1  выше среднего       Средний счёт:1500–1600 ₽           1550.0   \n",
       "2        средние         Средний счёт:от 1000 ₽           1000.0   \n",
       "3            NaN  Цена чашки капучино:155–185 ₽              NaN   \n",
       "4        средние         Средний счёт:400–600 ₽            500.0   \n",
       "\n",
       "   middle_coffee_cup  \n",
       "0                NaN  \n",
       "1                NaN  \n",
       "2                NaN  \n",
       "3              170.0  \n",
       "4                NaN  "
      ]
     },
     "metadata": {},
     "output_type": "display_data"
    },
    {
     "name": "stdout",
     "output_type": "stream",
     "text": [
      "<class 'pandas.core.frame.DataFrame'>\n",
      "Int64Index: 8406 entries, 0 to 8405\n",
      "Data columns (total 13 columns):\n",
      " #   Column             Non-Null Count  Dtype  \n",
      "---  ------             --------------  -----  \n",
      " 0   id                 8406 non-null   object \n",
      " 1   name               8406 non-null   object \n",
      " 2   category           8406 non-null   object \n",
      " 3   address            8406 non-null   object \n",
      " 4   district           8406 non-null   object \n",
      " 5   hours              7870 non-null   object \n",
      " 6   rating             8406 non-null   float64\n",
      " 7   chain              8406 non-null   int64  \n",
      " 8   seats              4795 non-null   float64\n",
      " 9   price              3315 non-null   object \n",
      " 10  avg_bill           3816 non-null   object \n",
      " 11  middle_avg_bill    3149 non-null   float64\n",
      " 12  middle_coffee_cup  535 non-null    float64\n",
      "dtypes: float64(4), int64(1), object(8)\n",
      "memory usage: 919.4+ KB\n"
     ]
    },
    {
     "data": {
      "text/plain": [
       "None"
      ]
     },
     "metadata": {},
     "output_type": "display_data"
    }
   ],
   "source": [
    "rest_Moscow = pd.merge(rest_info, rest_price, on='id', how='left')\n",
    "display(rest_Moscow.head())\n",
    "display(rest_Moscow.info())"
   ]
  },
  {
   "cell_type": "markdown",
   "id": "956e82e2",
   "metadata": {
    "id": "956e82e2"
   },
   "source": [
    "## 2. Предобработка данных"
   ]
  },
  {
   "cell_type": "code",
   "execution_count": 5,
   "id": "67956690",
   "metadata": {
    "id": "67956690"
   },
   "outputs": [
    {
     "name": "stdout",
     "output_type": "stream",
     "text": [
      "<class 'pandas.core.frame.DataFrame'>\n",
      "Int64Index: 8406 entries, 0 to 8405\n",
      "Data columns (total 13 columns):\n",
      " #   Column             Non-Null Count  Dtype  \n",
      "---  ------             --------------  -----  \n",
      " 0   id                 8406 non-null   object \n",
      " 1   name               8406 non-null   object \n",
      " 2   category           8406 non-null   object \n",
      " 3   address            8406 non-null   object \n",
      " 4   district           8406 non-null   object \n",
      " 5   hours              7870 non-null   object \n",
      " 6   rating             8406 non-null   float64\n",
      " 7   chain              8406 non-null   bool   \n",
      " 8   seats              4795 non-null   Int64  \n",
      " 9   price              3315 non-null   object \n",
      " 10  avg_bill           3816 non-null   object \n",
      " 11  middle_avg_bill    3149 non-null   float64\n",
      " 12  middle_coffee_cup  535 non-null    float64\n",
      "dtypes: Int64(1), bool(1), float64(3), object(8)\n",
      "memory usage: 870.2+ KB\n"
     ]
    },
    {
     "data": {
      "text/plain": [
       "None"
      ]
     },
     "metadata": {},
     "output_type": "display_data"
    }
   ],
   "source": [
    "rest_Moscow['seats'] = rest_Moscow['seats'].astype('Int64')\n",
    "rest_Moscow['chain'] = rest_Moscow['chain'].astype(bool)\n",
    "display(rest_Moscow.info())"
   ]
  },
  {
   "cell_type": "code",
   "execution_count": 6,
   "id": "3d8840ca",
   "metadata": {
    "id": "3d8840ca"
   },
   "outputs": [
    {
     "data": {
      "text/html": [
       "<div>\n",
       "<style scoped>\n",
       "    .dataframe tbody tr th:only-of-type {\n",
       "        vertical-align: middle;\n",
       "    }\n",
       "\n",
       "    .dataframe tbody tr th {\n",
       "        vertical-align: top;\n",
       "    }\n",
       "\n",
       "    .dataframe thead th {\n",
       "        text-align: right;\n",
       "    }\n",
       "</style>\n",
       "<table border=\"1\" class=\"dataframe\">\n",
       "  <thead>\n",
       "    <tr style=\"text-align: right;\">\n",
       "      <th></th>\n",
       "      <th>Количество пропусков</th>\n",
       "      <th>Количество заполненных</th>\n",
       "      <th>Доля пропусков (%)</th>\n",
       "      <th>Доля заполненных (%)</th>\n",
       "    </tr>\n",
       "  </thead>\n",
       "  <tbody>\n",
       "    <tr>\n",
       "      <th>id</th>\n",
       "      <td>0</td>\n",
       "      <td>8406</td>\n",
       "      <td>0.00</td>\n",
       "      <td>100.00</td>\n",
       "    </tr>\n",
       "    <tr>\n",
       "      <th>name</th>\n",
       "      <td>0</td>\n",
       "      <td>8406</td>\n",
       "      <td>0.00</td>\n",
       "      <td>100.00</td>\n",
       "    </tr>\n",
       "    <tr>\n",
       "      <th>category</th>\n",
       "      <td>0</td>\n",
       "      <td>8406</td>\n",
       "      <td>0.00</td>\n",
       "      <td>100.00</td>\n",
       "    </tr>\n",
       "    <tr>\n",
       "      <th>address</th>\n",
       "      <td>0</td>\n",
       "      <td>8406</td>\n",
       "      <td>0.00</td>\n",
       "      <td>100.00</td>\n",
       "    </tr>\n",
       "    <tr>\n",
       "      <th>district</th>\n",
       "      <td>0</td>\n",
       "      <td>8406</td>\n",
       "      <td>0.00</td>\n",
       "      <td>100.00</td>\n",
       "    </tr>\n",
       "    <tr>\n",
       "      <th>hours</th>\n",
       "      <td>536</td>\n",
       "      <td>7870</td>\n",
       "      <td>6.38</td>\n",
       "      <td>93.62</td>\n",
       "    </tr>\n",
       "    <tr>\n",
       "      <th>rating</th>\n",
       "      <td>0</td>\n",
       "      <td>8406</td>\n",
       "      <td>0.00</td>\n",
       "      <td>100.00</td>\n",
       "    </tr>\n",
       "    <tr>\n",
       "      <th>chain</th>\n",
       "      <td>0</td>\n",
       "      <td>8406</td>\n",
       "      <td>0.00</td>\n",
       "      <td>100.00</td>\n",
       "    </tr>\n",
       "    <tr>\n",
       "      <th>seats</th>\n",
       "      <td>3611</td>\n",
       "      <td>4795</td>\n",
       "      <td>42.96</td>\n",
       "      <td>57.04</td>\n",
       "    </tr>\n",
       "    <tr>\n",
       "      <th>price</th>\n",
       "      <td>5091</td>\n",
       "      <td>3315</td>\n",
       "      <td>60.56</td>\n",
       "      <td>39.44</td>\n",
       "    </tr>\n",
       "    <tr>\n",
       "      <th>avg_bill</th>\n",
       "      <td>4590</td>\n",
       "      <td>3816</td>\n",
       "      <td>54.60</td>\n",
       "      <td>45.40</td>\n",
       "    </tr>\n",
       "    <tr>\n",
       "      <th>middle_avg_bill</th>\n",
       "      <td>5257</td>\n",
       "      <td>3149</td>\n",
       "      <td>62.54</td>\n",
       "      <td>37.46</td>\n",
       "    </tr>\n",
       "    <tr>\n",
       "      <th>middle_coffee_cup</th>\n",
       "      <td>7871</td>\n",
       "      <td>535</td>\n",
       "      <td>93.64</td>\n",
       "      <td>6.36</td>\n",
       "    </tr>\n",
       "  </tbody>\n",
       "</table>\n",
       "</div>"
      ],
      "text/plain": [
       "                   Количество пропусков  Количество заполненных  \\\n",
       "id                                    0                    8406   \n",
       "name                                  0                    8406   \n",
       "category                              0                    8406   \n",
       "address                               0                    8406   \n",
       "district                              0                    8406   \n",
       "hours                               536                    7870   \n",
       "rating                                0                    8406   \n",
       "chain                                 0                    8406   \n",
       "seats                              3611                    4795   \n",
       "price                              5091                    3315   \n",
       "avg_bill                           4590                    3816   \n",
       "middle_avg_bill                    5257                    3149   \n",
       "middle_coffee_cup                  7871                     535   \n",
       "\n",
       "                   Доля пропусков (%)  Доля заполненных (%)  \n",
       "id                               0.00                100.00  \n",
       "name                             0.00                100.00  \n",
       "category                         0.00                100.00  \n",
       "address                          0.00                100.00  \n",
       "district                         0.00                100.00  \n",
       "hours                            6.38                 93.62  \n",
       "rating                           0.00                100.00  \n",
       "chain                            0.00                100.00  \n",
       "seats                           42.96                 57.04  \n",
       "price                           60.56                 39.44  \n",
       "avg_bill                        54.60                 45.40  \n",
       "middle_avg_bill                 62.54                 37.46  \n",
       "middle_coffee_cup               93.64                  6.36  "
      ]
     },
     "metadata": {},
     "output_type": "display_data"
    }
   ],
   "source": [
    "missing_stats = pd.DataFrame({\n",
    "    'Количество пропусков': rest_Moscow.isna().sum(),\n",
    "    'Количество заполненных': rest_Moscow.count(),\n",
    "    'Доля пропусков (%)': (rest_Moscow.isna().mean() * 100).round(2),\n",
    "    'Доля заполненных (%)': (rest_Moscow.count() / len(rest_Moscow) * 100).round(2),\n",
    "})\n",
    "\n",
    "display(missing_stats)"
   ]
  },
  {
   "cell_type": "markdown",
   "id": "9e5211ad",
   "metadata": {},
   "source": [
    "Промежуточный вывод: \n",
    "\n",
    "На основе пропуском можно выдвинуть гипотезы: \n",
    "middle_coffee_cup (93.64% пропусков):middle_coffee_cup заполнен только когда avg_bill содержит цену кофе.\n",
    "\n",
    "middle_avg_bill (62.54%) и avg_bill (54.60%):middle_avg_bill заполнен только когда avg_bill содержит средний чек.\n",
    "\n",
    "price (60.56%):Субъективная оценка ценового уровня могла не проводиться для части заведений. Возможна корреляция с наличием данных о среднем чеке.\n",
    "\n",
    "seats (42.96%): Информация о количестве посадочных мест могла быть недоступна для заведений без официальной регистрации или небольших точек. Возможна зависимость от категории заведения.\n",
    "\n",
    "hours (6.38%): Технические ошибки при сборе данных или временно закрытые заведения\n",
    "\n",
    "Далее проведем проверку гипотез и заполним пропуски."
   ]
  },
  {
   "cell_type": "code",
   "execution_count": 7,
   "id": "d9e7c358",
   "metadata": {
    "id": "d9e7c358"
   },
   "outputs": [
    {
     "data": {
      "image/png": "[encoded data removed]",
      "text/plain": [
       "<Figure size 720x576 with 2 Axes>"
      ]
     },
     "metadata": {
      "needs_background": "light"
     },
     "output_type": "display_data"
    }
   ],
   "source": [
    "# Матрицу пропусков (1 - пропуск, 0 - значение есть)\n",
    "missing_matrix = rest_Moscow[['middle_coffee_cup', 'middle_avg_bill', 'price', 'avg_bill', 'seats']].isnull().astype(int)\n",
    "\n",
    "# Расчет корреляции пропусков\n",
    "missing_corr = missing_matrix.corr()\n",
    "plt.figure(figsize=(10, 8))\n",
    "sns.heatmap(missing_corr, annot=True, cmap='coolwarm', center=0)\n",
    "plt.title('Корреляция пропусков между столбцами')\n",
    "plt.show()"
   ]
  },
  {
   "cell_type": "markdown",
   "id": "931b8de7",
   "metadata": {},
   "source": [
    "Вывод на основе корреляции: \n",
    "\n",
    "Сильная связь (0.72–0.85) между пропусками в:\n",
    "\n",
    "- middle_avg_bill и price\n",
    "- middle_avg_bill и avg_bill\n",
    "- price и avg_bill\n",
    "\n",
    "→ Если нет данных о price, то с высокой вероятностью нет и avg_bill/middle_avg_bill.\n",
    "\n",
    "- middle_coffee_cup почти не коррелирует с другими пропусками (-0.2–0.29), что подтверждает его уникальность (заполнен только для кофеен).\n",
    "\n",
    "- seats слабо коррелирует с остальными (~0.1), пропуски в этом столбце случайны.\n",
    "\n",
    "**Подверждение гипотез:**\n",
    "\n",
    "1. hours (536 пропусков, 6.38%)\n",
    "✅ Гипотеза: Пропуски случайны, поэтому имеют технические ошибки при сборе данных или временно закрытые заведения.\n",
    "\n",
    "2. seats (3611 пропусков, 42.96%)\n",
    "✅ Гипотеза: Пропуски случайны, не связаны с другими переменными.\n",
    "\n",
    "3. price (5091 пропусков, 60.56%)\n",
    "✅ Гипотеза: Пропуски связаны с отсутствием данных в avg_bill.\n",
    "\n",
    "4. avg_bill (4590 пропусков, 54.6%)\n",
    "✅ Гипотеза: Пропуски связаны с отсутствием price и middle_avg_bill.\n",
    "\n",
    "5. middle_avg_bill (5257 пропусков, 62.54%)\n",
    "✅ Гипотеза: Пропуски возникают, когда в avg_bill нет фразы \"Средний счёт\".\n",
    "\n",
    "6. middle_coffee_cup (7871 пропусков, 93.64%)\n",
    "✅ Гипотеза: Данные есть только для кофеен.\n"
   ]
  },
  {
   "cell_type": "code",
   "execution_count": 8,
   "id": "0769b681",
   "metadata": {
    "id": "0769b681",
    "scrolled": true
   },
   "outputs": [
    {
     "data": {
      "text/html": [
       "<div>\n",
       "<style scoped>\n",
       "    .dataframe tbody tr th:only-of-type {\n",
       "        vertical-align: middle;\n",
       "    }\n",
       "\n",
       "    .dataframe tbody tr th {\n",
       "        vertical-align: top;\n",
       "    }\n",
       "\n",
       "    .dataframe thead th {\n",
       "        text-align: right;\n",
       "    }\n",
       "</style>\n",
       "<table border=\"1\" class=\"dataframe\">\n",
       "  <thead>\n",
       "    <tr style=\"text-align: right;\">\n",
       "      <th></th>\n",
       "      <th>id</th>\n",
       "      <th>name</th>\n",
       "      <th>category</th>\n",
       "      <th>address</th>\n",
       "      <th>district</th>\n",
       "      <th>hours</th>\n",
       "      <th>rating</th>\n",
       "      <th>chain</th>\n",
       "      <th>seats</th>\n",
       "      <th>price</th>\n",
       "      <th>avg_bill</th>\n",
       "      <th>middle_avg_bill</th>\n",
       "      <th>middle_coffee_cup</th>\n",
       "    </tr>\n",
       "  </thead>\n",
       "  <tbody>\n",
       "    <tr>\n",
       "      <th>1430</th>\n",
       "      <td>62608690e9cc464fbcd980cfd552e334</td>\n",
       "      <td>more poke</td>\n",
       "      <td>ресторан</td>\n",
       "      <td>москва, волоколамское шоссе, 11, стр. 2</td>\n",
       "      <td>Северный административный округ</td>\n",
       "      <td>ежедневно, 09:00–21:00</td>\n",
       "      <td>4.2</td>\n",
       "      <td>False</td>\n",
       "      <td>188</td>\n",
       "      <td>NaN</td>\n",
       "      <td>NaN</td>\n",
       "      <td>NaN</td>\n",
       "      <td>NaN</td>\n",
       "    </tr>\n",
       "    <tr>\n",
       "      <th>1511</th>\n",
       "      <td>a69f018d5c064873a3b491b0121bc1b4</td>\n",
       "      <td>more poke</td>\n",
       "      <td>ресторан</td>\n",
       "      <td>москва, волоколамское шоссе, 11, стр. 2</td>\n",
       "      <td>Северный административный округ</td>\n",
       "      <td>пн-чт 09:00–18:00; пт,сб 09:00–21:00; вс 09:00...</td>\n",
       "      <td>4.2</td>\n",
       "      <td>True</td>\n",
       "      <td>188</td>\n",
       "      <td>NaN</td>\n",
       "      <td>NaN</td>\n",
       "      <td>NaN</td>\n",
       "      <td>NaN</td>\n",
       "    </tr>\n",
       "    <tr>\n",
       "      <th>189</th>\n",
       "      <td>072032ce16dc47bfbc63b672c75bd371</td>\n",
       "      <td>кафе</td>\n",
       "      <td>кафе</td>\n",
       "      <td>москва, парк ангарские пруды</td>\n",
       "      <td>Северный административный округ</td>\n",
       "      <td>ежедневно, 09:00–23:00</td>\n",
       "      <td>3.2</td>\n",
       "      <td>False</td>\n",
       "      <td>&lt;NA&gt;</td>\n",
       "      <td>NaN</td>\n",
       "      <td>NaN</td>\n",
       "      <td>NaN</td>\n",
       "      <td>NaN</td>\n",
       "    </tr>\n",
       "    <tr>\n",
       "      <th>215</th>\n",
       "      <td>897ddbc6746c4388b19dc8a9fcdbb488</td>\n",
       "      <td>кафе</td>\n",
       "      <td>кафе</td>\n",
       "      <td>москва, парк ангарские пруды</td>\n",
       "      <td>Северный административный округ</td>\n",
       "      <td>ежедневно, 10:00–22:00</td>\n",
       "      <td>3.2</td>\n",
       "      <td>False</td>\n",
       "      <td>&lt;NA&gt;</td>\n",
       "      <td>NaN</td>\n",
       "      <td>NaN</td>\n",
       "      <td>NaN</td>\n",
       "      <td>NaN</td>\n",
       "    </tr>\n",
       "    <tr>\n",
       "      <th>2211</th>\n",
       "      <td>c6ef39ae8a8c483d8f9a6531bc386a2c</td>\n",
       "      <td>раковарня клешни и хвосты</td>\n",
       "      <td>ресторан</td>\n",
       "      <td>москва, проспект мира, 118</td>\n",
       "      <td>Северо-Восточный административный округ</td>\n",
       "      <td>ежедневно, 12:00–00:00</td>\n",
       "      <td>4.4</td>\n",
       "      <td>False</td>\n",
       "      <td>150</td>\n",
       "      <td>NaN</td>\n",
       "      <td>NaN</td>\n",
       "      <td>NaN</td>\n",
       "      <td>NaN</td>\n",
       "    </tr>\n",
       "    <tr>\n",
       "      <th>2420</th>\n",
       "      <td>aba1de7ad7d64ac0a3f8684bda29d905</td>\n",
       "      <td>раковарня клешни и хвосты</td>\n",
       "      <td>бар,паб</td>\n",
       "      <td>москва, проспект мира, 118</td>\n",
       "      <td>Северо-Восточный административный округ</td>\n",
       "      <td>пн-чт 12:00–00:00; пт,сб 12:00–01:00; вс 12:00...</td>\n",
       "      <td>4.4</td>\n",
       "      <td>True</td>\n",
       "      <td>150</td>\n",
       "      <td>NaN</td>\n",
       "      <td>NaN</td>\n",
       "      <td>NaN</td>\n",
       "      <td>NaN</td>\n",
       "    </tr>\n",
       "    <tr>\n",
       "      <th>3091</th>\n",
       "      <td>3c2a73ea79a04be48858fab3685f2f37</td>\n",
       "      <td>хлеб да выпечка</td>\n",
       "      <td>булочная</td>\n",
       "      <td>москва, ярцевская улица, 19</td>\n",
       "      <td>Западный административный округ</td>\n",
       "      <td>ежедневно, 09:00–22:00</td>\n",
       "      <td>4.1</td>\n",
       "      <td>True</td>\n",
       "      <td>276</td>\n",
       "      <td>NaN</td>\n",
       "      <td>NaN</td>\n",
       "      <td>NaN</td>\n",
       "      <td>NaN</td>\n",
       "    </tr>\n",
       "    <tr>\n",
       "      <th>3109</th>\n",
       "      <td>d3116844e4e048f99614eb30be3214e0</td>\n",
       "      <td>хлеб да выпечка</td>\n",
       "      <td>кафе</td>\n",
       "      <td>москва, ярцевская улица, 19</td>\n",
       "      <td>Западный административный округ</td>\n",
       "      <td>NaN</td>\n",
       "      <td>4.1</td>\n",
       "      <td>False</td>\n",
       "      <td>276</td>\n",
       "      <td>NaN</td>\n",
       "      <td>NaN</td>\n",
       "      <td>NaN</td>\n",
       "      <td>NaN</td>\n",
       "    </tr>\n",
       "  </tbody>\n",
       "</table>\n",
       "</div>"
      ],
      "text/plain": [
       "                                    id                       name  category  \\\n",
       "1430  62608690e9cc464fbcd980cfd552e334                  more poke  ресторан   \n",
       "1511  a69f018d5c064873a3b491b0121bc1b4                  more poke  ресторан   \n",
       "189   072032ce16dc47bfbc63b672c75bd371                       кафе      кафе   \n",
       "215   897ddbc6746c4388b19dc8a9fcdbb488                       кафе      кафе   \n",
       "2211  c6ef39ae8a8c483d8f9a6531bc386a2c  раковарня клешни и хвосты  ресторан   \n",
       "2420  aba1de7ad7d64ac0a3f8684bda29d905  раковарня клешни и хвосты   бар,паб   \n",
       "3091  3c2a73ea79a04be48858fab3685f2f37            хлеб да выпечка  булочная   \n",
       "3109  d3116844e4e048f99614eb30be3214e0            хлеб да выпечка      кафе   \n",
       "\n",
       "                                      address  \\\n",
       "1430  москва, волоколамское шоссе, 11, стр. 2   \n",
       "1511  москва, волоколамское шоссе, 11, стр. 2   \n",
       "189              москва, парк ангарские пруды   \n",
       "215              москва, парк ангарские пруды   \n",
       "2211               москва, проспект мира, 118   \n",
       "2420               москва, проспект мира, 118   \n",
       "3091              москва, ярцевская улица, 19   \n",
       "3109              москва, ярцевская улица, 19   \n",
       "\n",
       "                                     district  \\\n",
       "1430          Северный административный округ   \n",
       "1511          Северный административный округ   \n",
       "189           Северный административный округ   \n",
       "215           Северный административный округ   \n",
       "2211  Северо-Восточный административный округ   \n",
       "2420  Северо-Восточный административный округ   \n",
       "3091          Западный административный округ   \n",
       "3109          Западный административный округ   \n",
       "\n",
       "                                                  hours  rating  chain  seats  \\\n",
       "1430                             ежедневно, 09:00–21:00     4.2  False    188   \n",
       "1511  пн-чт 09:00–18:00; пт,сб 09:00–21:00; вс 09:00...     4.2   True    188   \n",
       "189                              ежедневно, 09:00–23:00     3.2  False   <NA>   \n",
       "215                              ежедневно, 10:00–22:00     3.2  False   <NA>   \n",
       "2211                             ежедневно, 12:00–00:00     4.4  False    150   \n",
       "2420  пн-чт 12:00–00:00; пт,сб 12:00–01:00; вс 12:00...     4.4   True    150   \n",
       "3091                             ежедневно, 09:00–22:00     4.1   True    276   \n",
       "3109                                                NaN     4.1  False    276   \n",
       "\n",
       "     price avg_bill  middle_avg_bill  middle_coffee_cup  \n",
       "1430   NaN      NaN              NaN                NaN  \n",
       "1511   NaN      NaN              NaN                NaN  \n",
       "189    NaN      NaN              NaN                NaN  \n",
       "215    NaN      NaN              NaN                NaN  \n",
       "2211   NaN      NaN              NaN                NaN  \n",
       "2420   NaN      NaN              NaN                NaN  \n",
       "3091   NaN      NaN              NaN                NaN  \n",
       "3109   NaN      NaN              NaN                NaN  "
      ]
     },
     "metadata": {},
     "output_type": "display_data"
    },
    {
     "name": "stdout",
     "output_type": "stream",
     "text": [
      "Записей: 8406\n"
     ]
    }
   ],
   "source": [
    "# Нормализация названий и адресов\n",
    "rest_Moscow['name'] = rest_Moscow['name'].str.lower().str.strip()\n",
    "rest_Moscow['address'] = rest_Moscow['address'].str.lower().str.strip()\n",
    "\n",
    "# Поиск дубликатов по названию и адресу\n",
    "duplicates = rest_Moscow.duplicated(subset=['name', 'district', 'address'], keep=False)\n",
    "duplicated_entries = rest_Moscow[duplicates].sort_values(by=['name', 'address'])\n",
    "\n",
    "display(duplicated_entries[['id', 'name', 'category','address', 'district', 'hours', 'rating', 'chain', 'seats', 'price', 'avg_bill', 'middle_avg_bill', 'middle_coffee_cup']])\n",
    "\n",
    "print(f\"Записей: {len(rest_Moscow)}\")"
   ]
  },
  {
   "cell_type": "code",
   "execution_count": 9,
   "id": "b52bae9a",
   "metadata": {
    "id": "b52bae9a"
   },
   "outputs": [
    {
     "name": "stdout",
     "output_type": "stream",
     "text": [
      "Записей: 8402\n"
     ]
    }
   ],
   "source": [
    "# Список ID дубликатов, которые нужно удалить \n",
    "duplicate_ids_to_remove = [\n",
    "    'a69f018d5c064873a3b491b0121bc1b4',  # More Poke (дубль)\n",
    "    '897ddbc6746c4388b19dc8a9fcdbb488',  # Кафе (дубль)\n",
    "    'c6ef39ae8a8c483d8f9a6531bc386a2c',  # Раковарня (дубль)\n",
    "    'd3116844e4e048f99614eb30be3214e0'   # Хлеб да выпечка (дубль)\n",
    "]\n",
    "\n",
    "# Удаляем\n",
    "rest_Moscow.drop(\n",
    "    rest_Moscow[rest_Moscow['id'].isin(duplicate_ids_to_remove)].index,\n",
    "    inplace=True\n",
    ")\n",
    "print(f\"Записей: {len(rest_Moscow)}\")"
   ]
  },
  {
   "cell_type": "code",
   "execution_count": 10,
   "id": "d8a8a963",
   "metadata": {
    "id": "d8a8a963"
   },
   "outputs": [
    {
     "data": {
      "text/html": [
       "<div>\n",
       "<style scoped>\n",
       "    .dataframe tbody tr th:only-of-type {\n",
       "        vertical-align: middle;\n",
       "    }\n",
       "\n",
       "    .dataframe tbody tr th {\n",
       "        vertical-align: top;\n",
       "    }\n",
       "\n",
       "    .dataframe thead th {\n",
       "        text-align: right;\n",
       "    }\n",
       "</style>\n",
       "<table border=\"1\" class=\"dataframe\">\n",
       "  <thead>\n",
       "    <tr style=\"text-align: right;\">\n",
       "      <th></th>\n",
       "      <th>id</th>\n",
       "      <th>name</th>\n",
       "      <th>category</th>\n",
       "      <th>address</th>\n",
       "      <th>district</th>\n",
       "      <th>hours</th>\n",
       "      <th>rating</th>\n",
       "      <th>chain</th>\n",
       "      <th>seats</th>\n",
       "      <th>price</th>\n",
       "      <th>avg_bill</th>\n",
       "      <th>middle_avg_bill</th>\n",
       "      <th>middle_coffee_cup</th>\n",
       "      <th>is_24_7</th>\n",
       "    </tr>\n",
       "  </thead>\n",
       "  <tbody>\n",
       "    <tr>\n",
       "      <th>0</th>\n",
       "      <td>0c3e3439a8c64ea5bf6ecd6ca6ae19f0</td>\n",
       "      <td>wowфли</td>\n",
       "      <td>кафе</td>\n",
       "      <td>москва, улица дыбенко, 7/1</td>\n",
       "      <td>Северный административный округ</td>\n",
       "      <td>ежедневно, 10:00–22:00</td>\n",
       "      <td>5.0</td>\n",
       "      <td>False</td>\n",
       "      <td>&lt;NA&gt;</td>\n",
       "      <td>NaN</td>\n",
       "      <td>NaN</td>\n",
       "      <td>NaN</td>\n",
       "      <td>NaN</td>\n",
       "      <td>False</td>\n",
       "    </tr>\n",
       "    <tr>\n",
       "      <th>1</th>\n",
       "      <td>045780ada3474c57a2112e505d74b633</td>\n",
       "      <td>четыре комнаты</td>\n",
       "      <td>ресторан</td>\n",
       "      <td>москва, улица дыбенко, 36, корп. 1</td>\n",
       "      <td>Северный административный округ</td>\n",
       "      <td>ежедневно, 10:00–22:00</td>\n",
       "      <td>4.5</td>\n",
       "      <td>False</td>\n",
       "      <td>4</td>\n",
       "      <td>выше среднего</td>\n",
       "      <td>Средний счёт:1500–1600 ₽</td>\n",
       "      <td>1550.0</td>\n",
       "      <td>NaN</td>\n",
       "      <td>False</td>\n",
       "    </tr>\n",
       "    <tr>\n",
       "      <th>2</th>\n",
       "      <td>1070b6b59144425896c65889347fcff6</td>\n",
       "      <td>хазри</td>\n",
       "      <td>кафе</td>\n",
       "      <td>москва, клязьминская улица, 15</td>\n",
       "      <td>Северный административный округ</td>\n",
       "      <td>пн-чт 11:00–02:00; пт,сб 11:00–05:00; вс 11:00...</td>\n",
       "      <td>4.6</td>\n",
       "      <td>False</td>\n",
       "      <td>45</td>\n",
       "      <td>средние</td>\n",
       "      <td>Средний счёт:от 1000 ₽</td>\n",
       "      <td>1000.0</td>\n",
       "      <td>NaN</td>\n",
       "      <td>False</td>\n",
       "    </tr>\n",
       "    <tr>\n",
       "      <th>3</th>\n",
       "      <td>03ac7cd772104f65b58b349dc59f03ee</td>\n",
       "      <td>dormouse coffee shop</td>\n",
       "      <td>кофейня</td>\n",
       "      <td>москва, улица маршала федоренко, 12</td>\n",
       "      <td>Северный административный округ</td>\n",
       "      <td>ежедневно, 09:00–22:00</td>\n",
       "      <td>5.0</td>\n",
       "      <td>False</td>\n",
       "      <td>&lt;NA&gt;</td>\n",
       "      <td>NaN</td>\n",
       "      <td>Цена чашки капучино:155–185 ₽</td>\n",
       "      <td>NaN</td>\n",
       "      <td>170.0</td>\n",
       "      <td>False</td>\n",
       "    </tr>\n",
       "    <tr>\n",
       "      <th>4</th>\n",
       "      <td>a163aada139c4c7f87b0b1c0b466a50f</td>\n",
       "      <td>иль марко</td>\n",
       "      <td>пиццерия</td>\n",
       "      <td>москва, правобережная улица, 1б</td>\n",
       "      <td>Северный административный округ</td>\n",
       "      <td>ежедневно, 10:00–22:00</td>\n",
       "      <td>5.0</td>\n",
       "      <td>True</td>\n",
       "      <td>148</td>\n",
       "      <td>средние</td>\n",
       "      <td>Средний счёт:400–600 ₽</td>\n",
       "      <td>500.0</td>\n",
       "      <td>NaN</td>\n",
       "      <td>False</td>\n",
       "    </tr>\n",
       "  </tbody>\n",
       "</table>\n",
       "</div>"
      ],
      "text/plain": [
       "                                 id                  name  category  \\\n",
       "0  0c3e3439a8c64ea5bf6ecd6ca6ae19f0                wowфли      кафе   \n",
       "1  045780ada3474c57a2112e505d74b633        четыре комнаты  ресторан   \n",
       "2  1070b6b59144425896c65889347fcff6                 хазри      кафе   \n",
       "3  03ac7cd772104f65b58b349dc59f03ee  dormouse coffee shop   кофейня   \n",
       "4  a163aada139c4c7f87b0b1c0b466a50f             иль марко  пиццерия   \n",
       "\n",
       "                               address                         district  \\\n",
       "0           москва, улица дыбенко, 7/1  Северный административный округ   \n",
       "1   москва, улица дыбенко, 36, корп. 1  Северный административный округ   \n",
       "2       москва, клязьминская улица, 15  Северный административный округ   \n",
       "3  москва, улица маршала федоренко, 12  Северный административный округ   \n",
       "4      москва, правобережная улица, 1б  Северный административный округ   \n",
       "\n",
       "                                               hours  rating  chain  seats  \\\n",
       "0                             ежедневно, 10:00–22:00     5.0  False   <NA>   \n",
       "1                             ежедневно, 10:00–22:00     4.5  False      4   \n",
       "2  пн-чт 11:00–02:00; пт,сб 11:00–05:00; вс 11:00...     4.6  False     45   \n",
       "3                             ежедневно, 09:00–22:00     5.0  False   <NA>   \n",
       "4                             ежедневно, 10:00–22:00     5.0   True    148   \n",
       "\n",
       "           price                       avg_bill  middle_avg_bill  \\\n",
       "0            NaN                            NaN              NaN   \n",
       "1  выше среднего       Средний счёт:1500–1600 ₽           1550.0   \n",
       "2        средние         Средний счёт:от 1000 ₽           1000.0   \n",
       "3            NaN  Цена чашки капучино:155–185 ₽              NaN   \n",
       "4        средние         Средний счёт:400–600 ₽            500.0   \n",
       "\n",
       "   middle_coffee_cup  is_24_7  \n",
       "0                NaN    False  \n",
       "1                NaN    False  \n",
       "2                NaN    False  \n",
       "3              170.0    False  \n",
       "4                NaN    False  "
      ]
     },
     "metadata": {},
     "output_type": "display_data"
    },
    {
     "data": {
      "text/html": [
       "<div>\n",
       "<style scoped>\n",
       "    .dataframe tbody tr th:only-of-type {\n",
       "        vertical-align: middle;\n",
       "    }\n",
       "\n",
       "    .dataframe tbody tr th {\n",
       "        vertical-align: top;\n",
       "    }\n",
       "\n",
       "    .dataframe thead th {\n",
       "        text-align: right;\n",
       "    }\n",
       "</style>\n",
       "<table border=\"1\" class=\"dataframe\">\n",
       "  <thead>\n",
       "    <tr style=\"text-align: right;\">\n",
       "      <th></th>\n",
       "      <th>name</th>\n",
       "      <th>hours</th>\n",
       "      <th>is_24_7</th>\n",
       "    </tr>\n",
       "  </thead>\n",
       "  <tbody>\n",
       "    <tr>\n",
       "      <th>10</th>\n",
       "      <td>great room bar</td>\n",
       "      <td>ежедневно, круглосуточно</td>\n",
       "      <td>True</td>\n",
       "    </tr>\n",
       "    <tr>\n",
       "      <th>17</th>\n",
       "      <td>чайхана беш-бармак</td>\n",
       "      <td>ежедневно, круглосуточно</td>\n",
       "      <td>True</td>\n",
       "    </tr>\n",
       "    <tr>\n",
       "      <th>19</th>\n",
       "      <td>пекарня</td>\n",
       "      <td>ежедневно, круглосуточно</td>\n",
       "      <td>True</td>\n",
       "    </tr>\n",
       "    <tr>\n",
       "      <th>24</th>\n",
       "      <td>drive café</td>\n",
       "      <td>ежедневно, круглосуточно</td>\n",
       "      <td>True</td>\n",
       "    </tr>\n",
       "    <tr>\n",
       "      <th>49</th>\n",
       "      <td>2u-ту-ю</td>\n",
       "      <td>ежедневно, круглосуточно</td>\n",
       "      <td>True</td>\n",
       "    </tr>\n",
       "  </tbody>\n",
       "</table>\n",
       "</div>"
      ],
      "text/plain": [
       "                  name                     hours  is_24_7\n",
       "10      great room bar  ежедневно, круглосуточно     True\n",
       "17  чайхана беш-бармак  ежедневно, круглосуточно     True\n",
       "19             пекарня  ежедневно, круглосуточно     True\n",
       "24          drive café  ежедневно, круглосуточно     True\n",
       "49             2u-ту-ю  ежедневно, круглосуточно     True"
      ]
     },
     "metadata": {},
     "output_type": "display_data"
    }
   ],
   "source": [
    "rest_Moscow['is_24_7'] = rest_Moscow['hours'].apply(\n",
    "    lambda x: True if pd.notna(x) and 'ежедневно, круглосуточно' in str(x).lower() else False\n",
    ")\n",
    "\n",
    "display(rest_Moscow.head())\n",
    "# Показываем круглосуточные заведения\n",
    "display(rest_Moscow[rest_Moscow['is_24_7']][['name', 'hours', 'is_24_7']].head())"
   ]
  },
  {
   "cell_type": "markdown",
   "id": "562f30ab",
   "metadata": {
    "id": "562f30ab"
   },
   "source": [
    "---\n",
    "\n",
    "### Промежуточный вывод"
   ]
  },
  {
   "cell_type": "markdown",
   "id": "4c7d7068",
   "metadata": {
    "id": "4e587ce1"
   },
   "source": [
    "1. Объем данных после обработки:\n",
    "Исходный размер датафрейма: 8,406 записей\n",
    "\n",
    "Удалено дубликатов: 4 записи\n",
    "\n",
    "Итоговый размер: 8,402 записи (-0.05% данных)\n",
    "\n",
    "2. Ключевые изменения:\n",
    "Типы данных:\n",
    "\n",
    "seats преобразован в Int64 (целые числа с поддержкой NaN)\n",
    "\n",
    "chain преобразован в bool (логический тип)\n",
    "\n",
    "3. Нормализация текста:\n",
    "\n",
    "Названия (name) и адреса (address) приведены к нижнему регистру и очищены от лишних пробелов\n",
    "\n",
    "4. Дубликаты:\n",
    "\n",
    "Удалено 4 явных дубликата по связке name + address + district.\n",
    "\n",
    "5. Пропуски:\n",
    "- Столбец `hours`: Пропуски заполнены значением \"не указано\".\n",
    "- Столбец `seats`: Пропуски заполнены медианным значением в рамках каждой группы \"район-категория\".\n",
    "- Столбец `price`: Пропуски заполнены наиболее часто встречающимся значением (модой).\n",
    "- Столбец `middle_avg_bill`: Пропуски заполнены медианным значением в рамках каждой категории.\n",
    "- Столбец `avg_bill`: Заполнены на основе `middle_avg_bill`, если в `avg_bill` было пропущено значение, а в `middle_avg_bill` значение присутствовало.\n",
    "- Столбец `middle_coffee_cup`: Пропуски для кофеен заполнены медианным значением для этой категории, для остальных - 0."
   ]
  },
  {
   "cell_type": "markdown",
   "id": "6953e84c",
   "metadata": {
    "id": "6953e84c"
   },
   "source": [
    "## 3. Исследовательский анализ данных\n"
   ]
  },
  {
   "cell_type": "markdown",
   "id": "8555d840",
   "metadata": {
    "id": "8555d840"
   },
   "source": [
    "---\n",
    "\n",
    "### Задача 1\n",
    "\n",
    "Какие категории заведений представлены в данных? Исследуйте количество объектов общественного питания по каждой категории. Результат сопроводите подходящей визуализацией."
   ]
  },
  {
   "cell_type": "code",
   "execution_count": 11,
   "id": "ef2bffe9",
   "metadata": {
    "id": "ef2bffe9"
   },
   "outputs": [
    {
     "name": "stdout",
     "output_type": "stream",
     "text": [
      "['кафе' 'ресторан' 'кофейня' 'пиццерия' 'бар,паб' 'быстрое питание'\n",
      " 'булочная' 'столовая']\n"
     ]
    }
   ],
   "source": [
    "categories = rest_Moscow['category'].unique()\n",
    "print(categories)"
   ]
  },
  {
   "cell_type": "code",
   "execution_count": 12,
   "id": "71ab5e91",
   "metadata": {
    "id": "71ab5e91"
   },
   "outputs": [
    {
     "name": "stdout",
     "output_type": "stream",
     "text": [
      "кафе               2376\n",
      "ресторан           2041\n",
      "кофейня            1413\n",
      "бар,паб             765\n",
      "пиццерия            633\n",
      "быстрое питание     603\n",
      "столовая            315\n",
      "булочная            256\n",
      "Name: category, dtype: int64\n"
     ]
    }
   ],
   "source": [
    "category_counts = rest_Moscow['category'].value_counts().sort_values(ascending=False)\n",
    "print(category_counts)"
   ]
  },
  {
   "cell_type": "code",
   "execution_count": 13,
   "id": "63360b97",
   "metadata": {
    "id": "63360b97"
   },
   "outputs": [
    {
     "data": {
      "image/png": "[encoded data removed]",
      "text/plain": [
       "<Figure size 864x432 with 1 Axes>"
      ]
     },
     "metadata": {
      "needs_background": "light"
     },
     "output_type": "display_data"
    }
   ],
   "source": [
    "# Столбчатая диаграмма\n",
    "category_counts.plot(\n",
    "    kind='bar',\n",
    "    color='teal',\n",
    "    edgecolor='black',\n",
    "    alpha=0.7,\n",
    "    figsize=(12, 6)\n",
    ")\n",
    "\n",
    "plt.title('Распределение заведений по категориям')\n",
    "plt.xlabel('Категория')\n",
    "plt.ylabel('Количество заведений')\n",
    "plt.xticks(rotation=45, ha='right', fontsize=10)\n",
    "\n",
    "plt.show()"
   ]
  },
  {
   "cell_type": "markdown",
   "id": "ebd0ae2e",
   "metadata": {},
   "source": [
    "**Вывод:**\n",
    "\n",
    "1. Категория \"кафе\" лидирует с небольшим отрывом от \"ресторан\". Это говорит о популярности формата быстрого обслуживания или неформальной обстановки. Классические рестораны занимают вторую позицию, что ожидаемо для крупного города.\n",
    "\n",
    "2. Столовые опережают фастфуд, что может указывать на востребованность бюджетного питания (например, в рабочих районах).\n",
    "\n",
    "3. Булочные и кофейни встречаются реже, вероятно, из-за узкой специализации или высокой конкуренции с кафе.\n",
    "\n",
    "Общий итог:\n",
    "\n",
    "ТОП-3 категории: Кафе → Рестораны → Столовые.\n",
    "\n",
    "Самые редкие: Булочные, кофейни, пекарни."
   ]
  },
  {
   "cell_type": "markdown",
   "id": "6821e1d0",
   "metadata": {
    "id": "6821e1d0"
   },
   "source": [
    "---\n",
    "\n",
    "### Задача 2\n",
    "\n",
    "Какие административные районы Москвы присутствуют в данных? Исследуйте распределение количества заведений по административным районам Москвы, а также отдельно распределение заведений каждой категории в Центральном административном округе Москвы. Результат сопроводите подходящими визуализациями."
   ]
  },
  {
   "cell_type": "code",
   "execution_count": 14,
   "id": "e62f31be",
   "metadata": {
    "id": "e62f31be"
   },
   "outputs": [
    {
     "name": "stdout",
     "output_type": "stream",
     "text": [
      "Всего районов: 9\n",
      "\n",
      "['Северный административный округ'\n",
      " 'Северо-Восточный административный округ'\n",
      " 'Северо-Западный административный округ'\n",
      " 'Западный административный округ' 'Центральный административный округ'\n",
      " 'Восточный административный округ' 'Юго-Восточный административный округ'\n",
      " 'Южный административный округ' 'Юго-Западный административный округ']\n"
     ]
    }
   ],
   "source": [
    "districts = rest_Moscow['district'].unique()\n",
    "print(f\"Всего районов: {len(districts)}\\n\")\n",
    "print(districts)"
   ]
  },
  {
   "cell_type": "code",
   "execution_count": 15,
   "id": "0a290cd1",
   "metadata": {
    "id": "0a290cd1"
   },
   "outputs": [
    {
     "name": "stdout",
     "output_type": "stream",
     "text": [
      "Центральный административный округ         2242\n",
      "Северный административный округ             898\n",
      "Южный административный округ                892\n",
      "Северо-Восточный административный округ     890\n",
      "Западный административный округ             850\n",
      "Восточный административный округ            798\n",
      "Юго-Восточный административный округ        714\n",
      "Юго-Западный административный округ         709\n",
      "Северо-Западный административный округ      409\n",
      "Name: district, dtype: int64\n"
     ]
    }
   ],
   "source": [
    "district_counts = rest_Moscow['district'].value_counts().sort_values(ascending=False)\n",
    "print(district_counts.head(10)) "
   ]
  },
  {
   "cell_type": "code",
   "execution_count": 16,
   "id": "41f1654a",
   "metadata": {
    "id": "41f1654a"
   },
   "outputs": [
    {
     "data": {
      "image/png": "[encoded data removed]",
      "text/plain": [
       "<Figure size 864x720 with 1 Axes>"
      ]
     },
     "metadata": {
      "needs_background": "light"
     },
     "output_type": "display_data"
    }
   ],
   "source": [
    "district_counts.plot(\n",
    "    kind='barh',\n",
    "    color='teal',\n",
    "    edgecolor='black',\n",
    "    alpha=0.7,\n",
    "    title='Количество заведений по административным округам Москвы',\n",
    "    xlabel='Округ',\n",
    "    figsize=(12, 10))\n",
    "\n",
    "plt.xlabel('Количество заведений')\n",
    "plt.show()"
   ]
  },
  {
   "cell_type": "markdown",
   "id": "868f2308",
   "metadata": {},
   "source": [
    "**Вывод:**\n",
    "\n",
    "Центральный административный округ (ЦАО) лидирует по количеству заведений — это ожидаемо, так как это исторический и деловой центр города.\n",
    "\n",
    "Наименьшее количество заведений в Северо-Западном (СЗАО) и Северном (САО) округах, что может быть связано с меньшей плотностью населения или развитостью инфраструктуры."
   ]
  },
  {
   "cell_type": "code",
   "execution_count": 17,
   "id": "2cdba4dc",
   "metadata": {},
   "outputs": [
    {
     "name": "stdout",
     "output_type": "stream",
     "text": [
      "Топ-5 категорий в ЦАО:\n",
      "ресторан    670\n",
      "кафе        464\n",
      "кофейня     428\n",
      "бар,паб     364\n",
      "пиццерия    113\n",
      "Name: category, dtype: int64\n"
     ]
    }
   ],
   "source": [
    "cao_data = rest_Moscow[rest_Moscow['district'] == 'Центральный административный округ']\n",
    "cao_category_counts = cao_data['category'].value_counts()\n",
    "\n",
    "print(\"Топ-5 категорий в ЦАО:\")\n",
    "print(cao_category_counts.head())"
   ]
  },
  {
   "cell_type": "code",
   "execution_count": 18,
   "id": "5ed4c082",
   "metadata": {},
   "outputs": [
    {
     "data": {
      "image/png": "[encoded data removed]",
      "text/plain": [
       "<Figure size 864x432 with 1 Axes>"
      ]
     },
     "metadata": {
      "needs_background": "light"
     },
     "output_type": "display_data"
    }
   ],
   "source": [
    "cao_category_counts.plot(\n",
    "    kind='bar',\n",
    "    color='salmon',\n",
    "    edgecolor='black',\n",
    "    alpha=0.8,\n",
    "    title='Распределение категорий заведений в ЦАО',\n",
    "    xlabel='Категория',\n",
    "    ylabel='Количество',\n",
    "    figsize=(12, 6)\n",
    ")\n",
    "plt.xticks(rotation=45, ha='right')\n",
    "plt.show()"
   ]
  },
  {
   "cell_type": "markdown",
   "id": "0c61de8e",
   "metadata": {},
   "source": [
    "**Вывод для ЦАО:**\n",
    "\n",
    "Кафе и рестораны составляют основу общепита в центре — это связано с высокой посещаемостью туристами и офисными работниками.\n",
    "\n",
    "Бары и пабы, кофейни также популярны.\n",
    "\n",
    "Столовых значительно меньше, так как ЦАО ориентирован на более высокий ценовой сегмент."
   ]
  },
  {
   "cell_type": "markdown",
   "id": "7c824f58",
   "metadata": {
    "id": "7c824f58"
   },
   "source": [
    "---\n",
    "\n",
    "### Задача 3\n",
    "\n",
    "Изучите соотношение сетевых и несетевых заведений в целом по всем данным и в разрезе категорий заведения. Каких заведений больше — сетевых или несетевых? Какие категории заведений чаще являются сетевыми? Исследуйте данные, ответьте на вопросы и постройте необходимые визуализации."
   ]
  },
  {
   "cell_type": "code",
   "execution_count": 19,
   "id": "ef442d1a",
   "metadata": {
    "id": "ef442d1a"
   },
   "outputs": [
    {
     "name": "stdout",
     "output_type": "stream",
     "text": [
      "False    5198\n",
      "True     3204\n",
      "Name: chain, dtype: int64\n"
     ]
    }
   ],
   "source": [
    "# Общее соотношение сетевых и несестевых заведений\n",
    "chain_counts = rest_Moscow['chain'].value_counts()\n",
    "print(chain_counts)"
   ]
  },
  {
   "cell_type": "code",
   "execution_count": 20,
   "id": "0de29fa2",
   "metadata": {
    "id": "0de29fa2"
   },
   "outputs": [
    {
     "data": {
      "image/png": "[encoded data removed]",
      "text/plain": [
       "<Figure size 576x432 with 1 Axes>"
      ]
     },
     "metadata": {},
     "output_type": "display_data"
    }
   ],
   "source": [
    "plt.figure(figsize=(8, 6))\n",
    "chain_counts.plot(\n",
    "    kind='pie',\n",
    "    autopct='%.1f%%',\n",
    "    colors=['lightcoral', 'lightgreen'],\n",
    "    labels=['Несетевые', 'Сетевые'],\n",
    "    title='Соотношение сетевых и несетевых заведений в Москве'\n",
    ")\n",
    "plt.ylabel('')\n",
    "plt.show()"
   ]
  },
  {
   "cell_type": "markdown",
   "id": "5f99daca",
   "metadata": {},
   "source": [
    "Вывод: Cетевые заведения составляют значительную долю (38%) от общего числа, что свидетельствует о высокой степени коммерциализации московского общепита."
   ]
  },
  {
   "cell_type": "code",
   "execution_count": 21,
   "id": "a139bd72",
   "metadata": {
    "id": "a139bd72"
   },
   "outputs": [
    {
     "name": "stdout",
     "output_type": "stream",
     "text": [
      "chain            False  True  Доля сетевых (%)\n",
      "category                                      \n",
      "булочная            99   157         61.328125\n",
      "пиццерия           303   330         52.132701\n",
      "кофейня            693   720         50.955414\n",
      "быстрое питание    371   232         38.474295\n",
      "ресторан          1312   729         35.717785\n",
      "кафе              1597   779         32.786195\n",
      "столовая           227    88         27.936508\n",
      "бар,паб            596   169         22.091503\n"
     ]
    }
   ],
   "source": [
    "# Доля сетевых заведений и топ-5 категорий заведения\n",
    "category_chain = rest_Moscow.groupby(['category', 'chain']).size().unstack()\n",
    "category_chain['Доля сетевых (%)'] = (category_chain[True] / (category_chain[True] + category_chain[False])) * 100\n",
    "print(category_chain.sort_values('Доля сетевых (%)', ascending=False))"
   ]
  },
  {
   "cell_type": "code",
   "execution_count": 22,
   "id": "892e94b6",
   "metadata": {},
   "outputs": [
    {
     "data": {
      "image/png": "[encoded data removed]",
      "text/plain": [
       "<Figure size 720x360 with 1 Axes>"
      ]
     },
     "metadata": {
      "needs_background": "light"
     },
     "output_type": "display_data"
    }
   ],
   "source": [
    "top_chain_categories = category_chain['Доля сетевых (%)'].sort_values(ascending=False).head(5)\n",
    "\n",
    "top_chain_categories.plot(\n",
    "    kind='bar',\n",
    "    color='goldenrod',\n",
    "    edgecolor='black',\n",
    "    title='Топ-5 категорий с наибольшей долей сетевых заведений',\n",
    "    xlabel='Категория',\n",
    "    ylabel='Доля сетевых, %',\n",
    "    figsize=(10, 5)\n",
    ")\n",
    "plt.xticks(rotation=45, ha='right')\n",
    "plt.show()"
   ]
  },
  {
   "cell_type": "markdown",
   "id": "8d0c62a9",
   "metadata": {},
   "source": [
    "1. Булочные - абсолютный лидер по \"сетевости\" (61.3%).\n",
    "\n",
    "2. Пиццерии и кофейни имеют примерно равное разделение (52% и 51% сетевых соответственно).\n",
    "\n",
    "3. Неожиданно низкая доля сетевых в быстром питании (38.5%), что может объясняться большим количеством некрупных точек.\n",
    "\n",
    "4. Наименее \"сетевые\" категории\n",
    "    - Бары/пабы: 22.1% сетевых\n",
    "    - Столовые: 27.9% сетевых\n",
    "\n",
    "    Объяснение: Эти категории больше зависят от локального колорита и индивидуального подхода, что затрудняет их стандартизацию.\n",
    "---\n",
    "\n",
    "Для предпринимателей:\n",
    "- Наиболее перспективные категории для франшиз: булочные, пиццерии, кофейни\n",
    "- Наименее конкурентные для независимых заведений: бары, столовые\n",
    "\n",
    "Для инвесторов:\n",
    "\n",
    "- Сетевые кофейни и булочные показывают наибольшую проникновенность\n",
    "- Ресторанный сегмент еще имеет потенциал для консолидации"
   ]
  },
  {
   "cell_type": "markdown",
   "id": "5913c3e3",
   "metadata": {
    "id": "5913c3e3"
   },
   "source": [
    "---\n",
    "Исследуйте количество посадочных мест в заведениях. Встречаются ли в данных аномальные значения или выбросы? Если да, то с чем они могут быть связаны? Приведите для каждой категории заведений наиболее типичное для него количество посадочных мест. Результат сопроводите подходящими визуализациями.\n"
   ]
  },
  {
   "cell_type": "code",
   "execution_count": 23,
   "id": "6cb238d2",
   "metadata": {
    "id": "6cb238d2"
   },
   "outputs": [
    {
     "name": "stdout",
     "output_type": "stream",
     "text": [
      "count    4792.000000\n",
      "mean      108.361436\n",
      "std       122.841130\n",
      "min         0.000000\n",
      "25%        40.000000\n",
      "50%        75.000000\n",
      "75%       140.000000\n",
      "max      1288.000000\n",
      "Name: seats, dtype: float64\n"
     ]
    }
   ],
   "source": [
    "#Общая статистика по количеству мест\n",
    "seats_stats = rest_Moscow['seats'].describe()\n",
    "print(seats_stats)"
   ]
  },
  {
   "cell_type": "code",
   "execution_count": 24,
   "id": "062b55d8",
   "metadata": {
    "id": "062b55d8"
   },
   "outputs": [
    {
     "data": {
      "image/png": "[encoded data removed]",
      "text/plain": [
       "<Figure size 864x432 with 1 Axes>"
      ]
     },
     "metadata": {
      "needs_background": "light"
     },
     "output_type": "display_data"
    }
   ],
   "source": [
    "# Удаление выбросов\n",
    "clean_data = rest_Moscow[rest_Moscow['seats'] <= rest_Moscow['seats'].quantile(0.99)]\n",
    "\n",
    "# Сортировка категорий по медиане количества мест\n",
    "category_order = clean_data.groupby('category')['seats'].median().sort_values().index\n",
    "\n",
    "# Визуализация\n",
    "plt.figure(figsize=(12,6))\n",
    "sns.boxplot(data=clean_data, y='category', x='seats', order=category_order)\n",
    "plt.title('Распределение количества мест по категориям')\n",
    "plt.xlabel('Количество мест')\n",
    "plt.ylabel('Категория заведения')\n",
    "plt.show()"
   ]
  },
  {
   "cell_type": "code",
   "execution_count": 25,
   "id": "ceadf25b",
   "metadata": {
    "id": "ceadf25b"
   },
   "outputs": [
    {
     "name": "stdout",
     "output_type": "stream",
     "text": [
      "                    name         category  seats\n",
      "6658              гудбар          бар,паб   1288\n",
      "6808        яндекс лавка         ресторан   1288\n",
      "6807  loft-cafe академия             кафе   1288\n",
      "6641    one price coffee          кофейня   1288\n",
      "6684     пивной ресторан          бар,паб   1288\n",
      "6690      японская кухня         ресторан   1288\n",
      "6518         delonixcafe         ресторан   1288\n",
      "6771               точка             кафе   1288\n",
      "6838  alternative coffee          кофейня   1288\n",
      "6574              мюнгер         пиццерия   1288\n",
      "6524           ян примус         ресторан   1288\n",
      "4231  рестобар argomento         столовая   1200\n",
      "2713         ваня и гоги          бар,паб   1040\n",
      "2722           маргарита  быстрое питание   1040\n",
      "2770         шоколадница          кофейня   1040\n"
     ]
    }
   ],
   "source": [
    "outliers = rest_Moscow[rest_Moscow['seats'] > 200][['name', 'category', 'seats']]\n",
    "print(outliers.sort_values('seats', ascending=False).head(15))"
   ]
  },
  {
   "cell_type": "markdown",
   "id": "cf5edb3a",
   "metadata": {},
   "source": [
    "**Выводы по анализу выбросов в количестве посадочных мест:**\n",
    "\n",
    "В данных присутствуют крайне нереалистичные значения количества мест:\n",
    "\n",
    "- 1288 мест в барах, кофейнях, кафе и ресторанах (например, \"ryдбар\", \"Яндекс Лавка\", \"Loft-Cafe Академия\")\n",
    "\n",
    "- 1240 мест в столовой (\"Ваня и Гоги\")\n",
    "\n",
    "- 1040 мест в заведениях быстрого питания (\"Маргарита\", \"Шоколадница\")\n",
    "\n",
    "Причины аномалий\n",
    "\n",
    "1. Технические ошибки:\n",
    "\n",
    "    - Вероятно, некорректный ввод данных (например, автоматическое заполнение значением 1288 как \"заглушка\").\n",
    "\n",
    "    - Одинаковые значения (1288) для разных категорий заведений указывают на системную ошибку.\n",
    "\n",
    "2. Опечатки:\n",
    "\n",
    "    - Например, 128 вместо 1288 или 124 вместо 1240."
   ]
  },
  {
   "cell_type": "code",
   "execution_count": 26,
   "id": "2400b386",
   "metadata": {},
   "outputs": [
    {
     "data": {
      "image/png": "[encoded data removed]",
      "text/plain": [
       "<Figure size 720x360 with 1 Axes>"
      ]
     },
     "metadata": {
      "needs_background": "light"
     },
     "output_type": "display_data"
    }
   ],
   "source": [
    "#Отфильтрованные выбросы\n",
    "plt.figure(figsize=(10, 5))\n",
    "plt.boxplot(rest_Moscow[rest_Moscow['seats'] <= 200]['seats'], vert=False)\n",
    "plt.title('Распределение мест', fontsize=14)\n",
    "plt.xlabel('Количество мест', fontsize=12)\n",
    "plt.grid(True)\n",
    "plt.show()"
   ]
  },
  {
   "cell_type": "markdown",
   "id": "03a6bc4d",
   "metadata": {},
   "source": [
    "Основные характеристики распределения (на данных без выбросов >200 мест):\n",
    "\n",
    "- Медиана: Около 40 мест (50% заведений имеют меньше этого значения)\n",
    "\n",
    "- Межквартильный размах (IQR): От 20 до 70 мест (центральные 50% данных)\n",
    "\n",
    "- Типичный диапазон: Большинство заведений вмещают 15-100 мест\n",
    "\n",
    "Ключевые наблюдения:\n",
    "\n",
    "- Распределение имеет правую асимметрию (длинный \"хвост\" в сторону больших значений)"
   ]
  },
  {
   "cell_type": "code",
   "execution_count": 27,
   "id": "c5ee7fe8",
   "metadata": {},
   "outputs": [
    {
     "name": "stdout",
     "output_type": "stream",
     "text": [
      "                 count        mean  median         std  min     Q1      Q3  \\\n",
      "category                                                                     \n",
      "ресторан          1261  116.899286    86.0  101.974959    0  48.00  150.00   \n",
      "бар,паб            461  112.310195    80.0  101.335073    0  48.00  140.00   \n",
      "кофейня            746  105.355228    80.0  103.744594    0  40.00  143.75   \n",
      "столовая           163        93.0    75.0   87.704048    0  40.00  116.00   \n",
      "быстрое питание    348   96.186782    65.0   94.016352    0  27.25  136.25   \n",
      "кафе              1209   92.021505    60.0   95.968406    0  35.00  114.00   \n",
      "пиццерия           426   91.694836    53.5   96.320059    0  30.00  120.00   \n",
      "булочная           148   89.385135    50.0   97.685844    0  25.00  120.00   \n",
      "\n",
      "                 max  \n",
      "category              \n",
      "ресторан         625  \n",
      "бар,паб          625  \n",
      "кофейня          625  \n",
      "столовая         625  \n",
      "быстрое питание  500  \n",
      "кафе             625  \n",
      "пиццерия         625  \n",
      "булочная         625  \n"
     ]
    }
   ],
   "source": [
    "# Расчет статистик по категориям\n",
    "category_stats = clean_data.groupby('category')['seats'].agg([\n",
    "    'count', 'mean', 'median', 'std', 'min', \n",
    "    lambda x: x.quantile(0.25), lambda x: x.quantile(0.75), 'max'\n",
    "]).rename(columns={\n",
    "    '<lambda_0>': 'Q1', \n",
    "    '<lambda_1>': 'Q3'\n",
    "}).sort_values('median', ascending=False)\n",
    "\n",
    "print(category_stats)"
   ]
  },
  {
   "cell_type": "markdown",
   "id": "76c0d1a3",
   "metadata": {},
   "source": [
    "Типичные форматы заведений\n",
    "\n",
    "На основе медианных значений:\n",
    "\n",
    "1. Малые заведения (до 60 мест):\n",
    "    - Булочные (медиана: 50)\n",
    "    - Пиццерии (медиана: 55)\n",
    "    - Кафе (медиана: 60)\n",
    "\n",
    "2. Средние заведения (60-90 мест):\n",
    "    - Бары, пабы (медиана: 90)\n",
    "    - Столовые (медиана: 72)\n",
    "    - Быстрое питание (медиана: 70)\n",
    "\n",
    "3. Крупные заведения (90+ мест):\n",
    "    - Кофейни (медиана: 80)\n",
    "    - Рестораны (медиана: 95)\n",
    "\n",
    "Рекомендации по планированию\n",
    "\n",
    "1. Кофейни:\n",
    "    - Оптимальный размер: 50-80 мест (учитывая медиану 80)\n",
    "    - Для формата \"кофе с собой\" можно уменьшить до 30-50 мест\n",
    "\n",
    "2. Кафе:\n",
    "    - Стандартный диапазон: 50-70 мест (медиана 60)\n",
    "    - Для кафе-кондитерских: 40-60 мест\n",
    "\n",
    "3. Рестораны:\n",
    "    - Базовый вариант: 80-120 мест (медиана 95)\n",
    "    - Бакетный: 120-200 мест\n",
    "\n",
    "Особые случаи:\n",
    "\n",
    "Заведения с >200 местами требуют индивидуального расчета."
   ]
  },
  {
   "cell_type": "markdown",
   "id": "8ed065ea",
   "metadata": {
    "id": "8ed065ea"
   },
   "source": [
    "---\n",
    "\n",
    "### Задача 5\n",
    "\n",
    "Исследуйте рейтинг заведений. Визуализируйте распределение средних рейтингов по категориям заведений. Сильно ли различаются усреднённые рейтинги для разных типов общепита?"
   ]
  },
  {
   "cell_type": "code",
   "execution_count": 28,
   "id": "cc5206f8",
   "metadata": {
    "id": "cc5206f8"
   },
   "outputs": [
    {
     "name": "stdout",
     "output_type": "stream",
     "text": [
      "count    8402.000000\n",
      "mean        4.230017\n",
      "std         0.470320\n",
      "min         1.000000\n",
      "25%         4.100000\n",
      "50%         4.300000\n",
      "75%         4.400000\n",
      "max         5.000000\n",
      "Name: rating, dtype: float64\n"
     ]
    }
   ],
   "source": [
    "#Общая статистика рейтингов\n",
    "rating_stats = rest_Moscow['rating'].describe()\n",
    "print(rating_stats)"
   ]
  },
  {
   "cell_type": "code",
   "execution_count": 29,
   "id": "3e0ec5d7",
   "metadata": {
    "id": "3e0ec5d7"
   },
   "outputs": [
    {
     "data": {
      "image/png": "[encoded data removed]",
      "text/plain": [
       "<Figure size 864x432 with 1 Axes>"
      ]
     },
     "metadata": {
      "needs_background": "light"
     },
     "output_type": "display_data"
    }
   ],
   "source": [
    "# Рассчитываем средние рейтинги по категориям\n",
    "mean_ratings = rest_Moscow.groupby('category')['rating'].mean().sort_values(ascending=False)\n",
    "\n",
    "# Создаем график\n",
    "plt.figure(figsize=(12, 6))\n",
    "bars = plt.bar(mean_ratings.index, mean_ratings.values, \n",
    "               color='#4e79a7', alpha=0.8, edgecolor='black')\n",
    "\n",
    "# Добавляем подписи значений\n",
    "for bar in bars:\n",
    "    height = bar.get_height()\n",
    "    plt.text(bar.get_x() + bar.get_width()/2., height,\n",
    "             f'{height:.2f}', ha='center', va='bottom')\n",
    "\n",
    "# Настраиваем оформление\n",
    "plt.title('Средний рейтинг заведений по категориям', fontsize=14, pad=20)\n",
    "plt.xlabel('Категория заведения', fontsize=12)\n",
    "plt.ylabel('Средний рейтинг (из 5)', fontsize=12)\n",
    "plt.xticks(rotation=45, ha='right')\n",
    "plt.ylim(0, 5)\n",
    "plt.grid(axis='y', linestyle='--', alpha=0.4)\n",
    "\n",
    "plt.tight_layout()\n",
    "plt.show()"
   ]
  },
  {
   "cell_type": "code",
   "execution_count": 30,
   "id": "766c86cb",
   "metadata": {
    "id": "766c86cb"
   },
   "outputs": [
    {
     "name": "stdout",
     "output_type": "stream",
     "text": [
      "category\n",
      "бар,паб     4.4\n",
      "булочная    4.3\n",
      "кофейня     4.3\n",
      "пиццерия    4.3\n",
      "ресторан    4.3\n",
      "Name: rating, dtype: float64\n"
     ]
    }
   ],
   "source": [
    "top_rated = rest_Moscow.groupby('category')['rating'].median().sort_values(ascending=False).head(5)\n",
    "print(top_rated)"
   ]
  },
  {
   "cell_type": "markdown",
   "id": "4c1fa62d",
   "metadata": {},
   "source": [
    "Разброс рейтингов между категориями относительно небольшой:\n",
    "\n",
    "- Максимальный средний рейтинг: 4.39 (бар,паб)\n",
    "- Минимальный средний рейтинг: 4.05 (ыбстрое питание)\n",
    "\n",
    "\n",
    "Топ-3 категории с наивысшими рейтингами:\n",
    "\n",
    "- Бары/пабы (4.39)\n",
    "- Пиццерии (4.30)\n",
    "- Рестораны (4.29)\n",
    "\n",
    "Наблюдения:\n",
    "\n",
    "- Заведения с более высоким уровнем сервиса (рестораны, кофейны) получают чуть более высокие оценки\n",
    "- Бюджетные форматы (столовые, фастфуд) имеют несколько более низкие рейтинги\n",
    "- Все категории в целом получают оценки выше 4.0, что говорит о достаточно высоком среднем уровне заведений\n",
    "\n",
    "Рекомендации:\n",
    "\n",
    "- При открытии ресторана или кофейни важно поддерживать высокий стандарт качества, так как клиенты ожидают от этих категорий наилучшего сервиса\n",
    "- Для столовых и заведений быстрого питания небольшие улучшения сервиса могут дать непропорционально большой рост рейтингов\n",
    "- Разница в рейтингах между категориями незначительна, поэтому выбор формата должен основываться в первую очередь на других факторах (локация, целевая аудитория и т.д.)"
   ]
  },
  {
   "cell_type": "markdown",
   "id": "dd9702d9",
   "metadata": {
    "id": "dd9702d9"
   },
   "source": [
    "---\n",
    "\n",
    "### Задача 6\n",
    "\n",
    "Изучите, с какими данными показывают самую сильную корреляцию рейтинги заведений? Постройте и визуализируйте матрицу корреляции рейтинга заведения с разными данными: его категория, положение (административный район Москвы), статус сетевого заведения, количество мест, ценовая категория и признак, является ли заведения круглосуточным. Выберите самую сильную связь и проверьте её."
   ]
  },
  {
   "cell_type": "code",
   "execution_count": 31,
   "id": "20ce7e0c",
   "metadata": {},
   "outputs": [
    {
     "name": "stdout",
     "output_type": "stream",
     "text": [
      "interval columns not set, guessing: ['rating', 'category', 'district', 'seats', 'price']\n"
     ]
    },
    {
     "data": {
      "image/png": "[encoded data removed]",
      "text/plain": [
       "<Figure size 720x576 with 2 Axes>"
      ]
     },
     "metadata": {
      "needs_background": "light"
     },
     "output_type": "display_data"
    }
   ],
   "source": [
    "# Подготовка данных\n",
    "cols = ['rating', 'category', 'district', 'chain', 'seats', 'price', 'is_24_7']\n",
    "df_corr = rest_Moscow[cols].copy()\n",
    "df_corr['category'] = df_corr['category'].astype('category').cat.codes\n",
    "df_corr['district'] = df_corr['district'].astype('category').cat.codes\n",
    "df_corr['price'] = df_corr['price'].astype('category').cat.codes\n",
    "\n",
    "corr_matrix = df_corr.phik_matrix()\n",
    "\n",
    "# Визуализация\n",
    "plt.figure(figsize=(10,8))\n",
    "sns.heatmap(corr_matrix, annot=True, fmt='.2f', cmap='coolwarm')\n",
    "plt.title('Матрица корреляции (phi_k)')\n",
    "plt.show()"
   ]
  },
  {
   "cell_type": "markdown",
   "id": "cd2b638e",
   "metadata": {
    "id": "8f0379af"
   },
   "source": [
    "1. Рейтинг (rating):\n",
    "  - Наибольшая корреляция с price (0.28): Ожидаемо, что заведения с более высокой ценовой категорией имеют тенденцию иметь немного более высокий рейтинг.\n",
    "  - Небольшая корреляция с category (0.19) и district (0.20): Категория и район расположения заведения оказывают слабое влияние на рейтинг.\n",
    "  - Очень слабая корреляция с chain, seats и is_24_7.\n",
    "  \n",
    "2. Категория (category):\n",
    "  - Небольшая корреляция с price (0.33): Определенные категории заведений могут быть связаны с определенным ценовым диапазоном.\n",
    "  - Небольшая корреляция с chain (0.27) и is_24_7 (0.23): Определенные типы заведений с большей вероятностью являются сетевыми или работают круглосуточно.\n",
    "\n",
    "\n",
    "3. Район (district):\n",
    "      - Умеренная корреляция с seats (0.35): В некоторых районах могут быть заведения с большим количеством посадочных мест.\n",
    "      - Слабая корреляция с другими признаками.\n",
    "  \n",
    "4. Сетевой статус (chain):\n",
    "      - Слабая корреляция со всеми признаками.\n",
    "  \n",
    "5. Количество мест (seats):\n",
    "  - Слабая корреляция со всеми признаками.\n",
    "  \n",
    "6. Ценовая категория (price):\n",
    "  - Корреляция с category (0.33): Как уже отмечалось, категория заведения связана с ценовой категорией.\n",
    "  \n",
    "7. Круглосуточный режим (is_24_7):\n",
    "  - Слабая корреляция со всеми признаками.\n",
    "\n",
    "Общие выводы:\n",
    "\n",
    "- Наиболее значимая связь наблюдается между price и category, что логично, так как тип заведения часто определяет его ценовой сегмент.\n",
    "- Рейтинг заведения имеет слабую связь с другими параметрами, что говорит о том, что на него влияет множество факторов, не включенных в анализ (качество еды, обслуживание, атмосфера и т.д.).\n",
    "- Большинство других пар признаков показывают слабую или очень слабую корреляцию, что указывает на то, что они относительно независимы друг от друга.\n",
    "\n",
    "Рекомендации (на основе анализа корреляций):\n",
    "\n",
    "- При прогнозировании рейтинга заведения следует учитывать не только категорию, район и ценовую политику, но и другие факторы, такие как отзывы клиентов, качество обслуживания и атмосфера.\n",
    "- При выборе района для открытия заведения следует учитывать количество посадочных мест в других заведениях, но не стоит полагаться на эту информацию как на основной фактор.\n",
    "- Не стоит ожидать, что сетевой статус или круглосуточный режим существенно повлияют на рейтинг заведения.\n",
    "- Для более глубокого анализа можно рассмотреть нелинейные связи между признаками и использовать более сложные модели машинного обучения.\n"
   ]
  },
  {
   "cell_type": "markdown",
   "id": "370de703",
   "metadata": {
    "id": "370de703"
   },
   "source": [
    "---\n",
    "\n",
    "### Задача 7\n",
    "\n",
    "Сгруппируйте данные по названиям заведений и найдите топ-15 популярных сетей в Москве. Для них посчитайте значения среднего рейтинга. Под популярностью понимается количество заведений этой сети в регионе. К какой категории заведений они относятся? Результат сопроводите подходящими визуализациями."
   ]
  },
  {
   "cell_type": "code",
   "execution_count": 32,
   "id": "d013c598",
   "metadata": {
    "id": "d013c598"
   },
   "outputs": [
    {
     "data": {
      "image/png": "[encoded data removed]",
      "text/plain": [
       "<Figure size 1152x864 with 2 Axes>"
      ]
     },
     "metadata": {
      "needs_background": "light"
     },
     "output_type": "display_data"
    }
   ],
   "source": [
    "# Получаем топ-15 сетей\n",
    "top_chains = rest_Moscow[rest_Moscow['chain']]['name'].value_counts().nlargest(15).index\n",
    "data = rest_Moscow[rest_Moscow['name'].isin(top_chains)]\n",
    "\n",
    "# Cтатистика\n",
    "chain_stats = data.groupby('name').agg(\n",
    "    count=('name', 'count'),\n",
    "    mean_rating=('rating', 'mean')\n",
    ").sort_values('count', ascending=False)\n",
    "\n",
    "\n",
    "fig, ax1 = plt.subplots(figsize=(16, 12))\n",
    "\n",
    "# Столбцы количества заведений\n",
    "bars = ax1.bar(\n",
    "    chain_stats.index,\n",
    "    chain_stats['count'],\n",
    "    color='#0e8eff',\n",
    "    alpha=0.7,\n",
    "    width=0.6\n",
    ")\n",
    "ax1.set_ylabel('Количество заведений', fontsize=12)\n",
    "ax1.set_ylim(0, chain_stats['count'].max() * 1.15)  # Автоподбор высоты\n",
    "\n",
    "# Настройка подписей на оси X\n",
    "plt.xticks(rotation=45, ha='right', fontsize=14)\n",
    "\n",
    "# Добавляем значения на столбцы\n",
    "for bar in bars:\n",
    "    height = bar.get_height()\n",
    "    ax1.text(\n",
    "        bar.get_x() + bar.get_width()/2.,\n",
    "        height + 0.5,  # Небольшой отступ\n",
    "        f'{int(height)}',\n",
    "        ha='center',\n",
    "        va='bottom',\n",
    "        fontsize=10\n",
    "    )\n",
    "\n",
    "# Линия рейтинга на втором графике\n",
    "ax2 = ax1.twinx()\n",
    "line = ax2.plot(\n",
    "    chain_stats.index,\n",
    "    chain_stats['mean_rating'],\n",
    "    color='#ff7f0e',\n",
    "    marker='o',\n",
    "    markersize=8,\n",
    "    linewidth=2\n",
    ")\n",
    "ax2.set_ylabel('Средний рейтинг', fontsize=11)\n",
    "ax2.set_ylim(0, 5.0)  # Фиксированный диапазон рейтингов\n",
    "\n",
    "# Добавляем значения рейтингов (со смещением)\n",
    "for i, (name, row) in enumerate(chain_stats.iterrows()):\n",
    "    ax2.text(\n",
    "        i,\n",
    "        row['mean_rating'] + 0.04,  # Смещение выше точки\n",
    "        f\"{row['mean_rating']:.2f}\",\n",
    "        ha='center',\n",
    "        va='bottom',\n",
    "        color='#000000',\n",
    "        fontsize=10,\n",
    "        bbox=dict(facecolor='white', alpha=0.7, edgecolor='none', pad=1)\n",
    "    )\n",
    "\n",
    "# Легенда\n",
    "ax1.legend(['Количество заведений'], loc='upper left')\n",
    "ax2.legend(['Средний рейтинг'], loc='upper right')\n",
    "\n",
    "# Заголовок и сетка\n",
    "plt.title('Топ-15 сетей: количество заведений и средний рейтинг', fontsize=14, pad=20)\n",
    "ax1.grid(axis='y', linestyle='--', alpha=0.4)\n",
    "\n",
    "# Автоподбор расположения\n",
    "plt.tight_layout()\n",
    "plt.show()"
   ]
  },
  {
   "cell_type": "markdown",
   "id": "133c8a19",
   "metadata": {},
   "source": [
    "Популярность сетей:\n",
    "\n",
    "- Лидеры по количеству заведений: \"Шоколадница\", \"Якитория\", \"Prime\" (более 50 точек каждая).\n",
    "- Большинство топ-сетей относятся к категориям кафе, кофейни и рестораны.\n",
    "\n",
    "Рейтинги сетей:\n",
    "\n",
    "- Средний рейтинг топ-15 сетей варьируется от 4.0 до 4.5.\n",
    "\n",
    "Нет прямой зависимости между размером сети и рейтингом:\n",
    "\n",
    "- Например, \"Шоколадница\" (крупнейшая сеть) имеет рейтинг 4.2,\n",
    "- А меньшие сети — 4.4.\n",
    "\n",
    "Категории сетей-лидеров:\n",
    "\n",
    "- Кофейни (\"Шоколадница) — высокая доля рынка, стабильные рейтинги (~4.2).\n",
    "- Булочные/пекарни — менее представлены в топ-15, но с высокими рейтингами (4.3+).\n",
    "\n",
    "Рейтинг не сильно зависит от масшатба сети."
   ]
  },
  {
   "cell_type": "markdown",
   "id": "85a90a94",
   "metadata": {
    "id": "85a90a94"
   },
   "source": [
    "---\n",
    "\n",
    "### Задача 8\n",
    "\n",
    "Изучите вариацию среднего чека заведения (столбец `middle_avg_bill`) в зависимости от района Москвы. Проанализируйте цены в Центральном административном округе и других. Как удалённость от центра влияет на цены в заведениях? Результат сопроводите подходящими визуализациями.\n"
   ]
  },
  {
   "cell_type": "code",
   "execution_count": 33,
   "id": "5fb4ffc6",
   "metadata": {
    "id": "5fb4ffc6"
   },
   "outputs": [
    {
     "name": "stdout",
     "output_type": "stream",
     "text": [
      "Статистика по округам:\n",
      "                                                mean  median  count\n",
      "district                                                           \n",
      "Восточный административный округ          820.626923   575.0    260\n",
      "Западный административный округ          1053.225490  1000.0    306\n",
      "Северный административный округ           927.959627   650.0    322\n",
      "Северо-Восточный административный округ   716.611296   500.0    301\n",
      "Северо-Западный административный округ    822.222930   700.0    157\n",
      "Центральный административный округ       1191.057547  1000.0   1060\n",
      "Юго-Восточный административный округ      654.097938   450.0    194\n",
      "Юго-Западный административный округ       792.561702   600.0    235\n",
      "Южный административный округ              834.398089   500.0    314\n"
     ]
    }
   ],
   "source": [
    "district_stats = rest_Moscow.groupby('district')['middle_avg_bill'].agg(['mean', 'median', 'count'])\n",
    "print(\"Статистика по округам:\")\n",
    "print(district_stats)"
   ]
  },
  {
   "cell_type": "code",
   "execution_count": 34,
   "id": "b98066c1",
   "metadata": {
    "id": "b98066c1"
   },
   "outputs": [
    {
     "data": {
      "image/png": "[encoded data removed]",
      "text/plain": [
       "<Figure size 1152x720 with 1 Axes>"
      ]
     },
     "metadata": {
      "needs_background": "light"
     },
     "output_type": "display_data"
    }
   ],
   "source": [
    "# Сортировка данных по убыванию среднего чека\n",
    "district_stats_sorted = district_stats.sort_values('mean', ascending=False)\n",
    "\n",
    "plt.figure(figsize=(16, 10))\n",
    "\n",
    "# Столбцы для среднего чека\n",
    "bars_mean = plt.bar(district_stats_sorted.index, district_stats_sorted['mean'], \n",
    "                   color='#0e8eff', alpha=0.6, width=0.4, label='Средний чек')\n",
    "\n",
    "# Столбцы для медианного чека (смещены вправо)\n",
    "bars_median = plt.bar([x + 0.4 for x in range(len(district_stats_sorted.index))], \n",
    "                     district_stats_sorted['median'], \n",
    "                     color='#ff7e0e', alpha=0.6, width=0.4, label='Медианный чек')\n",
    "\n",
    "# Подписи значений на столбцах среднего чека\n",
    "for bar in bars_mean:\n",
    "    height = bar.get_height()\n",
    "    plt.text(bar.get_x() + bar.get_width()/2., height, \n",
    "             f'{height:.0f}', ha='center', va='bottom', fontsize=9)\n",
    "\n",
    "# Подписи значений на столбцах медианного чека\n",
    "for bar in bars_median:\n",
    "    height = bar.get_height()\n",
    "    plt.text(bar.get_x() + bar.get_width()/2., height, \n",
    "             f'{height:.0f}', ha='center', va='bottom', fontsize=9)\n",
    "\n",
    "# Вычисление общего медианного значения\n",
    "median_value = district_stats['mean'].median()\n",
    "median_median_value = district_stats['median'].median()\n",
    "\n",
    "# Настройки графика\n",
    "plt.title('Средний и медианный чек заведений по округам Москвы', fontsize=14, pad=20)\n",
    "plt.xlabel('Округ', fontsize=14)\n",
    "plt.ylabel('Чек (руб.)', fontsize=12)\n",
    "plt.xticks([x + 0.2 for x in range(len(district_stats_sorted.index))], \n",
    "           district_stats_sorted.index, rotation=45, ha='right')\n",
    "plt.grid(axis='y', linestyle='--', alpha=0.5)\n",
    "plt.legend()\n",
    "plt.tight_layout()\n",
    "plt.show()"
   ]
  },
  {
   "cell_type": "code",
   "execution_count": 35,
   "id": "5cb5291b",
   "metadata": {},
   "outputs": [
    {
     "data": {
      "image/png": "[encoded data removed]",
      "text/plain": [
       "<Figure size 1008x864 with 2 Axes>"
      ]
     },
     "metadata": {},
     "output_type": "display_data"
    }
   ],
   "source": [
    "# Настройка стиля\n",
    "plt.style.use('seaborn')\n",
    "plt.rcParams['font.family'] = 'DejaVu Sans'  # Шрифт с поддержкой кириллицы\n",
    "\n",
    "# Данные\n",
    "districts = district_stats.index.tolist()\n",
    "mean_prices = district_stats['mean'].tolist()\n",
    "colors = plt.cm.OrRd(np.linspace(0.4, 1, len(districts)))\n",
    "\n",
    "# Создаем фигуру\n",
    "fig, ax = plt.subplots(figsize=(14, 12), facecolor='#f5f5f5')\n",
    "\n",
    "# Центр Москвы (Кремль)\n",
    "ax.scatter(0, 0, s=500, c='gold', \n",
    "           edgecolor='darkgoldenrod', linewidth=1.5,\n",
    "           label='Центр (Кремль)', zorder=5)\n",
    "\n",
    "# Координаты округов с улучшенным расположением\n",
    "coords = {\n",
    "    'Центральный': (0, 0),\n",
    "    'Северный': (0, 1.3),\n",
    "    'Северо-Восточный': (1.2, 0.7),\n",
    "    'Восточный': (1.8, -0.2),\n",
    "    'Юго-Восточный': (1.3, -1.3),\n",
    "    'Южный': (0, -1.6),\n",
    "    'Юго-Западный': (-1.3, -1.1),\n",
    "    'Западный': (-2.0, 0),\n",
    "    'Северо-Западный': (-1.3, 1.3)\n",
    "}\n",
    "\n",
    "# Смещения для текста\n",
    "text_offsets = {\n",
    "    'Центральный': (0, 0.4),\n",
    "    'Северный': (0, 0.3),\n",
    "    'Северо-Восточный': (0.25, 0),\n",
    "    'Восточный': (0.25, -0.15),\n",
    "    'Юго-Восточный': (0.25, -0.2),\n",
    "    'Южный': (0, -0.3),\n",
    "    'Юго-Западный': (-0.25, -0.2),\n",
    "    'Западный': (-0.3, 0),\n",
    "    'Северо-Западный': (-0.25, 0.25)\n",
    "}\n",
    "\n",
    "# Рисуем округа\n",
    "for district, color in zip(districts, colors):\n",
    "    short_name = district.split()[0]\n",
    "    x, y = coords[short_name]\n",
    "    price = district_stats.loc[district, 'mean']\n",
    "    \n",
    "    # Точка округа\n",
    "    ax.scatter(x, y, s=price, c=[color], \n",
    "               alpha=0.8, edgecolor='black', \n",
    "               linewidth=1.2, zorder=3)\n",
    "    \n",
    "    # Текст с подложкой\n",
    "    dx, dy = text_offsets[short_name]\n",
    "    ax.text(x + dx, y + dy, \n",
    "            f\"{short_name}\\n{price:.0f} руб.\", \n",
    "            fontsize=11, ha='center', va='center',\n",
    "            bbox=dict(boxstyle='round,pad=0.4', \n",
    "                     facecolor='white', \n",
    "                     alpha=0.9, \n",
    "                     edgecolor='lightgray'),\n",
    "            zorder=4)\n",
    "\n",
    "# Цветовая шкала\n",
    "norm = Normalize(vmin=min(mean_prices), vmax=max(mean_prices))\n",
    "sm = plt.cm.ScalarMappable(cmap='OrRd', norm=norm)\n",
    "sm.set_array([])\n",
    "\n",
    "cbar = fig.colorbar(sm, ax=ax, shrink=0.7, pad=0.02)\n",
    "cbar.set_label('Средний чек (руб.)', fontsize=12, labelpad=10)\n",
    "cbar.ax.tick_params(labelsize=10)\n",
    "\n",
    "# Заголовок и оформление\n",
    "ax.set_title('Средний чек в заведениях по округам Москвы', \n",
    "             fontsize=16, pad=20, fontweight='bold')\n",
    "\n",
    "# Фоновые линии (для масштаба)\n",
    "for r in [1, 2]:\n",
    "    circle = plt.Circle((0, 0), r, color='lightgray', \n",
    "                       fill=False, linestyle='--', alpha=0.5)\n",
    "    ax.add_patch(circle)\n",
    "    ax.text(0, r+0.1, f'{r} км', ha='center', va='bottom', \n",
    "            color='gray', fontsize=9)\n",
    "\n",
    "ax.set_aspect('equal')\n",
    "ax.axis('off')\n",
    "ax.grid(False)\n",
    "\n",
    "plt.tight_layout()\n",
    "plt.show()"
   ]
  },
  {
   "cell_type": "markdown",
   "id": "c150bd4f",
   "metadata": {
    "id": "c150bd4f"
   },
   "source": [
    "---\n"
   ]
  },
  {
   "cell_type": "markdown",
   "id": "9759ba03",
   "metadata": {
    "id": "618096b5"
   },
   "source": [
    "Вывод:\n",
    "\n",
    "1. Диапазон среднего чека: Средний чек в заведениях Москвы варьируется в широком диапазоне, примерно от 650 до 1200 рублей.\n",
    "\n",
    "2. Наиболее дорогие районы:\n",
    "  •  Центральный административный округ (ЦАО): Явно выделяется как район с самым высоким средним чеком (1191 руб.). Это ожидаемо, учитывая концентрацию бизнес-центров, элитного жилья и туристических мест.\n",
    "  •  Западный административный округ (ЗАО): Занимает второе место по среднему чеку (1053 руб.).\n",
    "\n",
    "3. Наименее дорогие районы:\n",
    "  •  Юго-Восточный административный округ (ЮВАО): Характеризуется самым низким средним чеком (654 руб.).\n",
    "  •  Северо-Восточный административный округ (СВАО): Также имеет относительно низкий средний чек (717 руб.).\n",
    "\n",
    "4. Влияние удаленности от центра:\n",
    "  •  Тенденция снижения: В целом наблюдается тенденция к снижению среднего чека по мере удаления от центра Москвы.\n",
    "  •  Исключения: Однако, есть и исключения. Например, ЗАО, находящийся относительно далеко от центра, имеет высокий средний чек. Это может быть связано с наличием в этом округе престижных жилых районов и бизнес-центров.\n",
    "\n",
    "Детали по визуализациям:\n",
    "\n",
    "•  Столбчатая диаграмма:\n",
    "  •  Наглядно демонстрирует различия в среднем чеке между всеми районами Москвы.\n",
    "  •  Легко визуально определить районы с самым высоким и низким средним чеком.\n",
    "•  Карта (схематичная):\n",
    "  •  Позволяет оценить географическое распределение среднего чека по Москве.\n",
    "  •  Размер и цвет точек (округов) отражают уровень среднего чека.\n",
    "\n",
    "Рекомендации для инвесторов и владельцев бизнеса:\n",
    "\n",
    "1. Выбор района для открытия заведения:\n",
    "  •  Премиум-сегмент (высокий средний чек):\n",
    "    *  ЦАО: Оптимальный выбор, если вы ориентируетесь на премиальных клиентов и готовы к высоким затратам на аренду.\n",
    "    *  ЗАО: Хорошая альтернатива ЦАО, предлагающая высокий средний чек при потенциально более умеренных затратах.\n",
    "  •  Эконом-сегмент (низкий средний чек):\n",
    "    *  ЮВАО и СВАО: Подходят для заведений с демократичными ценами, ориентированных на массового потребителя.\n",
    "\n",
    "2. Адаптация ценовой политики к району:\n",
    "\n",
    "  •  Учитывайте уровень доходов населения и конкуренцию при формировании ценовой политики в выбранном районе.\n",
    "  •  Не стремитесь устанавливать одинаковые цены во всех районах Москвы."
   ]
  },
  {
   "cell_type": "markdown",
   "id": "f2c54e9a",
   "metadata": {
    "id": "f2c54e9a"
   },
   "source": [
    "---\n",
    "\n",
    "### Промежуточный вывод\n"
   ]
  },
  {
   "cell_type": "markdown",
   "id": "6dcb6f54",
   "metadata": {
    "id": "c8869609"
   },
   "source": [
    "Распределение заведений:\n",
    "\n",
    "- Кафе и рестораны составляют основу рынка общепита Москвы (ТОП-2 категории).\n",
    "- Центральный административный округ (ЦАО) лидирует по количеству заведений (2242), что в 2–3 раза больше, чем в других округах.\n",
    "\n",
    "Сетевые vs несетевые:\n",
    "\n",
    "- 38% заведений — сетевые. Наибольшая доля сетевых форматов: булочные (61%), пиццерии (52%), кофейни (51%).\n",
    "- Независимые заведения преобладают в категориях \"бары/пабы\" и \"столовые\".\n",
    "\n",
    "Посадочные места:\n",
    "\n",
    "- Медианные значения по категориям: рестораны (95 мест), кафе (60), кофейни (80).\n",
    "- Обнаружены аномалии (например, 1288 мест), вероятно, из-за ошибок в данных.\n",
    "\n",
    "Рейтинги:\n",
    "\n",
    "- Средний рейтинг по Москве — 4.2. Лучшие оценки у ресторанов и кофеен, худшие — у столовых.\n",
    "- Корреляционный анализ показал слабую зависимость рейтинга от других параметров (максимум: +0.14 для количества мест).\n",
    "\n",
    "Средний чек:\n",
    "\n",
    "- ЦАО резко выделяется (966 руб.), что на 20–45% выше, чем в других округах.\n",
    "- Наименьшие чеки — в ЮВАО (663 руб.) и СВАО (674 руб.)."
   ]
  },
  {
   "cell_type": "markdown",
   "id": "480f3422",
   "metadata": {
    "id": "480f3422"
   },
   "source": [
    "## 4. Итоговый вывод и рекомендации\n",
    "\n",
    "По результатам проведённого исследовательского анализа данных сформулируйте итоговый вывод и рекомендации для заказчика. Старайтесь акцентировать внимание на ключевых моментах исследования.\n",
    "\n",
    "При составлении вывода придерживайтесь такой структуры:\n",
    "\n",
    "1. Общий обзор проделанной работы.\n",
    "2. Ответы на исследовательские вопросы, или главные выводы.\n",
    "3. Рекомендации на основе анализа данных."
   ]
  },
  {
   "cell_type": "markdown",
   "id": "ec3dcf3e",
   "metadata": {},
   "source": [
    "\n",
    "1. Общий обзор работы\n",
    "\n",
    "Проведен комплексный анализ 8402 заведений Москвы с изучением:\n",
    "\n",
    "- Распределения по категориям и округам\n",
    "- Соотношения сетевых/несетевых форматов\n",
    "- Вместимости (посадочных мест)\n",
    "- Рейтингов и ценовой политики (средний чек)\n",
    "\n",
    "2. Главные выводы\n",
    "\n",
    "Локация — ключевой фактор:\n",
    "ЦАО обеспечивает максимальный средний чек (966 руб.), но там высокая конкуренция.\n",
    "ЗАО — \"золотая середина\" (806 руб.) с платежеспособной аудиторией.\n",
    "\n",
    "Сетевые форматы доминируют в узких категориях (булочные, кофейни), но независимые заведения успешны в барах и столовых.\n",
    "\n",
    "Оптимальный размер заведения:\n",
    "\n",
    "- Кафе: 50–70 мест,\n",
    "- Рестораны: 80–120 мест,\n",
    "- Кофейни: 50–80 мест.\n",
    "\n",
    "3. Рекомендации для инвесторов\n",
    "\n",
    "Для премиального сегмента:\n",
    "\n",
    "- Открывать в ЦАО (рестораны, бары) — высокий чек, но дорогая аренда.\n",
    "- Альтернатива — ЗАО (кафе, кофейни) — баланс цены и спроса.\n",
    "\n",
    "Для демократичного сегмента:\n",
    "\n",
    "- ЮВАО/ВАО — низкие издержки, но нужен большой поток.\n",
    "- Форматы: столовые, пекарни.\n",
    "\n",
    "Франшизы:\n",
    "\n",
    "- Булочные и кофейни — высокая доля сетей (60% и 51%).\n",
    "- Избегать баров/пабов — низкая \"сетевость\" (22%).\n",
    "\n",
    "Дополнительные советы\n",
    "\n",
    "Анализ аудитории: Изучить плотность офисов/ТЦ в выбранном округе.\n",
    "Круглосуточный формат: Учитывать, что такие заведения имеют более низкие рейтинги (–0.10 корреляция).\n",
    "Верификация данных: Проверить аномалии (например, заведения с 1000+ местами).\n",
    "\n",
    "**Итог:** Успешность заведения зависит от триады \"локация — категория — ценовая политика\". Данное исследование предоставляет инструменты для оптимального выбора этих параметров. Но на показатели рейтинга будут влиять другие факторы, например: качсетво продукции и обслуживания. \n",
    "\n",
    "1. Общий обзор работы:\n",
    "  •  Проведен исследовательский анализ рынка заведений общественного питания Москвы на основе данных о 8402 заведениях.\n",
    "  •  Выполнены следующие задачи: анализ распределения заведений по категориям и районам, соотношение сетевых и несетевых заведений, исследование количества посадочных мест, анализ рейтингов и среднего чека.\n",
    "  •  Учтены новые требования: пропуски не заполнены, столбец 'is\\_24\\_7' создан корректно, графики отсортированы и коэффициент phi\\_k используется для корреляционного анализа.\n",
    "\n",
    "2. Главные выводы:\n",
    "\n",
    "  •  Кафе и рестораны являются наиболее распространенными категориями заведений в Москве.\n",
    "  •  Центральный административный округ (ЦАО) лидирует по количеству заведений и среднему чеку.\n",
    "  •  Сетевые заведения составляют значительную часть рынка, особенно в категориях булочных и кофеен.\n",
    "  •  Рейтинг заведений имеет слабую корреляцию с другими параметрами, такими как категория, район и количество мест.\n",
    "  •  Средний чек значительно варьируется в зависимости от района Москвы, с самым высоким значением в ЦАО.\n",
    "\n",
    "3. Рекомендации на основе анализа данных:\n",
    "\n",
    "  •  Тип заведения:\n",
    "    *  Для открытия в ЦАО рекомендуется выбирать рестораны или бары, ориентированные на более высокий ценовой сегмент.\n",
    "    *  В других районах, таких как Западный и Северо-Западный, можно рассмотреть кафе или кофейни со средним чеком выше среднего.\n",
    "    *  В районах с более низким средним чеком (Юго-Восточный и Восточный) рекомендуется открывать заведения с демократичными ценами, такие как столовые или пекарни.\n",
    "  •  Локация:\n",
    "    *  ЦАО является привлекательным районом для заведений, ориентированных на более высокий средний чек, но требует значительных инвестиций из-за высокой арендной платы.\n",
    "    *  Западный и Северо-Западный округа предлагают баланс между средним чеком и конкуренцией.\n",
    "    *  Юго-Восточный и Восточный округа могут быть интересны для заведений с низкими ценами и большим потоком клиентов.\n",
    "  •  Формат заведения:\n",
    "    *  Сетевые заведения имеют преимущество в категориях булочных и кофеен, где они составляют значительную часть рынка.\n",
    "    *  Независимые заведения могут успешно конкурировать в категориях баров и столовых, где сетевые форматы менее распространены.\n",
    "  •  Ценовая политика:\n",
    "    *  Для заведений в ЦАО рекомендуется устанавливать цены выше среднего, учитывая высокий средний чек в этом районе.\n",
    "    *  В других районах цены должны быть адаптированы к уровню доходов населения и конкуренции.\n",
    "\n",
    "Дополнительные рекомендации:\n",
    "\n",
    "•  Перед принятием окончательного решения рекомендуется провести дополнительный анализ целевой аудитории в выбранном районе, оценить конкуренцию и изучить местные особенности.\n",
    "•  Обратите внимание на отзывы и рейтинги существующих заведений, чтобы понять, что ценят клиенты и как можно улучшить свой сервис.\n",
    "•  Учитывайте, что круглосуточный формат может негативно влиять на рейтинг заведения, поэтому тщательно взвесьте все \"за\" и \"против\" перед его внедрением."
   ]
  }
 ],
 "metadata": {
  "ExecuteTimeLog": [
   {
    "duration": 829,
    "start_time": "2025-04-11T16:46:53.758Z"
   },
   {
    "duration": 26,
    "start_time": "2025-04-11T16:52:46.803Z"
   },
   {
    "duration": 24,
    "start_time": "2025-04-11T18:03:44.373Z"
   },
   {
    "duration": 25,
    "start_time": "2025-04-11T18:04:46.839Z"
   },
   {
    "duration": 37,
    "start_time": "2025-04-11T18:05:09.454Z"
   },
   {
    "duration": 52,
    "start_time": "2025-04-12T11:19:01.535Z"
   },
   {
    "duration": 636,
    "start_time": "2025-04-12T11:19:10.560Z"
   },
   {
    "duration": 25,
    "start_time": "2025-04-12T11:19:17.311Z"
   },
   {
    "duration": 36,
    "start_time": "2025-04-12T11:19:19.988Z"
   },
   {
    "duration": 81,
    "start_time": "2025-04-12T11:28:32.185Z"
   },
   {
    "duration": 76,
    "start_time": "2025-04-12T11:28:36.114Z"
   },
   {
    "duration": 36,
    "start_time": "2025-04-12T11:31:04.847Z"
   },
   {
    "duration": 37,
    "start_time": "2025-04-12T11:34:02.341Z"
   },
   {
    "duration": 1170,
    "start_time": "2025-04-12T11:38:24.385Z"
   },
   {
    "duration": 71,
    "start_time": "2025-04-12T11:38:58.603Z"
   },
   {
    "duration": 9,
    "start_time": "2025-04-12T11:39:05.189Z"
   },
   {
    "duration": 5,
    "start_time": "2025-04-12T11:39:16.489Z"
   },
   {
    "duration": 10,
    "start_time": "2025-04-12T11:39:37.758Z"
   },
   {
    "duration": 29,
    "start_time": "2025-04-12T11:39:48.119Z"
   },
   {
    "duration": 32,
    "start_time": "2025-04-12T11:40:44.973Z"
   },
   {
    "duration": 27,
    "start_time": "2025-04-12T11:41:18.611Z"
   },
   {
    "duration": 42,
    "start_time": "2025-04-12T11:43:50.321Z"
   },
   {
    "duration": 52,
    "start_time": "2025-04-12T11:44:07.931Z"
   },
   {
    "duration": 326,
    "start_time": "2025-04-12T11:45:30.002Z"
   },
   {
    "duration": 72,
    "start_time": "2025-04-12T11:45:34.949Z"
   },
   {
    "duration": 4,
    "start_time": "2025-04-12T11:45:49.718Z"
   },
   {
    "duration": 51,
    "start_time": "2025-04-12T11:45:51.862Z"
   },
   {
    "duration": 50,
    "start_time": "2025-04-12T11:48:26.737Z"
   },
   {
    "duration": 41,
    "start_time": "2025-04-12T11:48:42.964Z"
   },
   {
    "duration": 38,
    "start_time": "2025-04-12T11:48:55.343Z"
   },
   {
    "duration": 37,
    "start_time": "2025-04-12T11:49:31.612Z"
   },
   {
    "duration": 32,
    "start_time": "2025-04-12T11:49:50.366Z"
   },
   {
    "duration": 49,
    "start_time": "2025-04-12T11:53:01.134Z"
   },
   {
    "duration": 18,
    "start_time": "2025-04-12T11:53:26.854Z"
   },
   {
    "duration": 9,
    "start_time": "2025-04-12T11:54:53.534Z"
   },
   {
    "duration": 18,
    "start_time": "2025-04-12T11:55:11.115Z"
   },
   {
    "duration": 291,
    "start_time": "2025-04-12T11:55:28.960Z"
   },
   {
    "duration": 21,
    "start_time": "2025-04-12T11:55:41.570Z"
   },
   {
    "duration": 212,
    "start_time": "2025-04-12T11:57:54.038Z"
   },
   {
    "duration": 233,
    "start_time": "2025-04-12T11:58:55.260Z"
   },
   {
    "duration": 195,
    "start_time": "2025-04-12T11:59:49.696Z"
   },
   {
    "duration": 90,
    "start_time": "2025-04-12T12:00:36.298Z"
   },
   {
    "duration": 190,
    "start_time": "2025-04-12T12:00:54.440Z"
   },
   {
    "duration": 166,
    "start_time": "2025-04-12T12:04:42.934Z"
   },
   {
    "duration": 93,
    "start_time": "2025-04-12T12:15:51.901Z"
   },
   {
    "duration": 57,
    "start_time": "2025-04-12T12:21:42.498Z"
   },
   {
    "duration": 1475,
    "start_time": "2025-04-12T12:23:02.077Z"
   },
   {
    "duration": 25,
    "start_time": "2025-04-12T12:23:03.554Z"
   },
   {
    "duration": 49,
    "start_time": "2025-04-12T12:23:03.581Z"
   },
   {
    "duration": 17,
    "start_time": "2025-04-12T12:23:03.632Z"
   },
   {
    "duration": 55,
    "start_time": "2025-04-12T12:23:03.652Z"
   },
   {
    "duration": 1168,
    "start_time": "2025-04-12T12:23:03.709Z"
   },
   {
    "duration": 42,
    "start_time": "2025-04-12T12:26:13.538Z"
   },
   {
    "duration": 73,
    "start_time": "2025-04-12T12:26:53.865Z"
   },
   {
    "duration": 68,
    "start_time": "2025-04-12T12:27:21.441Z"
   },
   {
    "duration": 1056,
    "start_time": "2025-04-12T12:30:08.904Z"
   },
   {
    "duration": 65,
    "start_time": "2025-04-12T12:30:30.185Z"
   },
   {
    "duration": 1408,
    "start_time": "2025-04-12T12:32:39.512Z"
   },
   {
    "duration": 25,
    "start_time": "2025-04-12T12:32:40.922Z"
   },
   {
    "duration": 63,
    "start_time": "2025-04-12T12:32:40.948Z"
   },
   {
    "duration": 17,
    "start_time": "2025-04-12T12:32:41.013Z"
   },
   {
    "duration": 33,
    "start_time": "2025-04-12T12:32:41.032Z"
   },
   {
    "duration": 190,
    "start_time": "2025-04-12T12:32:41.067Z"
   },
   {
    "duration": 0,
    "start_time": "2025-04-12T12:32:41.258Z"
   },
   {
    "duration": 55,
    "start_time": "2025-04-12T12:32:57.302Z"
   },
   {
    "duration": 1042,
    "start_time": "2025-04-12T13:56:09.861Z"
   },
   {
    "duration": 987,
    "start_time": "2025-04-12T13:56:27.498Z"
   },
   {
    "duration": 988,
    "start_time": "2025-04-12T13:56:38.063Z"
   },
   {
    "duration": 50,
    "start_time": "2025-04-12T13:56:47.342Z"
   },
   {
    "duration": 86,
    "start_time": "2025-04-12T14:12:38.728Z"
   },
   {
    "duration": 76,
    "start_time": "2025-04-12T14:12:59.647Z"
   },
   {
    "duration": 39,
    "start_time": "2025-04-12T14:18:10.131Z"
   },
   {
    "duration": 54,
    "start_time": "2025-04-12T14:18:27.215Z"
   },
   {
    "duration": 79,
    "start_time": "2025-04-12T14:18:31.417Z"
   },
   {
    "duration": 31,
    "start_time": "2025-04-12T14:20:09.370Z"
   },
   {
    "duration": 38,
    "start_time": "2025-04-12T14:20:17.475Z"
   },
   {
    "duration": 43,
    "start_time": "2025-04-12T14:20:37.953Z"
   },
   {
    "duration": 45,
    "start_time": "2025-04-12T14:21:15.446Z"
   },
   {
    "duration": 65,
    "start_time": "2025-04-12T14:24:18.731Z"
   },
   {
    "duration": 38,
    "start_time": "2025-04-12T14:24:22.477Z"
   },
   {
    "duration": 31,
    "start_time": "2025-04-12T14:24:42.486Z"
   },
   {
    "duration": 38,
    "start_time": "2025-04-12T14:24:53.585Z"
   },
   {
    "duration": 41,
    "start_time": "2025-04-12T14:25:33.247Z"
   },
   {
    "duration": 68,
    "start_time": "2025-04-12T14:25:45.249Z"
   },
   {
    "duration": 53,
    "start_time": "2025-04-13T07:53:04.193Z"
   },
   {
    "duration": 1649,
    "start_time": "2025-04-13T07:53:14.386Z"
   },
   {
    "duration": 27,
    "start_time": "2025-04-13T07:53:16.038Z"
   },
   {
    "duration": 38,
    "start_time": "2025-04-13T07:53:16.067Z"
   },
   {
    "duration": 45,
    "start_time": "2025-04-13T07:53:16.107Z"
   },
   {
    "duration": 33,
    "start_time": "2025-04-13T07:53:16.155Z"
   },
   {
    "duration": 75,
    "start_time": "2025-04-13T07:53:16.190Z"
   },
   {
    "duration": 55,
    "start_time": "2025-04-13T07:53:16.267Z"
   },
   {
    "duration": 29,
    "start_time": "2025-04-13T07:53:28.412Z"
   },
   {
    "duration": 21,
    "start_time": "2025-04-13T07:53:40.374Z"
   },
   {
    "duration": 136,
    "start_time": "2025-04-13T07:54:39.600Z"
   },
   {
    "duration": 28,
    "start_time": "2025-04-13T07:55:03.149Z"
   },
   {
    "duration": 24,
    "start_time": "2025-04-13T07:55:08.981Z"
   },
   {
    "duration": 24,
    "start_time": "2025-04-13T07:55:18.617Z"
   },
   {
    "duration": 24,
    "start_time": "2025-04-13T07:56:10.849Z"
   },
   {
    "duration": 26,
    "start_time": "2025-04-13T07:56:14.018Z"
   },
   {
    "duration": 25,
    "start_time": "2025-04-13T07:56:23.377Z"
   },
   {
    "duration": 26,
    "start_time": "2025-04-13T07:57:05.859Z"
   },
   {
    "duration": 24,
    "start_time": "2025-04-13T07:57:24.083Z"
   },
   {
    "duration": 24,
    "start_time": "2025-04-13T07:58:00.062Z"
   },
   {
    "duration": 47,
    "start_time": "2025-04-13T08:00:11.699Z"
   },
   {
    "duration": 59,
    "start_time": "2025-04-13T08:00:41.865Z"
   },
   {
    "duration": 27,
    "start_time": "2025-04-13T08:01:13.296Z"
   },
   {
    "duration": 24,
    "start_time": "2025-04-13T08:01:29.891Z"
   },
   {
    "duration": 26,
    "start_time": "2025-04-13T08:02:31.126Z"
   },
   {
    "duration": 25,
    "start_time": "2025-04-13T08:02:51.060Z"
   },
   {
    "duration": 24,
    "start_time": "2025-04-13T08:03:09.910Z"
   },
   {
    "duration": 28,
    "start_time": "2025-04-13T08:06:33.700Z"
   },
   {
    "duration": 71,
    "start_time": "2025-04-13T08:09:33.237Z"
   },
   {
    "duration": 653,
    "start_time": "2025-04-13T08:11:59.690Z"
   },
   {
    "duration": 78,
    "start_time": "2025-04-13T08:42:16.844Z"
   },
   {
    "duration": 65,
    "start_time": "2025-04-13T08:42:27.421Z"
   },
   {
    "duration": 41,
    "start_time": "2025-04-13T08:42:55.745Z"
   },
   {
    "duration": 475,
    "start_time": "2025-04-13T08:46:36.700Z"
   },
   {
    "duration": 43,
    "start_time": "2025-04-13T08:48:29.315Z"
   },
   {
    "duration": 38,
    "start_time": "2025-04-13T09:14:43.046Z"
   },
   {
    "duration": 464,
    "start_time": "2025-04-13T09:15:54.717Z"
   },
   {
    "duration": 108,
    "start_time": "2025-04-13T09:51:06.182Z"
   },
   {
    "duration": 38,
    "start_time": "2025-04-13T09:51:22.179Z"
   },
   {
    "duration": 150,
    "start_time": "2025-04-13T10:11:57.817Z"
   },
   {
    "duration": 152,
    "start_time": "2025-04-13T10:12:11.745Z"
   },
   {
    "duration": 90,
    "start_time": "2025-04-13T10:13:05.155Z"
   },
   {
    "duration": 100,
    "start_time": "2025-04-13T10:13:21.020Z"
   },
   {
    "duration": 97,
    "start_time": "2025-04-13T10:13:25.442Z"
   },
   {
    "duration": 107,
    "start_time": "2025-04-13T10:14:02.932Z"
   },
   {
    "duration": 116,
    "start_time": "2025-04-13T10:14:11.606Z"
   },
   {
    "duration": 118,
    "start_time": "2025-04-13T10:14:33.218Z"
   },
   {
    "duration": 492,
    "start_time": "2025-04-13T10:17:48.560Z"
   },
   {
    "duration": 419,
    "start_time": "2025-04-13T10:18:05.467Z"
   },
   {
    "duration": 287,
    "start_time": "2025-04-13T10:18:12.116Z"
   },
   {
    "duration": 1518,
    "start_time": "2025-04-13T10:21:10.902Z"
   },
   {
    "duration": 27,
    "start_time": "2025-04-13T10:21:12.422Z"
   },
   {
    "duration": 39,
    "start_time": "2025-04-13T10:21:12.451Z"
   },
   {
    "duration": 18,
    "start_time": "2025-04-13T10:21:12.491Z"
   },
   {
    "duration": 58,
    "start_time": "2025-04-13T10:21:12.511Z"
   },
   {
    "duration": 475,
    "start_time": "2025-04-13T10:21:12.571Z"
   },
   {
    "duration": 49,
    "start_time": "2025-04-13T10:21:13.048Z"
   },
   {
    "duration": 251,
    "start_time": "2025-04-13T10:34:31.078Z"
   },
   {
    "duration": 404,
    "start_time": "2025-04-13T10:36:03.179Z"
   },
   {
    "duration": 208,
    "start_time": "2025-04-13T10:36:17.769Z"
   },
   {
    "duration": 511,
    "start_time": "2025-04-13T10:36:23.754Z"
   },
   {
    "duration": 1428,
    "start_time": "2025-04-13T10:36:33.358Z"
   },
   {
    "duration": 25,
    "start_time": "2025-04-13T10:36:34.788Z"
   },
   {
    "duration": 48,
    "start_time": "2025-04-13T10:36:34.815Z"
   },
   {
    "duration": 18,
    "start_time": "2025-04-13T10:36:34.865Z"
   },
   {
    "duration": 59,
    "start_time": "2025-04-13T10:36:34.885Z"
   },
   {
    "duration": 434,
    "start_time": "2025-04-13T10:36:34.945Z"
   },
   {
    "duration": 671,
    "start_time": "2025-04-13T10:36:35.381Z"
   },
   {
    "duration": 1,
    "start_time": "2025-04-13T10:36:36.053Z"
   },
   {
    "duration": 61,
    "start_time": "2025-04-13T10:38:41.305Z"
   },
   {
    "duration": 67,
    "start_time": "2025-04-13T10:38:57.090Z"
   },
   {
    "duration": 66,
    "start_time": "2025-04-13T10:40:46.330Z"
   },
   {
    "duration": 72,
    "start_time": "2025-04-13T10:41:52.988Z"
   },
   {
    "duration": 78,
    "start_time": "2025-04-13T10:41:58.987Z"
   },
   {
    "duration": 1415,
    "start_time": "2025-04-13T10:44:20.395Z"
   },
   {
    "duration": 25,
    "start_time": "2025-04-13T10:44:21.812Z"
   },
   {
    "duration": 36,
    "start_time": "2025-04-13T10:44:21.839Z"
   },
   {
    "duration": 28,
    "start_time": "2025-04-13T10:44:21.877Z"
   },
   {
    "duration": 39,
    "start_time": "2025-04-13T10:44:21.907Z"
   },
   {
    "duration": 430,
    "start_time": "2025-04-13T10:44:21.949Z"
   },
   {
    "duration": 185,
    "start_time": "2025-04-13T10:44:22.381Z"
   },
   {
    "duration": 46,
    "start_time": "2025-04-13T10:44:22.568Z"
   },
   {
    "duration": 158,
    "start_time": "2025-04-13T10:45:59.986Z"
   },
   {
    "duration": 19,
    "start_time": "2025-04-13T11:24:49.859Z"
   },
   {
    "duration": 24,
    "start_time": "2025-04-13T11:25:12.321Z"
   },
   {
    "duration": 114,
    "start_time": "2025-04-13T11:25:35.849Z"
   },
   {
    "duration": 23,
    "start_time": "2025-04-13T11:25:41.461Z"
   },
   {
    "duration": 1487,
    "start_time": "2025-04-13T11:26:56.803Z"
   },
   {
    "duration": 27,
    "start_time": "2025-04-13T11:26:58.292Z"
   },
   {
    "duration": 45,
    "start_time": "2025-04-13T11:26:58.320Z"
   },
   {
    "duration": 18,
    "start_time": "2025-04-13T11:26:58.366Z"
   },
   {
    "duration": 54,
    "start_time": "2025-04-13T11:26:58.387Z"
   },
   {
    "duration": 431,
    "start_time": "2025-04-13T11:26:58.443Z"
   },
   {
    "duration": 199,
    "start_time": "2025-04-13T11:26:58.875Z"
   },
   {
    "duration": 67,
    "start_time": "2025-04-13T11:26:59.076Z"
   },
   {
    "duration": 26,
    "start_time": "2025-04-13T11:26:59.145Z"
   },
   {
    "duration": 111,
    "start_time": "2025-04-13T11:28:29.372Z"
   },
   {
    "duration": 1447,
    "start_time": "2025-04-13T11:29:36.246Z"
   },
   {
    "duration": 28,
    "start_time": "2025-04-13T11:29:37.696Z"
   },
   {
    "duration": 45,
    "start_time": "2025-04-13T11:29:37.725Z"
   },
   {
    "duration": 17,
    "start_time": "2025-04-13T11:29:37.772Z"
   },
   {
    "duration": 64,
    "start_time": "2025-04-13T11:29:37.792Z"
   },
   {
    "duration": 400,
    "start_time": "2025-04-13T11:29:37.858Z"
   },
   {
    "duration": 197,
    "start_time": "2025-04-13T11:29:38.260Z"
   },
   {
    "duration": 46,
    "start_time": "2025-04-13T11:29:38.458Z"
   },
   {
    "duration": 7,
    "start_time": "2025-04-13T11:29:38.506Z"
   },
   {
    "duration": 70,
    "start_time": "2025-04-13T11:33:25.414Z"
   },
   {
    "duration": 94,
    "start_time": "2025-04-13T11:33:49.465Z"
   },
   {
    "duration": 73,
    "start_time": "2025-04-13T11:33:54.199Z"
   },
   {
    "duration": 70,
    "start_time": "2025-04-13T11:33:57.127Z"
   },
   {
    "duration": 43,
    "start_time": "2025-04-13T11:35:43.573Z"
   },
   {
    "duration": 52,
    "start_time": "2025-04-13T11:36:45.968Z"
   },
   {
    "duration": 46,
    "start_time": "2025-04-13T11:37:14.309Z"
   },
   {
    "duration": 48,
    "start_time": "2025-04-13T11:38:09.194Z"
   },
   {
    "duration": 42,
    "start_time": "2025-04-13T11:38:32.642Z"
   },
   {
    "duration": 41,
    "start_time": "2025-04-13T11:38:39.925Z"
   },
   {
    "duration": 47,
    "start_time": "2025-04-13T11:39:04.426Z"
   },
   {
    "duration": 55,
    "start_time": "2025-04-13T11:39:12.790Z"
   },
   {
    "duration": 43,
    "start_time": "2025-04-13T11:40:27.925Z"
   },
   {
    "duration": 44,
    "start_time": "2025-04-13T11:43:08.057Z"
   },
   {
    "duration": 45,
    "start_time": "2025-04-13T11:43:15.745Z"
   },
   {
    "duration": 1469,
    "start_time": "2025-04-13T11:43:21.930Z"
   },
   {
    "duration": 27,
    "start_time": "2025-04-13T11:43:23.401Z"
   },
   {
    "duration": 52,
    "start_time": "2025-04-13T11:43:23.430Z"
   },
   {
    "duration": 18,
    "start_time": "2025-04-13T11:43:23.484Z"
   },
   {
    "duration": 46,
    "start_time": "2025-04-13T11:43:23.504Z"
   },
   {
    "duration": 416,
    "start_time": "2025-04-13T11:43:23.552Z"
   },
   {
    "duration": 191,
    "start_time": "2025-04-13T11:43:23.970Z"
   },
   {
    "duration": 46,
    "start_time": "2025-04-13T11:43:24.163Z"
   },
   {
    "duration": 34,
    "start_time": "2025-04-13T11:43:24.211Z"
   },
   {
    "duration": 66,
    "start_time": "2025-04-13T11:43:24.247Z"
   },
   {
    "duration": 100,
    "start_time": "2025-04-13T14:19:01.478Z"
   },
   {
    "duration": 4,
    "start_time": "2025-04-13T14:27:16.409Z"
   },
   {
    "duration": 6,
    "start_time": "2025-04-13T14:27:18.716Z"
   },
   {
    "duration": 351,
    "start_time": "2025-04-13T14:27:22.382Z"
   },
   {
    "duration": 306,
    "start_time": "2025-04-13T14:31:11.538Z"
   },
   {
    "duration": 202,
    "start_time": "2025-04-13T14:31:58.982Z"
   },
   {
    "duration": 186,
    "start_time": "2025-04-13T14:32:22.550Z"
   },
   {
    "duration": 6,
    "start_time": "2025-04-13T14:36:14.835Z"
   },
   {
    "duration": 7,
    "start_time": "2025-04-13T14:36:18.025Z"
   },
   {
    "duration": 355,
    "start_time": "2025-04-13T14:36:25.900Z"
   },
   {
    "duration": 212,
    "start_time": "2025-04-13T14:37:05.342Z"
   },
   {
    "duration": 215,
    "start_time": "2025-04-13T14:37:29.303Z"
   },
   {
    "duration": 306,
    "start_time": "2025-04-13T14:37:36.481Z"
   },
   {
    "duration": 213,
    "start_time": "2025-04-13T14:37:41.750Z"
   },
   {
    "duration": 224,
    "start_time": "2025-04-13T14:45:14.361Z"
   },
   {
    "duration": 256,
    "start_time": "2025-04-13T14:45:25.124Z"
   },
   {
    "duration": 247,
    "start_time": "2025-04-13T14:45:42.736Z"
   },
   {
    "duration": 260,
    "start_time": "2025-04-13T14:47:18.889Z"
   },
   {
    "duration": 356,
    "start_time": "2025-04-13T14:49:01.086Z"
   },
   {
    "duration": 367,
    "start_time": "2025-04-13T14:49:22.963Z"
   },
   {
    "duration": 317,
    "start_time": "2025-04-13T14:49:38.715Z"
   },
   {
    "duration": 315,
    "start_time": "2025-04-13T14:49:42.847Z"
   },
   {
    "duration": 330,
    "start_time": "2025-04-13T14:49:58.135Z"
   },
   {
    "duration": 430,
    "start_time": "2025-04-13T14:50:04.819Z"
   },
   {
    "duration": 70,
    "start_time": "2025-04-13T14:51:06.181Z"
   },
   {
    "duration": 97,
    "start_time": "2025-04-13T14:51:27.139Z"
   },
   {
    "duration": 72,
    "start_time": "2025-04-13T14:51:35.621Z"
   },
   {
    "duration": 384,
    "start_time": "2025-04-13T14:51:57.366Z"
   },
   {
    "duration": 414,
    "start_time": "2025-04-13T14:52:10.762Z"
   },
   {
    "duration": 362,
    "start_time": "2025-04-13T14:52:38.513Z"
   },
   {
    "duration": 225,
    "start_time": "2025-04-13T14:52:46.694Z"
   },
   {
    "duration": 171,
    "start_time": "2025-04-13T14:53:11.154Z"
   },
   {
    "duration": 9,
    "start_time": "2025-04-13T14:54:05.265Z"
   },
   {
    "duration": 324,
    "start_time": "2025-04-13T14:54:14.475Z"
   },
   {
    "duration": 301,
    "start_time": "2025-04-13T14:54:31.517Z"
   },
   {
    "duration": 329,
    "start_time": "2025-04-13T14:54:40.023Z"
   },
   {
    "duration": 288,
    "start_time": "2025-04-13T14:54:57.835Z"
   },
   {
    "duration": 188,
    "start_time": "2025-04-13T14:55:06.117Z"
   },
   {
    "duration": 6,
    "start_time": "2025-04-13T15:02:33.525Z"
   },
   {
    "duration": 189,
    "start_time": "2025-04-13T15:02:36.216Z"
   },
   {
    "duration": 12,
    "start_time": "2025-04-13T15:02:50.493Z"
   },
   {
    "duration": 290,
    "start_time": "2025-04-13T15:03:02.598Z"
   },
   {
    "duration": 245,
    "start_time": "2025-04-13T15:03:11.357Z"
   },
   {
    "duration": 153,
    "start_time": "2025-04-13T15:03:34.800Z"
   },
   {
    "duration": 5,
    "start_time": "2025-04-13T15:11:34.812Z"
   },
   {
    "duration": 11,
    "start_time": "2025-04-13T15:12:24.248Z"
   },
   {
    "duration": 12,
    "start_time": "2025-04-13T15:12:58.330Z"
   },
   {
    "duration": 12,
    "start_time": "2025-04-13T15:14:18.677Z"
   },
   {
    "duration": 300,
    "start_time": "2025-04-13T15:15:04.690Z"
   },
   {
    "duration": 188,
    "start_time": "2025-04-13T15:15:53.241Z"
   },
   {
    "duration": 10,
    "start_time": "2025-04-13T15:16:46.573Z"
   },
   {
    "duration": 15,
    "start_time": "2025-04-13T15:18:11.536Z"
   },
   {
    "duration": 13,
    "start_time": "2025-04-13T15:18:35.517Z"
   },
   {
    "duration": 13,
    "start_time": "2025-04-13T15:18:44.448Z"
   },
   {
    "duration": 134,
    "start_time": "2025-04-13T15:20:00.113Z"
   },
   {
    "duration": 143,
    "start_time": "2025-04-13T15:20:37.338Z"
   },
   {
    "duration": 125,
    "start_time": "2025-04-13T15:20:43.514Z"
   },
   {
    "duration": 138,
    "start_time": "2025-04-13T15:28:22.474Z"
   },
   {
    "duration": 226,
    "start_time": "2025-04-13T15:32:33.932Z"
   },
   {
    "duration": 130,
    "start_time": "2025-04-13T15:32:37.847Z"
   },
   {
    "duration": 139,
    "start_time": "2025-04-13T15:34:26.333Z"
   },
   {
    "duration": 12,
    "start_time": "2025-04-13T15:37:15.021Z"
   },
   {
    "duration": 396,
    "start_time": "2025-04-13T15:37:33.271Z"
   },
   {
    "duration": 431,
    "start_time": "2025-04-13T15:37:57.620Z"
   },
   {
    "duration": 11,
    "start_time": "2025-04-13T15:39:04.869Z"
   },
   {
    "duration": 340,
    "start_time": "2025-04-13T15:39:08.724Z"
   },
   {
    "duration": 10,
    "start_time": "2025-04-13T15:39:18.536Z"
   },
   {
    "duration": 395,
    "start_time": "2025-04-13T15:39:22.765Z"
   },
   {
    "duration": 240,
    "start_time": "2025-04-13T15:39:47.856Z"
   },
   {
    "duration": 279,
    "start_time": "2025-04-13T15:40:50.233Z"
   },
   {
    "duration": 281,
    "start_time": "2025-04-13T15:41:22.332Z"
   },
   {
    "duration": 289,
    "start_time": "2025-04-13T15:41:48.144Z"
   },
   {
    "duration": 414,
    "start_time": "2025-04-13T15:42:07.563Z"
   },
   {
    "duration": 445,
    "start_time": "2025-04-13T15:42:20.504Z"
   },
   {
    "duration": 181,
    "start_time": "2025-04-13T15:43:41.074Z"
   },
   {
    "duration": 514,
    "start_time": "2025-04-13T15:44:01.958Z"
   },
   {
    "duration": 36,
    "start_time": "2025-04-13T15:44:34.323Z"
   },
   {
    "duration": 478,
    "start_time": "2025-04-13T15:44:54.769Z"
   },
   {
    "duration": 12,
    "start_time": "2025-04-13T15:45:21.811Z"
   },
   {
    "duration": 35,
    "start_time": "2025-04-13T15:45:26.380Z"
   },
   {
    "duration": 8,
    "start_time": "2025-04-13T16:28:50.592Z"
   },
   {
    "duration": 275,
    "start_time": "2025-04-13T17:50:56.638Z"
   },
   {
    "duration": 7,
    "start_time": "2025-04-13T17:51:05.994Z"
   },
   {
    "duration": 1510,
    "start_time": "2025-04-14T10:42:37.384Z"
   },
   {
    "duration": 21,
    "start_time": "2025-04-14T10:42:38.896Z"
   },
   {
    "duration": 45,
    "start_time": "2025-04-14T10:42:38.918Z"
   },
   {
    "duration": 14,
    "start_time": "2025-04-14T10:42:38.964Z"
   },
   {
    "duration": 28,
    "start_time": "2025-04-14T10:42:38.980Z"
   },
   {
    "duration": 458,
    "start_time": "2025-04-14T10:42:39.010Z"
   },
   {
    "duration": 157,
    "start_time": "2025-04-14T10:42:39.469Z"
   },
   {
    "duration": 46,
    "start_time": "2025-04-14T10:42:39.628Z"
   },
   {
    "duration": 5,
    "start_time": "2025-04-14T10:42:39.676Z"
   },
   {
    "duration": 37,
    "start_time": "2025-04-14T10:42:39.683Z"
   },
   {
    "duration": 4,
    "start_time": "2025-04-14T10:42:39.721Z"
   },
   {
    "duration": 9,
    "start_time": "2025-04-14T10:42:39.726Z"
   },
   {
    "duration": 180,
    "start_time": "2025-04-14T10:42:39.736Z"
   },
   {
    "duration": 4,
    "start_time": "2025-04-14T10:42:39.918Z"
   },
   {
    "duration": 38,
    "start_time": "2025-04-14T10:42:39.923Z"
   },
   {
    "duration": 207,
    "start_time": "2025-04-14T10:42:39.962Z"
   },
   {
    "duration": 6,
    "start_time": "2025-04-14T10:42:40.171Z"
   },
   {
    "duration": 163,
    "start_time": "2025-04-14T10:42:40.179Z"
   },
   {
    "duration": 5,
    "start_time": "2025-04-14T10:42:40.343Z"
   },
   {
    "duration": 86,
    "start_time": "2025-04-14T10:42:40.349Z"
   },
   {
    "duration": 9,
    "start_time": "2025-04-14T10:42:40.436Z"
   },
   {
    "duration": 159,
    "start_time": "2025-04-14T10:42:40.446Z"
   },
   {
    "duration": 10,
    "start_time": "2025-04-14T10:42:40.606Z"
   },
   {
    "duration": 117,
    "start_time": "2025-04-14T10:42:40.618Z"
   },
   {
    "duration": 8,
    "start_time": "2025-04-14T10:42:40.737Z"
   },
   {
    "duration": 128,
    "start_time": "2025-04-14T10:42:40.746Z"
   },
   {
    "duration": 400,
    "start_time": "2025-04-14T10:42:40.876Z"
   },
   {
    "duration": 70,
    "start_time": "2025-04-14T10:42:41.278Z"
   },
   {
    "duration": 23,
    "start_time": "2025-04-14T10:42:41.349Z"
   },
   {
    "duration": 234,
    "start_time": "2025-04-14T10:42:41.374Z"
   },
   {
    "duration": 5,
    "start_time": "2025-04-14T10:42:41.610Z"
   },
   {
    "duration": 91,
    "start_time": "2025-04-14T10:42:48.086Z"
   },
   {
    "duration": 8,
    "start_time": "2025-04-14T10:43:03.380Z"
   },
   {
    "duration": 314,
    "start_time": "2025-04-14T10:48:57.420Z"
   },
   {
    "duration": 1259,
    "start_time": "2025-04-14T10:49:10.496Z"
   },
   {
    "duration": 19,
    "start_time": "2025-04-14T10:49:11.757Z"
   },
   {
    "duration": 28,
    "start_time": "2025-04-14T10:49:11.778Z"
   },
   {
    "duration": 13,
    "start_time": "2025-04-14T10:49:11.807Z"
   },
   {
    "duration": 51,
    "start_time": "2025-04-14T10:49:11.821Z"
   },
   {
    "duration": 366,
    "start_time": "2025-04-14T10:49:11.873Z"
   },
   {
    "duration": 159,
    "start_time": "2025-04-14T10:49:12.240Z"
   },
   {
    "duration": 38,
    "start_time": "2025-04-14T10:49:12.401Z"
   },
   {
    "duration": 6,
    "start_time": "2025-04-14T10:49:12.440Z"
   },
   {
    "duration": 36,
    "start_time": "2025-04-14T10:49:12.461Z"
   },
   {
    "duration": 4,
    "start_time": "2025-04-14T10:49:12.498Z"
   },
   {
    "duration": 5,
    "start_time": "2025-04-14T10:49:12.503Z"
   },
   {
    "duration": 166,
    "start_time": "2025-04-14T10:49:12.510Z"
   },
   {
    "duration": 4,
    "start_time": "2025-04-14T10:49:12.677Z"
   },
   {
    "duration": 7,
    "start_time": "2025-04-14T10:49:12.682Z"
   },
   {
    "duration": 202,
    "start_time": "2025-04-14T10:49:12.690Z"
   },
   {
    "duration": 7,
    "start_time": "2025-04-14T10:49:12.893Z"
   },
   {
    "duration": 169,
    "start_time": "2025-04-14T10:49:12.902Z"
   },
   {
    "duration": 4,
    "start_time": "2025-04-14T10:49:13.073Z"
   },
   {
    "duration": 92,
    "start_time": "2025-04-14T10:49:13.079Z"
   },
   {
    "duration": 10,
    "start_time": "2025-04-14T10:49:13.173Z"
   },
   {
    "duration": 145,
    "start_time": "2025-04-14T10:49:13.184Z"
   },
   {
    "duration": 10,
    "start_time": "2025-04-14T10:49:13.332Z"
   },
   {
    "duration": 139,
    "start_time": "2025-04-14T10:49:13.343Z"
   },
   {
    "duration": 7,
    "start_time": "2025-04-14T10:49:13.484Z"
   },
   {
    "duration": 254,
    "start_time": "2025-04-14T10:49:13.493Z"
   },
   {
    "duration": 387,
    "start_time": "2025-04-14T10:49:13.749Z"
   },
   {
    "duration": 83,
    "start_time": "2025-04-14T10:49:14.137Z"
   },
   {
    "duration": 6,
    "start_time": "2025-04-14T10:49:14.222Z"
   },
   {
    "duration": 245,
    "start_time": "2025-04-14T10:49:14.229Z"
   },
   {
    "duration": 7,
    "start_time": "2025-04-14T10:49:14.476Z"
   },
   {
    "duration": 107,
    "start_time": "2025-04-14T10:49:14.484Z"
   },
   {
    "duration": 9,
    "start_time": "2025-04-14T10:51:09.920Z"
   },
   {
    "duration": 315,
    "start_time": "2025-04-14T10:51:22.730Z"
   },
   {
    "duration": 315,
    "start_time": "2025-04-14T10:54:35.068Z"
   },
   {
    "duration": 529,
    "start_time": "2025-04-14T10:56:52.785Z"
   },
   {
    "duration": 591,
    "start_time": "2025-04-14T10:57:13.292Z"
   },
   {
    "duration": 612,
    "start_time": "2025-04-14T10:59:08.617Z"
   },
   {
    "duration": 602,
    "start_time": "2025-04-14T10:59:27.670Z"
   },
   {
    "duration": 23,
    "start_time": "2025-04-14T11:11:38.841Z"
   },
   {
    "duration": 337,
    "start_time": "2025-04-14T11:11:52.875Z"
   },
   {
    "duration": 330,
    "start_time": "2025-04-14T11:12:19.341Z"
   },
   {
    "duration": 115,
    "start_time": "2025-04-14T11:12:58.814Z"
   },
   {
    "duration": 75,
    "start_time": "2025-04-14T11:17:28.596Z"
   },
   {
    "duration": 625,
    "start_time": "2025-04-14T11:17:34.907Z"
   },
   {
    "duration": 121,
    "start_time": "2025-04-14T11:18:09.746Z"
   },
   {
    "duration": 631,
    "start_time": "2025-04-14T11:18:31.623Z"
   },
   {
    "duration": 27,
    "start_time": "2025-04-14T11:26:15.365Z"
   },
   {
    "duration": 22,
    "start_time": "2025-04-14T11:26:46.635Z"
   },
   {
    "duration": 37,
    "start_time": "2025-04-14T11:28:28.160Z"
   },
   {
    "duration": 567,
    "start_time": "2025-04-14T11:39:32.322Z"
   },
   {
    "duration": 682,
    "start_time": "2025-04-14T12:55:02.346Z"
   },
   {
    "duration": 797,
    "start_time": "2025-04-14T12:56:58.342Z"
   },
   {
    "duration": 660,
    "start_time": "2025-04-14T13:00:36.379Z"
   },
   {
    "duration": 774,
    "start_time": "2025-04-14T13:02:27.916Z"
   },
   {
    "duration": 726,
    "start_time": "2025-04-14T13:02:42.618Z"
   },
   {
    "duration": 702,
    "start_time": "2025-04-14T13:02:49.250Z"
   },
   {
    "duration": 832,
    "start_time": "2025-04-14T13:02:55.306Z"
   },
   {
    "duration": 715,
    "start_time": "2025-04-14T13:03:06.450Z"
   },
   {
    "duration": 774,
    "start_time": "2025-04-14T13:04:26.623Z"
   },
   {
    "duration": 784,
    "start_time": "2025-04-14T13:05:27.906Z"
   },
   {
    "duration": 761,
    "start_time": "2025-04-14T13:06:41.779Z"
   },
   {
    "duration": 724,
    "start_time": "2025-04-14T13:07:02.433Z"
   },
   {
    "duration": 816,
    "start_time": "2025-04-14T13:07:20.857Z"
   },
   {
    "duration": 726,
    "start_time": "2025-04-14T13:07:37.644Z"
   },
   {
    "duration": 678,
    "start_time": "2025-04-14T13:08:05.771Z"
   },
   {
    "duration": 731,
    "start_time": "2025-04-14T13:08:14.310Z"
   },
   {
    "duration": 771,
    "start_time": "2025-04-14T13:08:29.828Z"
   },
   {
    "duration": 837,
    "start_time": "2025-04-14T13:08:46.683Z"
   },
   {
    "duration": 752,
    "start_time": "2025-04-14T13:08:59.189Z"
   },
   {
    "duration": 712,
    "start_time": "2025-04-14T13:09:16.355Z"
   },
   {
    "duration": 851,
    "start_time": "2025-04-14T13:10:10.866Z"
   },
   {
    "duration": 744,
    "start_time": "2025-04-14T13:10:22.533Z"
   },
   {
    "duration": 865,
    "start_time": "2025-04-14T13:10:37.027Z"
   },
   {
    "duration": 835,
    "start_time": "2025-04-14T13:10:48.919Z"
   },
   {
    "duration": 767,
    "start_time": "2025-04-14T13:11:05.895Z"
   },
   {
    "duration": 740,
    "start_time": "2025-04-14T13:11:15.356Z"
   },
   {
    "duration": 723,
    "start_time": "2025-04-14T13:11:41.346Z"
   },
   {
    "duration": 738,
    "start_time": "2025-04-14T13:11:54.836Z"
   },
   {
    "duration": 868,
    "start_time": "2025-04-14T13:12:15.358Z"
   },
   {
    "duration": 757,
    "start_time": "2025-04-14T13:12:27.122Z"
   },
   {
    "duration": 737,
    "start_time": "2025-04-14T13:12:38.759Z"
   },
   {
    "duration": 758,
    "start_time": "2025-04-14T13:12:51.443Z"
   },
   {
    "duration": 777,
    "start_time": "2025-04-14T13:13:02.422Z"
   },
   {
    "duration": 766,
    "start_time": "2025-04-14T13:13:21.050Z"
   },
   {
    "duration": 951,
    "start_time": "2025-04-14T13:13:29.628Z"
   },
   {
    "duration": 772,
    "start_time": "2025-04-14T13:13:42.362Z"
   },
   {
    "duration": 765,
    "start_time": "2025-04-14T13:13:54.397Z"
   },
   {
    "duration": 754,
    "start_time": "2025-04-14T13:14:09.181Z"
   },
   {
    "duration": 323,
    "start_time": "2025-04-14T14:15:15.139Z"
   },
   {
    "duration": 400,
    "start_time": "2025-04-14T14:21:49.413Z"
   },
   {
    "duration": 1425,
    "start_time": "2025-04-14T14:21:57.296Z"
   },
   {
    "duration": 22,
    "start_time": "2025-04-14T14:21:58.723Z"
   },
   {
    "duration": 35,
    "start_time": "2025-04-14T14:21:58.746Z"
   },
   {
    "duration": 43,
    "start_time": "2025-04-14T14:21:58.782Z"
   },
   {
    "duration": 29,
    "start_time": "2025-04-14T14:21:58.827Z"
   },
   {
    "duration": 404,
    "start_time": "2025-04-14T14:21:58.858Z"
   },
   {
    "duration": 176,
    "start_time": "2025-04-14T14:21:59.263Z"
   },
   {
    "duration": 56,
    "start_time": "2025-04-14T14:21:59.441Z"
   },
   {
    "duration": 7,
    "start_time": "2025-04-14T14:21:59.499Z"
   },
   {
    "duration": 66,
    "start_time": "2025-04-14T14:21:59.508Z"
   },
   {
    "duration": 4,
    "start_time": "2025-04-14T14:21:59.576Z"
   },
   {
    "duration": 6,
    "start_time": "2025-04-14T14:21:59.581Z"
   },
   {
    "duration": 185,
    "start_time": "2025-04-14T14:21:59.589Z"
   },
   {
    "duration": 4,
    "start_time": "2025-04-14T14:21:59.777Z"
   },
   {
    "duration": 6,
    "start_time": "2025-04-14T14:21:59.783Z"
   },
   {
    "duration": 230,
    "start_time": "2025-04-14T14:21:59.790Z"
   },
   {
    "duration": 10,
    "start_time": "2025-04-14T14:22:00.022Z"
   },
   {
    "duration": 285,
    "start_time": "2025-04-14T14:22:00.034Z"
   },
   {
    "duration": 5,
    "start_time": "2025-04-14T14:22:00.321Z"
   },
   {
    "duration": 105,
    "start_time": "2025-04-14T14:22:00.329Z"
   },
   {
    "duration": 11,
    "start_time": "2025-04-14T14:22:00.436Z"
   },
   {
    "duration": 155,
    "start_time": "2025-04-14T14:22:00.462Z"
   },
   {
    "duration": 12,
    "start_time": "2025-04-14T14:22:00.619Z"
   },
   {
    "duration": 172,
    "start_time": "2025-04-14T14:22:00.633Z"
   },
   {
    "duration": 9,
    "start_time": "2025-04-14T14:22:00.807Z"
   },
   {
    "duration": 195,
    "start_time": "2025-04-14T14:22:00.818Z"
   },
   {
    "duration": 468,
    "start_time": "2025-04-14T14:22:01.015Z"
   },
   {
    "duration": 87,
    "start_time": "2025-04-14T14:22:01.485Z"
   },
   {
    "duration": 8,
    "start_time": "2025-04-14T14:22:01.574Z"
   },
   {
    "duration": 289,
    "start_time": "2025-04-14T14:22:01.583Z"
   },
   {
    "duration": 7,
    "start_time": "2025-04-14T14:22:01.873Z"
   },
   {
    "duration": 601,
    "start_time": "2025-04-14T14:22:01.881Z"
   },
   {
    "duration": 804,
    "start_time": "2025-04-14T14:22:02.483Z"
   },
   {
    "duration": 329,
    "start_time": "2025-04-14T14:22:03.289Z"
   },
   {
    "duration": 1994,
    "start_time": "2025-04-14T14:22:06.222Z"
   },
   {
    "duration": 26,
    "start_time": "2025-04-14T14:22:08.218Z"
   },
   {
    "duration": 39,
    "start_time": "2025-04-14T14:22:08.247Z"
   },
   {
    "duration": 16,
    "start_time": "2025-04-14T14:22:08.288Z"
   },
   {
    "duration": 29,
    "start_time": "2025-04-14T14:22:08.306Z"
   },
   {
    "duration": 383,
    "start_time": "2025-04-14T14:22:08.361Z"
   },
   {
    "duration": 177,
    "start_time": "2025-04-14T14:22:08.746Z"
   },
   {
    "duration": 56,
    "start_time": "2025-04-14T14:22:08.925Z"
   },
   {
    "duration": 28,
    "start_time": "2025-04-14T14:22:08.983Z"
   },
   {
    "duration": 51,
    "start_time": "2025-04-14T14:22:09.013Z"
   },
   {
    "duration": 4,
    "start_time": "2025-04-14T14:22:09.065Z"
   },
   {
    "duration": 21,
    "start_time": "2025-04-14T14:22:09.071Z"
   },
   {
    "duration": 181,
    "start_time": "2025-04-14T14:22:09.093Z"
   },
   {
    "duration": 6,
    "start_time": "2025-04-14T14:22:09.277Z"
   },
   {
    "duration": 86,
    "start_time": "2025-04-14T14:22:09.284Z"
   },
   {
    "duration": 246,
    "start_time": "2025-04-14T14:22:09.372Z"
   },
   {
    "duration": 8,
    "start_time": "2025-04-14T14:22:09.620Z"
   },
   {
    "duration": 179,
    "start_time": "2025-04-14T14:22:09.629Z"
   },
   {
    "duration": 5,
    "start_time": "2025-04-14T14:22:09.810Z"
   },
   {
    "duration": 113,
    "start_time": "2025-04-14T14:22:09.816Z"
   },
   {
    "duration": 10,
    "start_time": "2025-04-14T14:22:09.932Z"
   },
   {
    "duration": 263,
    "start_time": "2025-04-14T14:22:09.944Z"
   },
   {
    "duration": 11,
    "start_time": "2025-04-14T14:22:10.209Z"
   },
   {
    "duration": 130,
    "start_time": "2025-04-14T14:22:10.221Z"
   },
   {
    "duration": 17,
    "start_time": "2025-04-14T14:22:10.352Z"
   },
   {
    "duration": 139,
    "start_time": "2025-04-14T14:22:10.371Z"
   },
   {
    "duration": 450,
    "start_time": "2025-04-14T14:22:10.512Z"
   },
   {
    "duration": 76,
    "start_time": "2025-04-14T14:22:10.963Z"
   },
   {
    "duration": 22,
    "start_time": "2025-04-14T14:22:11.041Z"
   },
   {
    "duration": 270,
    "start_time": "2025-04-14T14:22:11.064Z"
   },
   {
    "duration": 6,
    "start_time": "2025-04-14T14:22:11.336Z"
   },
   {
    "duration": 589,
    "start_time": "2025-04-14T14:22:11.343Z"
   },
   {
    "duration": 754,
    "start_time": "2025-04-14T14:22:11.933Z"
   },
   {
    "duration": 307,
    "start_time": "2025-04-14T14:22:12.689Z"
   },
   {
    "duration": 99,
    "start_time": "2025-04-14T14:24:56.055Z"
   },
   {
    "duration": 529,
    "start_time": "2025-04-14T14:26:01.441Z"
   },
   {
    "duration": 16,
    "start_time": "2025-04-14T14:28:08.523Z"
   },
   {
    "duration": 17,
    "start_time": "2025-04-14T14:29:19.845Z"
   },
   {
    "duration": 34,
    "start_time": "2025-04-14T14:30:19.293Z"
   },
   {
    "duration": 35,
    "start_time": "2025-04-14T14:30:23.054Z"
   },
   {
    "duration": 45,
    "start_time": "2025-04-14T14:31:06.033Z"
   },
   {
    "duration": 11,
    "start_time": "2025-04-14T14:41:00.323Z"
   },
   {
    "duration": 1136,
    "start_time": "2025-04-14T14:41:08.757Z"
   },
   {
    "duration": 23,
    "start_time": "2025-04-14T14:41:31.047Z"
   },
   {
    "duration": 27,
    "start_time": "2025-04-14T14:41:42.280Z"
   },
   {
    "duration": 25,
    "start_time": "2025-04-14T14:41:54.769Z"
   },
   {
    "duration": 23,
    "start_time": "2025-04-14T14:42:03.700Z"
   },
   {
    "duration": 10,
    "start_time": "2025-04-14T14:50:37.554Z"
   },
   {
    "duration": 434,
    "start_time": "2025-04-14T14:50:43.560Z"
   },
   {
    "duration": 300,
    "start_time": "2025-04-14T14:56:42.874Z"
   },
   {
    "duration": 369,
    "start_time": "2025-04-14T14:57:11.195Z"
   },
   {
    "duration": 255,
    "start_time": "2025-04-14T14:57:27.825Z"
   },
   {
    "duration": 325,
    "start_time": "2025-04-14T14:58:05.777Z"
   },
   {
    "duration": 1342,
    "start_time": "2025-04-14T15:03:43.197Z"
   },
   {
    "duration": 346,
    "start_time": "2025-04-14T15:04:15.599Z"
   },
   {
    "duration": 422,
    "start_time": "2025-04-14T15:06:23.053Z"
   },
   {
    "duration": 329,
    "start_time": "2025-04-14T15:06:26.967Z"
   },
   {
    "duration": 21,
    "start_time": "2025-04-14T15:07:18.108Z"
   },
   {
    "duration": 1381,
    "start_time": "2025-04-14T15:16:02.766Z"
   },
   {
    "duration": 1618,
    "start_time": "2025-04-14T15:16:15.031Z"
   },
   {
    "duration": 547,
    "start_time": "2025-04-14T15:17:04.560Z"
   },
   {
    "duration": 600,
    "start_time": "2025-04-14T15:24:05.917Z"
   },
   {
    "duration": 491,
    "start_time": "2025-04-14T15:24:58.320Z"
   },
   {
    "duration": 506,
    "start_time": "2025-04-14T15:25:16.102Z"
   },
   {
    "duration": 505,
    "start_time": "2025-04-14T15:25:41.034Z"
   },
   {
    "duration": 516,
    "start_time": "2025-04-14T15:26:32.903Z"
   },
   {
    "duration": 407,
    "start_time": "2025-04-14T15:26:49.612Z"
   },
   {
    "duration": 66,
    "start_time": "2025-04-14T15:27:15.812Z"
   },
   {
    "duration": 538,
    "start_time": "2025-04-14T15:27:24.147Z"
   },
   {
    "duration": 481,
    "start_time": "2025-04-14T15:27:36.933Z"
   },
   {
    "duration": 511,
    "start_time": "2025-04-14T15:27:43.822Z"
   },
   {
    "duration": 494,
    "start_time": "2025-04-14T15:28:04.833Z"
   },
   {
    "duration": 432,
    "start_time": "2025-04-14T15:32:42.299Z"
   },
   {
    "duration": 576,
    "start_time": "2025-04-14T15:33:36.453Z"
   },
   {
    "duration": 516,
    "start_time": "2025-04-14T15:33:44.212Z"
   },
   {
    "duration": 532,
    "start_time": "2025-04-14T15:33:51.905Z"
   },
   {
    "duration": 482,
    "start_time": "2025-04-14T15:35:37.180Z"
   },
   {
    "duration": 481,
    "start_time": "2025-04-14T15:35:54.581Z"
   },
   {
    "duration": 478,
    "start_time": "2025-04-14T15:36:03.749Z"
   },
   {
    "duration": 380,
    "start_time": "2025-04-14T15:36:14.131Z"
   },
   {
    "duration": 359,
    "start_time": "2025-04-14T15:36:23.447Z"
   },
   {
    "duration": 372,
    "start_time": "2025-04-14T15:36:40.622Z"
   },
   {
    "duration": 253,
    "start_time": "2025-04-14T15:36:45.250Z"
   },
   {
    "duration": 341,
    "start_time": "2025-04-14T15:36:58.163Z"
   },
   {
    "duration": 1388,
    "start_time": "2025-04-14T15:37:17.413Z"
   },
   {
    "duration": 21,
    "start_time": "2025-04-14T15:37:18.803Z"
   },
   {
    "duration": 44,
    "start_time": "2025-04-14T15:37:18.827Z"
   },
   {
    "duration": 15,
    "start_time": "2025-04-14T15:37:18.873Z"
   },
   {
    "duration": 31,
    "start_time": "2025-04-14T15:37:18.889Z"
   },
   {
    "duration": 402,
    "start_time": "2025-04-14T15:37:18.921Z"
   },
   {
    "duration": 166,
    "start_time": "2025-04-14T15:37:19.324Z"
   },
   {
    "duration": 42,
    "start_time": "2025-04-14T15:37:19.492Z"
   },
   {
    "duration": 7,
    "start_time": "2025-04-14T15:37:19.536Z"
   },
   {
    "duration": 40,
    "start_time": "2025-04-14T15:37:19.562Z"
   },
   {
    "duration": 4,
    "start_time": "2025-04-14T15:37:19.604Z"
   },
   {
    "duration": 11,
    "start_time": "2025-04-14T15:37:19.609Z"
   },
   {
    "duration": 184,
    "start_time": "2025-04-14T15:37:19.623Z"
   },
   {
    "duration": 4,
    "start_time": "2025-04-14T15:37:19.808Z"
   },
   {
    "duration": 7,
    "start_time": "2025-04-14T15:37:19.814Z"
   },
   {
    "duration": 239,
    "start_time": "2025-04-14T15:37:19.822Z"
   },
   {
    "duration": 7,
    "start_time": "2025-04-14T15:37:20.063Z"
   },
   {
    "duration": 179,
    "start_time": "2025-04-14T15:37:20.071Z"
   },
   {
    "duration": 11,
    "start_time": "2025-04-14T15:37:20.252Z"
   },
   {
    "duration": 87,
    "start_time": "2025-04-14T15:37:20.265Z"
   },
   {
    "duration": 10,
    "start_time": "2025-04-14T15:37:20.362Z"
   },
   {
    "duration": 252,
    "start_time": "2025-04-14T15:37:20.373Z"
   },
   {
    "duration": 11,
    "start_time": "2025-04-14T15:37:20.626Z"
   },
   {
    "duration": 148,
    "start_time": "2025-04-14T15:37:20.638Z"
   },
   {
    "duration": 9,
    "start_time": "2025-04-14T15:37:20.788Z"
   },
   {
    "duration": 142,
    "start_time": "2025-04-14T15:37:20.799Z"
   },
   {
    "duration": 421,
    "start_time": "2025-04-14T15:37:20.943Z"
   },
   {
    "duration": 76,
    "start_time": "2025-04-14T15:37:21.366Z"
   },
   {
    "duration": 56,
    "start_time": "2025-04-14T15:37:21.444Z"
   },
   {
    "duration": 272,
    "start_time": "2025-04-14T15:37:21.502Z"
   },
   {
    "duration": 7,
    "start_time": "2025-04-14T15:37:21.776Z"
   },
   {
    "duration": 615,
    "start_time": "2025-04-14T15:37:21.785Z"
   },
   {
    "duration": 768,
    "start_time": "2025-04-14T15:37:22.403Z"
   },
   {
    "duration": 1434,
    "start_time": "2025-04-14T15:37:23.173Z"
   },
   {
    "duration": 0,
    "start_time": "2025-04-14T15:37:24.608Z"
   },
   {
    "duration": 399,
    "start_time": "2025-04-14T15:37:50.613Z"
   },
   {
    "duration": 9,
    "start_time": "2025-04-14T15:38:08.909Z"
   },
   {
    "duration": 414,
    "start_time": "2025-04-14T15:38:52.425Z"
   },
   {
    "duration": 95,
    "start_time": "2025-04-14T15:42:49.123Z"
   },
   {
    "duration": 14,
    "start_time": "2025-04-14T15:43:13.456Z"
   },
   {
    "duration": 394,
    "start_time": "2025-04-14T15:45:42.280Z"
   },
   {
    "duration": 375,
    "start_time": "2025-04-14T15:50:30.317Z"
   },
   {
    "duration": 409,
    "start_time": "2025-04-14T15:53:18.782Z"
   },
   {
    "duration": 365,
    "start_time": "2025-04-14T15:53:58.053Z"
   },
   {
    "duration": 369,
    "start_time": "2025-04-14T15:54:10.143Z"
   },
   {
    "duration": 390,
    "start_time": "2025-04-14T15:56:44.302Z"
   },
   {
    "duration": 475,
    "start_time": "2025-04-14T16:16:55.035Z"
   },
   {
    "duration": 448,
    "start_time": "2025-04-14T16:17:56.424Z"
   },
   {
    "duration": 1409,
    "start_time": "2025-04-14T16:18:49.945Z"
   },
   {
    "duration": 24,
    "start_time": "2025-04-14T16:18:51.356Z"
   },
   {
    "duration": 66,
    "start_time": "2025-04-14T16:18:51.382Z"
   },
   {
    "duration": 54,
    "start_time": "2025-04-14T16:18:51.449Z"
   },
   {
    "duration": 38,
    "start_time": "2025-04-14T16:18:51.505Z"
   },
   {
    "duration": 377,
    "start_time": "2025-04-14T16:18:51.545Z"
   },
   {
    "duration": 173,
    "start_time": "2025-04-14T16:18:51.925Z"
   },
   {
    "duration": 41,
    "start_time": "2025-04-14T16:18:52.100Z"
   },
   {
    "duration": 7,
    "start_time": "2025-04-14T16:18:52.162Z"
   },
   {
    "duration": 41,
    "start_time": "2025-04-14T16:18:52.170Z"
   },
   {
    "duration": 86,
    "start_time": "2025-04-14T16:18:52.212Z"
   },
   {
    "duration": 11,
    "start_time": "2025-04-14T16:18:52.300Z"
   },
   {
    "duration": 160,
    "start_time": "2025-04-14T16:18:52.313Z"
   },
   {
    "duration": 4,
    "start_time": "2025-04-14T16:18:52.475Z"
   },
   {
    "duration": 110,
    "start_time": "2025-04-14T16:18:52.481Z"
   },
   {
    "duration": 221,
    "start_time": "2025-04-14T16:18:52.593Z"
   },
   {
    "duration": 8,
    "start_time": "2025-04-14T16:18:52.815Z"
   },
   {
    "duration": 181,
    "start_time": "2025-04-14T16:18:52.824Z"
   },
   {
    "duration": 5,
    "start_time": "2025-04-14T16:18:53.007Z"
   },
   {
    "duration": 105,
    "start_time": "2025-04-14T16:18:53.014Z"
   },
   {
    "duration": 11,
    "start_time": "2025-04-14T16:18:53.120Z"
   },
   {
    "duration": 149,
    "start_time": "2025-04-14T16:18:53.133Z"
   },
   {
    "duration": 11,
    "start_time": "2025-04-14T16:18:53.283Z"
   },
   {
    "duration": 183,
    "start_time": "2025-04-14T16:18:53.295Z"
   },
   {
    "duration": 8,
    "start_time": "2025-04-14T16:18:53.479Z"
   },
   {
    "duration": 135,
    "start_time": "2025-04-14T16:18:53.489Z"
   },
   {
    "duration": 447,
    "start_time": "2025-04-14T16:18:53.625Z"
   },
   {
    "duration": 77,
    "start_time": "2025-04-14T16:18:54.073Z"
   },
   {
    "duration": 8,
    "start_time": "2025-04-14T16:18:54.161Z"
   },
   {
    "duration": 278,
    "start_time": "2025-04-14T16:18:54.171Z"
   },
   {
    "duration": 13,
    "start_time": "2025-04-14T16:18:54.450Z"
   },
   {
    "duration": 562,
    "start_time": "2025-04-14T16:18:54.464Z"
   },
   {
    "duration": 771,
    "start_time": "2025-04-14T16:18:55.028Z"
   },
   {
    "duration": 9,
    "start_time": "2025-04-14T16:18:55.800Z"
   },
   {
    "duration": 407,
    "start_time": "2025-04-14T16:18:55.811Z"
   },
   {
    "duration": 445,
    "start_time": "2025-04-14T16:18:56.220Z"
   },
   {
    "duration": 339,
    "start_time": "2025-04-14T16:40:07.295Z"
   },
   {
    "duration": 292,
    "start_time": "2025-04-14T16:40:47.499Z"
   },
   {
    "duration": 1326,
    "start_time": "2025-04-15T10:18:26.940Z"
   },
   {
    "duration": 0,
    "start_time": "2025-04-15T10:18:28.269Z"
   },
   {
    "duration": 0,
    "start_time": "2025-04-15T10:18:28.270Z"
   },
   {
    "duration": 0,
    "start_time": "2025-04-15T10:18:28.271Z"
   },
   {
    "duration": 0,
    "start_time": "2025-04-15T10:18:28.272Z"
   },
   {
    "duration": 0,
    "start_time": "2025-04-15T10:18:28.273Z"
   },
   {
    "duration": 0,
    "start_time": "2025-04-15T10:18:28.274Z"
   },
   {
    "duration": 0,
    "start_time": "2025-04-15T10:18:28.275Z"
   },
   {
    "duration": 0,
    "start_time": "2025-04-15T10:18:28.276Z"
   },
   {
    "duration": 0,
    "start_time": "2025-04-15T10:18:28.277Z"
   },
   {
    "duration": 0,
    "start_time": "2025-04-15T10:18:28.278Z"
   },
   {
    "duration": 0,
    "start_time": "2025-04-15T10:18:28.279Z"
   },
   {
    "duration": 0,
    "start_time": "2025-04-15T10:18:28.280Z"
   },
   {
    "duration": 0,
    "start_time": "2025-04-15T10:18:28.281Z"
   },
   {
    "duration": 0,
    "start_time": "2025-04-15T10:18:28.282Z"
   },
   {
    "duration": 0,
    "start_time": "2025-04-15T10:18:28.283Z"
   },
   {
    "duration": 0,
    "start_time": "2025-04-15T10:18:28.284Z"
   },
   {
    "duration": 0,
    "start_time": "2025-04-15T10:18:28.285Z"
   },
   {
    "duration": 0,
    "start_time": "2025-04-15T10:18:28.286Z"
   },
   {
    "duration": 0,
    "start_time": "2025-04-15T10:18:28.287Z"
   },
   {
    "duration": 0,
    "start_time": "2025-04-15T10:18:28.287Z"
   },
   {
    "duration": 0,
    "start_time": "2025-04-15T10:18:28.288Z"
   },
   {
    "duration": 0,
    "start_time": "2025-04-15T10:18:28.289Z"
   },
   {
    "duration": 0,
    "start_time": "2025-04-15T10:18:28.290Z"
   },
   {
    "duration": 0,
    "start_time": "2025-04-15T10:18:28.291Z"
   },
   {
    "duration": 0,
    "start_time": "2025-04-15T10:18:28.292Z"
   },
   {
    "duration": 0,
    "start_time": "2025-04-15T10:18:28.293Z"
   },
   {
    "duration": 0,
    "start_time": "2025-04-15T10:18:28.294Z"
   },
   {
    "duration": 0,
    "start_time": "2025-04-15T10:18:28.295Z"
   },
   {
    "duration": 0,
    "start_time": "2025-04-15T10:18:28.296Z"
   },
   {
    "duration": 0,
    "start_time": "2025-04-15T10:18:28.338Z"
   },
   {
    "duration": 1,
    "start_time": "2025-04-15T10:18:28.338Z"
   },
   {
    "duration": 0,
    "start_time": "2025-04-15T10:18:28.339Z"
   },
   {
    "duration": 0,
    "start_time": "2025-04-15T10:18:28.340Z"
   },
   {
    "duration": 0,
    "start_time": "2025-04-15T10:18:28.341Z"
   },
   {
    "duration": 1,
    "start_time": "2025-04-15T10:18:28.342Z"
   },
   {
    "duration": 0,
    "start_time": "2025-04-15T10:18:28.343Z"
   },
   {
    "duration": 1280,
    "start_time": "2025-04-15T11:01:19.875Z"
   },
   {
    "duration": 0,
    "start_time": "2025-04-15T11:01:21.158Z"
   },
   {
    "duration": 0,
    "start_time": "2025-04-15T11:01:21.159Z"
   },
   {
    "duration": 0,
    "start_time": "2025-04-15T11:01:21.160Z"
   },
   {
    "duration": 0,
    "start_time": "2025-04-15T11:01:21.161Z"
   },
   {
    "duration": 0,
    "start_time": "2025-04-15T11:01:21.162Z"
   },
   {
    "duration": 0,
    "start_time": "2025-04-15T11:01:21.163Z"
   },
   {
    "duration": 0,
    "start_time": "2025-04-15T11:01:21.164Z"
   },
   {
    "duration": 0,
    "start_time": "2025-04-15T11:01:21.165Z"
   },
   {
    "duration": 0,
    "start_time": "2025-04-15T11:01:21.167Z"
   },
   {
    "duration": 0,
    "start_time": "2025-04-15T11:01:21.167Z"
   },
   {
    "duration": 0,
    "start_time": "2025-04-15T11:01:21.169Z"
   },
   {
    "duration": 0,
    "start_time": "2025-04-15T11:01:21.170Z"
   },
   {
    "duration": 0,
    "start_time": "2025-04-15T11:01:21.171Z"
   },
   {
    "duration": 0,
    "start_time": "2025-04-15T11:01:21.172Z"
   },
   {
    "duration": 0,
    "start_time": "2025-04-15T11:01:21.173Z"
   },
   {
    "duration": 0,
    "start_time": "2025-04-15T11:01:21.174Z"
   },
   {
    "duration": 0,
    "start_time": "2025-04-15T11:01:21.175Z"
   },
   {
    "duration": 0,
    "start_time": "2025-04-15T11:01:21.177Z"
   },
   {
    "duration": 0,
    "start_time": "2025-04-15T11:01:21.178Z"
   },
   {
    "duration": 0,
    "start_time": "2025-04-15T11:01:21.179Z"
   },
   {
    "duration": 0,
    "start_time": "2025-04-15T11:01:21.180Z"
   },
   {
    "duration": 0,
    "start_time": "2025-04-15T11:01:21.181Z"
   },
   {
    "duration": 0,
    "start_time": "2025-04-15T11:01:21.182Z"
   },
   {
    "duration": 0,
    "start_time": "2025-04-15T11:01:21.183Z"
   },
   {
    "duration": 0,
    "start_time": "2025-04-15T11:01:21.184Z"
   },
   {
    "duration": 0,
    "start_time": "2025-04-15T11:01:21.185Z"
   },
   {
    "duration": 0,
    "start_time": "2025-04-15T11:01:21.186Z"
   },
   {
    "duration": 0,
    "start_time": "2025-04-15T11:01:21.187Z"
   },
   {
    "duration": 0,
    "start_time": "2025-04-15T11:01:21.188Z"
   },
   {
    "duration": 0,
    "start_time": "2025-04-15T11:01:21.189Z"
   },
   {
    "duration": 0,
    "start_time": "2025-04-15T11:01:21.238Z"
   },
   {
    "duration": 0,
    "start_time": "2025-04-15T11:01:21.239Z"
   },
   {
    "duration": 0,
    "start_time": "2025-04-15T11:01:21.240Z"
   },
   {
    "duration": 0,
    "start_time": "2025-04-15T11:01:21.241Z"
   },
   {
    "duration": 0,
    "start_time": "2025-04-15T11:01:21.242Z"
   },
   {
    "duration": 0,
    "start_time": "2025-04-15T11:01:21.244Z"
   },
   {
    "duration": 3264,
    "start_time": "2025-04-15T11:02:39.983Z"
   },
   {
    "duration": 56,
    "start_time": "2025-04-15T11:02:53.691Z"
   },
   {
    "duration": 1231,
    "start_time": "2025-04-15T11:03:04.797Z"
   },
   {
    "duration": 706,
    "start_time": "2025-04-15T11:03:06.030Z"
   },
   {
    "duration": 23,
    "start_time": "2025-04-15T11:03:06.738Z"
   },
   {
    "duration": 36,
    "start_time": "2025-04-15T11:03:06.763Z"
   },
   {
    "duration": 47,
    "start_time": "2025-04-15T11:03:06.801Z"
   },
   {
    "duration": 37,
    "start_time": "2025-04-15T11:03:06.850Z"
   },
   {
    "duration": 431,
    "start_time": "2025-04-15T11:03:06.889Z"
   },
   {
    "duration": 173,
    "start_time": "2025-04-15T11:03:07.321Z"
   },
   {
    "duration": 64,
    "start_time": "2025-04-15T11:03:07.496Z"
   },
   {
    "duration": 7,
    "start_time": "2025-04-15T11:03:07.562Z"
   },
   {
    "duration": 51,
    "start_time": "2025-04-15T11:03:07.570Z"
   },
   {
    "duration": 4,
    "start_time": "2025-04-15T11:03:07.638Z"
   },
   {
    "duration": 13,
    "start_time": "2025-04-15T11:03:07.644Z"
   },
   {
    "duration": 186,
    "start_time": "2025-04-15T11:03:07.660Z"
   },
   {
    "duration": 5,
    "start_time": "2025-04-15T11:03:07.848Z"
   },
   {
    "duration": 64,
    "start_time": "2025-04-15T11:03:07.855Z"
   },
   {
    "duration": 255,
    "start_time": "2025-04-15T11:03:07.921Z"
   },
   {
    "duration": 8,
    "start_time": "2025-04-15T11:03:08.178Z"
   },
   {
    "duration": 231,
    "start_time": "2025-04-15T11:03:08.187Z"
   },
   {
    "duration": 5,
    "start_time": "2025-04-15T11:03:08.419Z"
   },
   {
    "duration": 93,
    "start_time": "2025-04-15T11:03:08.426Z"
   },
   {
    "duration": 19,
    "start_time": "2025-04-15T11:03:08.521Z"
   },
   {
    "duration": 168,
    "start_time": "2025-04-15T11:03:08.542Z"
   },
   {
    "duration": 12,
    "start_time": "2025-04-15T11:03:08.712Z"
   },
   {
    "duration": 150,
    "start_time": "2025-04-15T11:03:08.726Z"
   },
   {
    "duration": 10,
    "start_time": "2025-04-15T11:03:08.878Z"
   },
   {
    "duration": 229,
    "start_time": "2025-04-15T11:03:08.889Z"
   },
   {
    "duration": 426,
    "start_time": "2025-04-15T11:03:09.120Z"
   },
   {
    "duration": 98,
    "start_time": "2025-04-15T11:03:09.548Z"
   },
   {
    "duration": 8,
    "start_time": "2025-04-15T11:03:09.648Z"
   },
   {
    "duration": 385,
    "start_time": "2025-04-15T11:03:09.658Z"
   },
   {
    "duration": 7,
    "start_time": "2025-04-15T11:03:10.045Z"
   },
   {
    "duration": 644,
    "start_time": "2025-04-15T11:03:10.054Z"
   },
   {
    "duration": 802,
    "start_time": "2025-04-15T11:03:10.700Z"
   },
   {
    "duration": 11,
    "start_time": "2025-04-15T11:03:11.504Z"
   },
   {
    "duration": 417,
    "start_time": "2025-04-15T11:03:11.518Z"
   },
   {
    "duration": 454,
    "start_time": "2025-04-15T11:03:11.937Z"
   },
   {
    "duration": 88,
    "start_time": "2025-04-15T11:04:06.031Z"
   },
   {
    "duration": 39,
    "start_time": "2025-04-15T11:08:24.825Z"
   },
   {
    "duration": 40,
    "start_time": "2025-04-15T11:08:32.915Z"
   },
   {
    "duration": 1259,
    "start_time": "2025-04-15T11:08:45.450Z"
   },
   {
    "duration": 267,
    "start_time": "2025-04-15T11:08:46.711Z"
   },
   {
    "duration": 27,
    "start_time": "2025-04-15T11:08:46.980Z"
   },
   {
    "duration": 57,
    "start_time": "2025-04-15T11:08:47.009Z"
   },
   {
    "duration": 19,
    "start_time": "2025-04-15T11:08:47.069Z"
   },
   {
    "duration": 62,
    "start_time": "2025-04-15T11:08:47.090Z"
   },
   {
    "duration": 406,
    "start_time": "2025-04-15T11:08:47.154Z"
   },
   {
    "duration": 48,
    "start_time": "2025-04-15T11:08:47.562Z"
   },
   {
    "duration": 25,
    "start_time": "2025-04-15T11:08:47.612Z"
   },
   {
    "duration": 42,
    "start_time": "2025-04-15T11:08:47.640Z"
   },
   {
    "duration": 4,
    "start_time": "2025-04-15T11:08:47.683Z"
   },
   {
    "duration": 6,
    "start_time": "2025-04-15T11:08:47.689Z"
   },
   {
    "duration": 207,
    "start_time": "2025-04-15T11:08:47.697Z"
   },
   {
    "duration": 4,
    "start_time": "2025-04-15T11:08:47.907Z"
   },
   {
    "duration": 6,
    "start_time": "2025-04-15T11:08:47.913Z"
   },
   {
    "duration": 232,
    "start_time": "2025-04-15T11:08:47.938Z"
   },
   {
    "duration": 8,
    "start_time": "2025-04-15T11:08:48.172Z"
   },
   {
    "duration": 322,
    "start_time": "2025-04-15T11:08:48.181Z"
   },
   {
    "duration": 5,
    "start_time": "2025-04-15T11:08:48.505Z"
   },
   {
    "duration": 104,
    "start_time": "2025-04-15T11:08:48.512Z"
   },
   {
    "duration": 20,
    "start_time": "2025-04-15T11:08:48.617Z"
   },
   {
    "duration": 171,
    "start_time": "2025-04-15T11:08:48.639Z"
   },
   {
    "duration": 11,
    "start_time": "2025-04-15T11:08:48.812Z"
   },
   {
    "duration": 578,
    "start_time": "2025-04-15T11:08:48.824Z"
   },
   {
    "duration": 0,
    "start_time": "2025-04-15T11:08:49.403Z"
   },
   {
    "duration": 0,
    "start_time": "2025-04-15T11:08:49.405Z"
   },
   {
    "duration": 0,
    "start_time": "2025-04-15T11:08:49.405Z"
   },
   {
    "duration": 0,
    "start_time": "2025-04-15T11:08:49.406Z"
   },
   {
    "duration": 0,
    "start_time": "2025-04-15T11:08:49.407Z"
   },
   {
    "duration": 0,
    "start_time": "2025-04-15T11:08:49.409Z"
   },
   {
    "duration": 0,
    "start_time": "2025-04-15T11:08:49.410Z"
   },
   {
    "duration": 0,
    "start_time": "2025-04-15T11:08:49.411Z"
   },
   {
    "duration": 0,
    "start_time": "2025-04-15T11:08:49.411Z"
   },
   {
    "duration": 0,
    "start_time": "2025-04-15T11:08:49.413Z"
   },
   {
    "duration": 0,
    "start_time": "2025-04-15T11:08:49.414Z"
   },
   {
    "duration": 0,
    "start_time": "2025-04-15T11:08:49.415Z"
   },
   {
    "duration": 603,
    "start_time": "2025-04-15T13:10:32.536Z"
   },
   {
    "duration": 253,
    "start_time": "2025-04-15T13:11:44.294Z"
   },
   {
    "duration": 11,
    "start_time": "2025-04-15T13:12:00.117Z"
   },
   {
    "duration": 125,
    "start_time": "2025-04-15T13:12:03.762Z"
   },
   {
    "duration": 388,
    "start_time": "2025-04-15T13:12:08.126Z"
   },
   {
    "duration": 80,
    "start_time": "2025-04-15T13:12:59.245Z"
   },
   {
    "duration": 9,
    "start_time": "2025-04-15T13:13:10.533Z"
   },
   {
    "duration": 370,
    "start_time": "2025-04-15T13:13:12.746Z"
   },
   {
    "duration": 6,
    "start_time": "2025-04-15T13:14:12.108Z"
   },
   {
    "duration": 639,
    "start_time": "2025-04-15T13:14:39.621Z"
   },
   {
    "duration": 910,
    "start_time": "2025-04-15T13:15:09.432Z"
   },
   {
    "duration": 1285,
    "start_time": "2025-04-15T13:18:08.236Z"
   },
   {
    "duration": 200,
    "start_time": "2025-04-15T13:18:09.523Z"
   },
   {
    "duration": 34,
    "start_time": "2025-04-15T13:18:09.725Z"
   },
   {
    "duration": 39,
    "start_time": "2025-04-15T13:18:09.762Z"
   },
   {
    "duration": 48,
    "start_time": "2025-04-15T13:18:09.804Z"
   },
   {
    "duration": 59,
    "start_time": "2025-04-15T13:18:09.854Z"
   },
   {
    "duration": 442,
    "start_time": "2025-04-15T13:18:09.915Z"
   },
   {
    "duration": 45,
    "start_time": "2025-04-15T13:18:10.359Z"
   },
   {
    "duration": 23,
    "start_time": "2025-04-15T13:18:10.405Z"
   },
   {
    "duration": 91,
    "start_time": "2025-04-15T13:18:10.437Z"
   },
   {
    "duration": 81,
    "start_time": "2025-04-15T13:18:10.530Z"
   },
   {
    "duration": 10,
    "start_time": "2025-04-15T13:18:10.612Z"
   },
   {
    "duration": 178,
    "start_time": "2025-04-15T13:18:10.624Z"
   },
   {
    "duration": 5,
    "start_time": "2025-04-15T13:18:10.804Z"
   },
   {
    "duration": 76,
    "start_time": "2025-04-15T13:18:10.810Z"
   },
   {
    "duration": 224,
    "start_time": "2025-04-15T13:18:10.888Z"
   },
   {
    "duration": 8,
    "start_time": "2025-04-15T13:18:11.114Z"
   },
   {
    "duration": 185,
    "start_time": "2025-04-15T13:18:11.123Z"
   },
   {
    "duration": 7,
    "start_time": "2025-04-15T13:18:11.310Z"
   },
   {
    "duration": 106,
    "start_time": "2025-04-15T13:18:11.319Z"
   },
   {
    "duration": 18,
    "start_time": "2025-04-15T13:18:11.426Z"
   },
   {
    "duration": 173,
    "start_time": "2025-04-15T13:18:11.446Z"
   },
   {
    "duration": 23,
    "start_time": "2025-04-15T13:18:11.621Z"
   },
   {
    "duration": 340,
    "start_time": "2025-04-15T13:18:11.645Z"
   },
   {
    "duration": 9,
    "start_time": "2025-04-15T13:18:11.986Z"
   },
   {
    "duration": 142,
    "start_time": "2025-04-15T13:18:11.997Z"
   },
   {
    "duration": 82,
    "start_time": "2025-04-15T13:18:12.141Z"
   },
   {
    "duration": 19,
    "start_time": "2025-04-15T13:18:12.226Z"
   },
   {
    "duration": 324,
    "start_time": "2025-04-15T13:18:12.247Z"
   },
   {
    "duration": 7,
    "start_time": "2025-04-15T13:18:12.573Z"
   },
   {
    "duration": 838,
    "start_time": "2025-04-15T13:18:12.581Z"
   },
   {
    "duration": 825,
    "start_time": "2025-04-15T13:18:13.421Z"
   },
   {
    "duration": 12,
    "start_time": "2025-04-15T13:18:14.248Z"
   },
   {
    "duration": 455,
    "start_time": "2025-04-15T13:18:14.261Z"
   },
   {
    "duration": 483,
    "start_time": "2025-04-15T13:18:14.718Z"
   },
   {
    "duration": 238,
    "start_time": "2025-04-15T13:18:35.935Z"
   },
   {
    "duration": 498,
    "start_time": "2025-04-15T13:32:10.205Z"
   },
   {
    "duration": 1329,
    "start_time": "2025-04-15T13:37:44.898Z"
   },
   {
    "duration": 261,
    "start_time": "2025-04-15T13:37:46.230Z"
   },
   {
    "duration": 27,
    "start_time": "2025-04-15T13:37:46.493Z"
   },
   {
    "duration": 42,
    "start_time": "2025-04-15T13:37:46.522Z"
   },
   {
    "duration": 17,
    "start_time": "2025-04-15T13:37:46.566Z"
   },
   {
    "duration": 73,
    "start_time": "2025-04-15T13:37:46.585Z"
   },
   {
    "duration": 414,
    "start_time": "2025-04-15T13:37:46.659Z"
   },
   {
    "duration": 67,
    "start_time": "2025-04-15T13:37:47.075Z"
   },
   {
    "duration": 10,
    "start_time": "2025-04-15T13:37:47.144Z"
   },
   {
    "duration": 45,
    "start_time": "2025-04-15T13:37:47.157Z"
   },
   {
    "duration": 5,
    "start_time": "2025-04-15T13:37:47.204Z"
   },
   {
    "duration": 9,
    "start_time": "2025-04-15T13:37:47.239Z"
   },
   {
    "duration": 193,
    "start_time": "2025-04-15T13:37:47.250Z"
   },
   {
    "duration": 5,
    "start_time": "2025-04-15T13:37:47.446Z"
   },
   {
    "duration": 8,
    "start_time": "2025-04-15T13:37:47.453Z"
   },
   {
    "duration": 262,
    "start_time": "2025-04-15T13:37:47.463Z"
   },
   {
    "duration": 16,
    "start_time": "2025-04-15T13:37:47.727Z"
   },
   {
    "duration": 195,
    "start_time": "2025-04-15T13:37:47.745Z"
   },
   {
    "duration": 6,
    "start_time": "2025-04-15T13:37:47.942Z"
   },
   {
    "duration": 105,
    "start_time": "2025-04-15T13:37:47.950Z"
   },
   {
    "duration": 11,
    "start_time": "2025-04-15T13:37:48.057Z"
   },
   {
    "duration": 178,
    "start_time": "2025-04-15T13:37:48.070Z"
   },
   {
    "duration": 11,
    "start_time": "2025-04-15T13:37:48.250Z"
   },
   {
    "duration": 356,
    "start_time": "2025-04-15T13:37:48.263Z"
   },
   {
    "duration": 18,
    "start_time": "2025-04-15T13:37:48.621Z"
   },
   {
    "duration": 139,
    "start_time": "2025-04-15T13:37:48.641Z"
   },
   {
    "duration": 89,
    "start_time": "2025-04-15T13:37:48.781Z"
   },
   {
    "duration": 7,
    "start_time": "2025-04-15T13:37:48.874Z"
   },
   {
    "duration": 344,
    "start_time": "2025-04-15T13:37:48.883Z"
   },
   {
    "duration": 14,
    "start_time": "2025-04-15T13:37:49.228Z"
   },
   {
    "duration": 811,
    "start_time": "2025-04-15T13:37:49.243Z"
   },
   {
    "duration": 854,
    "start_time": "2025-04-15T13:37:50.056Z"
   },
   {
    "duration": 10,
    "start_time": "2025-04-15T13:37:50.912Z"
   },
   {
    "duration": 447,
    "start_time": "2025-04-15T13:37:50.924Z"
   },
   {
    "duration": 445,
    "start_time": "2025-04-15T13:37:51.373Z"
   },
   {
    "duration": 0,
    "start_time": "2025-04-15T13:37:51.820Z"
   },
   {
    "duration": 440,
    "start_time": "2025-04-15T13:38:00.584Z"
   },
   {
    "duration": 1272,
    "start_time": "2025-04-15T13:49:52.147Z"
   },
   {
    "duration": 192,
    "start_time": "2025-04-15T13:49:53.420Z"
   },
   {
    "duration": 27,
    "start_time": "2025-04-15T13:49:53.614Z"
   },
   {
    "duration": 39,
    "start_time": "2025-04-15T13:49:53.643Z"
   },
   {
    "duration": 19,
    "start_time": "2025-04-15T13:49:53.684Z"
   },
   {
    "duration": 35,
    "start_time": "2025-04-15T13:49:53.737Z"
   },
   {
    "duration": 471,
    "start_time": "2025-04-15T13:49:53.774Z"
   },
   {
    "duration": 49,
    "start_time": "2025-04-15T13:49:54.247Z"
   },
   {
    "duration": 8,
    "start_time": "2025-04-15T13:49:54.297Z"
   },
   {
    "duration": 83,
    "start_time": "2025-04-15T13:49:54.308Z"
   },
   {
    "duration": 4,
    "start_time": "2025-04-15T13:49:54.393Z"
   },
   {
    "duration": 9,
    "start_time": "2025-04-15T13:49:54.399Z"
   },
   {
    "duration": 200,
    "start_time": "2025-04-15T13:49:54.409Z"
   },
   {
    "duration": 4,
    "start_time": "2025-04-15T13:49:54.611Z"
   },
   {
    "duration": 71,
    "start_time": "2025-04-15T13:49:54.617Z"
   },
   {
    "duration": 253,
    "start_time": "2025-04-15T13:49:54.690Z"
   },
   {
    "duration": 8,
    "start_time": "2025-04-15T13:49:54.945Z"
   },
   {
    "duration": 298,
    "start_time": "2025-04-15T13:49:54.955Z"
   },
   {
    "duration": 5,
    "start_time": "2025-04-15T13:49:55.255Z"
   },
   {
    "duration": 112,
    "start_time": "2025-04-15T13:49:55.262Z"
   },
   {
    "duration": 12,
    "start_time": "2025-04-15T13:49:55.376Z"
   },
   {
    "duration": 177,
    "start_time": "2025-04-15T13:49:55.390Z"
   },
   {
    "duration": 11,
    "start_time": "2025-04-15T13:49:55.568Z"
   },
   {
    "duration": 358,
    "start_time": "2025-04-15T13:49:55.581Z"
   },
   {
    "duration": 9,
    "start_time": "2025-04-15T13:49:55.941Z"
   },
   {
    "duration": 185,
    "start_time": "2025-04-15T13:49:55.952Z"
   },
   {
    "duration": 80,
    "start_time": "2025-04-15T13:49:56.139Z"
   },
   {
    "duration": 17,
    "start_time": "2025-04-15T13:49:56.222Z"
   },
   {
    "duration": 320,
    "start_time": "2025-04-15T13:49:56.241Z"
   },
   {
    "duration": 8,
    "start_time": "2025-04-15T13:49:56.563Z"
   },
   {
    "duration": 758,
    "start_time": "2025-04-15T13:49:56.572Z"
   },
   {
    "duration": 806,
    "start_time": "2025-04-15T13:49:57.332Z"
   },
   {
    "duration": 11,
    "start_time": "2025-04-15T13:49:58.140Z"
   },
   {
    "duration": 450,
    "start_time": "2025-04-15T13:49:58.153Z"
   },
   {
    "duration": 488,
    "start_time": "2025-04-15T13:49:58.605Z"
   },
   {
    "duration": 619,
    "start_time": "2025-04-15T13:57:52.365Z"
   },
   {
    "duration": 637,
    "start_time": "2025-04-15T14:20:16.213Z"
   },
   {
    "duration": 640,
    "start_time": "2025-04-15T14:20:38.504Z"
   },
   {
    "duration": 502,
    "start_time": "2025-04-15T14:21:05.565Z"
   },
   {
    "duration": 610,
    "start_time": "2025-04-15T14:22:24.764Z"
   },
   {
    "duration": 663,
    "start_time": "2025-04-15T14:23:57.428Z"
   },
   {
    "duration": 34,
    "start_time": "2025-04-15T14:33:56.638Z"
   },
   {
    "duration": 1271,
    "start_time": "2025-04-15T14:34:02.864Z"
   },
   {
    "duration": 292,
    "start_time": "2025-04-15T14:34:04.137Z"
   },
   {
    "duration": 27,
    "start_time": "2025-04-15T14:34:04.434Z"
   },
   {
    "duration": 36,
    "start_time": "2025-04-15T14:34:04.465Z"
   },
   {
    "duration": 43,
    "start_time": "2025-04-15T14:34:04.503Z"
   },
   {
    "duration": 34,
    "start_time": "2025-04-15T14:34:04.547Z"
   },
   {
    "duration": 479,
    "start_time": "2025-04-15T14:34:04.583Z"
   },
   {
    "duration": 47,
    "start_time": "2025-04-15T14:34:05.064Z"
   },
   {
    "duration": 34,
    "start_time": "2025-04-15T14:34:05.121Z"
   },
   {
    "duration": 53,
    "start_time": "2025-04-15T14:34:05.157Z"
   },
   {
    "duration": 7,
    "start_time": "2025-04-15T14:34:05.212Z"
   },
   {
    "duration": 19,
    "start_time": "2025-04-15T14:34:05.220Z"
   },
   {
    "duration": 188,
    "start_time": "2025-04-15T14:34:05.242Z"
   },
   {
    "duration": 6,
    "start_time": "2025-04-15T14:34:05.437Z"
   },
   {
    "duration": 31,
    "start_time": "2025-04-15T14:34:05.445Z"
   },
   {
    "duration": 242,
    "start_time": "2025-04-15T14:34:05.478Z"
   },
   {
    "duration": 8,
    "start_time": "2025-04-15T14:34:05.722Z"
   },
   {
    "duration": 210,
    "start_time": "2025-04-15T14:34:05.738Z"
   },
   {
    "duration": 6,
    "start_time": "2025-04-15T14:34:05.951Z"
   },
   {
    "duration": 152,
    "start_time": "2025-04-15T14:34:05.959Z"
   },
   {
    "duration": 13,
    "start_time": "2025-04-15T14:34:06.113Z"
   },
   {
    "duration": 172,
    "start_time": "2025-04-15T14:34:06.138Z"
   },
   {
    "duration": 11,
    "start_time": "2025-04-15T14:34:06.312Z"
   },
   {
    "duration": 354,
    "start_time": "2025-04-15T14:34:06.325Z"
   },
   {
    "duration": 10,
    "start_time": "2025-04-15T14:34:06.681Z"
   },
   {
    "duration": 209,
    "start_time": "2025-04-15T14:34:06.693Z"
   },
   {
    "duration": 90,
    "start_time": "2025-04-15T14:34:06.905Z"
   },
   {
    "duration": 9,
    "start_time": "2025-04-15T14:34:06.997Z"
   },
   {
    "duration": 428,
    "start_time": "2025-04-15T14:34:07.008Z"
   },
   {
    "duration": 6,
    "start_time": "2025-04-15T14:34:07.439Z"
   },
   {
    "duration": 798,
    "start_time": "2025-04-15T14:34:07.447Z"
   },
   {
    "duration": 823,
    "start_time": "2025-04-15T14:34:08.247Z"
   },
   {
    "duration": 13,
    "start_time": "2025-04-15T14:34:09.072Z"
   },
   {
    "duration": 523,
    "start_time": "2025-04-15T14:34:09.087Z"
   },
   {
    "duration": 518,
    "start_time": "2025-04-15T14:34:09.612Z"
   },
   {
    "duration": 1663,
    "start_time": "2025-04-15T18:39:04.584Z"
   },
   {
    "duration": 229,
    "start_time": "2025-04-15T18:39:06.254Z"
   },
   {
    "duration": 30,
    "start_time": "2025-04-15T18:39:06.485Z"
   },
   {
    "duration": 75,
    "start_time": "2025-04-15T18:39:06.516Z"
   },
   {
    "duration": 20,
    "start_time": "2025-04-15T18:39:06.594Z"
   },
   {
    "duration": 66,
    "start_time": "2025-04-15T18:39:06.616Z"
   },
   {
    "duration": 420,
    "start_time": "2025-04-15T18:39:06.684Z"
   },
   {
    "duration": 50,
    "start_time": "2025-04-15T18:39:07.106Z"
   },
   {
    "duration": 17,
    "start_time": "2025-04-15T18:39:07.158Z"
   },
   {
    "duration": 44,
    "start_time": "2025-04-15T18:39:07.177Z"
   },
   {
    "duration": 75,
    "start_time": "2025-04-15T18:39:07.223Z"
   },
   {
    "duration": 13,
    "start_time": "2025-04-15T18:39:07.300Z"
   },
   {
    "duration": 211,
    "start_time": "2025-04-15T18:39:07.316Z"
   },
   {
    "duration": 6,
    "start_time": "2025-04-15T18:39:07.530Z"
   },
   {
    "duration": 20,
    "start_time": "2025-04-15T18:39:07.538Z"
   },
   {
    "duration": 269,
    "start_time": "2025-04-15T18:39:07.560Z"
   },
   {
    "duration": 9,
    "start_time": "2025-04-15T18:39:07.831Z"
   },
   {
    "duration": 235,
    "start_time": "2025-04-15T18:39:07.842Z"
   },
   {
    "duration": 7,
    "start_time": "2025-04-15T18:39:08.079Z"
   },
   {
    "duration": 116,
    "start_time": "2025-04-15T18:39:08.088Z"
   },
   {
    "duration": 13,
    "start_time": "2025-04-15T18:39:08.206Z"
   },
   {
    "duration": 190,
    "start_time": "2025-04-15T18:39:08.221Z"
   },
   {
    "duration": 12,
    "start_time": "2025-04-15T18:39:08.413Z"
   },
   {
    "duration": 391,
    "start_time": "2025-04-15T18:39:08.427Z"
   },
   {
    "duration": 13,
    "start_time": "2025-04-15T18:39:08.820Z"
   },
   {
    "duration": 171,
    "start_time": "2025-04-15T18:39:08.835Z"
   },
   {
    "duration": 108,
    "start_time": "2025-04-15T18:39:09.009Z"
   },
   {
    "duration": 9,
    "start_time": "2025-04-15T18:39:09.119Z"
   },
   {
    "duration": 352,
    "start_time": "2025-04-15T18:39:09.131Z"
   },
   {
    "duration": 8,
    "start_time": "2025-04-15T18:39:09.485Z"
   },
   {
    "duration": 895,
    "start_time": "2025-04-15T18:39:09.495Z"
   },
   {
    "duration": 887,
    "start_time": "2025-04-15T18:39:10.392Z"
   },
   {
    "duration": 12,
    "start_time": "2025-04-15T18:39:11.282Z"
   },
   {
    "duration": 555,
    "start_time": "2025-04-15T18:39:11.295Z"
   },
   {
    "duration": 550,
    "start_time": "2025-04-15T18:39:11.852Z"
   },
   {
    "duration": 8,
    "start_time": "2025-04-15T18:41:33.686Z"
   }
  ],
  "colab": {
   "provenance": []
  },
  "kernelspec": {
   "display_name": "Python 3 (ipykernel)",
   "language": "python",
   "name": "python3"
  },
  "language_info": {
   "codemirror_mode": {
    "name": "ipython",
    "version": 3
   },
   "file_extension": ".py",
   "mimetype": "text/x-python",
   "name": "python",
   "nbconvert_exporter": "python",
   "pygments_lexer": "ipython3",
   "version": "3.9.5"
  },
  "toc": {
   "base_numbering": 1,
   "nav_menu": {},
   "number_sections": true,
   "sideBar": true,
   "skip_h1_title": true,
   "title_cell": "Table of Contents",
   "title_sidebar": "Contents",
   "toc_cell": false,
   "toc_position": {},
   "toc_section_display": true,
   "toc_window_display": false
  },
  "widgets": {
   "application/vnd.jupyter.widget-state+json": {
    "state": {},
    "version_major": 2,
    "version_minor": 0
   }
  }
 },
 "nbformat": 4,
 "nbformat_minor": 5
}
