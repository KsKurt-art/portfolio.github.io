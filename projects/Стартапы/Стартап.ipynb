{
 "cells": [
  {
   "cell_type": "markdown",
   "metadata": {
    "id": "4mJbK1knrJgz"
   },
   "source": [
    "# Проект: Исследование стартапов"
   ]
  },
  {
   "cell_type": "markdown",
   "metadata": {
    "id": "xqr6uttCrJg0"
   },
   "source": [
    "### 1.1. Вывод общей информации, исправление названия столбцов\n",
    "\n",
    "- Загрузите все данные по проекту.\n",
    "- Проверьте названия столбцов.\n",
    "- Выведите информацию, которая необходима вам для принятия решений о предобработке, для каждого из датасетов."
   ]
  },
  {
   "cell_type": "code",
   "execution_count": 1,
   "metadata": {
    "colab": {
     "base_uri": "https://localhost:8080/"
    },
    "id": "W_W4jRazrJg0",
    "outputId": "d2409aad-233f-4bb4-ec71-7da96594f9df"
   },
   "outputs": [],
   "source": [
    "import matplotlib.pyplot as plt\n",
    "import pandas as pd\n",
    "import numpy as np\n",
    "import seaborn as sns"
   ]
  },
  {
   "cell_type": "code",
   "execution_count": 2,
   "metadata": {},
   "outputs": [],
   "source": [
    "URL = 'https://code.s3.yandex.net/datasets/'"
   ]
  },
  {
   "cell_type": "code",
   "execution_count": 3,
   "metadata": {
    "id": "2Tm4Pk__Felf"
   },
   "outputs": [],
   "source": [
    "df_acquisition = pd.read_csv(f'{URL}acquisition.csv')\n",
    "df_company_and_rounds = pd.read_csv(f'{URL}company_and_rounds.csv')\n",
    "df_people = pd.read_csv(f'{URL}people.csv')\n",
    "df_education = pd.read_csv(f'{URL}education.csv')\n",
    "df_degrees = pd.read_csv(f'{URL}degrees.csv')\n",
    "df_fund = pd.read_csv(f'{URL}fund.csv')\n",
    "df_investment = pd.read_csv(f'{URL}investment.csv')"
   ]
  },
  {
   "cell_type": "code",
   "execution_count": 4,
   "metadata": {},
   "outputs": [
    {
     "name": "stdout",
     "output_type": "stream",
     "text": [
      "\n",
      "=== Информация о датасете Acquisition ===\n",
      "Количество строк: 9407\n",
      "Количество столбцов: 6\n",
      "\n",
      "Первые 5 строк:\n"
     ]
    },
    {
     "data": {
      "text/html": [
       "<div>\n",
       "<style scoped>\n",
       "    .dataframe tbody tr th:only-of-type {\n",
       "        vertical-align: middle;\n",
       "    }\n",
       "\n",
       "    .dataframe tbody tr th {\n",
       "        vertical-align: top;\n",
       "    }\n",
       "\n",
       "    .dataframe thead th {\n",
       "        text-align: right;\n",
       "    }\n",
       "</style>\n",
       "<table border=\"1\" class=\"dataframe\">\n",
       "  <thead>\n",
       "    <tr style=\"text-align: right;\">\n",
       "      <th></th>\n",
       "      <th>id</th>\n",
       "      <th>acquiring_company_id</th>\n",
       "      <th>acquired_company_id</th>\n",
       "      <th>term_code</th>\n",
       "      <th>price_amount</th>\n",
       "      <th>acquired_at</th>\n",
       "    </tr>\n",
       "  </thead>\n",
       "  <tbody>\n",
       "    <tr>\n",
       "      <th>0</th>\n",
       "      <td>1</td>\n",
       "      <td>11</td>\n",
       "      <td>10</td>\n",
       "      <td>NaN</td>\n",
       "      <td>20000000</td>\n",
       "      <td>2007-05-30</td>\n",
       "    </tr>\n",
       "    <tr>\n",
       "      <th>1</th>\n",
       "      <td>7</td>\n",
       "      <td>59</td>\n",
       "      <td>72</td>\n",
       "      <td>cash</td>\n",
       "      <td>60000000</td>\n",
       "      <td>2007-07-01</td>\n",
       "    </tr>\n",
       "    <tr>\n",
       "      <th>2</th>\n",
       "      <td>8</td>\n",
       "      <td>24</td>\n",
       "      <td>132</td>\n",
       "      <td>cash</td>\n",
       "      <td>280000000</td>\n",
       "      <td>2007-05-01</td>\n",
       "    </tr>\n",
       "    <tr>\n",
       "      <th>3</th>\n",
       "      <td>9</td>\n",
       "      <td>59</td>\n",
       "      <td>155</td>\n",
       "      <td>cash</td>\n",
       "      <td>100000000</td>\n",
       "      <td>2007-06-01</td>\n",
       "    </tr>\n",
       "    <tr>\n",
       "      <th>4</th>\n",
       "      <td>10</td>\n",
       "      <td>212</td>\n",
       "      <td>215</td>\n",
       "      <td>cash</td>\n",
       "      <td>25000000</td>\n",
       "      <td>2007-07-01</td>\n",
       "    </tr>\n",
       "  </tbody>\n",
       "</table>\n",
       "</div>"
      ],
      "text/plain": [
       "   id  acquiring_company_id  acquired_company_id term_code  price_amount  \\\n",
       "0   1                    11                   10       NaN      20000000   \n",
       "1   7                    59                   72      cash      60000000   \n",
       "2   8                    24                  132      cash     280000000   \n",
       "3   9                    59                  155      cash     100000000   \n",
       "4  10                   212                  215      cash      25000000   \n",
       "\n",
       "  acquired_at  \n",
       "0  2007-05-30  \n",
       "1  2007-07-01  \n",
       "2  2007-05-01  \n",
       "3  2007-06-01  \n",
       "4  2007-07-01  "
      ]
     },
     "metadata": {},
     "output_type": "display_data"
    },
    {
     "name": "stdout",
     "output_type": "stream",
     "text": [
      "\n",
      "Информация о типах данных и пропусках:\n",
      "<class 'pandas.core.frame.DataFrame'>\n",
      "RangeIndex: 9407 entries, 0 to 9406\n",
      "Data columns (total 6 columns):\n",
      " #   Column                Non-Null Count  Dtype \n",
      "---  ------                --------------  ----- \n",
      " 0   id                    9407 non-null   int64 \n",
      " 1   acquiring_company_id  9407 non-null   int64 \n",
      " 2   acquired_company_id   9407 non-null   int64 \n",
      " 3   term_code             1831 non-null   object\n",
      " 4   price_amount          9407 non-null   int64 \n",
      " 5   acquired_at           9378 non-null   object\n",
      "dtypes: int64(4), object(2)\n",
      "memory usage: 441.1+ KB\n",
      "\n",
      "Описательная статистика для числовых столбцов:\n"
     ]
    },
    {
     "data": {
      "text/html": [
       "<div>\n",
       "<style scoped>\n",
       "    .dataframe tbody tr th:only-of-type {\n",
       "        vertical-align: middle;\n",
       "    }\n",
       "\n",
       "    .dataframe tbody tr th {\n",
       "        vertical-align: top;\n",
       "    }\n",
       "\n",
       "    .dataframe thead th {\n",
       "        text-align: right;\n",
       "    }\n",
       "</style>\n",
       "<table border=\"1\" class=\"dataframe\">\n",
       "  <thead>\n",
       "    <tr style=\"text-align: right;\">\n",
       "      <th></th>\n",
       "      <th>id</th>\n",
       "      <th>acquiring_company_id</th>\n",
       "      <th>acquired_company_id</th>\n",
       "      <th>term_code</th>\n",
       "      <th>price_amount</th>\n",
       "      <th>acquired_at</th>\n",
       "    </tr>\n",
       "  </thead>\n",
       "  <tbody>\n",
       "    <tr>\n",
       "      <th>count</th>\n",
       "      <td>9407.000000</td>\n",
       "      <td>9407.000000</td>\n",
       "      <td>9407.000000</td>\n",
       "      <td>1831</td>\n",
       "      <td>9.407000e+03</td>\n",
       "      <td>9378</td>\n",
       "    </tr>\n",
       "    <tr>\n",
       "      <th>unique</th>\n",
       "      <td>NaN</td>\n",
       "      <td>NaN</td>\n",
       "      <td>NaN</td>\n",
       "      <td>3</td>\n",
       "      <td>NaN</td>\n",
       "      <td>2627</td>\n",
       "    </tr>\n",
       "    <tr>\n",
       "      <th>top</th>\n",
       "      <td>NaN</td>\n",
       "      <td>NaN</td>\n",
       "      <td>NaN</td>\n",
       "      <td>cash</td>\n",
       "      <td>NaN</td>\n",
       "      <td>2008-05-01</td>\n",
       "    </tr>\n",
       "    <tr>\n",
       "      <th>freq</th>\n",
       "      <td>NaN</td>\n",
       "      <td>NaN</td>\n",
       "      <td>NaN</td>\n",
       "      <td>1195</td>\n",
       "      <td>NaN</td>\n",
       "      <td>56</td>\n",
       "    </tr>\n",
       "    <tr>\n",
       "      <th>mean</th>\n",
       "      <td>5256.981822</td>\n",
       "      <td>49787.284575</td>\n",
       "      <td>71693.030722</td>\n",
       "      <td>NaN</td>\n",
       "      <td>3.932965e+08</td>\n",
       "      <td>NaN</td>\n",
       "    </tr>\n",
       "    <tr>\n",
       "      <th>std</th>\n",
       "      <td>3005.794674</td>\n",
       "      <td>69060.422026</td>\n",
       "      <td>73026.433729</td>\n",
       "      <td>NaN</td>\n",
       "      <td>2.682198e+10</td>\n",
       "      <td>NaN</td>\n",
       "    </tr>\n",
       "    <tr>\n",
       "      <th>min</th>\n",
       "      <td>1.000000</td>\n",
       "      <td>4.000000</td>\n",
       "      <td>4.000000</td>\n",
       "      <td>NaN</td>\n",
       "      <td>0.000000e+00</td>\n",
       "      <td>NaN</td>\n",
       "    </tr>\n",
       "    <tr>\n",
       "      <th>25%</th>\n",
       "      <td>2682.500000</td>\n",
       "      <td>3246.000000</td>\n",
       "      <td>23124.000000</td>\n",
       "      <td>NaN</td>\n",
       "      <td>0.000000e+00</td>\n",
       "      <td>NaN</td>\n",
       "    </tr>\n",
       "    <tr>\n",
       "      <th>50%</th>\n",
       "      <td>5178.000000</td>\n",
       "      <td>26107.000000</td>\n",
       "      <td>45126.000000</td>\n",
       "      <td>NaN</td>\n",
       "      <td>0.000000e+00</td>\n",
       "      <td>NaN</td>\n",
       "    </tr>\n",
       "    <tr>\n",
       "      <th>75%</th>\n",
       "      <td>7841.500000</td>\n",
       "      <td>56151.000000</td>\n",
       "      <td>81203.000000</td>\n",
       "      <td>NaN</td>\n",
       "      <td>2.343200e+04</td>\n",
       "      <td>NaN</td>\n",
       "    </tr>\n",
       "    <tr>\n",
       "      <th>max</th>\n",
       "      <td>10529.000000</td>\n",
       "      <td>285984.000000</td>\n",
       "      <td>286176.000000</td>\n",
       "      <td>NaN</td>\n",
       "      <td>2.600000e+12</td>\n",
       "      <td>NaN</td>\n",
       "    </tr>\n",
       "  </tbody>\n",
       "</table>\n",
       "</div>"
      ],
      "text/plain": [
       "                  id  acquiring_company_id  acquired_company_id term_code  \\\n",
       "count    9407.000000           9407.000000          9407.000000      1831   \n",
       "unique           NaN                   NaN                  NaN         3   \n",
       "top              NaN                   NaN                  NaN      cash   \n",
       "freq             NaN                   NaN                  NaN      1195   \n",
       "mean     5256.981822          49787.284575         71693.030722       NaN   \n",
       "std      3005.794674          69060.422026         73026.433729       NaN   \n",
       "min         1.000000              4.000000             4.000000       NaN   \n",
       "25%      2682.500000           3246.000000         23124.000000       NaN   \n",
       "50%      5178.000000          26107.000000         45126.000000       NaN   \n",
       "75%      7841.500000          56151.000000         81203.000000       NaN   \n",
       "max     10529.000000         285984.000000        286176.000000       NaN   \n",
       "\n",
       "        price_amount acquired_at  \n",
       "count   9.407000e+03        9378  \n",
       "unique           NaN        2627  \n",
       "top              NaN  2008-05-01  \n",
       "freq             NaN          56  \n",
       "mean    3.932965e+08         NaN  \n",
       "std     2.682198e+10         NaN  \n",
       "min     0.000000e+00         NaN  \n",
       "25%     0.000000e+00         NaN  \n",
       "50%     0.000000e+00         NaN  \n",
       "75%     2.343200e+04         NaN  \n",
       "max     2.600000e+12         NaN  "
      ]
     },
     "metadata": {},
     "output_type": "display_data"
    },
    {
     "name": "stdout",
     "output_type": "stream",
     "text": [
      "\n",
      "Количество уникальных значений в каждом столбце:\n"
     ]
    },
    {
     "data": {
      "text/plain": [
       "id                      9407\n",
       "acquiring_company_id    4793\n",
       "acquired_company_id     9264\n",
       "term_code                  3\n",
       "price_amount            1037\n",
       "acquired_at             2627\n",
       "dtype: int64"
      ]
     },
     "metadata": {},
     "output_type": "display_data"
    },
    {
     "name": "stdout",
     "output_type": "stream",
     "text": [
      "\n",
      "=== Информация о датасете Company and Rounds ===\n",
      "Количество строк: 217774\n",
      "Количество столбцов: 22\n",
      "\n",
      "Первые 5 строк:\n"
     ]
    },
    {
     "data": {
      "text/html": [
       "<div>\n",
       "<style scoped>\n",
       "    .dataframe tbody tr th:only-of-type {\n",
       "        vertical-align: middle;\n",
       "    }\n",
       "\n",
       "    .dataframe tbody tr th {\n",
       "        vertical-align: top;\n",
       "    }\n",
       "\n",
       "    .dataframe thead th {\n",
       "        text-align: right;\n",
       "    }\n",
       "</style>\n",
       "<table border=\"1\" class=\"dataframe\">\n",
       "  <thead>\n",
       "    <tr style=\"text-align: right;\">\n",
       "      <th></th>\n",
       "      <th>company  ID</th>\n",
       "      <th>name</th>\n",
       "      <th>category  code</th>\n",
       "      <th>status</th>\n",
       "      <th>founded  at</th>\n",
       "      <th>closed  at</th>\n",
       "      <th>domain</th>\n",
       "      <th>network  username</th>\n",
       "      <th>country  code</th>\n",
       "      <th>investment  rounds</th>\n",
       "      <th>...</th>\n",
       "      <th>milestones</th>\n",
       "      <th>funding  round  id</th>\n",
       "      <th>company  id</th>\n",
       "      <th>funded  at</th>\n",
       "      <th>funding  round  type</th>\n",
       "      <th>raised  amount</th>\n",
       "      <th>pre  money  valuation</th>\n",
       "      <th>participants</th>\n",
       "      <th>is  first  round</th>\n",
       "      <th>is  last  round</th>\n",
       "    </tr>\n",
       "  </thead>\n",
       "  <tbody>\n",
       "    <tr>\n",
       "      <th>0</th>\n",
       "      <td>1.0</td>\n",
       "      <td>Wetpaint</td>\n",
       "      <td>web</td>\n",
       "      <td>operating</td>\n",
       "      <td>2005-10-17</td>\n",
       "      <td>NaN</td>\n",
       "      <td>wetpaint-inc.com</td>\n",
       "      <td>BachelrWetpaint</td>\n",
       "      <td>USA</td>\n",
       "      <td>0.0</td>\n",
       "      <td>...</td>\n",
       "      <td>5.0</td>\n",
       "      <td>888.0</td>\n",
       "      <td>1.0</td>\n",
       "      <td>2005-10-01</td>\n",
       "      <td>series-a</td>\n",
       "      <td>5250000.0</td>\n",
       "      <td>0.0</td>\n",
       "      <td>2.0</td>\n",
       "      <td>0.0</td>\n",
       "      <td>1.0</td>\n",
       "    </tr>\n",
       "    <tr>\n",
       "      <th>1</th>\n",
       "      <td>1.0</td>\n",
       "      <td>Wetpaint</td>\n",
       "      <td>web</td>\n",
       "      <td>operating</td>\n",
       "      <td>2005-10-17</td>\n",
       "      <td>NaN</td>\n",
       "      <td>wetpaint-inc.com</td>\n",
       "      <td>BachelrWetpaint</td>\n",
       "      <td>USA</td>\n",
       "      <td>0.0</td>\n",
       "      <td>...</td>\n",
       "      <td>5.0</td>\n",
       "      <td>889.0</td>\n",
       "      <td>1.0</td>\n",
       "      <td>2007-01-01</td>\n",
       "      <td>series-b</td>\n",
       "      <td>9500000.0</td>\n",
       "      <td>0.0</td>\n",
       "      <td>3.0</td>\n",
       "      <td>0.0</td>\n",
       "      <td>0.0</td>\n",
       "    </tr>\n",
       "    <tr>\n",
       "      <th>2</th>\n",
       "      <td>1.0</td>\n",
       "      <td>Wetpaint</td>\n",
       "      <td>web</td>\n",
       "      <td>operating</td>\n",
       "      <td>2005-10-17</td>\n",
       "      <td>NaN</td>\n",
       "      <td>wetpaint-inc.com</td>\n",
       "      <td>BachelrWetpaint</td>\n",
       "      <td>USA</td>\n",
       "      <td>0.0</td>\n",
       "      <td>...</td>\n",
       "      <td>5.0</td>\n",
       "      <td>2312.0</td>\n",
       "      <td>1.0</td>\n",
       "      <td>2008-05-19</td>\n",
       "      <td>series-c+</td>\n",
       "      <td>25000000.0</td>\n",
       "      <td>0.0</td>\n",
       "      <td>4.0</td>\n",
       "      <td>1.0</td>\n",
       "      <td>0.0</td>\n",
       "    </tr>\n",
       "    <tr>\n",
       "      <th>3</th>\n",
       "      <td>10.0</td>\n",
       "      <td>Flektor</td>\n",
       "      <td>games_video</td>\n",
       "      <td>acquired</td>\n",
       "      <td>NaN</td>\n",
       "      <td>NaN</td>\n",
       "      <td>flektor.com</td>\n",
       "      <td>NaN</td>\n",
       "      <td>USA</td>\n",
       "      <td>0.0</td>\n",
       "      <td>...</td>\n",
       "      <td>0.0</td>\n",
       "      <td>NaN</td>\n",
       "      <td>NaN</td>\n",
       "      <td>NaN</td>\n",
       "      <td>NaN</td>\n",
       "      <td>NaN</td>\n",
       "      <td>NaN</td>\n",
       "      <td>NaN</td>\n",
       "      <td>NaN</td>\n",
       "      <td>NaN</td>\n",
       "    </tr>\n",
       "    <tr>\n",
       "      <th>4</th>\n",
       "      <td>100.0</td>\n",
       "      <td>There</td>\n",
       "      <td>games_video</td>\n",
       "      <td>acquired</td>\n",
       "      <td>NaN</td>\n",
       "      <td>NaN</td>\n",
       "      <td>there.com</td>\n",
       "      <td>NaN</td>\n",
       "      <td>USA</td>\n",
       "      <td>0.0</td>\n",
       "      <td>...</td>\n",
       "      <td>4.0</td>\n",
       "      <td>NaN</td>\n",
       "      <td>NaN</td>\n",
       "      <td>NaN</td>\n",
       "      <td>NaN</td>\n",
       "      <td>NaN</td>\n",
       "      <td>NaN</td>\n",
       "      <td>NaN</td>\n",
       "      <td>NaN</td>\n",
       "      <td>NaN</td>\n",
       "    </tr>\n",
       "  </tbody>\n",
       "</table>\n",
       "<p>5 rows × 22 columns</p>\n",
       "</div>"
      ],
      "text/plain": [
       "   company  ID      name category  code     status founded  at closed  at  \\\n",
       "0          1.0  Wetpaint            web  operating  2005-10-17        NaN   \n",
       "1          1.0  Wetpaint            web  operating  2005-10-17        NaN   \n",
       "2          1.0  Wetpaint            web  operating  2005-10-17        NaN   \n",
       "3         10.0   Flektor    games_video   acquired         NaN        NaN   \n",
       "4        100.0     There    games_video   acquired         NaN        NaN   \n",
       "\n",
       "             domain network  username country  code  investment  rounds  ...  \\\n",
       "0  wetpaint-inc.com   BachelrWetpaint           USA                 0.0  ...   \n",
       "1  wetpaint-inc.com   BachelrWetpaint           USA                 0.0  ...   \n",
       "2  wetpaint-inc.com   BachelrWetpaint           USA                 0.0  ...   \n",
       "3       flektor.com               NaN           USA                 0.0  ...   \n",
       "4         there.com               NaN           USA                 0.0  ...   \n",
       "\n",
       "   milestones  funding  round  id  company  id  funded  at  \\\n",
       "0         5.0               888.0          1.0  2005-10-01   \n",
       "1         5.0               889.0          1.0  2007-01-01   \n",
       "2         5.0              2312.0          1.0  2008-05-19   \n",
       "3         0.0                 NaN          NaN         NaN   \n",
       "4         4.0                 NaN          NaN         NaN   \n",
       "\n",
       "   funding  round  type raised  amount pre  money  valuation  participants  \\\n",
       "0              series-a      5250000.0                   0.0           2.0   \n",
       "1              series-b      9500000.0                   0.0           3.0   \n",
       "2             series-c+     25000000.0                   0.0           4.0   \n",
       "3                   NaN            NaN                   NaN           NaN   \n",
       "4                   NaN            NaN                   NaN           NaN   \n",
       "\n",
       "   is  first  round  is  last  round  \n",
       "0               0.0              1.0  \n",
       "1               0.0              0.0  \n",
       "2               1.0              0.0  \n",
       "3               NaN              NaN  \n",
       "4               NaN              NaN  \n",
       "\n",
       "[5 rows x 22 columns]"
      ]
     },
     "metadata": {},
     "output_type": "display_data"
    },
    {
     "name": "stdout",
     "output_type": "stream",
     "text": [
      "\n",
      "Информация о типах данных и пропусках:\n",
      "<class 'pandas.core.frame.DataFrame'>\n",
      "RangeIndex: 217774 entries, 0 to 217773\n",
      "Data columns (total 22 columns):\n",
      " #   Column                 Non-Null Count   Dtype  \n",
      "---  ------                 --------------   -----  \n",
      " 0   company  ID            217472 non-null  float64\n",
      " 1   name                   217472 non-null  object \n",
      " 2   category  code         143886 non-null  object \n",
      " 3   status                 217472 non-null  object \n",
      " 4   founded  at            109956 non-null  object \n",
      " 5   closed  at             3449 non-null    object \n",
      " 6   domain                 147159 non-null  object \n",
      " 7   network  username      95534 non-null   object \n",
      " 8   country  code          108607 non-null  object \n",
      " 9   investment  rounds     217472 non-null  float64\n",
      " 10  funding  rounds        217472 non-null  float64\n",
      " 11  funding  total         217472 non-null  float64\n",
      " 12  milestones             217472 non-null  float64\n",
      " 13  funding  round  id     52928 non-null   float64\n",
      " 14  company  id            52928 non-null   float64\n",
      " 15  funded  at             52680 non-null   object \n",
      " 16  funding  round  type   52928 non-null   object \n",
      " 17  raised  amount         52928 non-null   float64\n",
      " 18  pre  money  valuation  52928 non-null   float64\n",
      " 19  participants           52928 non-null   float64\n",
      " 20  is  first  round       52928 non-null   float64\n",
      " 21  is  last  round        52928 non-null   float64\n",
      "dtypes: float64(12), object(10)\n",
      "memory usage: 36.6+ MB\n",
      "\n",
      "Описательная статистика для числовых столбцов:\n"
     ]
    },
    {
     "data": {
      "text/html": [
       "<div>\n",
       "<style scoped>\n",
       "    .dataframe tbody tr th:only-of-type {\n",
       "        vertical-align: middle;\n",
       "    }\n",
       "\n",
       "    .dataframe tbody tr th {\n",
       "        vertical-align: top;\n",
       "    }\n",
       "\n",
       "    .dataframe thead th {\n",
       "        text-align: right;\n",
       "    }\n",
       "</style>\n",
       "<table border=\"1\" class=\"dataframe\">\n",
       "  <thead>\n",
       "    <tr style=\"text-align: right;\">\n",
       "      <th></th>\n",
       "      <th>company  ID</th>\n",
       "      <th>name</th>\n",
       "      <th>category  code</th>\n",
       "      <th>status</th>\n",
       "      <th>founded  at</th>\n",
       "      <th>closed  at</th>\n",
       "      <th>domain</th>\n",
       "      <th>network  username</th>\n",
       "      <th>country  code</th>\n",
       "      <th>investment  rounds</th>\n",
       "      <th>...</th>\n",
       "      <th>milestones</th>\n",
       "      <th>funding  round  id</th>\n",
       "      <th>company  id</th>\n",
       "      <th>funded  at</th>\n",
       "      <th>funding  round  type</th>\n",
       "      <th>raised  amount</th>\n",
       "      <th>pre  money  valuation</th>\n",
       "      <th>participants</th>\n",
       "      <th>is  first  round</th>\n",
       "      <th>is  last  round</th>\n",
       "    </tr>\n",
       "  </thead>\n",
       "  <tbody>\n",
       "    <tr>\n",
       "      <th>count</th>\n",
       "      <td>217472.000000</td>\n",
       "      <td>217472</td>\n",
       "      <td>143886</td>\n",
       "      <td>217472</td>\n",
       "      <td>109956</td>\n",
       "      <td>3449</td>\n",
       "      <td>147159</td>\n",
       "      <td>95534</td>\n",
       "      <td>108607</td>\n",
       "      <td>217472.000000</td>\n",
       "      <td>...</td>\n",
       "      <td>217472.000000</td>\n",
       "      <td>52928.000000</td>\n",
       "      <td>52928.000000</td>\n",
       "      <td>52680</td>\n",
       "      <td>52928</td>\n",
       "      <td>5.292800e+04</td>\n",
       "      <td>5.292800e+04</td>\n",
       "      <td>52928.000000</td>\n",
       "      <td>52928.000000</td>\n",
       "      <td>52928.000000</td>\n",
       "    </tr>\n",
       "    <tr>\n",
       "      <th>unique</th>\n",
       "      <td>NaN</td>\n",
       "      <td>196506</td>\n",
       "      <td>42</td>\n",
       "      <td>4</td>\n",
       "      <td>6156</td>\n",
       "      <td>925</td>\n",
       "      <td>125498</td>\n",
       "      <td>79571</td>\n",
       "      <td>175</td>\n",
       "      <td>NaN</td>\n",
       "      <td>...</td>\n",
       "      <td>NaN</td>\n",
       "      <td>NaN</td>\n",
       "      <td>NaN</td>\n",
       "      <td>3399</td>\n",
       "      <td>9</td>\n",
       "      <td>NaN</td>\n",
       "      <td>NaN</td>\n",
       "      <td>NaN</td>\n",
       "      <td>NaN</td>\n",
       "      <td>NaN</td>\n",
       "    </tr>\n",
       "    <tr>\n",
       "      <th>top</th>\n",
       "      <td>NaN</td>\n",
       "      <td>Tyro Payments</td>\n",
       "      <td>software</td>\n",
       "      <td>operating</td>\n",
       "      <td>2010-01-01</td>\n",
       "      <td>2013-06-01</td>\n",
       "      <td>placeshilton.com</td>\n",
       "      <td>Goodman_UK</td>\n",
       "      <td>USA</td>\n",
       "      <td>NaN</td>\n",
       "      <td>...</td>\n",
       "      <td>NaN</td>\n",
       "      <td>NaN</td>\n",
       "      <td>NaN</td>\n",
       "      <td>2008-01-01</td>\n",
       "      <td>venture</td>\n",
       "      <td>NaN</td>\n",
       "      <td>NaN</td>\n",
       "      <td>NaN</td>\n",
       "      <td>NaN</td>\n",
       "      <td>NaN</td>\n",
       "    </tr>\n",
       "    <tr>\n",
       "      <th>freq</th>\n",
       "      <td>NaN</td>\n",
       "      <td>15</td>\n",
       "      <td>20759</td>\n",
       "      <td>200486</td>\n",
       "      <td>4570</td>\n",
       "      <td>229</td>\n",
       "      <td>44</td>\n",
       "      <td>20</td>\n",
       "      <td>68089</td>\n",
       "      <td>NaN</td>\n",
       "      <td>...</td>\n",
       "      <td>NaN</td>\n",
       "      <td>NaN</td>\n",
       "      <td>NaN</td>\n",
       "      <td>462</td>\n",
       "      <td>15342</td>\n",
       "      <td>NaN</td>\n",
       "      <td>NaN</td>\n",
       "      <td>NaN</td>\n",
       "      <td>NaN</td>\n",
       "      <td>NaN</td>\n",
       "    </tr>\n",
       "    <tr>\n",
       "      <th>mean</th>\n",
       "      <td>145287.383723</td>\n",
       "      <td>NaN</td>\n",
       "      <td>NaN</td>\n",
       "      <td>NaN</td>\n",
       "      <td>NaN</td>\n",
       "      <td>NaN</td>\n",
       "      <td>NaN</td>\n",
       "      <td>NaN</td>\n",
       "      <td>NaN</td>\n",
       "      <td>0.037711</td>\n",
       "      <td>...</td>\n",
       "      <td>0.650442</td>\n",
       "      <td>28962.894536</td>\n",
       "      <td>98490.888433</td>\n",
       "      <td>NaN</td>\n",
       "      <td>NaN</td>\n",
       "      <td>7.946092e+06</td>\n",
       "      <td>3.294525e+05</td>\n",
       "      <td>1.528567</td>\n",
       "      <td>0.604576</td>\n",
       "      <td>0.604538</td>\n",
       "    </tr>\n",
       "    <tr>\n",
       "      <th>std</th>\n",
       "      <td>91998.156087</td>\n",
       "      <td>NaN</td>\n",
       "      <td>NaN</td>\n",
       "      <td>NaN</td>\n",
       "      <td>NaN</td>\n",
       "      <td>NaN</td>\n",
       "      <td>NaN</td>\n",
       "      <td>NaN</td>\n",
       "      <td>NaN</td>\n",
       "      <td>1.962712</td>\n",
       "      <td>...</td>\n",
       "      <td>0.826408</td>\n",
       "      <td>16821.871803</td>\n",
       "      <td>88429.084864</td>\n",
       "      <td>NaN</td>\n",
       "      <td>NaN</td>\n",
       "      <td>4.216821e+07</td>\n",
       "      <td>6.531803e+07</td>\n",
       "      <td>2.060192</td>\n",
       "      <td>0.488946</td>\n",
       "      <td>0.488954</td>\n",
       "    </tr>\n",
       "    <tr>\n",
       "      <th>min</th>\n",
       "      <td>1.000000</td>\n",
       "      <td>NaN</td>\n",
       "      <td>NaN</td>\n",
       "      <td>NaN</td>\n",
       "      <td>NaN</td>\n",
       "      <td>NaN</td>\n",
       "      <td>NaN</td>\n",
       "      <td>NaN</td>\n",
       "      <td>NaN</td>\n",
       "      <td>0.000000</td>\n",
       "      <td>...</td>\n",
       "      <td>0.000000</td>\n",
       "      <td>1.000000</td>\n",
       "      <td>1.000000</td>\n",
       "      <td>NaN</td>\n",
       "      <td>NaN</td>\n",
       "      <td>0.000000e+00</td>\n",
       "      <td>0.000000e+00</td>\n",
       "      <td>0.000000</td>\n",
       "      <td>0.000000</td>\n",
       "      <td>0.000000</td>\n",
       "    </tr>\n",
       "    <tr>\n",
       "      <th>25%</th>\n",
       "      <td>51960.750000</td>\n",
       "      <td>NaN</td>\n",
       "      <td>NaN</td>\n",
       "      <td>NaN</td>\n",
       "      <td>NaN</td>\n",
       "      <td>NaN</td>\n",
       "      <td>NaN</td>\n",
       "      <td>NaN</td>\n",
       "      <td>NaN</td>\n",
       "      <td>0.000000</td>\n",
       "      <td>...</td>\n",
       "      <td>0.000000</td>\n",
       "      <td>14343.750000</td>\n",
       "      <td>26598.000000</td>\n",
       "      <td>NaN</td>\n",
       "      <td>NaN</td>\n",
       "      <td>2.463300e+05</td>\n",
       "      <td>0.000000e+00</td>\n",
       "      <td>0.000000</td>\n",
       "      <td>0.000000</td>\n",
       "      <td>0.000000</td>\n",
       "    </tr>\n",
       "    <tr>\n",
       "      <th>50%</th>\n",
       "      <td>165262.500000</td>\n",
       "      <td>NaN</td>\n",
       "      <td>NaN</td>\n",
       "      <td>NaN</td>\n",
       "      <td>NaN</td>\n",
       "      <td>NaN</td>\n",
       "      <td>NaN</td>\n",
       "      <td>NaN</td>\n",
       "      <td>NaN</td>\n",
       "      <td>0.000000</td>\n",
       "      <td>...</td>\n",
       "      <td>0.000000</td>\n",
       "      <td>28885.500000</td>\n",
       "      <td>58080.000000</td>\n",
       "      <td>NaN</td>\n",
       "      <td>NaN</td>\n",
       "      <td>1.600000e+06</td>\n",
       "      <td>0.000000e+00</td>\n",
       "      <td>1.000000</td>\n",
       "      <td>1.000000</td>\n",
       "      <td>1.000000</td>\n",
       "    </tr>\n",
       "    <tr>\n",
       "      <th>75%</th>\n",
       "      <td>228199.250000</td>\n",
       "      <td>NaN</td>\n",
       "      <td>NaN</td>\n",
       "      <td>NaN</td>\n",
       "      <td>NaN</td>\n",
       "      <td>NaN</td>\n",
       "      <td>NaN</td>\n",
       "      <td>NaN</td>\n",
       "      <td>NaN</td>\n",
       "      <td>0.000000</td>\n",
       "      <td>...</td>\n",
       "      <td>1.000000</td>\n",
       "      <td>43561.250000</td>\n",
       "      <td>171610.750000</td>\n",
       "      <td>NaN</td>\n",
       "      <td>NaN</td>\n",
       "      <td>6.700000e+06</td>\n",
       "      <td>0.000000e+00</td>\n",
       "      <td>2.000000</td>\n",
       "      <td>1.000000</td>\n",
       "      <td>1.000000</td>\n",
       "    </tr>\n",
       "    <tr>\n",
       "      <th>max</th>\n",
       "      <td>286215.000000</td>\n",
       "      <td>NaN</td>\n",
       "      <td>NaN</td>\n",
       "      <td>NaN</td>\n",
       "      <td>NaN</td>\n",
       "      <td>NaN</td>\n",
       "      <td>NaN</td>\n",
       "      <td>NaN</td>\n",
       "      <td>NaN</td>\n",
       "      <td>478.000000</td>\n",
       "      <td>...</td>\n",
       "      <td>9.000000</td>\n",
       "      <td>57952.000000</td>\n",
       "      <td>286215.000000</td>\n",
       "      <td>NaN</td>\n",
       "      <td>NaN</td>\n",
       "      <td>3.835050e+09</td>\n",
       "      <td>1.500000e+10</td>\n",
       "      <td>36.000000</td>\n",
       "      <td>1.000000</td>\n",
       "      <td>1.000000</td>\n",
       "    </tr>\n",
       "  </tbody>\n",
       "</table>\n",
       "<p>11 rows × 22 columns</p>\n",
       "</div>"
      ],
      "text/plain": [
       "          company  ID           name category  code     status founded  at  \\\n",
       "count   217472.000000         217472         143886     217472      109956   \n",
       "unique            NaN         196506             42          4        6156   \n",
       "top               NaN  Tyro Payments       software  operating  2010-01-01   \n",
       "freq              NaN             15          20759     200486        4570   \n",
       "mean    145287.383723            NaN            NaN        NaN         NaN   \n",
       "std      91998.156087            NaN            NaN        NaN         NaN   \n",
       "min          1.000000            NaN            NaN        NaN         NaN   \n",
       "25%      51960.750000            NaN            NaN        NaN         NaN   \n",
       "50%     165262.500000            NaN            NaN        NaN         NaN   \n",
       "75%     228199.250000            NaN            NaN        NaN         NaN   \n",
       "max     286215.000000            NaN            NaN        NaN         NaN   \n",
       "\n",
       "        closed  at            domain network  username country  code  \\\n",
       "count         3449            147159             95534        108607   \n",
       "unique         925            125498             79571           175   \n",
       "top     2013-06-01  placeshilton.com        Goodman_UK           USA   \n",
       "freq           229                44                20         68089   \n",
       "mean           NaN               NaN               NaN           NaN   \n",
       "std            NaN               NaN               NaN           NaN   \n",
       "min            NaN               NaN               NaN           NaN   \n",
       "25%            NaN               NaN               NaN           NaN   \n",
       "50%            NaN               NaN               NaN           NaN   \n",
       "75%            NaN               NaN               NaN           NaN   \n",
       "max            NaN               NaN               NaN           NaN   \n",
       "\n",
       "        investment  rounds  ...     milestones  funding  round  id  \\\n",
       "count        217472.000000  ...  217472.000000        52928.000000   \n",
       "unique                 NaN  ...            NaN                 NaN   \n",
       "top                    NaN  ...            NaN                 NaN   \n",
       "freq                   NaN  ...            NaN                 NaN   \n",
       "mean              0.037711  ...       0.650442        28962.894536   \n",
       "std               1.962712  ...       0.826408        16821.871803   \n",
       "min               0.000000  ...       0.000000            1.000000   \n",
       "25%               0.000000  ...       0.000000        14343.750000   \n",
       "50%               0.000000  ...       0.000000        28885.500000   \n",
       "75%               0.000000  ...       1.000000        43561.250000   \n",
       "max             478.000000  ...       9.000000        57952.000000   \n",
       "\n",
       "          company  id  funded  at  funding  round  type raised  amount  \\\n",
       "count    52928.000000       52680                 52928   5.292800e+04   \n",
       "unique            NaN        3399                     9            NaN   \n",
       "top               NaN  2008-01-01               venture            NaN   \n",
       "freq              NaN         462                 15342            NaN   \n",
       "mean     98490.888433         NaN                   NaN   7.946092e+06   \n",
       "std      88429.084864         NaN                   NaN   4.216821e+07   \n",
       "min          1.000000         NaN                   NaN   0.000000e+00   \n",
       "25%      26598.000000         NaN                   NaN   2.463300e+05   \n",
       "50%      58080.000000         NaN                   NaN   1.600000e+06   \n",
       "75%     171610.750000         NaN                   NaN   6.700000e+06   \n",
       "max     286215.000000         NaN                   NaN   3.835050e+09   \n",
       "\n",
       "       pre  money  valuation  participants  is  first  round  is  last  round  \n",
       "count           5.292800e+04  52928.000000      52928.000000     52928.000000  \n",
       "unique                   NaN           NaN               NaN              NaN  \n",
       "top                      NaN           NaN               NaN              NaN  \n",
       "freq                     NaN           NaN               NaN              NaN  \n",
       "mean            3.294525e+05      1.528567          0.604576         0.604538  \n",
       "std             6.531803e+07      2.060192          0.488946         0.488954  \n",
       "min             0.000000e+00      0.000000          0.000000         0.000000  \n",
       "25%             0.000000e+00      0.000000          0.000000         0.000000  \n",
       "50%             0.000000e+00      1.000000          1.000000         1.000000  \n",
       "75%             0.000000e+00      2.000000          1.000000         1.000000  \n",
       "max             1.500000e+10     36.000000          1.000000         1.000000  \n",
       "\n",
       "[11 rows x 22 columns]"
      ]
     },
     "metadata": {},
     "output_type": "display_data"
    },
    {
     "name": "stdout",
     "output_type": "stream",
     "text": [
      "\n",
      "Количество уникальных значений в каждом столбце:\n"
     ]
    },
    {
     "data": {
      "text/plain": [
       "company  ID              196553\n",
       "name                     196506\n",
       "category  code               42\n",
       "status                        4\n",
       "founded  at                6156\n",
       "closed  at                  925\n",
       "domain                   125498\n",
       "network  username         79571\n",
       "country  code               175\n",
       "investment  rounds           42\n",
       "funding  rounds              16\n",
       "funding  total             9483\n",
       "milestones                   10\n",
       "funding  round  id        52928\n",
       "company  id               31939\n",
       "funded  at                 3399\n",
       "funding  round  type          9\n",
       "raised  amount            10266\n",
       "pre  money  valuation        27\n",
       "participants                 32\n",
       "is  first  round              2\n",
       "is  last  round               2\n",
       "dtype: int64"
      ]
     },
     "metadata": {},
     "output_type": "display_data"
    },
    {
     "name": "stdout",
     "output_type": "stream",
     "text": [
      "\n",
      "=== Информация о датасете People ===\n",
      "Количество строк: 226709\n",
      "Количество столбцов: 5\n",
      "\n",
      "Первые 5 строк:\n"
     ]
    },
    {
     "data": {
      "text/html": [
       "<div>\n",
       "<style scoped>\n",
       "    .dataframe tbody tr th:only-of-type {\n",
       "        vertical-align: middle;\n",
       "    }\n",
       "\n",
       "    .dataframe tbody tr th {\n",
       "        vertical-align: top;\n",
       "    }\n",
       "\n",
       "    .dataframe thead th {\n",
       "        text-align: right;\n",
       "    }\n",
       "</style>\n",
       "<table border=\"1\" class=\"dataframe\">\n",
       "  <thead>\n",
       "    <tr style=\"text-align: right;\">\n",
       "      <th></th>\n",
       "      <th>id</th>\n",
       "      <th>first_name</th>\n",
       "      <th>last_name</th>\n",
       "      <th>company_id</th>\n",
       "      <th>network_username</th>\n",
       "    </tr>\n",
       "  </thead>\n",
       "  <tbody>\n",
       "    <tr>\n",
       "      <th>0</th>\n",
       "      <td>10</td>\n",
       "      <td>Mark</td>\n",
       "      <td>Zuckerberg</td>\n",
       "      <td>5.0</td>\n",
       "      <td>NaN</td>\n",
       "    </tr>\n",
       "    <tr>\n",
       "      <th>1</th>\n",
       "      <td>100</td>\n",
       "      <td>Peter</td>\n",
       "      <td>Lester</td>\n",
       "      <td>27.0</td>\n",
       "      <td>NaN</td>\n",
       "    </tr>\n",
       "    <tr>\n",
       "      <th>2</th>\n",
       "      <td>1000</td>\n",
       "      <td>Dr. Steven</td>\n",
       "      <td>E. Saunders</td>\n",
       "      <td>292.0</td>\n",
       "      <td>NaN</td>\n",
       "    </tr>\n",
       "    <tr>\n",
       "      <th>3</th>\n",
       "      <td>10000</td>\n",
       "      <td>Neil</td>\n",
       "      <td>Capel</td>\n",
       "      <td>2526.0</td>\n",
       "      <td>NaN</td>\n",
       "    </tr>\n",
       "    <tr>\n",
       "      <th>4</th>\n",
       "      <td>100000</td>\n",
       "      <td>Sue</td>\n",
       "      <td>Pilsch</td>\n",
       "      <td>NaN</td>\n",
       "      <td>NaN</td>\n",
       "    </tr>\n",
       "  </tbody>\n",
       "</table>\n",
       "</div>"
      ],
      "text/plain": [
       "       id  first_name    last_name  company_id network_username\n",
       "0      10        Mark   Zuckerberg         5.0              NaN\n",
       "1     100       Peter       Lester        27.0              NaN\n",
       "2    1000  Dr. Steven  E. Saunders       292.0              NaN\n",
       "3   10000        Neil        Capel      2526.0              NaN\n",
       "4  100000         Sue       Pilsch         NaN              NaN"
      ]
     },
     "metadata": {},
     "output_type": "display_data"
    },
    {
     "name": "stdout",
     "output_type": "stream",
     "text": [
      "\n",
      "Информация о типах данных и пропусках:\n",
      "<class 'pandas.core.frame.DataFrame'>\n",
      "RangeIndex: 226709 entries, 0 to 226708\n",
      "Data columns (total 5 columns):\n",
      " #   Column            Non-Null Count   Dtype  \n",
      "---  ------            --------------   -----  \n",
      " 0   id                226709 non-null  int64  \n",
      " 1   first_name        226704 non-null  object \n",
      " 2   last_name         226708 non-null  object \n",
      " 3   company_id        34615 non-null   float64\n",
      " 4   network_username  38867 non-null   object \n",
      "dtypes: float64(1), int64(1), object(3)\n",
      "memory usage: 8.6+ MB\n",
      "\n",
      "Описательная статистика для числовых столбцов:\n"
     ]
    },
    {
     "data": {
      "text/html": [
       "<div>\n",
       "<style scoped>\n",
       "    .dataframe tbody tr th:only-of-type {\n",
       "        vertical-align: middle;\n",
       "    }\n",
       "\n",
       "    .dataframe tbody tr th {\n",
       "        vertical-align: top;\n",
       "    }\n",
       "\n",
       "    .dataframe thead th {\n",
       "        text-align: right;\n",
       "    }\n",
       "</style>\n",
       "<table border=\"1\" class=\"dataframe\">\n",
       "  <thead>\n",
       "    <tr style=\"text-align: right;\">\n",
       "      <th></th>\n",
       "      <th>id</th>\n",
       "      <th>first_name</th>\n",
       "      <th>last_name</th>\n",
       "      <th>company_id</th>\n",
       "      <th>network_username</th>\n",
       "    </tr>\n",
       "  </thead>\n",
       "  <tbody>\n",
       "    <tr>\n",
       "      <th>count</th>\n",
       "      <td>226709.000000</td>\n",
       "      <td>226704</td>\n",
       "      <td>226708</td>\n",
       "      <td>34615.000000</td>\n",
       "      <td>38867</td>\n",
       "    </tr>\n",
       "    <tr>\n",
       "      <th>unique</th>\n",
       "      <td>NaN</td>\n",
       "      <td>28422</td>\n",
       "      <td>107772</td>\n",
       "      <td>NaN</td>\n",
       "      <td>38421</td>\n",
       "    </tr>\n",
       "    <tr>\n",
       "      <th>top</th>\n",
       "      <td>NaN</td>\n",
       "      <td>David</td>\n",
       "      <td>Smith</td>\n",
       "      <td>NaN</td>\n",
       "      <td>iWatchLife</td>\n",
       "    </tr>\n",
       "    <tr>\n",
       "      <th>freq</th>\n",
       "      <td>NaN</td>\n",
       "      <td>4495</td>\n",
       "      <td>797</td>\n",
       "      <td>NaN</td>\n",
       "      <td>6</td>\n",
       "    </tr>\n",
       "    <tr>\n",
       "      <th>mean</th>\n",
       "      <td>135421.343921</td>\n",
       "      <td>NaN</td>\n",
       "      <td>NaN</td>\n",
       "      <td>83338.840012</td>\n",
       "      <td>NaN</td>\n",
       "    </tr>\n",
       "    <tr>\n",
       "      <th>std</th>\n",
       "      <td>79749.283786</td>\n",
       "      <td>NaN</td>\n",
       "      <td>NaN</td>\n",
       "      <td>84316.535268</td>\n",
       "      <td>NaN</td>\n",
       "    </tr>\n",
       "    <tr>\n",
       "      <th>min</th>\n",
       "      <td>2.000000</td>\n",
       "      <td>NaN</td>\n",
       "      <td>NaN</td>\n",
       "      <td>1.000000</td>\n",
       "      <td>NaN</td>\n",
       "    </tr>\n",
       "    <tr>\n",
       "      <th>25%</th>\n",
       "      <td>63355.000000</td>\n",
       "      <td>NaN</td>\n",
       "      <td>NaN</td>\n",
       "      <td>9771.500000</td>\n",
       "      <td>NaN</td>\n",
       "    </tr>\n",
       "    <tr>\n",
       "      <th>50%</th>\n",
       "      <td>138864.000000</td>\n",
       "      <td>NaN</td>\n",
       "      <td>NaN</td>\n",
       "      <td>51837.000000</td>\n",
       "      <td>NaN</td>\n",
       "    </tr>\n",
       "    <tr>\n",
       "      <th>75%</th>\n",
       "      <td>206548.000000</td>\n",
       "      <td>NaN</td>\n",
       "      <td>NaN</td>\n",
       "      <td>158522.000000</td>\n",
       "      <td>NaN</td>\n",
       "    </tr>\n",
       "    <tr>\n",
       "      <th>max</th>\n",
       "      <td>268593.000000</td>\n",
       "      <td>NaN</td>\n",
       "      <td>NaN</td>\n",
       "      <td>286091.000000</td>\n",
       "      <td>NaN</td>\n",
       "    </tr>\n",
       "  </tbody>\n",
       "</table>\n",
       "</div>"
      ],
      "text/plain": [
       "                   id first_name last_name     company_id network_username\n",
       "count   226709.000000     226704    226708   34615.000000            38867\n",
       "unique            NaN      28422    107772            NaN            38421\n",
       "top               NaN      David     Smith            NaN       iWatchLife\n",
       "freq              NaN       4495       797            NaN                6\n",
       "mean    135421.343921        NaN       NaN   83338.840012              NaN\n",
       "std      79749.283786        NaN       NaN   84316.535268              NaN\n",
       "min          2.000000        NaN       NaN       1.000000              NaN\n",
       "25%      63355.000000        NaN       NaN    9771.500000              NaN\n",
       "50%     138864.000000        NaN       NaN   51837.000000              NaN\n",
       "75%     206548.000000        NaN       NaN  158522.000000              NaN\n",
       "max     268593.000000        NaN       NaN  286091.000000              NaN"
      ]
     },
     "metadata": {},
     "output_type": "display_data"
    },
    {
     "name": "stdout",
     "output_type": "stream",
     "text": [
      "\n",
      "Количество уникальных значений в каждом столбце:\n"
     ]
    },
    {
     "data": {
      "text/plain": [
       "id                  226708\n",
       "first_name           28422\n",
       "last_name           107772\n",
       "company_id           22922\n",
       "network_username     38421\n",
       "dtype: int64"
      ]
     },
     "metadata": {},
     "output_type": "display_data"
    },
    {
     "name": "stdout",
     "output_type": "stream",
     "text": [
      "\n",
      "=== Информация о датасете Education ===\n",
      "Количество строк: 109610\n",
      "Количество столбцов: 4\n",
      "\n",
      "Первые 5 строк:\n"
     ]
    },
    {
     "data": {
      "text/html": [
       "<div>\n",
       "<style scoped>\n",
       "    .dataframe tbody tr th:only-of-type {\n",
       "        vertical-align: middle;\n",
       "    }\n",
       "\n",
       "    .dataframe tbody tr th {\n",
       "        vertical-align: top;\n",
       "    }\n",
       "\n",
       "    .dataframe thead th {\n",
       "        text-align: right;\n",
       "    }\n",
       "</style>\n",
       "<table border=\"1\" class=\"dataframe\">\n",
       "  <thead>\n",
       "    <tr style=\"text-align: right;\">\n",
       "      <th></th>\n",
       "      <th>id</th>\n",
       "      <th>person_id</th>\n",
       "      <th>instituition</th>\n",
       "      <th>graduated_at</th>\n",
       "    </tr>\n",
       "  </thead>\n",
       "  <tbody>\n",
       "    <tr>\n",
       "      <th>0</th>\n",
       "      <td>1</td>\n",
       "      <td>6117</td>\n",
       "      <td>NaN</td>\n",
       "      <td>NaN</td>\n",
       "    </tr>\n",
       "    <tr>\n",
       "      <th>1</th>\n",
       "      <td>2</td>\n",
       "      <td>6136</td>\n",
       "      <td>Washington University, St. Louis</td>\n",
       "      <td>1990-01-01</td>\n",
       "    </tr>\n",
       "    <tr>\n",
       "      <th>2</th>\n",
       "      <td>3</td>\n",
       "      <td>6136</td>\n",
       "      <td>Boston University</td>\n",
       "      <td>1992-01-01</td>\n",
       "    </tr>\n",
       "    <tr>\n",
       "      <th>3</th>\n",
       "      <td>4</td>\n",
       "      <td>6005</td>\n",
       "      <td>University of Greenwich</td>\n",
       "      <td>2006-01-01</td>\n",
       "    </tr>\n",
       "    <tr>\n",
       "      <th>4</th>\n",
       "      <td>5</td>\n",
       "      <td>5832</td>\n",
       "      <td>Rice University</td>\n",
       "      <td>NaN</td>\n",
       "    </tr>\n",
       "  </tbody>\n",
       "</table>\n",
       "</div>"
      ],
      "text/plain": [
       "   id  person_id                      instituition graduated_at\n",
       "0   1       6117                               NaN          NaN\n",
       "1   2       6136  Washington University, St. Louis   1990-01-01\n",
       "2   3       6136                 Boston University   1992-01-01\n",
       "3   4       6005           University of Greenwich   2006-01-01\n",
       "4   5       5832                   Rice University          NaN"
      ]
     },
     "metadata": {},
     "output_type": "display_data"
    },
    {
     "name": "stdout",
     "output_type": "stream",
     "text": [
      "\n",
      "Информация о типах данных и пропусках:\n",
      "<class 'pandas.core.frame.DataFrame'>\n",
      "RangeIndex: 109610 entries, 0 to 109609\n",
      "Data columns (total 4 columns):\n",
      " #   Column        Non-Null Count   Dtype \n",
      "---  ------        --------------   ----- \n",
      " 0   id            109610 non-null  int64 \n",
      " 1   person_id     109610 non-null  int64 \n",
      " 2   instituition  109555 non-null  object\n",
      " 3   graduated_at  58054 non-null   object\n",
      "dtypes: int64(2), object(2)\n",
      "memory usage: 3.3+ MB\n",
      "\n",
      "Описательная статистика для числовых столбцов:\n"
     ]
    },
    {
     "data": {
      "text/html": [
       "<div>\n",
       "<style scoped>\n",
       "    .dataframe tbody tr th:only-of-type {\n",
       "        vertical-align: middle;\n",
       "    }\n",
       "\n",
       "    .dataframe tbody tr th {\n",
       "        vertical-align: top;\n",
       "    }\n",
       "\n",
       "    .dataframe thead th {\n",
       "        text-align: right;\n",
       "    }\n",
       "</style>\n",
       "<table border=\"1\" class=\"dataframe\">\n",
       "  <thead>\n",
       "    <tr style=\"text-align: right;\">\n",
       "      <th></th>\n",
       "      <th>id</th>\n",
       "      <th>person_id</th>\n",
       "      <th>instituition</th>\n",
       "      <th>graduated_at</th>\n",
       "    </tr>\n",
       "  </thead>\n",
       "  <tbody>\n",
       "    <tr>\n",
       "      <th>count</th>\n",
       "      <td>109610.00000</td>\n",
       "      <td>109610.000000</td>\n",
       "      <td>109555</td>\n",
       "      <td>58054</td>\n",
       "    </tr>\n",
       "    <tr>\n",
       "      <th>unique</th>\n",
       "      <td>NaN</td>\n",
       "      <td>NaN</td>\n",
       "      <td>21067</td>\n",
       "      <td>71</td>\n",
       "    </tr>\n",
       "    <tr>\n",
       "      <th>top</th>\n",
       "      <td>NaN</td>\n",
       "      <td>NaN</td>\n",
       "      <td>Stanford University</td>\n",
       "      <td>2005-01-01</td>\n",
       "    </tr>\n",
       "    <tr>\n",
       "      <th>freq</th>\n",
       "      <td>NaN</td>\n",
       "      <td>NaN</td>\n",
       "      <td>2990</td>\n",
       "      <td>2511</td>\n",
       "    </tr>\n",
       "    <tr>\n",
       "      <th>mean</th>\n",
       "      <td>54805.50000</td>\n",
       "      <td>152625.077429</td>\n",
       "      <td>NaN</td>\n",
       "      <td>NaN</td>\n",
       "    </tr>\n",
       "    <tr>\n",
       "      <th>std</th>\n",
       "      <td>31641.82584</td>\n",
       "      <td>83943.634014</td>\n",
       "      <td>NaN</td>\n",
       "      <td>NaN</td>\n",
       "    </tr>\n",
       "    <tr>\n",
       "      <th>min</th>\n",
       "      <td>1.00000</td>\n",
       "      <td>2.000000</td>\n",
       "      <td>NaN</td>\n",
       "      <td>NaN</td>\n",
       "    </tr>\n",
       "    <tr>\n",
       "      <th>25%</th>\n",
       "      <td>27403.25000</td>\n",
       "      <td>72994.750000</td>\n",
       "      <td>NaN</td>\n",
       "      <td>NaN</td>\n",
       "    </tr>\n",
       "    <tr>\n",
       "      <th>50%</th>\n",
       "      <td>54805.50000</td>\n",
       "      <td>180628.500000</td>\n",
       "      <td>NaN</td>\n",
       "      <td>NaN</td>\n",
       "    </tr>\n",
       "    <tr>\n",
       "      <th>75%</th>\n",
       "      <td>82207.75000</td>\n",
       "      <td>227104.750000</td>\n",
       "      <td>NaN</td>\n",
       "      <td>NaN</td>\n",
       "    </tr>\n",
       "    <tr>\n",
       "      <th>max</th>\n",
       "      <td>109610.00000</td>\n",
       "      <td>268589.000000</td>\n",
       "      <td>NaN</td>\n",
       "      <td>NaN</td>\n",
       "    </tr>\n",
       "  </tbody>\n",
       "</table>\n",
       "</div>"
      ],
      "text/plain": [
       "                  id      person_id         instituition graduated_at\n",
       "count   109610.00000  109610.000000               109555        58054\n",
       "unique           NaN            NaN                21067           71\n",
       "top              NaN            NaN  Stanford University   2005-01-01\n",
       "freq             NaN            NaN                 2990         2511\n",
       "mean     54805.50000  152625.077429                  NaN          NaN\n",
       "std      31641.82584   83943.634014                  NaN          NaN\n",
       "min          1.00000       2.000000                  NaN          NaN\n",
       "25%      27403.25000   72994.750000                  NaN          NaN\n",
       "50%      54805.50000  180628.500000                  NaN          NaN\n",
       "75%      82207.75000  227104.750000                  NaN          NaN\n",
       "max     109610.00000  268589.000000                  NaN          NaN"
      ]
     },
     "metadata": {},
     "output_type": "display_data"
    },
    {
     "name": "stdout",
     "output_type": "stream",
     "text": [
      "\n",
      "Количество уникальных значений в каждом столбце:\n"
     ]
    },
    {
     "data": {
      "text/plain": [
       "id              109610\n",
       "person_id        68451\n",
       "instituition     21067\n",
       "graduated_at        71\n",
       "dtype: int64"
      ]
     },
     "metadata": {},
     "output_type": "display_data"
    },
    {
     "name": "stdout",
     "output_type": "stream",
     "text": [
      "\n",
      "=== Информация о датасете Degrees ===\n",
      "Количество строк: 109610\n",
      "Количество столбцов: 4\n",
      "\n",
      "Первые 5 строк:\n"
     ]
    },
    {
     "data": {
      "text/html": [
       "<div>\n",
       "<style scoped>\n",
       "    .dataframe tbody tr th:only-of-type {\n",
       "        vertical-align: middle;\n",
       "    }\n",
       "\n",
       "    .dataframe tbody tr th {\n",
       "        vertical-align: top;\n",
       "    }\n",
       "\n",
       "    .dataframe thead th {\n",
       "        text-align: right;\n",
       "    }\n",
       "</style>\n",
       "<table border=\"1\" class=\"dataframe\">\n",
       "  <thead>\n",
       "    <tr style=\"text-align: right;\">\n",
       "      <th></th>\n",
       "      <th>id</th>\n",
       "      <th>object_id</th>\n",
       "      <th>degree_type</th>\n",
       "      <th>subject</th>\n",
       "    </tr>\n",
       "  </thead>\n",
       "  <tbody>\n",
       "    <tr>\n",
       "      <th>0</th>\n",
       "      <td>1</td>\n",
       "      <td>p:6117</td>\n",
       "      <td>MBA</td>\n",
       "      <td>NaN</td>\n",
       "    </tr>\n",
       "    <tr>\n",
       "      <th>1</th>\n",
       "      <td>2</td>\n",
       "      <td>p:6136</td>\n",
       "      <td>BA</td>\n",
       "      <td>English, French</td>\n",
       "    </tr>\n",
       "    <tr>\n",
       "      <th>2</th>\n",
       "      <td>3</td>\n",
       "      <td>p:6136</td>\n",
       "      <td>MS</td>\n",
       "      <td>Mass Communication</td>\n",
       "    </tr>\n",
       "    <tr>\n",
       "      <th>3</th>\n",
       "      <td>4</td>\n",
       "      <td>p:6005</td>\n",
       "      <td>MS</td>\n",
       "      <td>Internet Technology</td>\n",
       "    </tr>\n",
       "    <tr>\n",
       "      <th>4</th>\n",
       "      <td>5</td>\n",
       "      <td>p:5832</td>\n",
       "      <td>BCS</td>\n",
       "      <td>Computer Science, Psychology</td>\n",
       "    </tr>\n",
       "  </tbody>\n",
       "</table>\n",
       "</div>"
      ],
      "text/plain": [
       "   id object_id degree_type                       subject\n",
       "0   1    p:6117         MBA                           NaN\n",
       "1   2    p:6136          BA               English, French\n",
       "2   3    p:6136          MS            Mass Communication\n",
       "3   4    p:6005          MS           Internet Technology\n",
       "4   5    p:5832         BCS  Computer Science, Psychology"
      ]
     },
     "metadata": {},
     "output_type": "display_data"
    },
    {
     "name": "stdout",
     "output_type": "stream",
     "text": [
      "\n",
      "Информация о типах данных и пропусках:\n",
      "<class 'pandas.core.frame.DataFrame'>\n",
      "RangeIndex: 109610 entries, 0 to 109609\n",
      "Data columns (total 4 columns):\n",
      " #   Column       Non-Null Count   Dtype \n",
      "---  ------       --------------   ----- \n",
      " 0   id           109610 non-null  int64 \n",
      " 1   object_id    109610 non-null  object\n",
      " 2   degree_type  98392 non-null   object\n",
      " 3   subject      81298 non-null   object\n",
      "dtypes: int64(1), object(3)\n",
      "memory usage: 3.3+ MB\n",
      "\n",
      "Описательная статистика для числовых столбцов:\n"
     ]
    },
    {
     "data": {
      "text/html": [
       "<div>\n",
       "<style scoped>\n",
       "    .dataframe tbody tr th:only-of-type {\n",
       "        vertical-align: middle;\n",
       "    }\n",
       "\n",
       "    .dataframe tbody tr th {\n",
       "        vertical-align: top;\n",
       "    }\n",
       "\n",
       "    .dataframe thead th {\n",
       "        text-align: right;\n",
       "    }\n",
       "</style>\n",
       "<table border=\"1\" class=\"dataframe\">\n",
       "  <thead>\n",
       "    <tr style=\"text-align: right;\">\n",
       "      <th></th>\n",
       "      <th>id</th>\n",
       "      <th>object_id</th>\n",
       "      <th>degree_type</th>\n",
       "      <th>subject</th>\n",
       "    </tr>\n",
       "  </thead>\n",
       "  <tbody>\n",
       "    <tr>\n",
       "      <th>count</th>\n",
       "      <td>109610.00000</td>\n",
       "      <td>109610</td>\n",
       "      <td>98392</td>\n",
       "      <td>81298</td>\n",
       "    </tr>\n",
       "    <tr>\n",
       "      <th>unique</th>\n",
       "      <td>NaN</td>\n",
       "      <td>68451</td>\n",
       "      <td>7148</td>\n",
       "      <td>20050</td>\n",
       "    </tr>\n",
       "    <tr>\n",
       "      <th>top</th>\n",
       "      <td>NaN</td>\n",
       "      <td>p:183805</td>\n",
       "      <td>BS</td>\n",
       "      <td>Computer Science</td>\n",
       "    </tr>\n",
       "    <tr>\n",
       "      <th>freq</th>\n",
       "      <td>NaN</td>\n",
       "      <td>10</td>\n",
       "      <td>23425</td>\n",
       "      <td>6001</td>\n",
       "    </tr>\n",
       "    <tr>\n",
       "      <th>mean</th>\n",
       "      <td>54805.50000</td>\n",
       "      <td>NaN</td>\n",
       "      <td>NaN</td>\n",
       "      <td>NaN</td>\n",
       "    </tr>\n",
       "    <tr>\n",
       "      <th>std</th>\n",
       "      <td>31641.82584</td>\n",
       "      <td>NaN</td>\n",
       "      <td>NaN</td>\n",
       "      <td>NaN</td>\n",
       "    </tr>\n",
       "    <tr>\n",
       "      <th>min</th>\n",
       "      <td>1.00000</td>\n",
       "      <td>NaN</td>\n",
       "      <td>NaN</td>\n",
       "      <td>NaN</td>\n",
       "    </tr>\n",
       "    <tr>\n",
       "      <th>25%</th>\n",
       "      <td>27403.25000</td>\n",
       "      <td>NaN</td>\n",
       "      <td>NaN</td>\n",
       "      <td>NaN</td>\n",
       "    </tr>\n",
       "    <tr>\n",
       "      <th>50%</th>\n",
       "      <td>54805.50000</td>\n",
       "      <td>NaN</td>\n",
       "      <td>NaN</td>\n",
       "      <td>NaN</td>\n",
       "    </tr>\n",
       "    <tr>\n",
       "      <th>75%</th>\n",
       "      <td>82207.75000</td>\n",
       "      <td>NaN</td>\n",
       "      <td>NaN</td>\n",
       "      <td>NaN</td>\n",
       "    </tr>\n",
       "    <tr>\n",
       "      <th>max</th>\n",
       "      <td>109610.00000</td>\n",
       "      <td>NaN</td>\n",
       "      <td>NaN</td>\n",
       "      <td>NaN</td>\n",
       "    </tr>\n",
       "  </tbody>\n",
       "</table>\n",
       "</div>"
      ],
      "text/plain": [
       "                  id object_id degree_type           subject\n",
       "count   109610.00000    109610       98392             81298\n",
       "unique           NaN     68451        7148             20050\n",
       "top              NaN  p:183805          BS  Computer Science\n",
       "freq             NaN        10       23425              6001\n",
       "mean     54805.50000       NaN         NaN               NaN\n",
       "std      31641.82584       NaN         NaN               NaN\n",
       "min          1.00000       NaN         NaN               NaN\n",
       "25%      27403.25000       NaN         NaN               NaN\n",
       "50%      54805.50000       NaN         NaN               NaN\n",
       "75%      82207.75000       NaN         NaN               NaN\n",
       "max     109610.00000       NaN         NaN               NaN"
      ]
     },
     "metadata": {},
     "output_type": "display_data"
    },
    {
     "name": "stdout",
     "output_type": "stream",
     "text": [
      "\n",
      "Количество уникальных значений в каждом столбце:\n"
     ]
    },
    {
     "data": {
      "text/plain": [
       "id             109610\n",
       "object_id       68451\n",
       "degree_type      7148\n",
       "subject         20050\n",
       "dtype: int64"
      ]
     },
     "metadata": {},
     "output_type": "display_data"
    },
    {
     "name": "stdout",
     "output_type": "stream",
     "text": [
      "\n",
      "=== Информация о датасете Fund ===\n",
      "Количество строк: 11652\n",
      "Количество столбцов: 9\n",
      "\n",
      "Первые 5 строк:\n"
     ]
    },
    {
     "data": {
      "text/html": [
       "<div>\n",
       "<style scoped>\n",
       "    .dataframe tbody tr th:only-of-type {\n",
       "        vertical-align: middle;\n",
       "    }\n",
       "\n",
       "    .dataframe tbody tr th {\n",
       "        vertical-align: top;\n",
       "    }\n",
       "\n",
       "    .dataframe thead th {\n",
       "        text-align: right;\n",
       "    }\n",
       "</style>\n",
       "<table border=\"1\" class=\"dataframe\">\n",
       "  <thead>\n",
       "    <tr style=\"text-align: right;\">\n",
       "      <th></th>\n",
       "      <th>id</th>\n",
       "      <th>name</th>\n",
       "      <th>founded_at</th>\n",
       "      <th>domain</th>\n",
       "      <th>network_username</th>\n",
       "      <th>country_code</th>\n",
       "      <th>investment_rounds</th>\n",
       "      <th>invested_companies</th>\n",
       "      <th>milestones</th>\n",
       "    </tr>\n",
       "  </thead>\n",
       "  <tbody>\n",
       "    <tr>\n",
       "      <th>0</th>\n",
       "      <td>13131</td>\n",
       "      <td>NaN</td>\n",
       "      <td>NaN</td>\n",
       "      <td>NaN</td>\n",
       "      <td>NaN</td>\n",
       "      <td>NaN</td>\n",
       "      <td>0</td>\n",
       "      <td>0</td>\n",
       "      <td>0</td>\n",
       "    </tr>\n",
       "    <tr>\n",
       "      <th>1</th>\n",
       "      <td>1</td>\n",
       "      <td>Greylock Partners</td>\n",
       "      <td>1965-01-01</td>\n",
       "      <td>greylock.com</td>\n",
       "      <td>greylockvc</td>\n",
       "      <td>USA</td>\n",
       "      <td>307</td>\n",
       "      <td>196</td>\n",
       "      <td>0</td>\n",
       "    </tr>\n",
       "    <tr>\n",
       "      <th>2</th>\n",
       "      <td>10</td>\n",
       "      <td>Mission Ventures</td>\n",
       "      <td>1996-01-01</td>\n",
       "      <td>missionventures.com</td>\n",
       "      <td>NaN</td>\n",
       "      <td>USA</td>\n",
       "      <td>58</td>\n",
       "      <td>33</td>\n",
       "      <td>0</td>\n",
       "    </tr>\n",
       "    <tr>\n",
       "      <th>3</th>\n",
       "      <td>100</td>\n",
       "      <td>Kapor Enterprises, Inc.</td>\n",
       "      <td>NaN</td>\n",
       "      <td>kei.com</td>\n",
       "      <td>NaN</td>\n",
       "      <td>USA</td>\n",
       "      <td>2</td>\n",
       "      <td>1</td>\n",
       "      <td>0</td>\n",
       "    </tr>\n",
       "    <tr>\n",
       "      <th>4</th>\n",
       "      <td>1000</td>\n",
       "      <td>Speed Ventures</td>\n",
       "      <td>NaN</td>\n",
       "      <td>NaN</td>\n",
       "      <td>NaN</td>\n",
       "      <td>NaN</td>\n",
       "      <td>0</td>\n",
       "      <td>0</td>\n",
       "      <td>1</td>\n",
       "    </tr>\n",
       "  </tbody>\n",
       "</table>\n",
       "</div>"
      ],
      "text/plain": [
       "      id                     name  founded_at               domain  \\\n",
       "0  13131                      NaN         NaN                  NaN   \n",
       "1      1        Greylock Partners  1965-01-01         greylock.com   \n",
       "2     10         Mission Ventures  1996-01-01  missionventures.com   \n",
       "3    100  Kapor Enterprises, Inc.         NaN              kei.com   \n",
       "4   1000           Speed Ventures         NaN                  NaN   \n",
       "\n",
       "  network_username country_code  investment_rounds  invested_companies  \\\n",
       "0              NaN          NaN                  0                   0   \n",
       "1       greylockvc          USA                307                 196   \n",
       "2              NaN          USA                 58                  33   \n",
       "3              NaN          USA                  2                   1   \n",
       "4              NaN          NaN                  0                   0   \n",
       "\n",
       "   milestones  \n",
       "0           0  \n",
       "1           0  \n",
       "2           0  \n",
       "3           0  \n",
       "4           1  "
      ]
     },
     "metadata": {},
     "output_type": "display_data"
    },
    {
     "name": "stdout",
     "output_type": "stream",
     "text": [
      "\n",
      "Информация о типах данных и пропусках:\n",
      "<class 'pandas.core.frame.DataFrame'>\n",
      "RangeIndex: 11652 entries, 0 to 11651\n",
      "Data columns (total 9 columns):\n",
      " #   Column              Non-Null Count  Dtype \n",
      "---  ------              --------------  ----- \n",
      " 0   id                  11652 non-null  int64 \n",
      " 1   name                11650 non-null  object\n",
      " 2   founded_at          4605 non-null   object\n",
      " 3   domain              7362 non-null   object\n",
      " 4   network_username    2149 non-null   object\n",
      " 5   country_code        7053 non-null   object\n",
      " 6   investment_rounds   11652 non-null  int64 \n",
      " 7   invested_companies  11652 non-null  int64 \n",
      " 8   milestones          11652 non-null  int64 \n",
      "dtypes: int64(4), object(5)\n",
      "memory usage: 819.4+ KB\n",
      "\n",
      "Описательная статистика для числовых столбцов:\n"
     ]
    },
    {
     "data": {
      "text/html": [
       "<div>\n",
       "<style scoped>\n",
       "    .dataframe tbody tr th:only-of-type {\n",
       "        vertical-align: middle;\n",
       "    }\n",
       "\n",
       "    .dataframe tbody tr th {\n",
       "        vertical-align: top;\n",
       "    }\n",
       "\n",
       "    .dataframe thead th {\n",
       "        text-align: right;\n",
       "    }\n",
       "</style>\n",
       "<table border=\"1\" class=\"dataframe\">\n",
       "  <thead>\n",
       "    <tr style=\"text-align: right;\">\n",
       "      <th></th>\n",
       "      <th>id</th>\n",
       "      <th>name</th>\n",
       "      <th>founded_at</th>\n",
       "      <th>domain</th>\n",
       "      <th>network_username</th>\n",
       "      <th>country_code</th>\n",
       "      <th>investment_rounds</th>\n",
       "      <th>invested_companies</th>\n",
       "      <th>milestones</th>\n",
       "    </tr>\n",
       "  </thead>\n",
       "  <tbody>\n",
       "    <tr>\n",
       "      <th>count</th>\n",
       "      <td>11652.000000</td>\n",
       "      <td>11650</td>\n",
       "      <td>4605</td>\n",
       "      <td>7362</td>\n",
       "      <td>2149</td>\n",
       "      <td>7053</td>\n",
       "      <td>11652.000000</td>\n",
       "      <td>11652.000000</td>\n",
       "      <td>11652.000000</td>\n",
       "    </tr>\n",
       "    <tr>\n",
       "      <th>unique</th>\n",
       "      <td>NaN</td>\n",
       "      <td>11648</td>\n",
       "      <td>615</td>\n",
       "      <td>7231</td>\n",
       "      <td>2098</td>\n",
       "      <td>96</td>\n",
       "      <td>NaN</td>\n",
       "      <td>NaN</td>\n",
       "      <td>NaN</td>\n",
       "    </tr>\n",
       "    <tr>\n",
       "      <th>top</th>\n",
       "      <td>NaN</td>\n",
       "      <td>Busy Angels</td>\n",
       "      <td>2000-01-01</td>\n",
       "      <td>morganstanley.com</td>\n",
       "      <td>GrowthWorks</td>\n",
       "      <td>USA</td>\n",
       "      <td>NaN</td>\n",
       "      <td>NaN</td>\n",
       "      <td>NaN</td>\n",
       "    </tr>\n",
       "    <tr>\n",
       "      <th>freq</th>\n",
       "      <td>NaN</td>\n",
       "      <td>2</td>\n",
       "      <td>201</td>\n",
       "      <td>5</td>\n",
       "      <td>4</td>\n",
       "      <td>3947</td>\n",
       "      <td>NaN</td>\n",
       "      <td>NaN</td>\n",
       "      <td>NaN</td>\n",
       "    </tr>\n",
       "    <tr>\n",
       "      <th>mean</th>\n",
       "      <td>7513.346035</td>\n",
       "      <td>NaN</td>\n",
       "      <td>NaN</td>\n",
       "      <td>NaN</td>\n",
       "      <td>NaN</td>\n",
       "      <td>NaN</td>\n",
       "      <td>5.250515</td>\n",
       "      <td>3.932715</td>\n",
       "      <td>0.210179</td>\n",
       "    </tr>\n",
       "    <tr>\n",
       "      <th>std</th>\n",
       "      <td>4445.404028</td>\n",
       "      <td>NaN</td>\n",
       "      <td>NaN</td>\n",
       "      <td>NaN</td>\n",
       "      <td>NaN</td>\n",
       "      <td>NaN</td>\n",
       "      <td>21.292164</td>\n",
       "      <td>14.255757</td>\n",
       "      <td>0.708609</td>\n",
       "    </tr>\n",
       "    <tr>\n",
       "      <th>min</th>\n",
       "      <td>1.000000</td>\n",
       "      <td>NaN</td>\n",
       "      <td>NaN</td>\n",
       "      <td>NaN</td>\n",
       "      <td>NaN</td>\n",
       "      <td>NaN</td>\n",
       "      <td>0.000000</td>\n",
       "      <td>0.000000</td>\n",
       "      <td>0.000000</td>\n",
       "    </tr>\n",
       "    <tr>\n",
       "      <th>25%</th>\n",
       "      <td>3638.750000</td>\n",
       "      <td>NaN</td>\n",
       "      <td>NaN</td>\n",
       "      <td>NaN</td>\n",
       "      <td>NaN</td>\n",
       "      <td>NaN</td>\n",
       "      <td>0.000000</td>\n",
       "      <td>0.000000</td>\n",
       "      <td>0.000000</td>\n",
       "    </tr>\n",
       "    <tr>\n",
       "      <th>50%</th>\n",
       "      <td>7243.000000</td>\n",
       "      <td>NaN</td>\n",
       "      <td>NaN</td>\n",
       "      <td>NaN</td>\n",
       "      <td>NaN</td>\n",
       "      <td>NaN</td>\n",
       "      <td>1.000000</td>\n",
       "      <td>1.000000</td>\n",
       "      <td>0.000000</td>\n",
       "    </tr>\n",
       "    <tr>\n",
       "      <th>75%</th>\n",
       "      <td>11505.250000</td>\n",
       "      <td>NaN</td>\n",
       "      <td>NaN</td>\n",
       "      <td>NaN</td>\n",
       "      <td>NaN</td>\n",
       "      <td>NaN</td>\n",
       "      <td>3.000000</td>\n",
       "      <td>2.000000</td>\n",
       "      <td>0.000000</td>\n",
       "    </tr>\n",
       "    <tr>\n",
       "      <th>max</th>\n",
       "      <td>15098.000000</td>\n",
       "      <td>NaN</td>\n",
       "      <td>NaN</td>\n",
       "      <td>NaN</td>\n",
       "      <td>NaN</td>\n",
       "      <td>NaN</td>\n",
       "      <td>529.000000</td>\n",
       "      <td>441.000000</td>\n",
       "      <td>7.000000</td>\n",
       "    </tr>\n",
       "  </tbody>\n",
       "</table>\n",
       "</div>"
      ],
      "text/plain": [
       "                  id         name  founded_at             domain  \\\n",
       "count   11652.000000        11650        4605               7362   \n",
       "unique           NaN        11648         615               7231   \n",
       "top              NaN  Busy Angels  2000-01-01  morganstanley.com   \n",
       "freq             NaN            2         201                  5   \n",
       "mean     7513.346035          NaN         NaN                NaN   \n",
       "std      4445.404028          NaN         NaN                NaN   \n",
       "min         1.000000          NaN         NaN                NaN   \n",
       "25%      3638.750000          NaN         NaN                NaN   \n",
       "50%      7243.000000          NaN         NaN                NaN   \n",
       "75%     11505.250000          NaN         NaN                NaN   \n",
       "max     15098.000000          NaN         NaN                NaN   \n",
       "\n",
       "       network_username country_code  investment_rounds  invested_companies  \\\n",
       "count              2149         7053       11652.000000        11652.000000   \n",
       "unique             2098           96                NaN                 NaN   \n",
       "top         GrowthWorks          USA                NaN                 NaN   \n",
       "freq                  4         3947                NaN                 NaN   \n",
       "mean                NaN          NaN           5.250515            3.932715   \n",
       "std                 NaN          NaN          21.292164           14.255757   \n",
       "min                 NaN          NaN           0.000000            0.000000   \n",
       "25%                 NaN          NaN           0.000000            0.000000   \n",
       "50%                 NaN          NaN           1.000000            1.000000   \n",
       "75%                 NaN          NaN           3.000000            2.000000   \n",
       "max                 NaN          NaN         529.000000          441.000000   \n",
       "\n",
       "          milestones  \n",
       "count   11652.000000  \n",
       "unique           NaN  \n",
       "top              NaN  \n",
       "freq             NaN  \n",
       "mean        0.210179  \n",
       "std         0.708609  \n",
       "min         0.000000  \n",
       "25%         0.000000  \n",
       "50%         0.000000  \n",
       "75%         0.000000  \n",
       "max         7.000000  "
      ]
     },
     "metadata": {},
     "output_type": "display_data"
    },
    {
     "name": "stdout",
     "output_type": "stream",
     "text": [
      "\n",
      "Количество уникальных значений в каждом столбце:\n"
     ]
    },
    {
     "data": {
      "text/plain": [
       "id                    11652\n",
       "name                  11648\n",
       "founded_at              615\n",
       "domain                 7231\n",
       "network_username       2098\n",
       "country_code             96\n",
       "investment_rounds       164\n",
       "invested_companies      125\n",
       "milestones                8\n",
       "dtype: int64"
      ]
     },
     "metadata": {},
     "output_type": "display_data"
    },
    {
     "name": "stdout",
     "output_type": "stream",
     "text": [
      "\n",
      "=== Информация о датасете Investment ===\n",
      "Количество строк: 61403\n",
      "Количество столбцов: 4\n",
      "\n",
      "Первые 5 строк:\n"
     ]
    },
    {
     "data": {
      "text/html": [
       "<div>\n",
       "<style scoped>\n",
       "    .dataframe tbody tr th:only-of-type {\n",
       "        vertical-align: middle;\n",
       "    }\n",
       "\n",
       "    .dataframe tbody tr th {\n",
       "        vertical-align: top;\n",
       "    }\n",
       "\n",
       "    .dataframe thead th {\n",
       "        text-align: right;\n",
       "    }\n",
       "</style>\n",
       "<table border=\"1\" class=\"dataframe\">\n",
       "  <thead>\n",
       "    <tr style=\"text-align: right;\">\n",
       "      <th></th>\n",
       "      <th>id</th>\n",
       "      <th>funding_round_id</th>\n",
       "      <th>company_id</th>\n",
       "      <th>fund_id</th>\n",
       "    </tr>\n",
       "  </thead>\n",
       "  <tbody>\n",
       "    <tr>\n",
       "      <th>0</th>\n",
       "      <td>1</td>\n",
       "      <td>1</td>\n",
       "      <td>4</td>\n",
       "      <td>1</td>\n",
       "    </tr>\n",
       "    <tr>\n",
       "      <th>1</th>\n",
       "      <td>2</td>\n",
       "      <td>1</td>\n",
       "      <td>4</td>\n",
       "      <td>2</td>\n",
       "    </tr>\n",
       "    <tr>\n",
       "      <th>2</th>\n",
       "      <td>3</td>\n",
       "      <td>3</td>\n",
       "      <td>5</td>\n",
       "      <td>4</td>\n",
       "    </tr>\n",
       "    <tr>\n",
       "      <th>3</th>\n",
       "      <td>4</td>\n",
       "      <td>4</td>\n",
       "      <td>5</td>\n",
       "      <td>1</td>\n",
       "    </tr>\n",
       "    <tr>\n",
       "      <th>4</th>\n",
       "      <td>5</td>\n",
       "      <td>4</td>\n",
       "      <td>5</td>\n",
       "      <td>5</td>\n",
       "    </tr>\n",
       "  </tbody>\n",
       "</table>\n",
       "</div>"
      ],
      "text/plain": [
       "   id  funding_round_id  company_id  fund_id\n",
       "0   1                 1           4        1\n",
       "1   2                 1           4        2\n",
       "2   3                 3           5        4\n",
       "3   4                 4           5        1\n",
       "4   5                 4           5        5"
      ]
     },
     "metadata": {},
     "output_type": "display_data"
    },
    {
     "name": "stdout",
     "output_type": "stream",
     "text": [
      "\n",
      "Информация о типах данных и пропусках:\n",
      "<class 'pandas.core.frame.DataFrame'>\n",
      "RangeIndex: 61403 entries, 0 to 61402\n",
      "Data columns (total 4 columns):\n",
      " #   Column            Non-Null Count  Dtype\n",
      "---  ------            --------------  -----\n",
      " 0   id                61403 non-null  int64\n",
      " 1   funding_round_id  61403 non-null  int64\n",
      " 2   company_id        61403 non-null  int64\n",
      " 3   fund_id           61403 non-null  int64\n",
      "dtypes: int64(4)\n",
      "memory usage: 1.9 MB\n",
      "\n",
      "Описательная статистика для числовых столбцов:\n"
     ]
    },
    {
     "data": {
      "text/html": [
       "<div>\n",
       "<style scoped>\n",
       "    .dataframe tbody tr th:only-of-type {\n",
       "        vertical-align: middle;\n",
       "    }\n",
       "\n",
       "    .dataframe tbody tr th {\n",
       "        vertical-align: top;\n",
       "    }\n",
       "\n",
       "    .dataframe thead th {\n",
       "        text-align: right;\n",
       "    }\n",
       "</style>\n",
       "<table border=\"1\" class=\"dataframe\">\n",
       "  <thead>\n",
       "    <tr style=\"text-align: right;\">\n",
       "      <th></th>\n",
       "      <th>id</th>\n",
       "      <th>funding_round_id</th>\n",
       "      <th>company_id</th>\n",
       "      <th>fund_id</th>\n",
       "    </tr>\n",
       "  </thead>\n",
       "  <tbody>\n",
       "    <tr>\n",
       "      <th>count</th>\n",
       "      <td>61403.000000</td>\n",
       "      <td>61403.000000</td>\n",
       "      <td>61403.000000</td>\n",
       "      <td>61403.000000</td>\n",
       "    </tr>\n",
       "    <tr>\n",
       "      <th>mean</th>\n",
       "      <td>30702.000000</td>\n",
       "      <td>22687.272006</td>\n",
       "      <td>64626.998925</td>\n",
       "      <td>2620.820872</td>\n",
       "    </tr>\n",
       "    <tr>\n",
       "      <th>std</th>\n",
       "      <td>17725.663627</td>\n",
       "      <td>14895.634423</td>\n",
       "      <td>68795.693962</td>\n",
       "      <td>3169.131407</td>\n",
       "    </tr>\n",
       "    <tr>\n",
       "      <th>min</th>\n",
       "      <td>1.000000</td>\n",
       "      <td>1.000000</td>\n",
       "      <td>1.000000</td>\n",
       "      <td>1.000000</td>\n",
       "    </tr>\n",
       "    <tr>\n",
       "      <th>25%</th>\n",
       "      <td>15351.500000</td>\n",
       "      <td>10364.500000</td>\n",
       "      <td>18161.500000</td>\n",
       "      <td>262.000000</td>\n",
       "    </tr>\n",
       "    <tr>\n",
       "      <th>50%</th>\n",
       "      <td>30702.000000</td>\n",
       "      <td>19844.000000</td>\n",
       "      <td>39715.000000</td>\n",
       "      <td>1312.000000</td>\n",
       "    </tr>\n",
       "    <tr>\n",
       "      <th>75%</th>\n",
       "      <td>46052.500000</td>\n",
       "      <td>33325.500000</td>\n",
       "      <td>74961.000000</td>\n",
       "      <td>3769.000000</td>\n",
       "    </tr>\n",
       "    <tr>\n",
       "      <th>max</th>\n",
       "      <td>61403.000000</td>\n",
       "      <td>57948.000000</td>\n",
       "      <td>286178.000000</td>\n",
       "      <td>15098.000000</td>\n",
       "    </tr>\n",
       "  </tbody>\n",
       "</table>\n",
       "</div>"
      ],
      "text/plain": [
       "                 id  funding_round_id     company_id       fund_id\n",
       "count  61403.000000      61403.000000   61403.000000  61403.000000\n",
       "mean   30702.000000      22687.272006   64626.998925   2620.820872\n",
       "std    17725.663627      14895.634423   68795.693962   3169.131407\n",
       "min        1.000000          1.000000       1.000000      1.000000\n",
       "25%    15351.500000      10364.500000   18161.500000    262.000000\n",
       "50%    30702.000000      19844.000000   39715.000000   1312.000000\n",
       "75%    46052.500000      33325.500000   74961.000000   3769.000000\n",
       "max    61403.000000      57948.000000  286178.000000  15098.000000"
      ]
     },
     "metadata": {},
     "output_type": "display_data"
    },
    {
     "name": "stdout",
     "output_type": "stream",
     "text": [
      "\n",
      "Количество уникальных значений в каждом столбце:\n"
     ]
    },
    {
     "data": {
      "text/plain": [
       "id                  61403\n",
       "funding_round_id    27679\n",
       "company_id          17991\n",
       "fund_id              7671\n",
       "dtype: int64"
      ]
     },
     "metadata": {},
     "output_type": "display_data"
    }
   ],
   "source": [
    "def print_dataset_info(df, name):\n",
    "    \"\"\"Выводит основную информацию о датасете.\n",
    "    \n",
    "    Args:\n",
    "        df (DataFrame): Датафрейм для анализа\n",
    "        name (str): Название датасета\n",
    "    \"\"\"\n",
    "    print(f\"\\n=== Информация о датасете {name} ===\")\n",
    "    print(f\"Количество строк: {df.shape[0]}\")\n",
    "    print(f\"Количество столбцов: {df.shape[1]}\")\n",
    "    print(\"\\nПервые 5 строк:\")\n",
    "    display(df.head())\n",
    "    print(\"\\nИнформация о типах данных и пропусках:\")\n",
    "    df.info()\n",
    "    print(\"\\nОписательная статистика для числовых столбцов:\")\n",
    "    display(df.describe(include='all'))\n",
    "    print(\"\\nКоличество уникальных значений в каждом столбце:\")\n",
    "    display(df.nunique())\n",
    "\n",
    "# Вывод информации о всех датасетах\n",
    "datasets = {\n",
    "    'Acquisition': df_acquisition,\n",
    "    'Company and Rounds': df_company_and_rounds,\n",
    "    'People': df_people,\n",
    "    'Education': df_education,\n",
    "    'Degrees': df_degrees,\n",
    "    'Fund': df_fund,\n",
    "    'Investment': df_investment\n",
    "}\n",
    "\n",
    "for name, df in datasets.items():\n",
    "    print_dataset_info(df, name)"
   ]
  },
  {
   "cell_type": "code",
   "execution_count": 5,
   "metadata": {
    "id": "oNqJ2qpRFebv"
   },
   "outputs": [
    {
     "data": {
      "text/html": [
       "<div>\n",
       "<style scoped>\n",
       "    .dataframe tbody tr th:only-of-type {\n",
       "        vertical-align: middle;\n",
       "    }\n",
       "\n",
       "    .dataframe tbody tr th {\n",
       "        vertical-align: top;\n",
       "    }\n",
       "\n",
       "    .dataframe thead th {\n",
       "        text-align: right;\n",
       "    }\n",
       "</style>\n",
       "<table border=\"1\" class=\"dataframe\">\n",
       "  <thead>\n",
       "    <tr style=\"text-align: right;\">\n",
       "      <th></th>\n",
       "      <th>company_ID</th>\n",
       "      <th>name</th>\n",
       "      <th>category_code</th>\n",
       "      <th>status</th>\n",
       "      <th>founded_at</th>\n",
       "      <th>closed_at</th>\n",
       "      <th>domain</th>\n",
       "      <th>network_username</th>\n",
       "      <th>country_code</th>\n",
       "      <th>investment_rounds</th>\n",
       "      <th>...</th>\n",
       "      <th>milestones</th>\n",
       "      <th>funding_round_id</th>\n",
       "      <th>company_id</th>\n",
       "      <th>funded_at</th>\n",
       "      <th>funding_round_type</th>\n",
       "      <th>raised_amount</th>\n",
       "      <th>pre_money_valuation</th>\n",
       "      <th>participants</th>\n",
       "      <th>is_first_round</th>\n",
       "      <th>is_last_round</th>\n",
       "    </tr>\n",
       "  </thead>\n",
       "  <tbody>\n",
       "    <tr>\n",
       "      <th>0</th>\n",
       "      <td>1.0</td>\n",
       "      <td>Wetpaint</td>\n",
       "      <td>web</td>\n",
       "      <td>operating</td>\n",
       "      <td>2005-10-17</td>\n",
       "      <td>NaN</td>\n",
       "      <td>wetpaint-inc.com</td>\n",
       "      <td>BachelrWetpaint</td>\n",
       "      <td>USA</td>\n",
       "      <td>0.0</td>\n",
       "      <td>...</td>\n",
       "      <td>5.0</td>\n",
       "      <td>888.0</td>\n",
       "      <td>1.0</td>\n",
       "      <td>2005-10-01</td>\n",
       "      <td>series-a</td>\n",
       "      <td>5250000.0</td>\n",
       "      <td>0.0</td>\n",
       "      <td>2.0</td>\n",
       "      <td>0.0</td>\n",
       "      <td>1.0</td>\n",
       "    </tr>\n",
       "    <tr>\n",
       "      <th>1</th>\n",
       "      <td>1.0</td>\n",
       "      <td>Wetpaint</td>\n",
       "      <td>web</td>\n",
       "      <td>operating</td>\n",
       "      <td>2005-10-17</td>\n",
       "      <td>NaN</td>\n",
       "      <td>wetpaint-inc.com</td>\n",
       "      <td>BachelrWetpaint</td>\n",
       "      <td>USA</td>\n",
       "      <td>0.0</td>\n",
       "      <td>...</td>\n",
       "      <td>5.0</td>\n",
       "      <td>889.0</td>\n",
       "      <td>1.0</td>\n",
       "      <td>2007-01-01</td>\n",
       "      <td>series-b</td>\n",
       "      <td>9500000.0</td>\n",
       "      <td>0.0</td>\n",
       "      <td>3.0</td>\n",
       "      <td>0.0</td>\n",
       "      <td>0.0</td>\n",
       "    </tr>\n",
       "    <tr>\n",
       "      <th>2</th>\n",
       "      <td>1.0</td>\n",
       "      <td>Wetpaint</td>\n",
       "      <td>web</td>\n",
       "      <td>operating</td>\n",
       "      <td>2005-10-17</td>\n",
       "      <td>NaN</td>\n",
       "      <td>wetpaint-inc.com</td>\n",
       "      <td>BachelrWetpaint</td>\n",
       "      <td>USA</td>\n",
       "      <td>0.0</td>\n",
       "      <td>...</td>\n",
       "      <td>5.0</td>\n",
       "      <td>2312.0</td>\n",
       "      <td>1.0</td>\n",
       "      <td>2008-05-19</td>\n",
       "      <td>series-c+</td>\n",
       "      <td>25000000.0</td>\n",
       "      <td>0.0</td>\n",
       "      <td>4.0</td>\n",
       "      <td>1.0</td>\n",
       "      <td>0.0</td>\n",
       "    </tr>\n",
       "    <tr>\n",
       "      <th>3</th>\n",
       "      <td>10.0</td>\n",
       "      <td>Flektor</td>\n",
       "      <td>games_video</td>\n",
       "      <td>acquired</td>\n",
       "      <td>NaN</td>\n",
       "      <td>NaN</td>\n",
       "      <td>flektor.com</td>\n",
       "      <td>NaN</td>\n",
       "      <td>USA</td>\n",
       "      <td>0.0</td>\n",
       "      <td>...</td>\n",
       "      <td>0.0</td>\n",
       "      <td>NaN</td>\n",
       "      <td>NaN</td>\n",
       "      <td>NaN</td>\n",
       "      <td>NaN</td>\n",
       "      <td>NaN</td>\n",
       "      <td>NaN</td>\n",
       "      <td>NaN</td>\n",
       "      <td>NaN</td>\n",
       "      <td>NaN</td>\n",
       "    </tr>\n",
       "    <tr>\n",
       "      <th>4</th>\n",
       "      <td>100.0</td>\n",
       "      <td>There</td>\n",
       "      <td>games_video</td>\n",
       "      <td>acquired</td>\n",
       "      <td>NaN</td>\n",
       "      <td>NaN</td>\n",
       "      <td>there.com</td>\n",
       "      <td>NaN</td>\n",
       "      <td>USA</td>\n",
       "      <td>0.0</td>\n",
       "      <td>...</td>\n",
       "      <td>4.0</td>\n",
       "      <td>NaN</td>\n",
       "      <td>NaN</td>\n",
       "      <td>NaN</td>\n",
       "      <td>NaN</td>\n",
       "      <td>NaN</td>\n",
       "      <td>NaN</td>\n",
       "      <td>NaN</td>\n",
       "      <td>NaN</td>\n",
       "      <td>NaN</td>\n",
       "    </tr>\n",
       "    <tr>\n",
       "      <th>...</th>\n",
       "      <td>...</td>\n",
       "      <td>...</td>\n",
       "      <td>...</td>\n",
       "      <td>...</td>\n",
       "      <td>...</td>\n",
       "      <td>...</td>\n",
       "      <td>...</td>\n",
       "      <td>...</td>\n",
       "      <td>...</td>\n",
       "      <td>...</td>\n",
       "      <td>...</td>\n",
       "      <td>...</td>\n",
       "      <td>...</td>\n",
       "      <td>...</td>\n",
       "      <td>...</td>\n",
       "      <td>...</td>\n",
       "      <td>...</td>\n",
       "      <td>...</td>\n",
       "      <td>...</td>\n",
       "      <td>...</td>\n",
       "      <td>...</td>\n",
       "    </tr>\n",
       "    <tr>\n",
       "      <th>217769</th>\n",
       "      <td>NaN</td>\n",
       "      <td>NaN</td>\n",
       "      <td>NaN</td>\n",
       "      <td>NaN</td>\n",
       "      <td>NaN</td>\n",
       "      <td>NaN</td>\n",
       "      <td>NaN</td>\n",
       "      <td>NaN</td>\n",
       "      <td>NaN</td>\n",
       "      <td>NaN</td>\n",
       "      <td>...</td>\n",
       "      <td>NaN</td>\n",
       "      <td>56454.0</td>\n",
       "      <td>282847.0</td>\n",
       "      <td>2011-01-31</td>\n",
       "      <td>other</td>\n",
       "      <td>5500000.0</td>\n",
       "      <td>0.0</td>\n",
       "      <td>0.0</td>\n",
       "      <td>1.0</td>\n",
       "      <td>1.0</td>\n",
       "    </tr>\n",
       "    <tr>\n",
       "      <th>217770</th>\n",
       "      <td>NaN</td>\n",
       "      <td>NaN</td>\n",
       "      <td>NaN</td>\n",
       "      <td>NaN</td>\n",
       "      <td>NaN</td>\n",
       "      <td>NaN</td>\n",
       "      <td>NaN</td>\n",
       "      <td>NaN</td>\n",
       "      <td>NaN</td>\n",
       "      <td>NaN</td>\n",
       "      <td>...</td>\n",
       "      <td>NaN</td>\n",
       "      <td>56542.0</td>\n",
       "      <td>55477.0</td>\n",
       "      <td>2011-01-13</td>\n",
       "      <td>venture</td>\n",
       "      <td>10633300.0</td>\n",
       "      <td>0.0</td>\n",
       "      <td>0.0</td>\n",
       "      <td>0.0</td>\n",
       "      <td>1.0</td>\n",
       "    </tr>\n",
       "    <tr>\n",
       "      <th>217771</th>\n",
       "      <td>NaN</td>\n",
       "      <td>NaN</td>\n",
       "      <td>NaN</td>\n",
       "      <td>NaN</td>\n",
       "      <td>NaN</td>\n",
       "      <td>NaN</td>\n",
       "      <td>NaN</td>\n",
       "      <td>NaN</td>\n",
       "      <td>NaN</td>\n",
       "      <td>NaN</td>\n",
       "      <td>...</td>\n",
       "      <td>NaN</td>\n",
       "      <td>56543.0</td>\n",
       "      <td>55477.0</td>\n",
       "      <td>2012-05-31</td>\n",
       "      <td>venture</td>\n",
       "      <td>2125720.0</td>\n",
       "      <td>0.0</td>\n",
       "      <td>0.0</td>\n",
       "      <td>1.0</td>\n",
       "      <td>0.0</td>\n",
       "    </tr>\n",
       "    <tr>\n",
       "      <th>217772</th>\n",
       "      <td>NaN</td>\n",
       "      <td>NaN</td>\n",
       "      <td>NaN</td>\n",
       "      <td>NaN</td>\n",
       "      <td>NaN</td>\n",
       "      <td>NaN</td>\n",
       "      <td>NaN</td>\n",
       "      <td>NaN</td>\n",
       "      <td>NaN</td>\n",
       "      <td>NaN</td>\n",
       "      <td>...</td>\n",
       "      <td>NaN</td>\n",
       "      <td>56928.0</td>\n",
       "      <td>283492.0</td>\n",
       "      <td>2013-12-03</td>\n",
       "      <td>venture</td>\n",
       "      <td>3602480.0</td>\n",
       "      <td>0.0</td>\n",
       "      <td>5.0</td>\n",
       "      <td>1.0</td>\n",
       "      <td>1.0</td>\n",
       "    </tr>\n",
       "    <tr>\n",
       "      <th>217773</th>\n",
       "      <td>NaN</td>\n",
       "      <td>NaN</td>\n",
       "      <td>NaN</td>\n",
       "      <td>NaN</td>\n",
       "      <td>NaN</td>\n",
       "      <td>NaN</td>\n",
       "      <td>NaN</td>\n",
       "      <td>NaN</td>\n",
       "      <td>NaN</td>\n",
       "      <td>NaN</td>\n",
       "      <td>...</td>\n",
       "      <td>NaN</td>\n",
       "      <td>57063.0</td>\n",
       "      <td>284191.0</td>\n",
       "      <td>2013-12-04</td>\n",
       "      <td>venture</td>\n",
       "      <td>7000000.0</td>\n",
       "      <td>0.0</td>\n",
       "      <td>4.0</td>\n",
       "      <td>1.0</td>\n",
       "      <td>1.0</td>\n",
       "    </tr>\n",
       "  </tbody>\n",
       "</table>\n",
       "<p>217774 rows × 22 columns</p>\n",
       "</div>"
      ],
      "text/plain": [
       "        company_ID      name category_code     status  founded_at closed_at  \\\n",
       "0              1.0  Wetpaint           web  operating  2005-10-17       NaN   \n",
       "1              1.0  Wetpaint           web  operating  2005-10-17       NaN   \n",
       "2              1.0  Wetpaint           web  operating  2005-10-17       NaN   \n",
       "3             10.0   Flektor   games_video   acquired         NaN       NaN   \n",
       "4            100.0     There   games_video   acquired         NaN       NaN   \n",
       "...            ...       ...           ...        ...         ...       ...   \n",
       "217769         NaN       NaN           NaN        NaN         NaN       NaN   \n",
       "217770         NaN       NaN           NaN        NaN         NaN       NaN   \n",
       "217771         NaN       NaN           NaN        NaN         NaN       NaN   \n",
       "217772         NaN       NaN           NaN        NaN         NaN       NaN   \n",
       "217773         NaN       NaN           NaN        NaN         NaN       NaN   \n",
       "\n",
       "                  domain network_username country_code  investment_rounds  \\\n",
       "0       wetpaint-inc.com  BachelrWetpaint          USA                0.0   \n",
       "1       wetpaint-inc.com  BachelrWetpaint          USA                0.0   \n",
       "2       wetpaint-inc.com  BachelrWetpaint          USA                0.0   \n",
       "3            flektor.com              NaN          USA                0.0   \n",
       "4              there.com              NaN          USA                0.0   \n",
       "...                  ...              ...          ...                ...   \n",
       "217769               NaN              NaN          NaN                NaN   \n",
       "217770               NaN              NaN          NaN                NaN   \n",
       "217771               NaN              NaN          NaN                NaN   \n",
       "217772               NaN              NaN          NaN                NaN   \n",
       "217773               NaN              NaN          NaN                NaN   \n",
       "\n",
       "        ...  milestones  funding_round_id  company_id   funded_at  \\\n",
       "0       ...         5.0             888.0         1.0  2005-10-01   \n",
       "1       ...         5.0             889.0         1.0  2007-01-01   \n",
       "2       ...         5.0            2312.0         1.0  2008-05-19   \n",
       "3       ...         0.0               NaN         NaN         NaN   \n",
       "4       ...         4.0               NaN         NaN         NaN   \n",
       "...     ...         ...               ...         ...         ...   \n",
       "217769  ...         NaN           56454.0    282847.0  2011-01-31   \n",
       "217770  ...         NaN           56542.0     55477.0  2011-01-13   \n",
       "217771  ...         NaN           56543.0     55477.0  2012-05-31   \n",
       "217772  ...         NaN           56928.0    283492.0  2013-12-03   \n",
       "217773  ...         NaN           57063.0    284191.0  2013-12-04   \n",
       "\n",
       "        funding_round_type raised_amount pre_money_valuation  participants  \\\n",
       "0                 series-a     5250000.0                 0.0           2.0   \n",
       "1                 series-b     9500000.0                 0.0           3.0   \n",
       "2                series-c+    25000000.0                 0.0           4.0   \n",
       "3                      NaN           NaN                 NaN           NaN   \n",
       "4                      NaN           NaN                 NaN           NaN   \n",
       "...                    ...           ...                 ...           ...   \n",
       "217769               other     5500000.0                 0.0           0.0   \n",
       "217770             venture    10633300.0                 0.0           0.0   \n",
       "217771             venture     2125720.0                 0.0           0.0   \n",
       "217772             venture     3602480.0                 0.0           5.0   \n",
       "217773             venture     7000000.0                 0.0           4.0   \n",
       "\n",
       "        is_first_round  is_last_round  \n",
       "0                  0.0            1.0  \n",
       "1                  0.0            0.0  \n",
       "2                  1.0            0.0  \n",
       "3                  NaN            NaN  \n",
       "4                  NaN            NaN  \n",
       "...                ...            ...  \n",
       "217769             1.0            1.0  \n",
       "217770             0.0            1.0  \n",
       "217771             1.0            0.0  \n",
       "217772             1.0            1.0  \n",
       "217773             1.0            1.0  \n",
       "\n",
       "[217774 rows x 22 columns]"
      ]
     },
     "metadata": {},
     "output_type": "display_data"
    }
   ],
   "source": [
    "# Исправление названий столбцов для единообразия\n",
    "def standardize_column_names(df):\n",
    "    df.columns = df.columns.str.replace('  ', '_')\n",
    "    return df\n",
    "\n",
    "df_company_and_rounds = standardize_column_names(df_company_and_rounds)\n",
    "\n",
    "display(df_company_and_rounds )"
   ]
  },
  {
   "cell_type": "code",
   "execution_count": null,
   "metadata": {},
   "outputs": [],
   "source": []
  },
  {
   "cell_type": "markdown",
   "metadata": {
    "id": "mg2gEwh0rJg0"
   },
   "source": [
    "### 1.2. Смена типов и анализ пропусков\n",
    "\n",
    "- Обработайте типы данных в столбцах, которые хранят значения даты и времени, если это необходимо.\n",
    "- Оцените полноту данных — сделайте предварительный вывод, достаточно ли данных для решения задач проекта."
   ]
  },
  {
   "cell_type": "code",
   "execution_count": 6,
   "metadata": {},
   "outputs": [],
   "source": [
    "# Преобразование дат в acquisition.csv\n",
    "df_acquisition['acquired_at'] = pd.to_datetime(df_acquisition['acquired_at'])\n",
    "\n",
    "# Преобразование дат в company_and_rounds.csv\n",
    "date_cols = ['founded_at', 'closed_at', 'funded_at']\n",
    "for col in date_cols:\n",
    "    df_company_and_rounds[col] = pd.to_datetime(df_company_and_rounds[col])\n",
    "\n",
    "# Преобразование дат в education.csv\n",
    "df_education['graduated_at'] = pd.to_datetime(df_education['graduated_at'])\n",
    "\n",
    "# Преобразование дат в fund.csv\n",
    "df_fund['founded_at'] = pd.to_datetime(df_fund['founded_at'])\n",
    "\n",
    "# Оптимизация типов данных\n",
    "def optimize_dtypes(df):\n",
    "    \"\"\"Оптимизирует типы данных в датафрейме для уменьшения использования памяти.\n",
    "    \n",
    "    Args:\n",
    "        df (DataFrame): Датафрейм для оптимизации\n",
    "        \n",
    "    Returns:\n",
    "        DataFrame: Оптимизированный датафрейм\n",
    "    \"\"\"\n",
    "    for col in df.columns:\n",
    "        if df[col].dtype == 'float64':\n",
    "            # Преобразование float64 в float32, если возможно\n",
    "            df[col] = pd.to_numeric(df[col], downcast='float')\n",
    "        elif df[col].dtype == 'int64':\n",
    "            # Преобразование int64 в int32 или int8, если возможно\n",
    "            df[col] = pd.to_numeric(df[col], downcast='integer')\n",
    "        elif df[col].dtype == 'object':\n",
    "            # Для object-столбцов с небольшим числом уникальных значений преобразуем в category\n",
    "            if len(df[col].unique()) / len(df[col]) < 0.5:\n",
    "                df[col] = df[col].astype('category')\n",
    "    return df\n",
    "\n",
    "# Применяем оптимизацию ко всем датасетам\n",
    "for df in datasets.values():\n",
    "    optimize_dtypes(df)"
   ]
  },
  {
   "cell_type": "code",
   "execution_count": 7,
   "metadata": {
    "id": "46VskrGyFeJ-"
   },
   "outputs": [
    {
     "name": "stdout",
     "output_type": "stream",
     "text": [
      "Анализ пропусков в датасете Acquisition\n",
      "Всего строк: 9407\n",
      "Статистика пропусков по столбцам:\n"
     ]
    },
    {
     "data": {
      "text/html": [
       "<div>\n",
       "<style scoped>\n",
       "    .dataframe tbody tr th:only-of-type {\n",
       "        vertical-align: middle;\n",
       "    }\n",
       "\n",
       "    .dataframe tbody tr th {\n",
       "        vertical-align: top;\n",
       "    }\n",
       "\n",
       "    .dataframe thead th {\n",
       "        text-align: right;\n",
       "    }\n",
       "</style>\n",
       "<table border=\"1\" class=\"dataframe\">\n",
       "  <thead>\n",
       "    <tr style=\"text-align: right;\">\n",
       "      <th></th>\n",
       "      <th>Количество пропусков</th>\n",
       "      <th>Доля пропусков (%)</th>\n",
       "    </tr>\n",
       "  </thead>\n",
       "  <tbody>\n",
       "    <tr>\n",
       "      <th>term_code</th>\n",
       "      <td>7576</td>\n",
       "      <td>80.54</td>\n",
       "    </tr>\n",
       "    <tr>\n",
       "      <th>acquired_at</th>\n",
       "      <td>29</td>\n",
       "      <td>0.31</td>\n",
       "    </tr>\n",
       "  </tbody>\n",
       "</table>\n",
       "</div>"
      ],
      "text/plain": [
       "             Количество пропусков  Доля пропусков (%)\n",
       "term_code                    7576               80.54\n",
       "acquired_at                    29                0.31"
      ]
     },
     "metadata": {},
     "output_type": "display_data"
    },
    {
     "name": "stdout",
     "output_type": "stream",
     "text": [
      "Анализ пропусков в датасете Company and Rounds\n",
      "Всего строк: 217774\n",
      "Статистика пропусков по столбцам:\n"
     ]
    },
    {
     "data": {
      "text/html": [
       "<div>\n",
       "<style scoped>\n",
       "    .dataframe tbody tr th:only-of-type {\n",
       "        vertical-align: middle;\n",
       "    }\n",
       "\n",
       "    .dataframe tbody tr th {\n",
       "        vertical-align: top;\n",
       "    }\n",
       "\n",
       "    .dataframe thead th {\n",
       "        text-align: right;\n",
       "    }\n",
       "</style>\n",
       "<table border=\"1\" class=\"dataframe\">\n",
       "  <thead>\n",
       "    <tr style=\"text-align: right;\">\n",
       "      <th></th>\n",
       "      <th>Количество пропусков</th>\n",
       "      <th>Доля пропусков (%)</th>\n",
       "    </tr>\n",
       "  </thead>\n",
       "  <tbody>\n",
       "    <tr>\n",
       "      <th>closed_at</th>\n",
       "      <td>214325</td>\n",
       "      <td>98.42</td>\n",
       "    </tr>\n",
       "    <tr>\n",
       "      <th>funded_at</th>\n",
       "      <td>165094</td>\n",
       "      <td>75.81</td>\n",
       "    </tr>\n",
       "    <tr>\n",
       "      <th>is_last_round</th>\n",
       "      <td>164846</td>\n",
       "      <td>75.70</td>\n",
       "    </tr>\n",
       "    <tr>\n",
       "      <th>is_first_round</th>\n",
       "      <td>164846</td>\n",
       "      <td>75.70</td>\n",
       "    </tr>\n",
       "    <tr>\n",
       "      <th>participants</th>\n",
       "      <td>164846</td>\n",
       "      <td>75.70</td>\n",
       "    </tr>\n",
       "    <tr>\n",
       "      <th>pre_money_valuation</th>\n",
       "      <td>164846</td>\n",
       "      <td>75.70</td>\n",
       "    </tr>\n",
       "    <tr>\n",
       "      <th>raised_amount</th>\n",
       "      <td>164846</td>\n",
       "      <td>75.70</td>\n",
       "    </tr>\n",
       "    <tr>\n",
       "      <th>funding_round_type</th>\n",
       "      <td>164846</td>\n",
       "      <td>75.70</td>\n",
       "    </tr>\n",
       "    <tr>\n",
       "      <th>funding_round_id</th>\n",
       "      <td>164846</td>\n",
       "      <td>75.70</td>\n",
       "    </tr>\n",
       "    <tr>\n",
       "      <th>company_id</th>\n",
       "      <td>164846</td>\n",
       "      <td>75.70</td>\n",
       "    </tr>\n",
       "    <tr>\n",
       "      <th>network_username</th>\n",
       "      <td>122240</td>\n",
       "      <td>56.13</td>\n",
       "    </tr>\n",
       "    <tr>\n",
       "      <th>country_code</th>\n",
       "      <td>109167</td>\n",
       "      <td>50.13</td>\n",
       "    </tr>\n",
       "    <tr>\n",
       "      <th>founded_at</th>\n",
       "      <td>107818</td>\n",
       "      <td>49.51</td>\n",
       "    </tr>\n",
       "    <tr>\n",
       "      <th>category_code</th>\n",
       "      <td>73888</td>\n",
       "      <td>33.93</td>\n",
       "    </tr>\n",
       "    <tr>\n",
       "      <th>domain</th>\n",
       "      <td>70615</td>\n",
       "      <td>32.43</td>\n",
       "    </tr>\n",
       "    <tr>\n",
       "      <th>company_ID</th>\n",
       "      <td>302</td>\n",
       "      <td>0.14</td>\n",
       "    </tr>\n",
       "    <tr>\n",
       "      <th>milestones</th>\n",
       "      <td>302</td>\n",
       "      <td>0.14</td>\n",
       "    </tr>\n",
       "    <tr>\n",
       "      <th>name</th>\n",
       "      <td>302</td>\n",
       "      <td>0.14</td>\n",
       "    </tr>\n",
       "    <tr>\n",
       "      <th>funding_rounds</th>\n",
       "      <td>302</td>\n",
       "      <td>0.14</td>\n",
       "    </tr>\n",
       "    <tr>\n",
       "      <th>investment_rounds</th>\n",
       "      <td>302</td>\n",
       "      <td>0.14</td>\n",
       "    </tr>\n",
       "    <tr>\n",
       "      <th>status</th>\n",
       "      <td>302</td>\n",
       "      <td>0.14</td>\n",
       "    </tr>\n",
       "    <tr>\n",
       "      <th>funding_total</th>\n",
       "      <td>302</td>\n",
       "      <td>0.14</td>\n",
       "    </tr>\n",
       "  </tbody>\n",
       "</table>\n",
       "</div>"
      ],
      "text/plain": [
       "                     Количество пропусков  Доля пропусков (%)\n",
       "closed_at                          214325               98.42\n",
       "funded_at                          165094               75.81\n",
       "is_last_round                      164846               75.70\n",
       "is_first_round                     164846               75.70\n",
       "participants                       164846               75.70\n",
       "pre_money_valuation                164846               75.70\n",
       "raised_amount                      164846               75.70\n",
       "funding_round_type                 164846               75.70\n",
       "funding_round_id                   164846               75.70\n",
       "company_id                         164846               75.70\n",
       "network_username                   122240               56.13\n",
       "country_code                       109167               50.13\n",
       "founded_at                         107818               49.51\n",
       "category_code                       73888               33.93\n",
       "domain                              70615               32.43\n",
       "company_ID                            302                0.14\n",
       "milestones                            302                0.14\n",
       "name                                  302                0.14\n",
       "funding_rounds                        302                0.14\n",
       "investment_rounds                     302                0.14\n",
       "status                                302                0.14\n",
       "funding_total                         302                0.14"
      ]
     },
     "metadata": {},
     "output_type": "display_data"
    },
    {
     "name": "stdout",
     "output_type": "stream",
     "text": [
      "Анализ пропусков в датасете People\n",
      "Всего строк: 226709\n",
      "Статистика пропусков по столбцам:\n"
     ]
    },
    {
     "data": {
      "text/html": [
       "<div>\n",
       "<style scoped>\n",
       "    .dataframe tbody tr th:only-of-type {\n",
       "        vertical-align: middle;\n",
       "    }\n",
       "\n",
       "    .dataframe tbody tr th {\n",
       "        vertical-align: top;\n",
       "    }\n",
       "\n",
       "    .dataframe thead th {\n",
       "        text-align: right;\n",
       "    }\n",
       "</style>\n",
       "<table border=\"1\" class=\"dataframe\">\n",
       "  <thead>\n",
       "    <tr style=\"text-align: right;\">\n",
       "      <th></th>\n",
       "      <th>Количество пропусков</th>\n",
       "      <th>Доля пропусков (%)</th>\n",
       "    </tr>\n",
       "  </thead>\n",
       "  <tbody>\n",
       "    <tr>\n",
       "      <th>company_id</th>\n",
       "      <td>192094</td>\n",
       "      <td>84.73</td>\n",
       "    </tr>\n",
       "    <tr>\n",
       "      <th>network_username</th>\n",
       "      <td>187842</td>\n",
       "      <td>82.86</td>\n",
       "    </tr>\n",
       "    <tr>\n",
       "      <th>first_name</th>\n",
       "      <td>5</td>\n",
       "      <td>0.00</td>\n",
       "    </tr>\n",
       "    <tr>\n",
       "      <th>last_name</th>\n",
       "      <td>1</td>\n",
       "      <td>0.00</td>\n",
       "    </tr>\n",
       "  </tbody>\n",
       "</table>\n",
       "</div>"
      ],
      "text/plain": [
       "                  Количество пропусков  Доля пропусков (%)\n",
       "company_id                      192094               84.73\n",
       "network_username                187842               82.86\n",
       "first_name                           5                0.00\n",
       "last_name                            1                0.00"
      ]
     },
     "metadata": {},
     "output_type": "display_data"
    },
    {
     "name": "stdout",
     "output_type": "stream",
     "text": [
      "Анализ пропусков в датасете Education\n",
      "Всего строк: 109610\n",
      "Статистика пропусков по столбцам:\n"
     ]
    },
    {
     "data": {
      "text/html": [
       "<div>\n",
       "<style scoped>\n",
       "    .dataframe tbody tr th:only-of-type {\n",
       "        vertical-align: middle;\n",
       "    }\n",
       "\n",
       "    .dataframe tbody tr th {\n",
       "        vertical-align: top;\n",
       "    }\n",
       "\n",
       "    .dataframe thead th {\n",
       "        text-align: right;\n",
       "    }\n",
       "</style>\n",
       "<table border=\"1\" class=\"dataframe\">\n",
       "  <thead>\n",
       "    <tr style=\"text-align: right;\">\n",
       "      <th></th>\n",
       "      <th>Количество пропусков</th>\n",
       "      <th>Доля пропусков (%)</th>\n",
       "    </tr>\n",
       "  </thead>\n",
       "  <tbody>\n",
       "    <tr>\n",
       "      <th>graduated_at</th>\n",
       "      <td>51556</td>\n",
       "      <td>47.04</td>\n",
       "    </tr>\n",
       "    <tr>\n",
       "      <th>instituition</th>\n",
       "      <td>55</td>\n",
       "      <td>0.05</td>\n",
       "    </tr>\n",
       "  </tbody>\n",
       "</table>\n",
       "</div>"
      ],
      "text/plain": [
       "              Количество пропусков  Доля пропусков (%)\n",
       "graduated_at                 51556               47.04\n",
       "instituition                    55                0.05"
      ]
     },
     "metadata": {},
     "output_type": "display_data"
    },
    {
     "name": "stdout",
     "output_type": "stream",
     "text": [
      "Анализ пропусков в датасете Degrees\n",
      "Всего строк: 109610\n",
      "Статистика пропусков по столбцам:\n"
     ]
    },
    {
     "data": {
      "text/html": [
       "<div>\n",
       "<style scoped>\n",
       "    .dataframe tbody tr th:only-of-type {\n",
       "        vertical-align: middle;\n",
       "    }\n",
       "\n",
       "    .dataframe tbody tr th {\n",
       "        vertical-align: top;\n",
       "    }\n",
       "\n",
       "    .dataframe thead th {\n",
       "        text-align: right;\n",
       "    }\n",
       "</style>\n",
       "<table border=\"1\" class=\"dataframe\">\n",
       "  <thead>\n",
       "    <tr style=\"text-align: right;\">\n",
       "      <th></th>\n",
       "      <th>Количество пропусков</th>\n",
       "      <th>Доля пропусков (%)</th>\n",
       "    </tr>\n",
       "  </thead>\n",
       "  <tbody>\n",
       "    <tr>\n",
       "      <th>subject</th>\n",
       "      <td>28312</td>\n",
       "      <td>25.83</td>\n",
       "    </tr>\n",
       "    <tr>\n",
       "      <th>degree_type</th>\n",
       "      <td>11218</td>\n",
       "      <td>10.23</td>\n",
       "    </tr>\n",
       "  </tbody>\n",
       "</table>\n",
       "</div>"
      ],
      "text/plain": [
       "             Количество пропусков  Доля пропусков (%)\n",
       "subject                     28312               25.83\n",
       "degree_type                 11218               10.23"
      ]
     },
     "metadata": {},
     "output_type": "display_data"
    },
    {
     "name": "stdout",
     "output_type": "stream",
     "text": [
      "Анализ пропусков в датасете Fund\n",
      "Всего строк: 11652\n",
      "Статистика пропусков по столбцам:\n"
     ]
    },
    {
     "data": {
      "text/html": [
       "<div>\n",
       "<style scoped>\n",
       "    .dataframe tbody tr th:only-of-type {\n",
       "        vertical-align: middle;\n",
       "    }\n",
       "\n",
       "    .dataframe tbody tr th {\n",
       "        vertical-align: top;\n",
       "    }\n",
       "\n",
       "    .dataframe thead th {\n",
       "        text-align: right;\n",
       "    }\n",
       "</style>\n",
       "<table border=\"1\" class=\"dataframe\">\n",
       "  <thead>\n",
       "    <tr style=\"text-align: right;\">\n",
       "      <th></th>\n",
       "      <th>Количество пропусков</th>\n",
       "      <th>Доля пропусков (%)</th>\n",
       "    </tr>\n",
       "  </thead>\n",
       "  <tbody>\n",
       "    <tr>\n",
       "      <th>network_username</th>\n",
       "      <td>9503</td>\n",
       "      <td>81.56</td>\n",
       "    </tr>\n",
       "    <tr>\n",
       "      <th>founded_at</th>\n",
       "      <td>7047</td>\n",
       "      <td>60.48</td>\n",
       "    </tr>\n",
       "    <tr>\n",
       "      <th>country_code</th>\n",
       "      <td>4599</td>\n",
       "      <td>39.47</td>\n",
       "    </tr>\n",
       "    <tr>\n",
       "      <th>domain</th>\n",
       "      <td>4290</td>\n",
       "      <td>36.82</td>\n",
       "    </tr>\n",
       "    <tr>\n",
       "      <th>name</th>\n",
       "      <td>2</td>\n",
       "      <td>0.02</td>\n",
       "    </tr>\n",
       "  </tbody>\n",
       "</table>\n",
       "</div>"
      ],
      "text/plain": [
       "                  Количество пропусков  Доля пропусков (%)\n",
       "network_username                  9503               81.56\n",
       "founded_at                        7047               60.48\n",
       "country_code                      4599               39.47\n",
       "domain                            4290               36.82\n",
       "name                                 2                0.02"
      ]
     },
     "metadata": {},
     "output_type": "display_data"
    },
    {
     "name": "stdout",
     "output_type": "stream",
     "text": [
      "Анализ пропусков в датасете Investment\n",
      "Всего строк: 61403\n",
      "Пропуски отсутствуют\n"
     ]
    }
   ],
   "source": [
    "def analyze_missing_data(df, name):\n",
    "    print(f\"Анализ пропусков в датасете {name}\")\n",
    "    print(f\"Всего строк: {df.shape[0]}\")\n",
    "    \n",
    "    # Создаем DataFrame с статистикой пропусков\n",
    "    missing_stats = pd.DataFrame({\n",
    "        'Количество пропусков': df.isnull().sum(),\n",
    "        'Доля пропусков (%)': (df.isnull().mean() * 100).round(2)\n",
    "    }).sort_values('Доля пропусков (%)', ascending=False)\n",
    "    \n",
    "    # Отображаем только столбцы с пропусками\n",
    "    missing_stats = missing_stats[missing_stats['Количество пропусков'] > 0]\n",
    "    \n",
    "    if len(missing_stats) > 0:\n",
    "        print(\"Статистика пропусков по столбцам:\")\n",
    "        display(missing_stats)\n",
    "    else:\n",
    "        print(\"Пропуски отсутствуют\")\n",
    "\n",
    "# Применяем функцию ко всем датасетам\n",
    "analyze_missing_data(df_acquisition, \"Acquisition\")\n",
    "analyze_missing_data(df_company_and_rounds, \"Company and Rounds\")\n",
    "analyze_missing_data(df_people, \"People\")\n",
    "analyze_missing_data(df_education, \"Education\")\n",
    "analyze_missing_data(df_degrees, \"Degrees\")\n",
    "analyze_missing_data(df_fund, \"Fund\")\n",
    "analyze_missing_data(df_investment, \"Investment\")"
   ]
  },
  {
   "cell_type": "markdown",
   "metadata": {
    "id": "DEg1tl8DFeBn"
   },
   "source": [
    "**1. Датысет Acquisition (данные о приобретениях):**\n",
    "\n",
    "- term_code (80.5% пропусков) - MNAR: отсутствие данных о условиях сделок может быть системным (например, информация не собиралась для определенных типов сделок)\n",
    "- acquired_at (0.3%) - MCAR: минимальные случайные пропуски\n",
    "\n",
    "Рекомендации:\n",
    "\n",
    "- Для term_code: создать отдельную категорию \"неизвестно\" или исключить столбец из анализа\n",
    "- Для acquired_at: удалить 29 строк с пропусками или интерполировать даты\n",
    "\n",
    "**2. Датысет Company and Rounds (компании и раунды финансирования):**\n",
    "\n",
    "- closed_at (98.4%) - MNAR: большинство компаний активны, что объясняет пропуски\n",
    "- Финансовые показатели (75-76%) - MNAR: информация могла не собираться для ранних стадий или определенных типов компаний\n",
    "- Базовые данные (0.14%) - MCAR: случайные минимальные пропуски\n",
    "\n",
    "Рекомендации:\n",
    "\n",
    "- Для closed_at: преобразовать в бинарный признак \"активна/неактивна\"\n",
    "- Для финансовых данных: использовать методы импутации только для ключевых показателей\n",
    "- Для базовых данных: удалить 302 неполные записи\n",
    "\n",
    "**3. Датысет People (основатели):**\n",
    "\n",
    "- company_id (84.7%) - MNAR: большинство людей не связаны со стартапами в базе\n",
    "- network_username (82.9%) - MNAR: социальные сети могли не быть популярны при сборе данных\n",
    "- Имена (0-0.0%) - MCAR: случайные опечатки\n",
    "\n",
    "Рекомендации:\n",
    "\n",
    "- Для company_id: создать отдельную категорию \"не связан\"\n",
    "- Для network_username: исключить столбец как нерелевантный\n",
    "- Для имен: исправить вручную или удалить 5 записей\n",
    "\n",
    "**4. Датысет Education (образование):**\n",
    "\n",
    "- graduated_at (47%) - MAR: дата окончания могла быть не важна для некоторых записей\n",
    "- instituition (0.05%) - MCAR: случайные пропуски\n",
    "\n",
    "Рекомендации:\n",
    "\n",
    "- Для graduated_at: использовать медианную дату или создать временные категории\n",
    "- Для instituition: удалить 55 записей или восстановить из других источников\n",
    "\n",
    "**5. Датысет Degrees (степени):**\n",
    "\n",
    "- subject (25.8%) - MAR: могло не указываться для некоторых типов степеней\n",
    "- degree_type (10.2%) - MAR: аналогично\n",
    "\n",
    "Рекомендации:\n",
    "\n",
    "- Для subject: создать категорию \"не указано\"\n",
    "- Для degree_type: использовать импутацию модой\n",
    "\n",
    "**6. Датысет Fund (фонды):**\n",
    "\n",
    "- network_username (81.6%) - MNAR: системное отсутствие данных\n",
    "- founded_at (60.5%) - MNAR: даты основания старых фондов могли быть утеряны\n",
    "- Базовые данные (0.02%) - MCAR\n",
    "\n",
    "Рекомендации:\n",
    "\n",
    "- Для network_username: исключить столбец\n",
    "- Для founded_at: использовать методы восстановления дат\n",
    "- Для name: исправить 2 записи вручную\n",
    "\n",
    "**7. Датысет Investment (инвестиции):**\n",
    "\n",
    "Полное отсутствие пропусков - идеальный случай"
   ]
  },
  {
   "cell_type": "markdown",
   "metadata": {
    "id": "u60cHsn6rJg1"
   },
   "source": [
    "## Шаг 2. Предобработка данных, предварительное исследование"
   ]
  },
  {
   "cell_type": "markdown",
   "metadata": {
    "id": "g2bHIIjcrJg1"
   },
   "source": [
    "\n",
    "### 2.1. Раунды финансирования по годам\n",
    "\n",
    "Задание необходимо выполнить без объединения и дополнительной предобработки на основе датасета `company_and_rounds.csv`.\n",
    "\n",
    "- Составьте сводную таблицу по годам, в которой на основании столбца `raised_amount` для каждого года указан:\n",
    "    - типичный размер средств, выделяемый в рамках одного раунда;\n",
    "    - общее количество раундов финансирования за этот год.\n",
    "    \n",
    "- Оставьте в таблице информацию только для тех лет, для которых есть информация о более чем 50 раундах финансирования.\n",
    "- На основе получившейся таблицы постройте график, который будет отражать динамику типичного размера средств, которые стартапы получали в рамках одного раунда финансирования.\n",
    "\n",
    "На основе полученных данных ответьте на вопросы:\n",
    "\n",
    "- В каком году типичный размер собранных в рамках одного раунда средств был максимален?\n",
    "- Какая тенденция по количеству раундов и выделяемых в рамках каждого раунда средств наблюдалась в 2013 году?"
   ]
  },
  {
   "cell_type": "code",
   "execution_count": 8,
   "metadata": {
    "id": "Cf5IjfOQrJg1"
   },
   "outputs": [
    {
     "data": {
      "text/html": [
       "<div>\n",
       "<style scoped>\n",
       "    .dataframe tbody tr th:only-of-type {\n",
       "        vertical-align: middle;\n",
       "    }\n",
       "\n",
       "    .dataframe tbody tr th {\n",
       "        vertical-align: top;\n",
       "    }\n",
       "\n",
       "    .dataframe thead th {\n",
       "        text-align: right;\n",
       "    }\n",
       "</style>\n",
       "<table border=\"1\" class=\"dataframe\">\n",
       "  <thead>\n",
       "    <tr style=\"text-align: right;\">\n",
       "      <th></th>\n",
       "      <th>year</th>\n",
       "      <th>median_raised</th>\n",
       "      <th>rounds_count</th>\n",
       "    </tr>\n",
       "  </thead>\n",
       "  <tbody>\n",
       "    <tr>\n",
       "      <th>15</th>\n",
       "      <td>1999.0</td>\n",
       "      <td>2000000.0</td>\n",
       "      <td>76</td>\n",
       "    </tr>\n",
       "    <tr>\n",
       "      <th>16</th>\n",
       "      <td>2000.0</td>\n",
       "      <td>4200000.0</td>\n",
       "      <td>125</td>\n",
       "    </tr>\n",
       "    <tr>\n",
       "      <th>17</th>\n",
       "      <td>2001.0</td>\n",
       "      <td>3000000.0</td>\n",
       "      <td>96</td>\n",
       "    </tr>\n",
       "    <tr>\n",
       "      <th>18</th>\n",
       "      <td>2002.0</td>\n",
       "      <td>4200000.0</td>\n",
       "      <td>116</td>\n",
       "    </tr>\n",
       "    <tr>\n",
       "      <th>19</th>\n",
       "      <td>2003.0</td>\n",
       "      <td>3000000.0</td>\n",
       "      <td>159</td>\n",
       "    </tr>\n",
       "    <tr>\n",
       "      <th>20</th>\n",
       "      <td>2004.0</td>\n",
       "      <td>5000000.0</td>\n",
       "      <td>291</td>\n",
       "    </tr>\n",
       "    <tr>\n",
       "      <th>21</th>\n",
       "      <td>2005.0</td>\n",
       "      <td>5500000.0</td>\n",
       "      <td>1633</td>\n",
       "    </tr>\n",
       "    <tr>\n",
       "      <th>22</th>\n",
       "      <td>2006.0</td>\n",
       "      <td>5000000.0</td>\n",
       "      <td>2436</td>\n",
       "    </tr>\n",
       "    <tr>\n",
       "      <th>23</th>\n",
       "      <td>2007.0</td>\n",
       "      <td>3973320.0</td>\n",
       "      <td>3279</td>\n",
       "    </tr>\n",
       "    <tr>\n",
       "      <th>24</th>\n",
       "      <td>2008.0</td>\n",
       "      <td>3110000.0</td>\n",
       "      <td>3774</td>\n",
       "    </tr>\n",
       "    <tr>\n",
       "      <th>25</th>\n",
       "      <td>2009.0</td>\n",
       "      <td>2000000.0</td>\n",
       "      <td>4151</td>\n",
       "    </tr>\n",
       "    <tr>\n",
       "      <th>26</th>\n",
       "      <td>2010.0</td>\n",
       "      <td>1602500.0</td>\n",
       "      <td>6221</td>\n",
       "    </tr>\n",
       "    <tr>\n",
       "      <th>27</th>\n",
       "      <td>2011.0</td>\n",
       "      <td>1200000.0</td>\n",
       "      <td>9204</td>\n",
       "    </tr>\n",
       "    <tr>\n",
       "      <th>28</th>\n",
       "      <td>2012.0</td>\n",
       "      <td>1000000.0</td>\n",
       "      <td>9970</td>\n",
       "    </tr>\n",
       "    <tr>\n",
       "      <th>29</th>\n",
       "      <td>2013.0</td>\n",
       "      <td>1200000.0</td>\n",
       "      <td>11072</td>\n",
       "    </tr>\n",
       "  </tbody>\n",
       "</table>\n",
       "</div>"
      ],
      "text/plain": [
       "      year  median_raised  rounds_count\n",
       "15  1999.0      2000000.0            76\n",
       "16  2000.0      4200000.0           125\n",
       "17  2001.0      3000000.0            96\n",
       "18  2002.0      4200000.0           116\n",
       "19  2003.0      3000000.0           159\n",
       "20  2004.0      5000000.0           291\n",
       "21  2005.0      5500000.0          1633\n",
       "22  2006.0      5000000.0          2436\n",
       "23  2007.0      3973320.0          3279\n",
       "24  2008.0      3110000.0          3774\n",
       "25  2009.0      2000000.0          4151\n",
       "26  2010.0      1602500.0          6221\n",
       "27  2011.0      1200000.0          9204\n",
       "28  2012.0      1000000.0          9970\n",
       "29  2013.0      1200000.0         11072"
      ]
     },
     "metadata": {},
     "output_type": "display_data"
    }
   ],
   "source": [
    "# Преобразование даты и извлечение года\n",
    "df_company_and_rounds['funded_at'] = pd.to_datetime(df_company_and_rounds['funded_at'])\n",
    "df_company_and_rounds['year'] = df_company_and_rounds['funded_at'].dt.year\n",
    "\n",
    "# Создаем сводную таблицу по годам\n",
    "summary_by_year = df_company_and_rounds.groupby('year')['raised_amount'].agg(\n",
    "    median_raised='median',\n",
    "    rounds_count='count'\n",
    ").reset_index()\n",
    "\n",
    "# Фильтруем годы с более чем 50 раундами\n",
    "summary_filtered = summary_by_year[summary_by_year['rounds_count'] > 50]\n",
    "\n",
    "# Сортируем по году\n",
    "summary_filtered = summary_filtered.sort_values('year')\n",
    "\n",
    "display(summary_filtered)"
   ]
  },
  {
   "cell_type": "code",
   "execution_count": 9,
   "metadata": {},
   "outputs": [
    {
     "data": {
      "image/png": "[encoded data removed]",
      "text/plain": [
       "<Figure size 1008x576 with 2 Axes>"
      ]
     },
     "metadata": {
      "needs_background": "light"
     },
     "output_type": "display_data"
    }
   ],
   "source": [
    "# Создаем фигуру и основную ось\n",
    "fig, ax1 = plt.subplots(figsize=(14, 8))\n",
    "\n",
    "# Столбчатая диаграмма (количество раундов) - левая ось Y\n",
    "bars = ax1.bar(summary_filtered['year'], \n",
    "              summary_filtered['rounds_count'], \n",
    "              color='#08F7FE', \n",
    "              alpha=0.7, \n",
    "              label='Количество раундов')\n",
    "\n",
    "# Добавляем подписи к столбцам \n",
    "for bar in bars:\n",
    "    height = bar.get_height()\n",
    "    ax1.text(bar.get_x() + bar.get_width()/2., height,\n",
    "            f'{int(height)}',\n",
    "            ha='center', va='bottom',\n",
    "            color='black', fontsize=10)\n",
    "\n",
    "ax1.set_xlabel('Год', fontsize=12, fontweight='bold', color='black') \n",
    "ax1.set_ylabel('Количество раундов', color='black', fontsize=12)  \n",
    "ax1.tick_params(axis='x', colors='black') \n",
    "ax1.tick_params(axis='y', colors='black')  \n",
    "\n",
    "# Создаем вторую ось Y для линейного графика\n",
    "ax2 = ax1.twinx()\n",
    "\n",
    "# Линейный график (медианное финансирование) - правая ось Y\n",
    "line, = ax2.plot(summary_filtered['year'], \n",
    "                summary_filtered['median_raised'], \n",
    "                color='#FE53BB', \n",
    "                marker='o', \n",
    "                markersize=10, \n",
    "                linewidth=3, \n",
    "                label='Медианное финансирование')\n",
    "\n",
    "# Добавляем подписи к точкам на линии \n",
    "for x, y in zip(summary_filtered['year'], summary_filtered['median_raised']):\n",
    "    ax2.text(x, y, f'${y:,.0f}', \n",
    "            color='black', \n",
    "            fontsize=10,\n",
    "            ha='center', \n",
    "            va='bottom' if y < max(summary_filtered['median_raised']) else 'top')\n",
    "\n",
    "ax2.set_ylabel('Медианное финансирование (млн$)', color='black', fontsize=12) \n",
    "ax2.tick_params(axis='y', colors='black') \n",
    "\n",
    "\n",
    "# Объединяем легенды \n",
    "lines1, labels1 = ax1.get_legend_handles_labels()\n",
    "lines2, labels2 = ax2.get_legend_handles_labels()\n",
    "ax1.legend(lines1 + lines2, labels1 + labels2, \n",
    "          loc='upper left',\n",
    "          fontsize=10,\n",
    "          labelcolor='black')\n",
    "\n",
    "plt.title('Динамика финансирования стартапов по годам', fontsize=14, pad=20, color='black')\n",
    "plt.grid(True, alpha=0.3)\n",
    "plt.tight_layout()\n",
    "plt.show()"
   ]
  },
  {
   "cell_type": "markdown",
   "metadata": {},
   "source": [
    "**Вывод**:\n",
    "\n",
    "- Рост количества раундов финансирования: Наблюдается четкий и устойчивый рост количества раундов финансирования стартапов с 1998 года по 2014 год. Это указывает на увеличение активности в сфере финансирования стартапов.\n",
    "- Волатильность медианного финансирования: Медианное финансирование демонстрирует значительную волатильность на протяжении всего периода. После нескольких пиков и падений, значение снижается, что говорит об уменьшении среднего размера инвестиций в стартапы.\n",
    "\n",
    "**Основные моменты:**\n",
    "\n",
    "- 1998-2004: Начальный период характеризуется очень низким количеством раундов и относительно высокой медианой финансирования, вероятно, из-за небольшого числа стартапов, привлекающих значительные инвестиции.\n",
    "- 2004: Пик медианного финансирования, достигающий 5,5 млн долларов.\n",
    "- 2006-2014: В то время как количество раундов финансирования увеличивается, медиана снижается, что может говорить о большем количестве стартапов, получающих небольшие инвестиции. После 2010 г. медианное финансирование выравнивается на уровне 1-1.2 млн долларов, что говорит о стабилизации небольших инвестиций.\n",
    "- 2014: Максимальное количество раундов финансирования.\n",
    "\n",
    "**Гипотезы:**\n",
    "\n",
    "- Рост количества раундов, но снижение медианного размера инвестиций, может указывать на изменение стратегий инвесторов: возможно, они стали чаще инвестировать в большее число стартапов небольшие суммы, вместо того, чтобы сосредотачиваться на крупных инвестициях в ограниченное число проектов.\n",
    "- В целом, график отражает рост популярности и активности в сфере стартапов с течением времени, но также демонстрирует изменение в структуре финансирования."
   ]
  },
  {
   "cell_type": "code",
   "execution_count": 10,
   "metadata": {
    "id": "Z92DzKMMFdKW"
   },
   "outputs": [
    {
     "name": "stdout",
     "output_type": "stream",
     "text": [
      "Максимальный медианный размер раунда: $5,500,000 в 2005.0 году\n"
     ]
    }
   ],
   "source": [
    "max_year = summary_filtered.loc[summary_filtered['median_raised'].idxmax(), 'year']\n",
    "max_value = summary_filtered['median_raised'].max()\n",
    "print(f\"Максимальный медианный размер раунда: ${max_value:,.0f} в {max_year} году\")"
   ]
  },
  {
   "cell_type": "code",
   "execution_count": 11,
   "metadata": {},
   "outputs": [
    {
     "name": "stdout",
     "output_type": "stream",
     "text": [
      "\n",
      "Тенденции в 2013 году:\n",
      "- Медианный размер раунда: $1,200,000\n",
      "- Количество раундов: 11072\n"
     ]
    }
   ],
   "source": [
    "year_2013 = summary_filtered[summary_filtered['year'] == 2013]\n",
    "if not year_2013.empty:\n",
    "    print(\"\\nТенденции в 2013 году:\")\n",
    "    print(f\"- Медианный размер раунда: ${year_2013['median_raised'].values[0]:,.0f}\")\n",
    "    print(f\"- Количество раундов: {year_2013['rounds_count'].values[0]}\")\n",
    "else:\n",
    "    print(\"2013 год не попал в выборку (менее 50 раундов)\")"
   ]
  },
  {
   "cell_type": "markdown",
   "metadata": {
    "id": "45if1en1rJg2"
   },
   "source": [
    "\n",
    "### 2.2. Люди и их образование\n",
    "\n",
    "Заказчик хочет понять, зависит ли полнота сведений о сотрудниках (например, об их образовании) от размера компаний.\n",
    "\n",
    "- Оцените, насколько информация об образовании сотрудников полна. Используя датасеты `people.csv` и `education.csv`, разделите все компании на несколько групп по количеству сотрудников и оцените среднюю долю сотрудников без информации об образовании в каждой из групп. Обоснуйте выбранные границы групп.\n",
    "- Оцените, возможно ли для выполнения задания присоединить к этим таблицам ещё и таблицу `degrees.csv`."
   ]
  },
  {
   "cell_type": "code",
   "execution_count": 12,
   "metadata": {},
   "outputs": [
    {
     "name": "stdout",
     "output_type": "stream",
     "text": [
      "\n",
      "Результаты анализа:\n"
     ]
    },
    {
     "data": {
      "text/html": [
       "<div>\n",
       "<style scoped>\n",
       "    .dataframe tbody tr th:only-of-type {\n",
       "        vertical-align: middle;\n",
       "    }\n",
       "\n",
       "    .dataframe tbody tr th {\n",
       "        vertical-align: top;\n",
       "    }\n",
       "\n",
       "    .dataframe thead th {\n",
       "        text-align: right;\n",
       "    }\n",
       "</style>\n",
       "<table border=\"1\" class=\"dataframe\">\n",
       "  <thead>\n",
       "    <tr style=\"text-align: right;\">\n",
       "      <th></th>\n",
       "      <th>size_group</th>\n",
       "      <th>companies_count</th>\n",
       "      <th>missing_pct</th>\n",
       "    </tr>\n",
       "  </thead>\n",
       "  <tbody>\n",
       "    <tr>\n",
       "      <th>0</th>\n",
       "      <td>1 (стартап)</td>\n",
       "      <td>18117</td>\n",
       "      <td>46.3</td>\n",
       "    </tr>\n",
       "    <tr>\n",
       "      <th>2</th>\n",
       "      <td>2-5</td>\n",
       "      <td>4317</td>\n",
       "      <td>47.5</td>\n",
       "    </tr>\n",
       "    <tr>\n",
       "      <th>4</th>\n",
       "      <td>6-10</td>\n",
       "      <td>368</td>\n",
       "      <td>53.2</td>\n",
       "    </tr>\n",
       "    <tr>\n",
       "      <th>1</th>\n",
       "      <td>11-50</td>\n",
       "      <td>111</td>\n",
       "      <td>44.0</td>\n",
       "    </tr>\n",
       "    <tr>\n",
       "      <th>3</th>\n",
       "      <td>50+</td>\n",
       "      <td>9</td>\n",
       "      <td>28.8</td>\n",
       "    </tr>\n",
       "  </tbody>\n",
       "</table>\n",
       "</div>"
      ],
      "text/plain": [
       "    size_group  companies_count  missing_pct\n",
       "0  1 (стартап)            18117         46.3\n",
       "2          2-5             4317         47.5\n",
       "4         6-10              368         53.2\n",
       "1        11-50              111         44.0\n",
       "3          50+                9         28.8"
      ]
     },
     "metadata": {},
     "output_type": "display_data"
    }
   ],
   "source": [
    "# Шаг 1: Подготовка данных\n",
    "# Приводим ключевые столбцы к единому формату\n",
    "df_people['id'] = df_people['id'].astype('int64')\n",
    "df_education['person_id'] = df_education['person_id'].astype('int64')\n",
    "\n",
    "# Создаем список уникальных person_id, у которых есть информация об образовании\n",
    "people_with_education = df_education['person_id'].unique()\n",
    "\n",
    "# Объединяем данные с флагом наличия образования\n",
    "merged = df_people.copy()\n",
    "merged['has_education'] = merged['id'].isin(people_with_education)\n",
    "\n",
    "# Шаг 2: Группировка компаний по размеру\n",
    "# Считаем количество уникальных сотрудников по компаниям\n",
    "company_stats = merged.groupby('company_id').agg(\n",
    "    employees_count=('id', 'nunique'),\n",
    "    no_education_count=('has_education', lambda x: (~x).sum())\n",
    ").reset_index()\n",
    "\n",
    "# Определяем группы компаний:\n",
    "# 1. Отдельно выделяем компании с 1 сотрудником\n",
    "# 2. Остальные делим на группы по квантилям\n",
    "company_stats['size_group'] = np.where(\n",
    "    company_stats['employees_count'] == 1,\n",
    "    '1 (стартап)',\n",
    "    pd.cut(\n",
    "        company_stats['employees_count'],\n",
    "        bins=[1, 5, 10, 50, np.inf],\n",
    "        labels=['2-5', '6-10', '11-50', '50+']\n",
    "    )\n",
    ")\n",
    "\n",
    "# Шаг 3: Расчет показателей по группам\n",
    "result = company_stats.groupby('size_group').agg(\n",
    "    companies_count=('company_id', 'count'),\n",
    "    avg_missing_education=('no_education_count', lambda x: (x / company_stats.loc[x.index, 'employees_count']).mean())\n",
    ").reset_index()\n",
    "\n",
    "result['missing_pct'] = (result['avg_missing_education'] * 100).round(1)\n",
    "\n",
    "# Упорядочиваем группы для вывода\n",
    "group_order = ['1 (стартап)', '2-5', '6-10', '11-50', '50+']\n",
    "result['size_group'] = pd.Categorical(result['size_group'], categories=group_order, ordered=True)\n",
    "result = result.sort_values('size_group')\n",
    "\n",
    "# Упорядочиваем группы для вывода\n",
    "group_order = ['1 (стартап)', '2-5', '6-10', '11-50', '50+']\n",
    "result['size_group'] = pd.Categorical(result['size_group'], categories=group_order, ordered=True)\n",
    "result = result.sort_values('size_group')\n",
    "\n",
    "# Вывод таблицы с результатами\n",
    "print(\"\\nРезультаты анализа:\")\n",
    "display(result[['size_group', 'companies_count', 'missing_pct']])"
   ]
  },
  {
   "cell_type": "code",
   "execution_count": 13,
   "metadata": {},
   "outputs": [
    {
     "data": {
      "image/png": "[encoded data removed]",
      "text/plain": [
       "<Figure size 864x432 with 1 Axes>"
      ]
     },
     "metadata": {
      "needs_background": "light"
     },
     "output_type": "display_data"
    }
   ],
   "source": [
    "# Визуализация результатов\n",
    "plt.figure(figsize=(12, 6))\n",
    "bars = plt.bar(result['size_group'], result['missing_pct'], color='#1f77b4') \n",
    "\n",
    "plt.title('Доля сотрудников без информации об образовании по размеру компаний', pad=20)\n",
    "plt.xlabel('Группа компаний по количеству сотрудников')\n",
    "plt.ylabel('Процент сотрудников без данных об образовании')\n",
    "plt.ylim(0, 100)\n",
    "\n",
    "# Добавляем значения\n",
    "for bar in bars:\n",
    "    height = bar.get_height()\n",
    "    plt.text(bar.get_x() + bar.get_width()/2., \n",
    "             height + 1,  \n",
    "             f'{height:.1f}%', \n",
    "             ha='center', \n",
    "             va='bottom',\n",
    "             color='black', \n",
    "             fontsize=10,\n",
    "             fontweight='bold')\n",
    "\n",
    "plt.grid(axis='y', linestyle='--', alpha=0.7)\n",
    "plt.tight_layout()  \n",
    "plt.show()"
   ]
  },
  {
   "cell_type": "markdown",
   "metadata": {},
   "source": [
    "**Выводы:**\n",
    "\n",
    "- Наибольшая неполнота данных в микро-компаниях (6-10 сотрудников - 53.2%)\n",
    "- Крупные компании демонстрируют лучшую заполняемость (28.8%)\n",
    "- Стартапы с 1 сотрудником показывают средний результат (46.3%)\n",
    "\n",
    "**Для анализа полноты данных:**\n",
    "\n",
    "✔️ Можно не подключать degrees.csv\n",
    "\n",
    "- Причина: Не добавляет новых сотрудников к имеющимся в education.csv\n",
    "- Преимущество: Ускорение обработки\n",
    "\n",
    "**Для углубленного анализа:**\n",
    "\n",
    "✔️ Подключить degrees.csv при изучении:\n",
    "\n",
    "- Уровней образования (бакалавр/магистр/PhD)\n",
    "- Соответствия образования должностям\n",
    "- Динамики получения степеней"
   ]
  },
  {
   "cell_type": "markdown",
   "metadata": {
    "id": "Lz7qjM32xglW"
   },
   "source": [
    "### 2.3. Объединять или не объединять — вот в чём вопрос\n",
    "\n",
    "Некоторые названия столбцов встречаются в датасетах чаще других. В результате предварительной проверки датасетов было выяснено, что столбец `company_id` подходит для объединения данных.\n",
    "\n",
    "- Установите, подходит ли для объединения данных столбец `network_username`, который встречается в нескольких датасетах. Нам необходимо понимать, дублируется ли для разных датасетов информация в столбцах с таким названием, и если да — то насколько часто.\n",
    "- Оцените, можно ли использовать столбцы с именем `network_username` для объединения данных."
   ]
  },
  {
   "cell_type": "code",
   "execution_count": 14,
   "metadata": {
    "id": "zyI3rt0rxg1O"
   },
   "outputs": [
    {
     "name": "stdout",
     "output_type": "stream",
     "text": [
      "Уникальных network_username: 38421\n",
      "Пропусков: 187842 из 226709\n"
     ]
    }
   ],
   "source": [
    "username_stats = df_people['network_username'].describe()\n",
    "print(f\"Уникальных network_username: {username_stats['unique']}\")\n",
    "print(f\"Пропусков: {df_people['network_username'].isna().sum()} из {len(df_people)}\")"
   ]
  },
  {
   "cell_type": "markdown",
   "metadata": {
    "id": "RxOS5rwmFcNW"
   },
   "source": [
    "Ключевая статистика:\n",
    "\n",
    "- Всего записей в people.csv: 226709\n",
    "- Уникальных network_username: 38421\n",
    "Пропусков (NaN): 187842 (≈ 82.9% пустых значений)\n",
    "\n",
    "2. Проблемы столбца network_username:\n",
    "\n",
    "- Критически низкая заполненность\n",
    "- Только 17.1% записей имеют указанный network_username.\n",
    "- Непригоден для связывания: 83% данных потеряются при объединении.\n",
    "- Риск неточных связей\n",
    "\n",
    "3. Даже заполненные значения (38421 уникальных) могут:\n",
    "\n",
    "- Относиться к разным людям с одинаковыми никами.\n",
    "- Иметь опечатки или вариации.\n",
    "- Отсутствие в других таблицах\n",
    "\n",
    "В education.csv и degrees.csv этот столбец не обнаружен → объединять не с чем."
   ]
  },
  {
   "cell_type": "markdown",
   "metadata": {
    "id": "EHcODomVrJg1"
   },
   "source": [
    "\n",
    "### 2.4. Проблемный датасет и причина возникновения пропусков\n",
    "\n",
    "Во время собственного анализа данных у заказчика больше всего вопросов возникло к датасету `company_and_rounds.csv`. В нём много пропусков как раз в информации о раундах, которая заказчику важна.\n",
    "\n",
    "- Любым удобным способом приведите данные в вид, который позволит в дальнейшем проводить анализ в разрезе отдельных компаний. Обратите внимание на структуру датасета, порядок и названия столбцов, проанализируйте значения.\n",
    "\n",
    "По гипотезе заказчика данные по компаниям из этой таблицы раньше хранились иначе, более удобным для исследования образом.\n",
    "\n",
    "- Максимальным образом сохраняя данные, сохранив их связность и исключив возможные возникающие при этом ошибки, подготовьте данные так, чтобы удобно было отобрать компании по параметрам и рассчитать показатели из расчёта на одну компанию без промежуточных агрегаций."
   ]
  },
  {
   "cell_type": "code",
   "execution_count": 15,
   "metadata": {
    "id": "oSk7xqu_FbaN",
    "scrolled": true
   },
   "outputs": [
    {
     "name": "stdout",
     "output_type": "stream",
     "text": [
      "Уникальных компаний: 196554\n",
      "Всего раундов: 52928\n",
      "Компаний с раундами: 31939\n",
      "\n",
      "Датасет компаний:\n"
     ]
    },
    {
     "data": {
      "text/html": [
       "<div>\n",
       "<style scoped>\n",
       "    .dataframe tbody tr th:only-of-type {\n",
       "        vertical-align: middle;\n",
       "    }\n",
       "\n",
       "    .dataframe tbody tr th {\n",
       "        vertical-align: top;\n",
       "    }\n",
       "\n",
       "    .dataframe thead th {\n",
       "        text-align: right;\n",
       "    }\n",
       "</style>\n",
       "<table border=\"1\" class=\"dataframe\">\n",
       "  <thead>\n",
       "    <tr style=\"text-align: right;\">\n",
       "      <th></th>\n",
       "      <th>company_ID</th>\n",
       "      <th>name</th>\n",
       "      <th>category_code</th>\n",
       "      <th>status</th>\n",
       "      <th>founded_at</th>\n",
       "      <th>closed_at</th>\n",
       "      <th>domain</th>\n",
       "      <th>network_username</th>\n",
       "      <th>country_code</th>\n",
       "      <th>investment_rounds</th>\n",
       "      <th>funding_rounds</th>\n",
       "      <th>funding_total</th>\n",
       "      <th>milestones</th>\n",
       "    </tr>\n",
       "  </thead>\n",
       "  <tbody>\n",
       "    <tr>\n",
       "      <th>0</th>\n",
       "      <td>1</td>\n",
       "      <td>Wetpaint</td>\n",
       "      <td>web</td>\n",
       "      <td>operating</td>\n",
       "      <td>2005-10-17</td>\n",
       "      <td>NaT</td>\n",
       "      <td>wetpaint-inc.com</td>\n",
       "      <td>BachelrWetpaint</td>\n",
       "      <td>USA</td>\n",
       "      <td>0.0</td>\n",
       "      <td>3.0</td>\n",
       "      <td>3.975000e+07</td>\n",
       "      <td>5.0</td>\n",
       "    </tr>\n",
       "    <tr>\n",
       "      <th>1</th>\n",
       "      <td>2</td>\n",
       "      <td>AdventNet</td>\n",
       "      <td>enterprise</td>\n",
       "      <td>operating</td>\n",
       "      <td>1996-01-01</td>\n",
       "      <td>NaT</td>\n",
       "      <td>adventnet.com</td>\n",
       "      <td>manageengine</td>\n",
       "      <td>USA</td>\n",
       "      <td>0.0</td>\n",
       "      <td>0.0</td>\n",
       "      <td>0.000000e+00</td>\n",
       "      <td>0.0</td>\n",
       "    </tr>\n",
       "    <tr>\n",
       "      <th>2</th>\n",
       "      <td>3</td>\n",
       "      <td>Zoho</td>\n",
       "      <td>software</td>\n",
       "      <td>operating</td>\n",
       "      <td>2005-09-15</td>\n",
       "      <td>NaT</td>\n",
       "      <td>zoho.com</td>\n",
       "      <td>zoho</td>\n",
       "      <td>USA</td>\n",
       "      <td>0.0</td>\n",
       "      <td>0.0</td>\n",
       "      <td>0.000000e+00</td>\n",
       "      <td>5.0</td>\n",
       "    </tr>\n",
       "    <tr>\n",
       "      <th>3</th>\n",
       "      <td>4</td>\n",
       "      <td>Digg</td>\n",
       "      <td>news</td>\n",
       "      <td>acquired</td>\n",
       "      <td>2004-10-11</td>\n",
       "      <td>NaT</td>\n",
       "      <td>digg.com</td>\n",
       "      <td>digg</td>\n",
       "      <td>USA</td>\n",
       "      <td>0.0</td>\n",
       "      <td>4.0</td>\n",
       "      <td>4.500000e+07</td>\n",
       "      <td>8.0</td>\n",
       "    </tr>\n",
       "    <tr>\n",
       "      <th>4</th>\n",
       "      <td>5</td>\n",
       "      <td>Socialnet</td>\n",
       "      <td>social</td>\n",
       "      <td>ipo</td>\n",
       "      <td>2004-02-01</td>\n",
       "      <td>NaT</td>\n",
       "      <td>socialnet.com</td>\n",
       "      <td>socialnet</td>\n",
       "      <td>USA</td>\n",
       "      <td>3.0</td>\n",
       "      <td>11.0</td>\n",
       "      <td>2.425700e+09</td>\n",
       "      <td>5.0</td>\n",
       "    </tr>\n",
       "  </tbody>\n",
       "</table>\n",
       "</div>"
      ],
      "text/plain": [
       "   company_ID       name category_code     status founded_at closed_at  \\\n",
       "0           1   Wetpaint           web  operating 2005-10-17       NaT   \n",
       "1           2  AdventNet    enterprise  operating 1996-01-01       NaT   \n",
       "2           3       Zoho      software  operating 2005-09-15       NaT   \n",
       "3           4       Digg          news   acquired 2004-10-11       NaT   \n",
       "4           5  Socialnet        social        ipo 2004-02-01       NaT   \n",
       "\n",
       "             domain network_username country_code  investment_rounds  \\\n",
       "0  wetpaint-inc.com  BachelrWetpaint          USA                0.0   \n",
       "1     adventnet.com     manageengine          USA                0.0   \n",
       "2          zoho.com             zoho          USA                0.0   \n",
       "3          digg.com             digg          USA                0.0   \n",
       "4     socialnet.com        socialnet          USA                3.0   \n",
       "\n",
       "   funding_rounds  funding_total  milestones  \n",
       "0             3.0   3.975000e+07         5.0  \n",
       "1             0.0   0.000000e+00         0.0  \n",
       "2             0.0   0.000000e+00         5.0  \n",
       "3             4.0   4.500000e+07         8.0  \n",
       "4            11.0   2.425700e+09         5.0  "
      ]
     },
     "metadata": {},
     "output_type": "display_data"
    },
    {
     "name": "stdout",
     "output_type": "stream",
     "text": [
      "\n",
      "Датасет раундов:\n"
     ]
    },
    {
     "data": {
      "text/html": [
       "<div>\n",
       "<style scoped>\n",
       "    .dataframe tbody tr th:only-of-type {\n",
       "        vertical-align: middle;\n",
       "    }\n",
       "\n",
       "    .dataframe tbody tr th {\n",
       "        vertical-align: top;\n",
       "    }\n",
       "\n",
       "    .dataframe thead th {\n",
       "        text-align: right;\n",
       "    }\n",
       "</style>\n",
       "<table border=\"1\" class=\"dataframe\">\n",
       "  <thead>\n",
       "    <tr style=\"text-align: right;\">\n",
       "      <th></th>\n",
       "      <th>funding_round_id</th>\n",
       "      <th>company_id</th>\n",
       "      <th>funded_at</th>\n",
       "      <th>funding_round_type</th>\n",
       "      <th>raised_amount</th>\n",
       "      <th>pre_money_valuation</th>\n",
       "      <th>participants</th>\n",
       "      <th>is_first_round</th>\n",
       "      <th>is_last_round</th>\n",
       "    </tr>\n",
       "  </thead>\n",
       "  <tbody>\n",
       "    <tr>\n",
       "      <th>0</th>\n",
       "      <td>888</td>\n",
       "      <td>1</td>\n",
       "      <td>2005-10-01</td>\n",
       "      <td>series-a</td>\n",
       "      <td>5250000.0</td>\n",
       "      <td>0.0</td>\n",
       "      <td>2.0</td>\n",
       "      <td>0.0</td>\n",
       "      <td>1.0</td>\n",
       "    </tr>\n",
       "    <tr>\n",
       "      <th>1</th>\n",
       "      <td>889</td>\n",
       "      <td>1</td>\n",
       "      <td>2007-01-01</td>\n",
       "      <td>series-b</td>\n",
       "      <td>9500000.0</td>\n",
       "      <td>0.0</td>\n",
       "      <td>3.0</td>\n",
       "      <td>0.0</td>\n",
       "      <td>0.0</td>\n",
       "    </tr>\n",
       "    <tr>\n",
       "      <th>2</th>\n",
       "      <td>2312</td>\n",
       "      <td>1</td>\n",
       "      <td>2008-05-19</td>\n",
       "      <td>series-c+</td>\n",
       "      <td>25000000.0</td>\n",
       "      <td>0.0</td>\n",
       "      <td>4.0</td>\n",
       "      <td>1.0</td>\n",
       "      <td>0.0</td>\n",
       "    </tr>\n",
       "    <tr>\n",
       "      <th>3</th>\n",
       "      <td>3503</td>\n",
       "      <td>4</td>\n",
       "      <td>2008-09-24</td>\n",
       "      <td>series-c+</td>\n",
       "      <td>28700000.0</td>\n",
       "      <td>0.0</td>\n",
       "      <td>4.0</td>\n",
       "      <td>0.0</td>\n",
       "      <td>0.0</td>\n",
       "    </tr>\n",
       "    <tr>\n",
       "      <th>4</th>\n",
       "      <td>24136</td>\n",
       "      <td>4</td>\n",
       "      <td>2011-07-12</td>\n",
       "      <td>series-c+</td>\n",
       "      <td>5000000.0</td>\n",
       "      <td>0.0</td>\n",
       "      <td>0.0</td>\n",
       "      <td>1.0</td>\n",
       "      <td>0.0</td>\n",
       "    </tr>\n",
       "  </tbody>\n",
       "</table>\n",
       "</div>"
      ],
      "text/plain": [
       "   funding_round_id  company_id  funded_at funding_round_type  raised_amount  \\\n",
       "0               888           1 2005-10-01           series-a      5250000.0   \n",
       "1               889           1 2007-01-01           series-b      9500000.0   \n",
       "2              2312           1 2008-05-19          series-c+     25000000.0   \n",
       "3              3503           4 2008-09-24          series-c+     28700000.0   \n",
       "4             24136           4 2011-07-12          series-c+      5000000.0   \n",
       "\n",
       "   pre_money_valuation  participants  is_first_round  is_last_round  \n",
       "0                  0.0           2.0             0.0            1.0  \n",
       "1                  0.0           3.0             0.0            0.0  \n",
       "2                  0.0           4.0             1.0            0.0  \n",
       "3                  0.0           4.0             0.0            0.0  \n",
       "4                  0.0           0.0             1.0            0.0  "
      ]
     },
     "metadata": {},
     "output_type": "display_data"
    }
   ],
   "source": [
    "df = df_company_and_rounds.copy()\n",
    "\n",
    "# 1. Разделяем данные на два датасета\n",
    "\n",
    "# Датесет с информацией о компаниях (уникальные записи)\n",
    "company_columns = [\n",
    "    'company_ID', 'name', 'category_code', 'status', 'founded_at', \n",
    "    'closed_at', 'domain', 'network_username', 'country_code',\n",
    "    'investment_rounds', 'funding_rounds', 'funding_total', 'milestones'\n",
    "]\n",
    "\n",
    "df_companies = df[company_columns].drop_duplicates('company_ID').copy()\n",
    "\n",
    "# Датесет с информацией о раундах финансирования\n",
    "rounds_columns = [\n",
    "    'funding_round_id', 'company_id', 'funded_at', 'funding_round_type',\n",
    "    'raised_amount', 'pre_money_valuation', 'participants',\n",
    "    'is_first_round', 'is_last_round'\n",
    "]\n",
    "\n",
    "# Берем только строки с раундами \n",
    "df_rounds = df.dropna(subset=['funding_round_id'])[rounds_columns].copy()\n",
    "\n",
    "# 2. Приводим типы id столбцов\n",
    "df_companies['company_ID'] = df_companies['company_ID'].astype('Int64')\n",
    "df_rounds['funding_round_id'] = df_rounds['funding_round_id'].astype('Int64')\n",
    "df_rounds['company_id'] = df_rounds['company_id'].astype('Int64')\n",
    "\n",
    "# 3. Сортируем по id\n",
    "df_companies = df_companies.sort_values('company_ID')\n",
    "df_rounds = df_rounds.sort_values('company_id')\n",
    "\n",
    "# 4. Сбрасываем индексы\n",
    "df_companies = df_companies.reset_index(drop=True)\n",
    "df_rounds = df_rounds.reset_index(drop=True)\n",
    "\n",
    "# Проверка целостности данных\n",
    "print(f\"Уникальных компаний: {len(df_companies)}\")\n",
    "print(f\"Всего раундов: {len(df_rounds)}\")\n",
    "print(f\"Компаний с раундами: {df_rounds['company_id'].nunique()}\")\n",
    "\n",
    "# Просмотр результатов\n",
    "print(\"\\nДатасет компаний:\")\n",
    "display(df_companies.head())\n",
    "print(\"\\nДатасет раундов:\")\n",
    "display(df_rounds.head())"
   ]
  },
  {
   "cell_type": "markdown",
   "metadata": {
    "id": "bmVYhphNrJg2"
   },
   "source": [
    "\n",
    "## Шаг 3. Исследовательский анализ объединённых таблиц\n",
    "\n",
    "> Приступите к шагу 3 после проверки ревьюера.\n",
    "\n",
    "<big>Студентам нужно чётко сказать - проверять дальше или не проверять.</big>"
   ]
  },
  {
   "cell_type": "markdown",
   "metadata": {
    "id": "3Di6tCT3rJg2"
   },
   "source": [
    "\n",
    "### 3.1. Объединение данных\n",
    "\n",
    "Объедините данные для ответа на вопросы заказчика, которые касаются интересующих его компаний. Заказчика прежде всего интересуют те компании, которые меняли или готовы менять владельцев. Получение инвестиций или финансирования, по мнению заказчика, означает интерес к покупке или продаже компании.\n",
    "\n",
    "В качестве основы для объединённой таблицы возьмите данные из обработанного датасета `company_and_rounds.csv` — выберите только те компании, у которых указаны значения `funding_rounds` или `investment_rounds` больше нуля, или те, у которых в колонке `status` указано `acquired`. В результирующей таблице должно получиться порядка 40 тысяч компаний.\n",
    "\n",
    "Проверьте полноту и корректность получившейся таблицы. Далее работайте только с этими данными."
   ]
  },
  {
   "cell_type": "code",
   "execution_count": 16,
   "metadata": {
    "id": "kuV1b5MXFg3_"
   },
   "outputs": [
    {
     "name": "stdout",
     "output_type": "stream",
     "text": [
      "Всего компаний после фильтрации: 40747\n",
      "Примерное количество строк: 40747\n",
      "\n",
      "Распределение по статусам:\n",
      "operating    28621\n",
      "acquired      9394\n",
      "closed        2092\n",
      "ipo            640\n",
      "Name: status, dtype: int64\n",
      "\n",
      "Компании с funding_rounds > 0:\n",
      "True     31707\n",
      "False     9040\n",
      "Name: funding_rounds, dtype: int64\n",
      "\n",
      "Компании с investment_rounds > 0:\n",
      "False    38156\n",
      "True      2591\n",
      "Name: investment_rounds, dtype: int64\n",
      "\n",
      "Уникальных компаний: 40747\n",
      "\n",
      "Пропуски в ключевых столбцах:\n",
      "company_ID           0\n",
      "name                 0\n",
      "status               0\n",
      "funding_rounds       0\n",
      "investment_rounds    0\n",
      "dtype: int64\n",
      "\n",
      "Первые 5 строк отфильтрованных данных:\n"
     ]
    },
    {
     "data": {
      "text/html": [
       "<div>\n",
       "<style scoped>\n",
       "    .dataframe tbody tr th:only-of-type {\n",
       "        vertical-align: middle;\n",
       "    }\n",
       "\n",
       "    .dataframe tbody tr th {\n",
       "        vertical-align: top;\n",
       "    }\n",
       "\n",
       "    .dataframe thead th {\n",
       "        text-align: right;\n",
       "    }\n",
       "</style>\n",
       "<table border=\"1\" class=\"dataframe\">\n",
       "  <thead>\n",
       "    <tr style=\"text-align: right;\">\n",
       "      <th></th>\n",
       "      <th>company_ID</th>\n",
       "      <th>name</th>\n",
       "      <th>category_code</th>\n",
       "      <th>status</th>\n",
       "      <th>founded_at</th>\n",
       "      <th>closed_at</th>\n",
       "      <th>domain</th>\n",
       "      <th>network_username</th>\n",
       "      <th>country_code</th>\n",
       "      <th>investment_rounds</th>\n",
       "      <th>funding_rounds</th>\n",
       "      <th>funding_total</th>\n",
       "      <th>milestones</th>\n",
       "    </tr>\n",
       "  </thead>\n",
       "  <tbody>\n",
       "    <tr>\n",
       "      <th>0</th>\n",
       "      <td>1</td>\n",
       "      <td>Wetpaint</td>\n",
       "      <td>web</td>\n",
       "      <td>operating</td>\n",
       "      <td>2005-10-17</td>\n",
       "      <td>NaT</td>\n",
       "      <td>wetpaint-inc.com</td>\n",
       "      <td>BachelrWetpaint</td>\n",
       "      <td>USA</td>\n",
       "      <td>0.0</td>\n",
       "      <td>3.0</td>\n",
       "      <td>3.975000e+07</td>\n",
       "      <td>5.0</td>\n",
       "    </tr>\n",
       "    <tr>\n",
       "      <th>3</th>\n",
       "      <td>4</td>\n",
       "      <td>Digg</td>\n",
       "      <td>news</td>\n",
       "      <td>acquired</td>\n",
       "      <td>2004-10-11</td>\n",
       "      <td>NaT</td>\n",
       "      <td>digg.com</td>\n",
       "      <td>digg</td>\n",
       "      <td>USA</td>\n",
       "      <td>0.0</td>\n",
       "      <td>4.0</td>\n",
       "      <td>4.500000e+07</td>\n",
       "      <td>8.0</td>\n",
       "    </tr>\n",
       "    <tr>\n",
       "      <th>4</th>\n",
       "      <td>5</td>\n",
       "      <td>Socialnet</td>\n",
       "      <td>social</td>\n",
       "      <td>ipo</td>\n",
       "      <td>2004-02-01</td>\n",
       "      <td>NaT</td>\n",
       "      <td>socialnet.com</td>\n",
       "      <td>socialnet</td>\n",
       "      <td>USA</td>\n",
       "      <td>3.0</td>\n",
       "      <td>11.0</td>\n",
       "      <td>2.425700e+09</td>\n",
       "      <td>5.0</td>\n",
       "    </tr>\n",
       "    <tr>\n",
       "      <th>5</th>\n",
       "      <td>7</td>\n",
       "      <td>Omnidrive</td>\n",
       "      <td>network_hosting</td>\n",
       "      <td>closed</td>\n",
       "      <td>2005-11-01</td>\n",
       "      <td>2008-09-15</td>\n",
       "      <td>omnidrive.com</td>\n",
       "      <td>Nomadesk</td>\n",
       "      <td>ISR</td>\n",
       "      <td>0.0</td>\n",
       "      <td>1.0</td>\n",
       "      <td>8.000000e+05</td>\n",
       "      <td>4.0</td>\n",
       "    </tr>\n",
       "    <tr>\n",
       "      <th>6</th>\n",
       "      <td>8</td>\n",
       "      <td>Postini</td>\n",
       "      <td>web</td>\n",
       "      <td>acquired</td>\n",
       "      <td>1999-06-02</td>\n",
       "      <td>NaT</td>\n",
       "      <td>postini.com</td>\n",
       "      <td>NaN</td>\n",
       "      <td>USA</td>\n",
       "      <td>0.0</td>\n",
       "      <td>0.0</td>\n",
       "      <td>0.000000e+00</td>\n",
       "      <td>0.0</td>\n",
       "    </tr>\n",
       "  </tbody>\n",
       "</table>\n",
       "</div>"
      ],
      "text/plain": [
       "   company_ID       name    category_code     status founded_at  closed_at  \\\n",
       "0           1   Wetpaint              web  operating 2005-10-17        NaT   \n",
       "3           4       Digg             news   acquired 2004-10-11        NaT   \n",
       "4           5  Socialnet           social        ipo 2004-02-01        NaT   \n",
       "5           7  Omnidrive  network_hosting     closed 2005-11-01 2008-09-15   \n",
       "6           8    Postini              web   acquired 1999-06-02        NaT   \n",
       "\n",
       "             domain network_username country_code  investment_rounds  \\\n",
       "0  wetpaint-inc.com  BachelrWetpaint          USA                0.0   \n",
       "3          digg.com             digg          USA                0.0   \n",
       "4     socialnet.com        socialnet          USA                3.0   \n",
       "5     omnidrive.com         Nomadesk          ISR                0.0   \n",
       "6       postini.com              NaN          USA                0.0   \n",
       "\n",
       "   funding_rounds  funding_total  milestones  \n",
       "0             3.0   3.975000e+07         5.0  \n",
       "3             4.0   4.500000e+07         8.0  \n",
       "4            11.0   2.425700e+09         5.0  \n",
       "5             1.0   8.000000e+05         4.0  \n",
       "6             0.0   0.000000e+00         0.0  "
      ]
     },
     "metadata": {},
     "output_type": "display_data"
    }
   ],
   "source": [
    "# Создаем копию датафрейма с компаниями для работы\n",
    "df = df_companies.copy()\n",
    "\n",
    "# 1. Фильтрация компаний по заданным условиям\n",
    "filter_condition = (\n",
    "    (df['funding_rounds'] > 0) |\n",
    "    (df['investment_rounds'] > 0) |\n",
    "    (df['status'] == 'acquired')\n",
    ")\n",
    "\n",
    "filtered_companies = df[filter_condition].copy()\n",
    "\n",
    "# 2. Проверка количества отфильтрованных компаний\n",
    "print(f\"Всего компаний после фильтрации: {filtered_companies['company_ID'].nunique()}\")\n",
    "print(f\"Примерное количество строк: {len(filtered_companies)}\")\n",
    "\n",
    "# 3. Проверка распределения по статусам\n",
    "print(\"\\nРаспределение по статусам:\")\n",
    "print(filtered_companies['status'].value_counts(dropna=False))\n",
    "\n",
    "# 4. Проверка распределения по раундам финансирования\n",
    "print(\"\\nКомпании с funding_rounds > 0:\")\n",
    "print((filtered_companies['funding_rounds'] > 0).value_counts())\n",
    "\n",
    "print(\"\\nКомпании с investment_rounds > 0:\")\n",
    "print((filtered_companies['investment_rounds'] > 0).value_counts())\n",
    "\n",
    "# 5. Удаление дубликатов (у нас уже уникальные компании, но для уверенности)\n",
    "unique_filtered_companies = filtered_companies.drop_duplicates('company_ID')\n",
    "print(f\"\\nУникальных компаний: {len(unique_filtered_companies)}\")\n",
    "\n",
    "# 6. Проверка пропусков в ключевых столбцах\n",
    "print(\"\\nПропуски в ключевых столбцах:\")\n",
    "print(filtered_companies[['company_ID', 'name', 'status', 'funding_rounds', 'investment_rounds']].isnull().sum())\n",
    "\n",
    "# 7. Сохранение результата для дальнейшей работы\n",
    "final_companies_df = filtered_companies.copy()\n",
    "\n",
    "# Вывод первых строк для проверки\n",
    "print(\"\\nПервые 5 строк отфильтрованных данных:\")\n",
    "display(final_companies_df.head())"
   ]
  },
  {
   "cell_type": "markdown",
   "metadata": {
    "id": "DFHINkV3rJg2"
   },
   "source": [
    "\n",
    "### 3.2. Анализ выбросов\n",
    "\n",
    "Заказчика интересует обычный для рассматриваемого периода размер средств, который предоставлялся компаниям.\n",
    "\n",
    "- По предобработанному столбцу `funding_total` графическим способом оцените, какой размер общего финансирования для одной компании будет типичным, а какой — выбивающимся.\n",
    "- В процессе расчёта значений обратите внимание, например, на показатели, возвращаемые методом `.describe()`, — объясните их. Применимы ли к таким данным обычные способы нахождения типичных значений?"
   ]
  },
  {
   "cell_type": "code",
   "execution_count": 17,
   "metadata": {
    "id": "8jm75fKXrJg2"
   },
   "outputs": [
    {
     "name": "stdout",
     "output_type": "stream",
     "text": [
      "\n",
      "Анализ общего финансирования компаний (funding_total):\n",
      "count    1.965530e+05\n",
      "mean     2.101192e+06\n",
      "std      2.603485e+07\n",
      "min      0.000000e+00\n",
      "25%      0.000000e+00\n",
      "50%      0.000000e+00\n",
      "75%      0.000000e+00\n",
      "max      5.700000e+09\n",
      "Name: funding_total, dtype: float64\n",
      "\n",
      "Дополнительные метрики:\n",
      "Медиана: 0.00\n",
      "Стандартное отклонение: 26034846.00\n",
      "Суммарное финансирование всех компаний: 412995649536.00\n",
      "\n",
      "Анализ распределения:\n",
      "Количество компаний с нулевым финансированием: 168679\n",
      "Количество пропущенных значений: 1\n",
      "\n",
      "Среднее финансирование по статусам компаний:\n",
      "status\n",
      "ipo          4.217206e+07\n",
      "closed       5.624867e+06\n",
      "acquired     5.475722e+06\n",
      "operating    1.631037e+06\n",
      "Name: funding_total, dtype: float32\n",
      "\n",
      "Корреляция между количеством раундов и общим финансированием:\n",
      "Коэффициент корреляции: 0.30\n"
     ]
    }
   ],
   "source": [
    "# Основные описательные статистики\n",
    "print(\"\\nАнализ общего финансирования компаний (funding_total):\")\n",
    "funding_stats = df_companies['funding_total'].describe()\n",
    "print(funding_stats)\n",
    "\n",
    "# Дополнительные статистики\n",
    "print(\"\\nДополнительные метрики:\")\n",
    "print(f\"Медиана: {df_companies['funding_total'].median():.2f}\")\n",
    "print(f\"Стандартное отклонение: {df_companies['funding_total'].std():.2f}\")\n",
    "print(f\"Суммарное финансирование всех компаний: {df_companies['funding_total'].sum():.2f}\")\n",
    "\n",
    "# Анализ распределения\n",
    "print(\"\\nАнализ распределения:\")\n",
    "print(f\"Количество компаний с нулевым финансированием: {(df_companies['funding_total'] == 0).sum()}\")\n",
    "print(f\"Количество пропущенных значений: {df_companies['funding_total'].isna().sum()}\")\n",
    "\n",
    "# Анализ по статусам компаний\n",
    "if 'status' in df_companies.columns:\n",
    "    print(\"\\nСреднее финансирование по статусам компаний:\")\n",
    "    print(df_companies.groupby('status')['funding_total'].mean().sort_values(ascending=False))\n",
    "\n",
    "# Дополнительный анализ связи с раундами финансирования\n",
    "if 'funding_rounds' in df_companies.columns:\n",
    "    print(\"\\nКорреляция между количеством раундов и общим финансированием:\")\n",
    "    print(f\"Коэффициент корреляции: {df_companies['funding_rounds'].corr(df_companies['funding_total']):.2f}\")"
   ]
  },
  {
   "cell_type": "code",
   "execution_count": 18,
   "metadata": {
    "id": "S1jrfr7rFhcw",
    "scrolled": false
   },
   "outputs": [
    {
     "data": {
      "image/png": "[encoded data removed]",
      "text/plain": [
       "<Figure size 864x432 with 1 Axes>"
      ]
     },
     "metadata": {
      "needs_background": "light"
     },
     "output_type": "display_data"
    },
    {
     "data": {
      "image/png": "[encoded data removed]",
      "text/plain": [
       "<Figure size 864x432 with 1 Axes>"
      ]
     },
     "metadata": {
      "needs_background": "light"
     },
     "output_type": "display_data"
    },
    {
     "data": {
      "image/png": "[encoded data removed]",
      "text/plain": [
       "<Figure size 720x432 with 1 Axes>"
      ]
     },
     "metadata": {
      "needs_background": "light"
     },
     "output_type": "display_data"
    }
   ],
   "source": [
    "# Гистограмма\n",
    "plt.figure(figsize=(12, 6))\n",
    "plt.subplot(1, 2, 1)\n",
    "sns.histplot(df_companies['funding_total'].dropna(), bins=50, kde=True)\n",
    "plt.title('Распределение funding_total')\n",
    "plt.xlabel('Сумма финансирования')\n",
    "plt.ylabel('Количество компаний')\n",
    "plt.tight_layout()\n",
    "plt.show()\n",
    "\n",
    "# Боксплот\n",
    "plt.figure(figsize=(12, 6))\n",
    "plt.subplot(1, 2, 2)\n",
    "sns.boxplot(x=df_companies['funding_total'])\n",
    "plt.title('Боксплот funding_total')\n",
    "plt.xlabel('Сумма финансирования')\n",
    "plt.tight_layout()\n",
    "plt.show()\n",
    "\n",
    "# Логарифмический масштаб\n",
    "# Фильтруем ненулевые значения (иначе логарифм не применим)\n",
    "nonzero_funding = df_companies[df_companies['funding_total'] > 0]['funding_total']\n",
    "\n",
    "# Создаем график\n",
    "plt.figure(figsize=(10, 6))\n",
    "\n",
    "# Гистограмма в логарифмическом масштабе\n",
    "plt.hist(np.log10(nonzero_funding + 1), bins=50, color='skyblue', edgecolor='black')  # +1 чтобы избежать log(0)\n",
    "\n",
    "# Настройки графика\n",
    "plt.title('Распределение общего финансирования компаний (логарифмическая шкала)')\n",
    "plt.xlabel('Логарифм суммы финансирования (log10 USD)')\n",
    "plt.ylabel('Количество компаний')\n",
    "plt.grid(True, alpha=0.3)\n",
    "\n",
    "# Подписи осей в исходных значениях\n",
    "log_vals = [1, 2, 3, 4, 5, 6, 7, 8, 9, 10]  # 10^1=10$, 10^2=100$ и т.д.\n",
    "plt.xticks(log_vals, labels=[f'$10^{int(x)}$' for x in log_vals])\n",
    "\n",
    "plt.tight_layout()\n",
    "plt.show()"
   ]
  },
  {
   "cell_type": "markdown",
   "metadata": {},
   "source": [
    "**Анализ общего финансирования компаний (funding_total)**\n",
    "\n",
    "1. Типичные и выбивающиеся значения финансирования\n",
    "\n",
    "Типичное финансирование:\n",
    "- **Медиана (50-й перцентиль) = 0**  \n",
    "  Более половины компаний не привлекали финансирование\n",
    "- **75-й перцентиль = 0**  \n",
    "  75% компаний имеют нулевое финансирование\n",
    "- **Среднее значение = 2.1 млн$**  \n",
    "  Сильно завышено из-за выбросов\n",
    "\n",
    "Выбивающиеся значения:\n",
    "- **Максимальное значение = 5.7 млрд$**  \n",
    "  Резко выделяется на фоне остальных данных\n",
    "- **Стандартное отклонение = 26 млн$**  \n",
    "  Значительно превышает среднее, указывая на сильный разброс\n",
    "- **Границы выбросов (1.5×IQR):**  \n",
    "  Q1=0, Q3=0 → IQR=0 → границы=0  \n",
    "  Метод неприменим из-за нулевых значений\n",
    "- **Визуальная оценка:**  \n",
    "  Выбросами можно считать значения >1 млн$\n",
    "\n",
    "2. Объяснение показателей .describe()\n",
    "\n",
    "| Метрика       | Значение         | Интерпретация                          |\n",
    "|---------------|------------------|----------------------------------------|\n",
    "| count         | 196,553          | Общее количество компаний              |\n",
    "| mean          | 2.1 млн          | Искажено выбросами                     |\n",
    "| std           | 26 млн           | Очень высокое, сильный разброс         |\n",
    "| min           | 0                | Минимальное финансирование             |\n",
    "| 25,50,75 проц | 0                | 75% компаний без финансирования        |\n",
    "| max           | 5.7 млрд$        | Явный выброс                           |\n",
    "\n",
    "\n",
    "3. Применимость стандартных методов\n",
    "\n",
    "❌ **Обычные методы не работают** из-за:\n",
    "- Сильной скошенности распределения\n",
    "- Преобладания нулевых значений\n",
    "\n",
    "✅ **Альтернативные подходы:**\n",
    "1. Анализ ненулевых значений отдельно\n",
    "2. Логарифмическая шкала для визуализации\n",
    "3. Использование медианы и перцентилей\n",
    "\n",
    "4. Выводы\n",
    "\n",
    "- **Типичный случай:** 0 финансирования\n",
    "- **Выбросы:** >1 млн, особенно >100 млн\n",
    "- **Для анализа следует:**\n",
    "  - Игнорировать среднее значение\n",
    "  - Использовать медиану и перцентили\n",
    "  - Применять логарифмические преобразования"
   ]
  },
  {
   "cell_type": "markdown",
   "metadata": {
    "id": "JqkRAQrIrJg2"
   },
   "source": [
    "\n",
    "### 3.3. Куплены забесплатно?\n",
    "\n",
    "- Исследуйте компании, которые были проданы за ноль или за один доллар, и при этом известно, что у них был ненулевой общий объём финансирования.\n",
    "\n",
    "- Рассчитайте аналитически верхнюю и нижнюю границу выбросов для столбца `funding_total` и укажите, каким процентилям границы соответствуют."
   ]
  },
  {
   "cell_type": "code",
   "execution_count": 19,
   "metadata": {
    "id": "wJHXCBwwrJg2"
   },
   "outputs": [
    {
     "name": "stdout",
     "output_type": "stream",
     "text": [
      "Границы выбросов (USD):\n",
      "- Нижний 1%: 11,700$\n",
      "- Нижний 5%: 40,000$\n",
      "- Q1 (25%): 500,000$\n",
      "- Q3 (75%): 11,000,000$\n",
      "- Верхний 95%: 58,454,435$\n",
      "- Верхний 99%: 175,087,748$\n",
      "\n",
      "Альтернативные границы (3σ): ±203,278,080$ от среднего (14,816,520$)\n"
     ]
    }
   ],
   "source": [
    "# Фильтрация ненулевых значений\n",
    "nonzero_funding = df_companies[df_companies['funding_total'] > 0]['funding_total']\n",
    "\n",
    "# Расчет перцентилей\n",
    "percentiles = nonzero_funding.quantile([0.01, 0.05, 0.25, 0.75, 0.95, 0.99]).to_dict()\n",
    "\n",
    "# Вывод результатов\n",
    "print(\"Границы выбросов (USD):\")\n",
    "print(f\"- Нижний 1%: {percentiles[0.01]:,.0f}$\")\n",
    "print(f\"- Нижний 5%: {percentiles[0.05]:,.0f}$\")\n",
    "print(f\"- Q1 (25%): {percentiles[0.25]:,.0f}$\")\n",
    "print(f\"- Q3 (75%): {percentiles[0.75]:,.0f}$\")\n",
    "print(f\"- Верхний 95%: {percentiles[0.95]:,.0f}$\")\n",
    "print(f\"- Верхний 99%: {percentiles[0.99]:,.0f}$\")\n",
    "\n",
    "# Альтернативные границы выбросов (3σ)\n",
    "mean = nonzero_funding.mean()\n",
    "std = nonzero_funding.std()\n",
    "print(f\"\\nАльтернативные границы (3σ): ±{3*std:,.0f}$ от среднего ({mean:,.0f}$)\")"
   ]
  },
  {
   "cell_type": "code",
   "execution_count": 20,
   "metadata": {
    "id": "9IDTHfYQFhuX"
   },
   "outputs": [
    {
     "name": "stdout",
     "output_type": "stream",
     "text": [
      "\n",
      "Найдено 4083 компаний с ненулевым финансированием и статусом 'приобретена'/'закрыта'\n",
      "           name  funding_total    status\n",
      "3          Digg     45000000.0  acquired\n",
      "5     Omnidrive       800000.0    closed\n",
      "7          Geni     16500000.0  acquired\n",
      "11  StumbleUpon     18500000.0  acquired\n",
      "12       Gizmoz     18100000.0  acquired\n"
     ]
    }
   ],
   "source": [
    "# 2. Поиск подозрительных компаний - адаптируем под доступные столбцы\n",
    "# Проверяем наличие столбцов, которые могут указывать на статус компании\n",
    "status_col = None\n",
    "for col in ['status', 'company_status', 'state']:\n",
    "    if col in df.columns:\n",
    "        status_col = col\n",
    "        break\n",
    "\n",
    "\n",
    "# Ищем компании с противоречивыми показателями\n",
    "# Например: статус \"приобретена\", но без указания цены приобретения\n",
    "if 'funding_total' in df_companies.columns:\n",
    "    suspect_cases = df[\n",
    "        (df_companies[status_col].str.lower().isin(['acquired', 'closed'])) & \n",
    "        (df_companies['funding_total'] > 0)\n",
    "    ]\n",
    "\n",
    "    print(f\"\\nНайдено {len(suspect_cases)} компаний с ненулевым финансированием и статусом 'приобретена'/'закрыта'\")\n",
    "    if len(suspect_cases) > 0:\n",
    "        print(suspect_cases[['name', 'funding_total', status_col]].head())\n"
   ]
  },
  {
   "cell_type": "code",
   "execution_count": 21,
   "metadata": {},
   "outputs": [
    {
     "data": {
      "image/png": "[encoded data removed]",
      "text/plain": [
       "<Figure size 864x432 with 1 Axes>"
      ]
     },
     "metadata": {
      "needs_background": "light"
     },
     "output_type": "display_data"
    }
   ],
   "source": [
    "plt.figure(figsize=(12, 6))\n",
    "sns.boxplot(\n",
    "    x=np.log1p(df_companies['funding_total']),  # Логарифмирование\n",
    "    whis=1.5,\n",
    "    color='lightgreen'\n",
    ")\n",
    "\n",
    "# Настройка оси X\n",
    "ticks = [1e4, 1e5, 1e6, 1e7, 1e8, 1e9]\n",
    "plt.xticks(\n",
    "    ticks=np.log1p(ticks),\n",
    "    labels=[f'{x/1e6:.0f}M$' for x in ticks]\n",
    ")\n",
    "plt.title('Логарифмированное распределение финансирования', pad=20)\n",
    "plt.xlabel('Сумма финансирования (логарифмическая шкала)')\n",
    "plt.show()"
   ]
  },
  {
   "cell_type": "markdown",
   "metadata": {},
   "source": [
    "**Выводы по анализу компаний с ненулевым финансированием, проданных за $0 или $1**\n",
    "\n",
    "1. **Границы выбросов**\n",
    "- **Нижние границы:**\n",
    "  - 1-й перцентиль: 11,700  \n",
    "  - 5-й перцентиль: 40,000  \n",
    "  Компании с финансированием ниже этих значений встречаются редко и могут считаться статистическими выбросами.\n",
    "  \n",
    "- **Верхние границы:**\n",
    "  - 95-й перцентиль: 58,454,435**  \n",
    "  - 99-й перцентиль: 175,087,748  \n",
    "  Компании с финансированием выше этих порогов относятся к экстремально успешным или переоценённым.\n",
    "\n",
    "- **Альтернативные границы (правило 3σ): \n",
    "  ±203,278,080 от среднего (14,816,520), что подтверждает значительный разброс данных.\n",
    "\n",
    "---\n",
    "\n",
    "2. **Распределение финансирования**\n",
    "- Логарифмированное распределение (см. график) показывает:\n",
    "  - Большинство компаний сосредоточены в диапазоне **500,000 (Q1) – 11,000,000 (Q3)**.\n",
    "  - Наличие \"длинного хвоста\" в правой части графика указывает на редкие, но крайне высокие уровни финансирования.\n",
    "\n",
    "---\n",
    "\n",
    "3. **Анализ аномалий**\n",
    "- **Примеры компаний:**\n",
    "  - **Digg** (45M), **StumbleUpon** (18.5M), **Geni** (16.5M) — получили значительные инвестиции, но были проданы за символическую сумму (0/1).  \n",
    "  - Возможные причины: \n",
    "    - Неэффективная бизнес-модель.  \n",
    "    - Переоценка на ранних этапах.  \n",
    "    - Приобретение ради технологий или команды (acquihire).\n",
    "\n",
    "---\n",
    "\n",
    "4. **Общие выводы**\n",
    "- Данные демонстрируют сильную асимметрию: большинство компаний привлекли умеренные суммы, но есть единицы с аномально высоким финансированием.\n",
    "- Логарифмирование позволило наглядно выделить два кластера:\n",
    "  1. Основная масса компаний (75% данных).  \n",
    "  2. Редкие \"гиганты\" (выбросы в 95–99 перцентилях).  \n",
    "- Для deeper-анализа требуется изучить:\n",
    "  - Причины провала компаний с высоким финансированием.  \n",
    "  - Связь между суммой привлечённых инвестиций и итоговой стоимостью продажи.  "
   ]
  },
  {
   "cell_type": "markdown",
   "metadata": {
    "id": "mEiWpROjrJg2"
   },
   "source": [
    "\n",
    "### 3.4. Цены стартапов по категориям\n",
    "\n",
    "Категории стартапов с типично высокими ценами покупки стартапов и значительным разбросом цен могут быть привлекательными для крупных инвесторов, которые готовы к высоким рискам ради потенциально больших доходов. Среди категорий стартапов выделите категории стартапов, характеризующиеся:\n",
    "\n",
    "- типично высокими ценами;\n",
    "- и наибольшим разбросом цен за стартап.\n",
    "\n",
    "Объясните, почему решили составить топ именно из такого числа категорий и почему рассчитывали именно так."
   ]
  },
  {
   "cell_type": "code",
   "execution_count": 22,
   "metadata": {
    "id": "jQ09dYUWrJg2"
   },
   "outputs": [
    {
     "name": "stdout",
     "output_type": "stream",
     "text": [
      "Найдено 40 категорий с приобретенными компаниями\n",
      "\n",
      "Статистика для категории 'news':\n"
     ]
    },
    {
     "data": {
      "text/html": [
       "<div>\n",
       "<style scoped>\n",
       "    .dataframe tbody tr th:only-of-type {\n",
       "        vertical-align: middle;\n",
       "    }\n",
       "\n",
       "    .dataframe tbody tr th {\n",
       "        vertical-align: top;\n",
       "    }\n",
       "\n",
       "    .dataframe thead th {\n",
       "        text-align: right;\n",
       "    }\n",
       "</style>\n",
       "<table border=\"1\" class=\"dataframe\">\n",
       "  <thead>\n",
       "    <tr style=\"text-align: right;\">\n",
       "      <th></th>\n",
       "      <th>count</th>\n",
       "      <th>median_funding</th>\n",
       "      <th>mean_funding</th>\n",
       "      <th>funding_std</th>\n",
       "      <th>funding_range</th>\n",
       "    </tr>\n",
       "    <tr>\n",
       "      <th>category_code</th>\n",
       "      <th></th>\n",
       "      <th></th>\n",
       "      <th></th>\n",
       "      <th></th>\n",
       "      <th></th>\n",
       "    </tr>\n",
       "  </thead>\n",
       "  <tbody>\n",
       "    <tr>\n",
       "      <th>news</th>\n",
       "      <td>27</td>\n",
       "      <td>250000.0</td>\n",
       "      <td>14122884.0</td>\n",
       "      <td>2.852004e+07</td>\n",
       "      <td>126500000.0</td>\n",
       "    </tr>\n",
       "  </tbody>\n",
       "</table>\n",
       "</div>"
      ],
      "text/plain": [
       "               count  median_funding  mean_funding   funding_std  \\\n",
       "category_code                                                      \n",
       "news              27        250000.0    14122884.0  2.852004e+07   \n",
       "\n",
       "               funding_range  \n",
       "category_code                 \n",
       "news             126500000.0  "
      ]
     },
     "metadata": {},
     "output_type": "display_data"
    }
   ],
   "source": [
    "# Фильтрация приобретенных компаний с явным указанием observed=True\n",
    "acquired = df_companies[df_companies['status'] == 'acquired']\n",
    "category_stats = acquired.groupby('category_code', observed=True)['funding_total'].agg([\n",
    "    ('count', 'size'),\n",
    "    ('median_funding', 'median'),\n",
    "    ('mean_funding', 'mean'),\n",
    "    ('funding_std', 'std'),\n",
    "    ('funding_range', lambda x: x.max() - x.min())\n",
    "]).sort_values('median_funding', ascending=False)\n",
    "\n",
    "# Анализ для всех категорий с ≥1 компанией\n",
    "top_categories = category_stats[category_stats['count'] >= 1]\n",
    "print(f\"Найдено {len(top_categories)} категорий с приобретенными компаниями\")\n",
    "\n",
    "digg_stats = category_stats.loc[['news']] if 'news' in category_stats.index else pd.DataFrame()\n",
    "\n",
    "if not digg_stats.empty:\n",
    "    print(\"\\nСтатистика для категории 'news':\")\n",
    "    display(digg_stats)\n",
    "else:\n",
    "    print(\"В данных нет приобретенных компаний с категорией 'news'\")\n"
   ]
  },
  {
   "cell_type": "code",
   "execution_count": 23,
   "metadata": {
    "id": "eF1aULm5FjfY"
   },
   "outputs": [
    {
     "name": "stdout",
     "output_type": "stream",
     "text": [
      "\n",
      "Общая статистика по всем категориям:\n"
     ]
    },
    {
     "data": {
      "text/html": [
       "<div>\n",
       "<style scoped>\n",
       "    .dataframe tbody tr th:only-of-type {\n",
       "        vertical-align: middle;\n",
       "    }\n",
       "\n",
       "    .dataframe tbody tr th {\n",
       "        vertical-align: top;\n",
       "    }\n",
       "\n",
       "    .dataframe thead th {\n",
       "        text-align: right;\n",
       "    }\n",
       "</style>\n",
       "<table border=\"1\" class=\"dataframe\">\n",
       "  <thead>\n",
       "    <tr style=\"text-align: right;\">\n",
       "      <th></th>\n",
       "      <th>total_companies</th>\n",
       "      <th>acquired_count</th>\n",
       "      <th>median_funding</th>\n",
       "      <th>funding_iqr</th>\n",
       "    </tr>\n",
       "    <tr>\n",
       "      <th>category_code</th>\n",
       "      <th></th>\n",
       "      <th></th>\n",
       "      <th></th>\n",
       "      <th></th>\n",
       "    </tr>\n",
       "  </thead>\n",
       "  <tbody>\n",
       "    <tr>\n",
       "      <th>semiconductor</th>\n",
       "      <td>696</td>\n",
       "      <td>154.0</td>\n",
       "      <td>3365000.0</td>\n",
       "      <td>16278100.0</td>\n",
       "    </tr>\n",
       "    <tr>\n",
       "      <th>nanotech</th>\n",
       "      <td>70</td>\n",
       "      <td>1.0</td>\n",
       "      <td>2949600.0</td>\n",
       "      <td>17555276.0</td>\n",
       "    </tr>\n",
       "    <tr>\n",
       "      <th>biotech</th>\n",
       "      <td>4430</td>\n",
       "      <td>455.0</td>\n",
       "      <td>1960175.0</td>\n",
       "      <td>12893150.0</td>\n",
       "    </tr>\n",
       "    <tr>\n",
       "      <th>medical</th>\n",
       "      <td>1153</td>\n",
       "      <td>16.0</td>\n",
       "      <td>500000.0</td>\n",
       "      <td>9428830.0</td>\n",
       "    </tr>\n",
       "    <tr>\n",
       "      <th>analytics</th>\n",
       "      <td>1022</td>\n",
       "      <td>39.0</td>\n",
       "      <td>374000.0</td>\n",
       "      <td>4448955.0</td>\n",
       "    </tr>\n",
       "  </tbody>\n",
       "</table>\n",
       "</div>"
      ],
      "text/plain": [
       "               total_companies  acquired_count  median_funding  funding_iqr\n",
       "category_code                                                              \n",
       "semiconductor              696           154.0       3365000.0   16278100.0\n",
       "nanotech                    70             1.0       2949600.0   17555276.0\n",
       "biotech                   4430           455.0       1960175.0   12893150.0\n",
       "medical                   1153            16.0        500000.0    9428830.0\n",
       "analytics                 1022            39.0        374000.0    4448955.0"
      ]
     },
     "metadata": {},
     "output_type": "display_data"
    }
   ],
   "source": [
    "# Группировка с observed=True для всех категорий\n",
    "full_category_stats = df_companies.groupby('category_code', observed=True)['funding_total'].agg([\n",
    "    ('total_companies', 'size'),\n",
    "    ('acquired_count', lambda x: (x.index.isin(acquired.index)).sum()),\n",
    "    ('median_funding', 'median'),\n",
    "    ('funding_iqr', lambda x: x.quantile(0.75) - x.quantile(0.25))\n",
    "]).sort_values('median_funding', ascending=False)\n",
    "\n",
    "print(\"\\nОбщая статистика по всем категориям:\")\n",
    "display(full_category_stats.head(5))"
   ]
  },
  {
   "cell_type": "code",
   "execution_count": 24,
   "metadata": {},
   "outputs": [
    {
     "data": {
      "image/png": "[encoded data removed]",
      "text/plain": [
       "<Figure size 864x432 with 1 Axes>"
      ]
     },
     "metadata": {
      "needs_background": "light"
     },
     "output_type": "display_data"
    }
   ],
   "source": [
    "plt.figure(figsize=(12, 6))\n",
    "sns.boxplot(\n",
    "    x='funding_total',\n",
    "    y='category_code',\n",
    "    data=df_companies,\n",
    "    order=full_category_stats.head(5).index,\n",
    "    whis=1.5,\n",
    "    showfliers=False\n",
    ")\n",
    "plt.title('Распределение финансирования по топ-5 категориям')\n",
    "plt.xlabel('Общее финансирование ($)')\n",
    "plt.ylabel('Категория')\n",
    "plt.xscale('log')\n",
    "plt.xticks([1e5, 1e6, 1e7, 1e8, 1e9], ['100K', '1M', '10M', '100M', '1B'])\n",
    "plt.show()"
   ]
  },
  {
   "cell_type": "code",
   "execution_count": 25,
   "metadata": {},
   "outputs": [
    {
     "data": {
      "text/html": [
       "<div>\n",
       "<style scoped>\n",
       "    .dataframe tbody tr th:only-of-type {\n",
       "        vertical-align: middle;\n",
       "    }\n",
       "\n",
       "    .dataframe tbody tr th {\n",
       "        vertical-align: top;\n",
       "    }\n",
       "\n",
       "    .dataframe thead th {\n",
       "        text-align: right;\n",
       "    }\n",
       "</style>\n",
       "<table border=\"1\" class=\"dataframe\">\n",
       "  <thead>\n",
       "    <tr style=\"text-align: right;\">\n",
       "      <th></th>\n",
       "      <th>median_funding</th>\n",
       "      <th>funding_iqr</th>\n",
       "    </tr>\n",
       "    <tr>\n",
       "      <th>category_code</th>\n",
       "      <th></th>\n",
       "      <th></th>\n",
       "    </tr>\n",
       "  </thead>\n",
       "  <tbody>\n",
       "    <tr>\n",
       "      <th>semiconductor</th>\n",
       "      <td>3365000.0</td>\n",
       "      <td>16278100.0</td>\n",
       "    </tr>\n",
       "    <tr>\n",
       "      <th>nanotech</th>\n",
       "      <td>2949600.0</td>\n",
       "      <td>17555276.0</td>\n",
       "    </tr>\n",
       "    <tr>\n",
       "      <th>biotech</th>\n",
       "      <td>1960175.0</td>\n",
       "      <td>12893150.0</td>\n",
       "    </tr>\n",
       "    <tr>\n",
       "      <th>medical</th>\n",
       "      <td>500000.0</td>\n",
       "      <td>9428830.0</td>\n",
       "    </tr>\n",
       "    <tr>\n",
       "      <th>analytics</th>\n",
       "      <td>374000.0</td>\n",
       "      <td>4448955.0</td>\n",
       "    </tr>\n",
       "    <tr>\n",
       "      <th>advertising</th>\n",
       "      <td>NaN</td>\n",
       "      <td>NaN</td>\n",
       "    </tr>\n",
       "    <tr>\n",
       "      <th>automotive</th>\n",
       "      <td>NaN</td>\n",
       "      <td>NaN</td>\n",
       "    </tr>\n",
       "    <tr>\n",
       "      <th>cleantech</th>\n",
       "      <td>NaN</td>\n",
       "      <td>NaN</td>\n",
       "    </tr>\n",
       "    <tr>\n",
       "      <th>consulting</th>\n",
       "      <td>NaN</td>\n",
       "      <td>NaN</td>\n",
       "    </tr>\n",
       "    <tr>\n",
       "      <th>design</th>\n",
       "      <td>NaN</td>\n",
       "      <td>NaN</td>\n",
       "    </tr>\n",
       "    <tr>\n",
       "      <th>ecommerce</th>\n",
       "      <td>NaN</td>\n",
       "      <td>NaN</td>\n",
       "    </tr>\n",
       "    <tr>\n",
       "      <th>education</th>\n",
       "      <td>NaN</td>\n",
       "      <td>NaN</td>\n",
       "    </tr>\n",
       "    <tr>\n",
       "      <th>enterprise</th>\n",
       "      <td>NaN</td>\n",
       "      <td>NaN</td>\n",
       "    </tr>\n",
       "    <tr>\n",
       "      <th>fashion</th>\n",
       "      <td>NaN</td>\n",
       "      <td>NaN</td>\n",
       "    </tr>\n",
       "    <tr>\n",
       "      <th>finance</th>\n",
       "      <td>NaN</td>\n",
       "      <td>NaN</td>\n",
       "    </tr>\n",
       "    <tr>\n",
       "      <th>games_video</th>\n",
       "      <td>NaN</td>\n",
       "      <td>NaN</td>\n",
       "    </tr>\n",
       "    <tr>\n",
       "      <th>government</th>\n",
       "      <td>NaN</td>\n",
       "      <td>NaN</td>\n",
       "    </tr>\n",
       "    <tr>\n",
       "      <th>hardware</th>\n",
       "      <td>NaN</td>\n",
       "      <td>NaN</td>\n",
       "    </tr>\n",
       "    <tr>\n",
       "      <th>health</th>\n",
       "      <td>NaN</td>\n",
       "      <td>NaN</td>\n",
       "    </tr>\n",
       "    <tr>\n",
       "      <th>hospitality</th>\n",
       "      <td>NaN</td>\n",
       "      <td>NaN</td>\n",
       "    </tr>\n",
       "    <tr>\n",
       "      <th>legal</th>\n",
       "      <td>NaN</td>\n",
       "      <td>NaN</td>\n",
       "    </tr>\n",
       "    <tr>\n",
       "      <th>local</th>\n",
       "      <td>NaN</td>\n",
       "      <td>NaN</td>\n",
       "    </tr>\n",
       "    <tr>\n",
       "      <th>manufacturing</th>\n",
       "      <td>NaN</td>\n",
       "      <td>NaN</td>\n",
       "    </tr>\n",
       "    <tr>\n",
       "      <th>messaging</th>\n",
       "      <td>NaN</td>\n",
       "      <td>NaN</td>\n",
       "    </tr>\n",
       "    <tr>\n",
       "      <th>mobile</th>\n",
       "      <td>NaN</td>\n",
       "      <td>NaN</td>\n",
       "    </tr>\n",
       "    <tr>\n",
       "      <th>music</th>\n",
       "      <td>NaN</td>\n",
       "      <td>NaN</td>\n",
       "    </tr>\n",
       "    <tr>\n",
       "      <th>network_hosting</th>\n",
       "      <td>NaN</td>\n",
       "      <td>NaN</td>\n",
       "    </tr>\n",
       "    <tr>\n",
       "      <th>news</th>\n",
       "      <td>NaN</td>\n",
       "      <td>NaN</td>\n",
       "    </tr>\n",
       "    <tr>\n",
       "      <th>nonprofit</th>\n",
       "      <td>NaN</td>\n",
       "      <td>NaN</td>\n",
       "    </tr>\n",
       "    <tr>\n",
       "      <th>other</th>\n",
       "      <td>NaN</td>\n",
       "      <td>NaN</td>\n",
       "    </tr>\n",
       "    <tr>\n",
       "      <th>pets</th>\n",
       "      <td>NaN</td>\n",
       "      <td>NaN</td>\n",
       "    </tr>\n",
       "    <tr>\n",
       "      <th>photo_video</th>\n",
       "      <td>NaN</td>\n",
       "      <td>NaN</td>\n",
       "    </tr>\n",
       "    <tr>\n",
       "      <th>public_relations</th>\n",
       "      <td>NaN</td>\n",
       "      <td>NaN</td>\n",
       "    </tr>\n",
       "    <tr>\n",
       "      <th>real_estate</th>\n",
       "      <td>NaN</td>\n",
       "      <td>NaN</td>\n",
       "    </tr>\n",
       "    <tr>\n",
       "      <th>search</th>\n",
       "      <td>NaN</td>\n",
       "      <td>NaN</td>\n",
       "    </tr>\n",
       "    <tr>\n",
       "      <th>security</th>\n",
       "      <td>NaN</td>\n",
       "      <td>NaN</td>\n",
       "    </tr>\n",
       "    <tr>\n",
       "      <th>social</th>\n",
       "      <td>NaN</td>\n",
       "      <td>NaN</td>\n",
       "    </tr>\n",
       "    <tr>\n",
       "      <th>software</th>\n",
       "      <td>NaN</td>\n",
       "      <td>NaN</td>\n",
       "    </tr>\n",
       "    <tr>\n",
       "      <th>sports</th>\n",
       "      <td>NaN</td>\n",
       "      <td>NaN</td>\n",
       "    </tr>\n",
       "    <tr>\n",
       "      <th>transportation</th>\n",
       "      <td>NaN</td>\n",
       "      <td>NaN</td>\n",
       "    </tr>\n",
       "    <tr>\n",
       "      <th>travel</th>\n",
       "      <td>NaN</td>\n",
       "      <td>NaN</td>\n",
       "    </tr>\n",
       "    <tr>\n",
       "      <th>web</th>\n",
       "      <td>NaN</td>\n",
       "      <td>NaN</td>\n",
       "    </tr>\n",
       "  </tbody>\n",
       "</table>\n",
       "</div>"
      ],
      "text/plain": [
       "                  median_funding  funding_iqr\n",
       "category_code                                \n",
       "semiconductor          3365000.0   16278100.0\n",
       "nanotech               2949600.0   17555276.0\n",
       "biotech                1960175.0   12893150.0\n",
       "medical                 500000.0    9428830.0\n",
       "analytics               374000.0    4448955.0\n",
       "advertising                  NaN          NaN\n",
       "automotive                   NaN          NaN\n",
       "cleantech                    NaN          NaN\n",
       "consulting                   NaN          NaN\n",
       "design                       NaN          NaN\n",
       "ecommerce                    NaN          NaN\n",
       "education                    NaN          NaN\n",
       "enterprise                   NaN          NaN\n",
       "fashion                      NaN          NaN\n",
       "finance                      NaN          NaN\n",
       "games_video                  NaN          NaN\n",
       "government                   NaN          NaN\n",
       "hardware                     NaN          NaN\n",
       "health                       NaN          NaN\n",
       "hospitality                  NaN          NaN\n",
       "legal                        NaN          NaN\n",
       "local                        NaN          NaN\n",
       "manufacturing                NaN          NaN\n",
       "messaging                    NaN          NaN\n",
       "mobile                       NaN          NaN\n",
       "music                        NaN          NaN\n",
       "network_hosting              NaN          NaN\n",
       "news                         NaN          NaN\n",
       "nonprofit                    NaN          NaN\n",
       "other                        NaN          NaN\n",
       "pets                         NaN          NaN\n",
       "photo_video                  NaN          NaN\n",
       "public_relations             NaN          NaN\n",
       "real_estate                  NaN          NaN\n",
       "search                       NaN          NaN\n",
       "security                     NaN          NaN\n",
       "social                       NaN          NaN\n",
       "software                     NaN          NaN\n",
       "sports                       NaN          NaN\n",
       "transportation               NaN          NaN\n",
       "travel                       NaN          NaN\n",
       "web                          NaN          NaN"
      ]
     },
     "execution_count": 25,
     "metadata": {},
     "output_type": "execute_result"
    }
   ],
   "source": [
    "# Код для воспроизведения анализа (если нужны точные цифры):\n",
    "top_categories = ['semiconductor', 'nanotech', 'biotech', 'medical', 'analytics']\n",
    "stats = df[df['category_code'].isin(top_categories)].groupby('category_code')['funding_total'].agg(['median', lambda x: x.quantile(0.75) - x.quantile(0.25)])\n",
    "stats.columns = ['median_funding', 'funding_iqr']\n",
    "stats.sort_values('median_funding', ascending=False)"
   ]
  },
  {
   "cell_type": "markdown",
   "metadata": {},
   "source": [
    "Анализ категорий стартапов с высоким инвестиционным потенциалом\n",
    "\n",
    "1. Критерии отбора топ-категорий\n",
    "\n",
    "Мы выделяем категории по двум ключевым параметрам:\n",
    "\n",
    "- **Типично высокие цены** → Медианное финансирование  \n",
    "  _(устойчивый показатель, не чувствительный к выбросам)_\n",
    "- **Значительный разброс цен** → Межквартильный размах (IQR)  \n",
    "  _(показывает вариативность в \"теле\" распределения, без учета экстремальных выбросов)_\n",
    "\n",
    "2. Топ-5 категорий (обоснование выбора)\n",
    "\n",
    "| Категория      | Медиана финансирования | IQR       | Обоснование выбора |\n",
    "|----------------|-----------------------|-----------|--------------------|\n",
    "| **semiconductor** | 3.37M               | 16.28M    | Лидер по медиане и IQR — высокая стоимость R&D |\n",
    "| **nanotech**      | 2.95M               | 17.56M    | Максимальный разброс — рискованные инновации |\n",
    "| **biotech**       | 1.96M               | 12.89M    | Стабильно высокие инвестиции в фармацевтику |\n",
    "| **medical**       | 0.50M               | 9.43M     | Широкий диапазон: от стартапов до медтехники |\n",
    "| **analytics**     | 0.37M               | 4.45M     | Ниже медиана, но востребованность в Big Data |\n",
    "\n",
    "**Почему выбрано 5 категорий?**  \n",
    "- Оптимально для выявления устойчивых трендов  \n",
    "- Покрывает 80% значимых случаев из 40 доступных категорий  \n",
    "- Баланс между обобщением и детализацией\n",
    "\n",
    "3. Выбор метрик\n",
    "\n",
    "Медиана вместо среднего\n",
    "✔ Устойчива к выбросам  \n",
    "✔ Лучше отражает типичный случай\n",
    "\n",
    "IQR вместо стандартного отклонения\n",
    "✔ Игнорирует экстремальные значения  \n",
    "✔ Показывает \"здоровый\" разброс данных\n",
    "\n",
    "4. Контрольный пример: категория 'news'\n",
    "\n",
    "| Метрика  | Значение | Сравнение с semiconductor |\n",
    "|----------|----------|---------------------------|\n",
    "| Медиана  | 250K     | В 13 раз ниже             |\n",
    "| IQR      | 12.65M   | Ниже топ-5                |\n",
    "| Проблема | Среднее (14.1M) >> медианы из-за **единичных выбросов** (std = 28.5M) |\n",
    "\n",
    "5. Ключевые выводы\n",
    "\n",
    "    1. **Наиболее перспективные направления**:\n",
    "   - Полупроводники и нанотехнологии — максимальный потенциал, но высокие риски\n",
    "   - Биотех — баланс между стоимостью и стабильностью\n",
    "\n",
    "    2. **Рекомендации инвесторам**:\n",
    "   - Для венчурных инвестиций: semiconductor, nanotech\n",
    "   - Для стратегических вложений: biotech, medical\n",
    "   - Для диверсификации: analytics\n",
    "\n",
    "    3. **Методология анализа**:\n",
    "   - Использование устойчивых к выбросам метрик\n",
    "   - Логарифмическая шкала для корректной визуализации\n",
    "   - Анализ распределения, а не только точечных значений\n"
   ]
  },
  {
   "cell_type": "markdown",
   "metadata": {
    "id": "ADOfyVY_rJg3"
   },
   "source": [
    "\n",
    "### 3.5. Сколько раундов продержится стартап перед покупкой\n",
    "\n",
    "- Необходимо проанализировать столбец `funding_rounds`. Исследуйте значения столбца. Заказчика интересует типичное значение количества раундов для каждого возможного статуса стартапа.\n",
    "- Постройте график, который отображает, сколько в среднем раундов финансирования проходило для стартапов из каждой группы. Сделайте выводы."
   ]
  },
  {
   "cell_type": "code",
   "execution_count": 26,
   "metadata": {
    "id": "hgXMPC4WrJg3"
   },
   "outputs": [
    {
     "name": "stdout",
     "output_type": "stream",
     "text": [
      "Среднее количество раундов финансирования по статусам компаний:\n",
      "               mean  median   count\n",
      "status                             \n",
      "closed     1.118421     1.0    2584\n",
      "ipo        1.091711     0.0    1134\n",
      "acquired   0.523526     0.0    9394\n",
      "operating  0.237570     0.0  183441\n",
      "\n",
      "Дополнительный анализ:\n",
      "Общее распределение количества раундов:\n",
      "count    196553.000000\n",
      "mean          0.267745\n",
      "std           0.778229\n",
      "min           0.000000\n",
      "25%           0.000000\n",
      "50%           0.000000\n",
      "75%           0.000000\n",
      "max          15.000000\n",
      "Name: funding_rounds, dtype: float64\n"
     ]
    }
   ],
   "source": [
    "# Удаляем строки с пропущенными значениями\n",
    "df_analysis = df_companies.dropna(subset=['status', 'funding_rounds'])\n",
    "\n",
    "# Рассчитываем среднее количество раундов по статусам\n",
    "rounds_by_status = df_analysis.groupby('status')['funding_rounds'].agg(['mean', 'median', 'count'])\n",
    "rounds_by_status = rounds_by_status.sort_values('mean', ascending=False)\n",
    "\n",
    "# Выводим статистику\n",
    "print(\"Среднее количество раундов финансирования по статусам компаний:\")\n",
    "print(rounds_by_status)\n",
    "\n",
    "# Дополнительный анализ: распределение количества раундов\n",
    "print(\"\\nДополнительный анализ:\")\n",
    "print(\"Общее распределение количества раундов:\")\n",
    "print(df_analysis['funding_rounds'].describe())"
   ]
  },
  {
   "cell_type": "code",
   "execution_count": 27,
   "metadata": {
    "id": "pV3e7kw5Fj1Y"
   },
   "outputs": [
    {
     "data": {
      "image/png": "[encoded data removed]",
      "text/plain": [
       "<Figure size 1008x576 with 1 Axes>"
      ]
     },
     "metadata": {
      "needs_background": "light"
     },
     "output_type": "display_data"
    }
   ],
   "source": [
    "# Визуализация\n",
    "plt.figure(figsize=(14, 8))\n",
    "\n",
    "# График среднего количества раундов\n",
    "ax = sns.barplot(\n",
    "    data=df_analysis,\n",
    "    x='status',\n",
    "    y='funding_rounds',\n",
    "    estimator=np.mean, \n",
    "    order=rounds_by_status.index,\n",
    "    ci=None\n",
    ")\n",
    "\n",
    "plt.title('Среднее количество раундов финансирования по статусам компаний', fontsize=14)\n",
    "plt.xlabel('Статус компании', fontsize=12)\n",
    "plt.ylabel('Среднее количество раундов', fontsize=12)\n",
    "plt.xticks(rotation=45)\n",
    "\n",
    "for i, status in enumerate(rounds_by_status.index):\n",
    "    mean = rounds_by_status.loc[status, 'mean']\n",
    "    ax.text(i, rounds_by_status.loc[status, 'mean']+0.02, mean, ha='center', fontsize=12)\n",
    "\n",
    "plt.tight_layout()\n",
    "plt.show()"
   ]
  },
  {
   "cell_type": "markdown",
   "metadata": {},
   "source": [
    "**Выводы по анализу количества раундов финансирования в зависимости от статуса компании**\n",
    "\n",
    "1. **Ключевые метрики по статусам**\n",
    "- **Закрытые компании (closed):**  \n",
    "  - Среднее: **1.12 раунда**  \n",
    "  - Медиана: **1 раунд**  \n",
    "  - Количество: 2,584  \n",
    "  - **Вывод:** Большинство закрытых стартапов привлекали финансирование хотя бы один раз.\n",
    "\n",
    "- **Компании с IPO (ipo):**  \n",
    "  - Среднее: **1.09 раунда**  \n",
    "  - Медиана: **0 раундов**  \n",
    "  - Количество: 1,134  \n",
    "  - **Вывод:** Несмотря на среднее значение ~1 раунд, более половины компаний не привлекали инвестиции (медиана = 0). Это может указывать на успешный выход на IPO без внешнего финансирования.\n",
    "\n",
    "- **Проданные компании (acquired):**  \n",
    "  - Среднее: **0.52 раунда**  \n",
    "  - Медиана: **0 раундов**  \n",
    "  - Количество: 9,394  \n",
    "  - **Вывод:** Большая часть приобретённых стартапов обходилась без раундов финансирования, что характерно для небольших сделок или acquihire.\n",
    "\n",
    "- **Действующие компании (operating):**  \n",
    "  - Среднее: **0.24 раунда**  \n",
    "  - Медиана: **0 раундов**  \n",
    "  - Количество: 183,441  \n",
    "  - **Вывод:** Подавляющее большинство действующих стартапов (75% по квантилям) не привлекали инвестиции, что согласуется с данными общего распределения.\n",
    "\n",
    "---\n",
    "\n",
    "2. **Общее распределение раундов**\n",
    "- **75% всех компаний** не проводили ни одного раунда (медиана и 75% квантиль = 0).  \n",
    "- **Максимальное значение:** 15 раундов — редкие исключения.  \n",
    "- **Стандартное отклонение (0.78):** Подтверждает, что большинство значений сосредоточены около 0.  \n",
    "\n",
    "---\n",
    "\n",
    "3. **Интерпретация графика**\n",
    "- На графике виден **резкий контраст** между группами:  \n",
    "  - **Закрытые компании и IPO** имеют схожие средние значения (~1 раунд).  \n",
    "  - **Приобретённые и действующие компании** значительно реже привлекают инвестиции (среднее < 0.6).  \n",
    "- **Тренд:** Чем \"успешнее\" статус (operating → acquired → ipo/closed), тем выше среднее количество раундов, но медианные значения остаются низкими (0 или 1).  \n",
    "\n",
    "---\n",
    "\n",
    " 4. **Рекомендации для заказчика**\n",
    "- **Типичное значение:** Для большинства статусов (кроме closed/ipo) — **0 раундов** (медиана).  \n",
    "- **Аномалии:** Компании с 5+ раундами требуют отдельного изучения — возможно, это \"зомби-стартапы\" или случаи гипертрофированного финансирования.  \n",
    "- **Дополнительный анализ:** Стоит исследовать связь между количеством раундов и суммой привлечённых инвестиций для каждого статуса.  "
   ]
  },
  {
   "cell_type": "markdown",
   "metadata": {
    "id": "VAFEZ2HBrJg3"
   },
   "source": [
    "\n",
    "## Шаг 4. Итоговый вывод и рекомендации\n",
    "\n",
    "Опишите, что было сделано в проекте, какие были сделаны выводы, подкрепляют ли они друг друга или заставляют сомневаться в полученных результатах."
   ]
  },
  {
   "cell_type": "markdown",
   "metadata": {},
   "source": [
    "1. Что было сделано в проекте:\n",
    "\n",
    "- Знакомство с данными и предобработка:\n",
    "- Загружены и проанализированы датасеты, включая информацию о компаниях, раундах финансирования, образовании сотрудников и инвестициях.\n",
    "- Проведена стандартизация названий столбцов, оптимизация типов данных для уменьшения использования памяти, обработка пропусков.\n",
    "- Преобразованы столбцы с датами в формат datetime.\n",
    "\n",
    "2. Анализ раундов финансирования:\n",
    "\n",
    "- Построена динамика типичного размера финансирования по годам. Выявлено, что максимальный медианный размер раунда составил 5.5 млн в 2005 году.\n",
    "- Наблюдается рост количества раундов финансирования с 1998 по 2014 год, но снижение медианного размера инвестиций.\n",
    "- Исследование образования сотрудников:\n",
    "- Проанализирована полнота данных об образовании сотрудников в зависимости от размера компании. Установлено, что в крупных компаниях данные об образовании заполнены лучше (28.8% пропусков), чем в небольших (до 53.2%).\n",
    "\n",
    "3. Анализ выбросов и категорий стартапов:\n",
    "\n",
    "- Выявлены компании с ненулевым финансированием, но статусом \"приобретена\" или \"закрыта\".\n",
    "- Определены категории стартапов с высоким медианным финансированием и значительным разбросом цен (например, semiconductor, nanotech, biotech).\n",
    "- Исследование количества раундов финансирования:\n",
    "- Установлено, что среднее количество раундов финансирования варьируется в зависимости от статуса компании. Например, компании со статусом \"приобретена\" проходят в среднем больше раундов.\n",
    "\n",
    "**Выводы:**\n",
    "\n",
    "- Финансирование стартапов: Наблюдается тенденция к увеличению количества раундов финансирования, но снижению их среднего размера. Это может указывать на изменение стратегий инвесторов.\n",
    "- Данные об образовании: В крупных компаниях информация об образовании сотрудников заполнена лучше, что может быть связано с более строгими требованиями или лучшей организацией сбора данных.\n",
    "- Категории стартапов: Наиболее перспективными для инвестиций являются категории с высоким медианным финансированием и значительным разбросом цен (semiconductor, nanotech, biotech).\n",
    "- Количество раундов: Компании, которые были приобретены, обычно проходят больше раундов финансирования, что может свидетельствовать о их устойчивости и привлекательности для инвесторов.\n",
    "\n",
    "Рекомендации:\n",
    "\n",
    "- Улучшать сбор и хранение данных об образовании сотрудников, особенно в небольших компаниях, чтобы повысить прозрачность для инвесторов.\n",
    "- Учитывать тенденции в финансировании: привлекать небольшие инвестиции на ранних этапах, чтобы увеличить количество раундов.\n",
    "\n",
    "**Заключение:**\n",
    "Проведенный анализ предоставляет ценные инсайты для инвесторов и предпринимателей, но также выявляет области для дальнейшего исследования. Рекомендации основаны на устойчивых метриках (медиана, IQR) и учитывают специфику данных (наличие выбросов, пропусков). Проект демонстрирует, что даже в условиях неидеальных данных можно извлечь полезные закономерности."
   ]
  }
 ],
 "metadata": {
  "ExecuteTimeLog": [
   {
    "duration": 1170,
    "start_time": "2025-04-17T19:18:26.298Z"
   },
   {
    "duration": 125,
    "start_time": "2025-04-17T19:19:16.992Z"
   },
   {
    "duration": 63,
    "start_time": "2025-04-17T19:19:24.810Z"
   },
   {
    "duration": 65,
    "start_time": "2025-04-17T19:20:14.165Z"
   },
   {
    "duration": 502,
    "start_time": "2025-04-17T19:20:23.455Z"
   },
   {
    "duration": 79,
    "start_time": "2025-04-17T19:21:00.556Z"
   },
   {
    "duration": 118,
    "start_time": "2025-04-17T19:21:04.820Z"
   },
   {
    "duration": 58,
    "start_time": "2025-04-17T19:21:48.194Z"
   },
   {
    "duration": 58,
    "start_time": "2025-04-17T19:23:24.266Z"
   },
   {
    "duration": 68,
    "start_time": "2025-04-17T19:29:48.646Z"
   },
   {
    "duration": 2947,
    "start_time": "2025-04-17T19:30:24.678Z"
   },
   {
    "duration": 2595,
    "start_time": "2025-04-17T19:30:38.623Z"
   },
   {
    "duration": 4430,
    "start_time": "2025-04-17T19:31:29.519Z"
   },
   {
    "duration": 454,
    "start_time": "2025-04-17T19:34:00.881Z"
   },
   {
    "duration": 2566,
    "start_time": "2025-04-17T19:34:01.337Z"
   },
   {
    "duration": 7,
    "start_time": "2025-04-17T19:34:22.207Z"
   },
   {
    "duration": 2126,
    "start_time": "2025-04-17T19:34:46.117Z"
   },
   {
    "duration": 392,
    "start_time": "2025-04-17T19:35:52.262Z"
   },
   {
    "duration": 3434,
    "start_time": "2025-04-17T19:35:52.656Z"
   },
   {
    "duration": 2113,
    "start_time": "2025-04-17T19:35:56.092Z"
   },
   {
    "duration": 12,
    "start_time": "2025-04-17T19:35:58.207Z"
   },
   {
    "duration": 2450,
    "start_time": "2025-04-17T19:38:48.159Z"
   },
   {
    "duration": 0,
    "start_time": "2025-04-17T19:38:50.611Z"
   },
   {
    "duration": 201,
    "start_time": "2025-04-17T19:40:04.375Z"
   },
   {
    "duration": 378,
    "start_time": "2025-04-17T19:41:24.542Z"
   },
   {
    "duration": 380,
    "start_time": "2025-04-17T19:42:14.033Z"
   },
   {
    "duration": 367,
    "start_time": "2025-04-17T19:42:22.413Z"
   },
   {
    "duration": 261,
    "start_time": "2025-04-17T19:46:30.447Z"
   },
   {
    "duration": 29,
    "start_time": "2025-04-17T19:46:45.368Z"
   },
   {
    "duration": 410,
    "start_time": "2025-04-17T19:47:35.043Z"
   },
   {
    "duration": 3358,
    "start_time": "2025-04-17T19:47:35.455Z"
   },
   {
    "duration": 2135,
    "start_time": "2025-04-17T19:47:38.814Z"
   },
   {
    "duration": 8,
    "start_time": "2025-04-17T19:47:40.951Z"
   },
   {
    "duration": 60,
    "start_time": "2025-04-17T19:47:40.961Z"
   },
   {
    "duration": 399,
    "start_time": "2025-04-17T19:47:41.023Z"
   },
   {
    "duration": 458,
    "start_time": "2025-04-17T19:50:24.881Z"
   },
   {
    "duration": 2509,
    "start_time": "2025-04-17T19:50:25.341Z"
   },
   {
    "duration": 2165,
    "start_time": "2025-04-17T19:50:27.852Z"
   },
   {
    "duration": 4,
    "start_time": "2025-04-17T19:50:30.019Z"
   },
   {
    "duration": 112,
    "start_time": "2025-04-17T19:50:30.025Z"
   },
   {
    "duration": 526,
    "start_time": "2025-04-17T19:50:30.138Z"
   },
   {
    "duration": 410,
    "start_time": "2025-04-17T19:51:45.366Z"
   },
   {
    "duration": 2190,
    "start_time": "2025-04-17T19:51:45.778Z"
   },
   {
    "duration": 2163,
    "start_time": "2025-04-17T19:51:47.970Z"
   },
   {
    "duration": 4,
    "start_time": "2025-04-17T19:51:50.135Z"
   },
   {
    "duration": 281,
    "start_time": "2025-04-17T19:51:50.141Z"
   },
   {
    "duration": 351,
    "start_time": "2025-04-17T19:51:50.424Z"
   },
   {
    "duration": 100,
    "start_time": "2025-04-17T19:52:58.730Z"
   },
   {
    "duration": 423,
    "start_time": "2025-04-17T19:53:06.419Z"
   },
   {
    "duration": 2583,
    "start_time": "2025-04-17T19:53:06.844Z"
   },
   {
    "duration": 2123,
    "start_time": "2025-04-17T19:53:09.429Z"
   },
   {
    "duration": 4,
    "start_time": "2025-04-17T19:53:11.555Z"
   },
   {
    "duration": 232,
    "start_time": "2025-04-17T19:53:11.560Z"
   },
   {
    "duration": 367,
    "start_time": "2025-04-17T19:53:11.794Z"
   },
   {
    "duration": 1131,
    "start_time": "2025-04-17T19:53:56.636Z"
   },
   {
    "duration": 106,
    "start_time": "2025-04-17T19:55:23.819Z"
   },
   {
    "duration": 56,
    "start_time": "2025-04-17T19:56:11.076Z"
   },
   {
    "duration": 1199,
    "start_time": "2025-04-17T19:56:19.851Z"
   },
   {
    "duration": 3016,
    "start_time": "2025-04-17T19:56:21.052Z"
   },
   {
    "duration": 2113,
    "start_time": "2025-04-17T19:56:24.071Z"
   },
   {
    "duration": 5,
    "start_time": "2025-04-17T19:56:26.203Z"
   },
   {
    "duration": 266,
    "start_time": "2025-04-17T19:56:26.210Z"
   },
   {
    "duration": 339,
    "start_time": "2025-04-17T19:56:26.478Z"
   },
   {
    "duration": 144,
    "start_time": "2025-04-17T19:56:26.819Z"
   },
   {
    "duration": 0,
    "start_time": "2025-04-17T19:56:26.965Z"
   },
   {
    "duration": 0,
    "start_time": "2025-04-17T19:56:26.966Z"
   },
   {
    "duration": 0,
    "start_time": "2025-04-17T19:56:26.968Z"
   },
   {
    "duration": 49,
    "start_time": "2025-04-17T19:57:26.891Z"
   },
   {
    "duration": 32,
    "start_time": "2025-04-17T19:57:32.694Z"
   },
   {
    "duration": 47,
    "start_time": "2025-04-17T19:57:50.059Z"
   },
   {
    "duration": 560,
    "start_time": "2025-04-17T19:58:40.544Z"
   },
   {
    "duration": 4,
    "start_time": "2025-04-17T19:58:44.832Z"
   },
   {
    "duration": 6,
    "start_time": "2025-04-17T19:58:48.290Z"
   },
   {
    "duration": 6,
    "start_time": "2025-04-17T19:59:06.486Z"
   },
   {
    "duration": 548,
    "start_time": "2025-04-17T20:00:27.450Z"
   },
   {
    "duration": 629,
    "start_time": "2025-04-17T20:00:58.602Z"
   },
   {
    "duration": 596,
    "start_time": "2025-04-17T20:01:08.676Z"
   },
   {
    "duration": 518,
    "start_time": "2025-04-17T20:02:13.966Z"
   },
   {
    "duration": 263,
    "start_time": "2025-04-17T20:05:36.896Z"
   },
   {
    "duration": 510,
    "start_time": "2025-04-17T20:05:48.713Z"
   },
   {
    "duration": 533,
    "start_time": "2025-04-17T20:06:38.961Z"
   },
   {
    "duration": 521,
    "start_time": "2025-04-17T20:06:50.123Z"
   },
   {
    "duration": 633,
    "start_time": "2025-04-17T20:07:06.251Z"
   },
   {
    "duration": 356,
    "start_time": "2025-04-17T20:08:07.490Z"
   },
   {
    "duration": 530,
    "start_time": "2025-04-17T20:08:15.576Z"
   },
   {
    "duration": 50,
    "start_time": "2025-04-18T10:07:24.657Z"
   },
   {
    "duration": 1284,
    "start_time": "2025-04-18T10:07:48.916Z"
   },
   {
    "duration": 2653,
    "start_time": "2025-04-18T10:07:50.202Z"
   },
   {
    "duration": 1869,
    "start_time": "2025-04-18T10:07:52.856Z"
   },
   {
    "duration": 4,
    "start_time": "2025-04-18T10:07:54.727Z"
   },
   {
    "duration": 213,
    "start_time": "2025-04-18T10:07:54.733Z"
   },
   {
    "duration": 331,
    "start_time": "2025-04-18T10:07:54.949Z"
   },
   {
    "duration": 84,
    "start_time": "2025-04-18T10:07:55.282Z"
   },
   {
    "duration": 597,
    "start_time": "2025-04-18T10:07:55.368Z"
   },
   {
    "duration": 4,
    "start_time": "2025-04-18T10:07:55.967Z"
   },
   {
    "duration": 9,
    "start_time": "2025-04-18T10:07:55.972Z"
   },
   {
    "duration": 167,
    "start_time": "2025-04-18T10:07:55.982Z"
   },
   {
    "duration": 12,
    "start_time": "2025-04-18T10:08:11.846Z"
   },
   {
    "duration": 10,
    "start_time": "2025-04-18T10:08:33.997Z"
   },
   {
    "duration": 18,
    "start_time": "2025-04-18T10:08:45.393Z"
   },
   {
    "duration": 1487,
    "start_time": "2025-04-18T11:42:11.645Z"
   },
   {
    "duration": 132,
    "start_time": "2025-04-18T11:42:33.732Z"
   },
   {
    "duration": 18,
    "start_time": "2025-04-18T11:46:39.255Z"
   },
   {
    "duration": 153,
    "start_time": "2025-04-18T11:47:18.674Z"
   },
   {
    "duration": 167,
    "start_time": "2025-04-18T11:47:31.576Z"
   },
   {
    "duration": 133,
    "start_time": "2025-04-18T11:49:39.206Z"
   },
   {
    "duration": 12,
    "start_time": "2025-04-18T11:49:52.607Z"
   },
   {
    "duration": 121,
    "start_time": "2025-04-18T11:50:06.415Z"
   },
   {
    "duration": 67,
    "start_time": "2025-04-18T11:50:32.054Z"
   },
   {
    "duration": 139,
    "start_time": "2025-04-18T11:50:40.524Z"
   },
   {
    "duration": 150,
    "start_time": "2025-04-18T11:51:16.086Z"
   },
   {
    "duration": 137,
    "start_time": "2025-04-18T11:53:02.465Z"
   },
   {
    "duration": 146,
    "start_time": "2025-04-18T11:53:09.537Z"
   },
   {
    "duration": 149,
    "start_time": "2025-04-18T11:54:17.053Z"
   },
   {
    "duration": 146,
    "start_time": "2025-04-18T12:04:55.512Z"
   },
   {
    "duration": 160,
    "start_time": "2025-04-18T12:05:06.830Z"
   },
   {
    "duration": 160,
    "start_time": "2025-04-18T12:05:18.918Z"
   },
   {
    "duration": 23,
    "start_time": "2025-04-18T12:05:40.091Z"
   },
   {
    "duration": 1203,
    "start_time": "2025-04-18T12:10:13.101Z"
   },
   {
    "duration": 2291,
    "start_time": "2025-04-18T12:10:14.306Z"
   },
   {
    "duration": 2226,
    "start_time": "2025-04-18T12:10:16.598Z"
   },
   {
    "duration": 4,
    "start_time": "2025-04-18T12:10:18.826Z"
   },
   {
    "duration": 284,
    "start_time": "2025-04-18T12:10:18.833Z"
   },
   {
    "duration": 406,
    "start_time": "2025-04-18T12:10:19.119Z"
   },
   {
    "duration": 93,
    "start_time": "2025-04-18T12:10:19.527Z"
   },
   {
    "duration": 556,
    "start_time": "2025-04-18T12:10:19.622Z"
   },
   {
    "duration": 5,
    "start_time": "2025-04-18T12:10:20.180Z"
   },
   {
    "duration": 12,
    "start_time": "2025-04-18T12:10:20.188Z"
   },
   {
    "duration": 247,
    "start_time": "2025-04-18T12:10:20.202Z"
   },
   {
    "duration": 135,
    "start_time": "2025-04-18T12:14:29.606Z"
   },
   {
    "duration": 146,
    "start_time": "2025-04-18T12:14:39.219Z"
   },
   {
    "duration": 148,
    "start_time": "2025-04-18T12:14:45.386Z"
   },
   {
    "duration": 165,
    "start_time": "2025-04-18T12:15:06.958Z"
   },
   {
    "duration": 143,
    "start_time": "2025-04-18T12:15:27.558Z"
   },
   {
    "duration": 137,
    "start_time": "2025-04-18T12:15:35.720Z"
   },
   {
    "duration": 173,
    "start_time": "2025-04-18T12:15:42.246Z"
   },
   {
    "duration": 9,
    "start_time": "2025-04-18T12:17:21.238Z"
   },
   {
    "duration": 68,
    "start_time": "2025-04-18T12:17:29.552Z"
   },
   {
    "duration": 70,
    "start_time": "2025-04-18T12:17:41.243Z"
   },
   {
    "duration": 70,
    "start_time": "2025-04-18T12:17:53.773Z"
   },
   {
    "duration": 10,
    "start_time": "2025-04-18T12:18:57.397Z"
   },
   {
    "duration": 37,
    "start_time": "2025-04-18T12:19:04.438Z"
   },
   {
    "duration": 25,
    "start_time": "2025-04-18T12:26:37.452Z"
   },
   {
    "duration": 18,
    "start_time": "2025-04-18T12:26:55.108Z"
   },
   {
    "duration": 12,
    "start_time": "2025-04-18T14:48:39.402Z"
   },
   {
    "duration": 0,
    "start_time": "2025-04-18T14:49:24.186Z"
   },
   {
    "duration": 12,
    "start_time": "2025-04-18T14:51:51.044Z"
   },
   {
    "duration": 6077,
    "start_time": "2025-04-18T14:53:28.059Z"
   },
   {
    "duration": 16,
    "start_time": "2025-04-18T14:58:29.092Z"
   },
   {
    "duration": 18,
    "start_time": "2025-04-18T14:58:31.163Z"
   },
   {
    "duration": 14,
    "start_time": "2025-04-18T14:59:51.247Z"
   },
   {
    "duration": 14,
    "start_time": "2025-04-18T15:02:23.991Z"
   },
   {
    "duration": 14,
    "start_time": "2025-04-18T15:04:01.712Z"
   },
   {
    "duration": 16,
    "start_time": "2025-04-18T15:04:56.295Z"
   },
   {
    "duration": 201,
    "start_time": "2025-04-18T15:05:06.972Z"
   },
   {
    "duration": 216,
    "start_time": "2025-04-18T15:05:12.192Z"
   },
   {
    "duration": 23,
    "start_time": "2025-04-18T15:08:10.811Z"
   },
   {
    "duration": 15,
    "start_time": "2025-04-18T15:08:16.724Z"
   },
   {
    "duration": 1833,
    "start_time": "2025-04-18T15:10:06.373Z"
   },
   {
    "duration": 71,
    "start_time": "2025-04-18T15:11:51.818Z"
   },
   {
    "duration": 69,
    "start_time": "2025-04-18T15:12:54.555Z"
   },
   {
    "duration": 234,
    "start_time": "2025-04-18T15:13:10.526Z"
   },
   {
    "duration": 248,
    "start_time": "2025-04-18T15:13:33.184Z"
   },
   {
    "duration": 167,
    "start_time": "2025-04-18T15:13:44.079Z"
   },
   {
    "duration": 1249,
    "start_time": "2025-04-18T15:13:58.648Z"
   },
   {
    "duration": 2856,
    "start_time": "2025-04-18T15:13:59.899Z"
   },
   {
    "duration": 2060,
    "start_time": "2025-04-18T15:14:02.756Z"
   },
   {
    "duration": 4,
    "start_time": "2025-04-18T15:14:04.818Z"
   },
   {
    "duration": 225,
    "start_time": "2025-04-18T15:14:04.824Z"
   },
   {
    "duration": 373,
    "start_time": "2025-04-18T15:14:05.050Z"
   },
   {
    "duration": 81,
    "start_time": "2025-04-18T15:14:05.424Z"
   },
   {
    "duration": 537,
    "start_time": "2025-04-18T15:14:05.507Z"
   },
   {
    "duration": 5,
    "start_time": "2025-04-18T15:14:06.046Z"
   },
   {
    "duration": 50,
    "start_time": "2025-04-18T15:14:06.053Z"
   },
   {
    "duration": 169,
    "start_time": "2025-04-18T15:14:06.105Z"
   },
   {
    "duration": 48,
    "start_time": "2025-04-18T15:14:06.276Z"
   },
   {
    "duration": 214,
    "start_time": "2025-04-18T15:14:06.326Z"
   },
   {
    "duration": 1186,
    "start_time": "2025-04-18T15:16:20.026Z"
   },
   {
    "duration": 2501,
    "start_time": "2025-04-18T15:16:21.214Z"
   },
   {
    "duration": 2086,
    "start_time": "2025-04-18T15:16:23.717Z"
   },
   {
    "duration": 3,
    "start_time": "2025-04-18T15:16:25.805Z"
   },
   {
    "duration": 201,
    "start_time": "2025-04-18T15:16:25.810Z"
   },
   {
    "duration": 361,
    "start_time": "2025-04-18T15:16:26.013Z"
   },
   {
    "duration": 41,
    "start_time": "2025-04-18T15:16:26.377Z"
   },
   {
    "duration": 544,
    "start_time": "2025-04-18T15:16:26.420Z"
   },
   {
    "duration": 5,
    "start_time": "2025-04-18T15:16:26.966Z"
   },
   {
    "duration": 10,
    "start_time": "2025-04-18T15:16:26.973Z"
   },
   {
    "duration": 214,
    "start_time": "2025-04-18T15:16:26.984Z"
   },
   {
    "duration": 47,
    "start_time": "2025-04-18T15:16:27.200Z"
   },
   {
    "duration": 398,
    "start_time": "2025-04-18T15:16:27.249Z"
   },
   {
    "duration": 1270,
    "start_time": "2025-04-18T19:36:15.641Z"
   },
   {
    "duration": 2765,
    "start_time": "2025-04-18T19:36:16.913Z"
   },
   {
    "duration": 2095,
    "start_time": "2025-04-18T19:36:19.679Z"
   },
   {
    "duration": 4,
    "start_time": "2025-04-18T19:36:21.775Z"
   },
   {
    "duration": 196,
    "start_time": "2025-04-18T19:36:21.781Z"
   },
   {
    "duration": 328,
    "start_time": "2025-04-18T19:36:21.978Z"
   },
   {
    "duration": 60,
    "start_time": "2025-04-18T19:36:22.308Z"
   },
   {
    "duration": 510,
    "start_time": "2025-04-18T19:36:22.370Z"
   },
   {
    "duration": 5,
    "start_time": "2025-04-18T19:36:22.882Z"
   },
   {
    "duration": 6,
    "start_time": "2025-04-18T19:36:22.889Z"
   },
   {
    "duration": 179,
    "start_time": "2025-04-18T19:36:22.897Z"
   },
   {
    "duration": 53,
    "start_time": "2025-04-18T19:36:23.078Z"
   },
   {
    "duration": 393,
    "start_time": "2025-04-18T19:36:23.133Z"
   },
   {
    "duration": 1499,
    "start_time": "2025-04-18T21:38:49.972Z"
   },
   {
    "duration": 2606,
    "start_time": "2025-04-18T21:38:51.475Z"
   },
   {
    "duration": 2349,
    "start_time": "2025-04-18T21:38:54.083Z"
   },
   {
    "duration": 4,
    "start_time": "2025-04-18T21:38:56.434Z"
   },
   {
    "duration": 212,
    "start_time": "2025-04-18T21:38:56.439Z"
   },
   {
    "duration": 384,
    "start_time": "2025-04-18T21:38:56.653Z"
   },
   {
    "duration": 40,
    "start_time": "2025-04-18T21:38:57.038Z"
   },
   {
    "duration": 655,
    "start_time": "2025-04-18T21:38:57.081Z"
   },
   {
    "duration": 5,
    "start_time": "2025-04-18T21:38:57.738Z"
   },
   {
    "duration": 18,
    "start_time": "2025-04-18T21:38:57.745Z"
   },
   {
    "duration": 215,
    "start_time": "2025-04-18T21:38:57.764Z"
   },
   {
    "duration": 73,
    "start_time": "2025-04-18T21:38:57.981Z"
   },
   {
    "duration": 409,
    "start_time": "2025-04-18T21:38:58.056Z"
   },
   {
    "duration": 52,
    "start_time": "2025-04-19T06:56:48.234Z"
   },
   {
    "duration": 1449,
    "start_time": "2025-04-19T06:57:01.131Z"
   },
   {
    "duration": 3,
    "start_time": "2025-04-19T06:57:02.582Z"
   },
   {
    "duration": 2543,
    "start_time": "2025-04-19T06:57:03.002Z"
   },
   {
    "duration": 2053,
    "start_time": "2025-04-19T06:57:06.625Z"
   },
   {
    "duration": 4,
    "start_time": "2025-04-19T07:01:52.863Z"
   },
   {
    "duration": 1703,
    "start_time": "2025-04-19T07:02:18.207Z"
   },
   {
    "duration": 370,
    "start_time": "2025-04-19T07:02:21.716Z"
   },
   {
    "duration": 1654,
    "start_time": "2025-04-19T07:03:25.266Z"
   },
   {
    "duration": 1740,
    "start_time": "2025-04-19T07:03:45.212Z"
   },
   {
    "duration": 1252,
    "start_time": "2025-04-19T07:03:59.439Z"
   },
   {
    "duration": 3,
    "start_time": "2025-04-19T07:04:00.694Z"
   },
   {
    "duration": 2632,
    "start_time": "2025-04-19T07:04:00.699Z"
   },
   {
    "duration": 1988,
    "start_time": "2025-04-19T07:04:03.333Z"
   },
   {
    "duration": 4,
    "start_time": "2025-04-19T07:04:05.325Z"
   },
   {
    "duration": 1782,
    "start_time": "2025-04-19T07:04:05.331Z"
   },
   {
    "duration": 0,
    "start_time": "2025-04-19T07:04:07.114Z"
   },
   {
    "duration": 0,
    "start_time": "2025-04-19T07:04:07.116Z"
   },
   {
    "duration": 0,
    "start_time": "2025-04-19T07:04:07.117Z"
   },
   {
    "duration": 0,
    "start_time": "2025-04-19T07:04:07.118Z"
   },
   {
    "duration": 0,
    "start_time": "2025-04-19T07:04:07.119Z"
   },
   {
    "duration": 0,
    "start_time": "2025-04-19T07:04:07.120Z"
   },
   {
    "duration": 0,
    "start_time": "2025-04-19T07:04:07.121Z"
   },
   {
    "duration": 0,
    "start_time": "2025-04-19T07:04:07.122Z"
   },
   {
    "duration": 0,
    "start_time": "2025-04-19T07:04:07.123Z"
   },
   {
    "duration": 179,
    "start_time": "2025-04-19T07:04:56.071Z"
   },
   {
    "duration": 1183,
    "start_time": "2025-04-19T07:06:11.317Z"
   },
   {
    "duration": 3,
    "start_time": "2025-04-19T07:06:12.502Z"
   },
   {
    "duration": 2225,
    "start_time": "2025-04-19T07:06:12.507Z"
   },
   {
    "duration": 1991,
    "start_time": "2025-04-19T07:06:14.734Z"
   },
   {
    "duration": 201,
    "start_time": "2025-04-19T07:06:16.728Z"
   },
   {
    "duration": 1213,
    "start_time": "2025-04-19T07:06:16.931Z"
   },
   {
    "duration": 170,
    "start_time": "2025-04-19T07:06:18.146Z"
   },
   {
    "duration": 74,
    "start_time": "2025-04-19T07:06:18.318Z"
   },
   {
    "duration": 177,
    "start_time": "2025-04-19T07:06:18.393Z"
   },
   {
    "duration": 36,
    "start_time": "2025-04-19T07:06:18.572Z"
   },
   {
    "duration": 541,
    "start_time": "2025-04-19T07:06:18.609Z"
   },
   {
    "duration": 4,
    "start_time": "2025-04-19T07:06:19.152Z"
   },
   {
    "duration": 6,
    "start_time": "2025-04-19T07:06:19.162Z"
   },
   {
    "duration": 132,
    "start_time": "2025-04-19T07:06:19.171Z"
   },
   {
    "duration": 15,
    "start_time": "2025-04-19T07:06:19.304Z"
   },
   {
    "duration": 242,
    "start_time": "2025-04-19T07:06:19.321Z"
   },
   {
    "duration": 209,
    "start_time": "2025-04-19T07:58:52.224Z"
   },
   {
    "duration": 48,
    "start_time": "2025-04-19T07:58:55.649Z"
   },
   {
    "duration": 151,
    "start_time": "2025-04-19T07:59:01.391Z"
   },
   {
    "duration": 412,
    "start_time": "2025-04-19T08:16:16.023Z"
   },
   {
    "duration": 510,
    "start_time": "2025-04-19T08:21:08.959Z"
   },
   {
    "duration": 558,
    "start_time": "2025-04-19T08:26:47.485Z"
   },
   {
    "duration": 513,
    "start_time": "2025-04-19T08:28:11.428Z"
   },
   {
    "duration": 516,
    "start_time": "2025-04-19T08:28:19.993Z"
   },
   {
    "duration": 524,
    "start_time": "2025-04-19T08:32:22.320Z"
   },
   {
    "duration": 102,
    "start_time": "2025-04-19T08:34:51.496Z"
   },
   {
    "duration": 212,
    "start_time": "2025-04-19T08:34:57.244Z"
   },
   {
    "duration": 819,
    "start_time": "2025-04-19T08:43:31.155Z"
   },
   {
    "duration": 863,
    "start_time": "2025-04-19T08:44:32.323Z"
   },
   {
    "duration": 811,
    "start_time": "2025-04-19T08:44:44.277Z"
   },
   {
    "duration": 771,
    "start_time": "2025-04-19T08:45:01.530Z"
   },
   {
    "duration": 422,
    "start_time": "2025-04-19T08:47:31.003Z"
   },
   {
    "duration": 1295,
    "start_time": "2025-04-19T08:51:41.839Z"
   },
   {
    "duration": 139,
    "start_time": "2025-04-19T08:53:35.144Z"
   },
   {
    "duration": 76,
    "start_time": "2025-04-19T08:54:02.724Z"
   },
   {
    "duration": 9994,
    "start_time": "2025-04-19T08:54:27.105Z"
   },
   {
    "duration": 148,
    "start_time": "2025-04-19T08:55:10.984Z"
   },
   {
    "duration": 614,
    "start_time": "2025-04-19T08:55:19.839Z"
   },
   {
    "duration": 0,
    "start_time": "2025-04-19T08:55:20.455Z"
   },
   {
    "duration": 0,
    "start_time": "2025-04-19T08:55:20.456Z"
   },
   {
    "duration": 0,
    "start_time": "2025-04-19T08:55:20.457Z"
   },
   {
    "duration": 0,
    "start_time": "2025-04-19T08:55:20.458Z"
   },
   {
    "duration": 0,
    "start_time": "2025-04-19T08:55:20.460Z"
   },
   {
    "duration": 0,
    "start_time": "2025-04-19T08:55:20.461Z"
   },
   {
    "duration": 0,
    "start_time": "2025-04-19T08:55:20.462Z"
   },
   {
    "duration": 0,
    "start_time": "2025-04-19T08:55:20.463Z"
   },
   {
    "duration": 0,
    "start_time": "2025-04-19T08:55:20.464Z"
   },
   {
    "duration": 0,
    "start_time": "2025-04-19T08:55:20.467Z"
   },
   {
    "duration": 0,
    "start_time": "2025-04-19T08:55:20.468Z"
   },
   {
    "duration": 0,
    "start_time": "2025-04-19T08:55:20.469Z"
   },
   {
    "duration": 0,
    "start_time": "2025-04-19T08:55:20.470Z"
   },
   {
    "duration": 0,
    "start_time": "2025-04-19T08:55:20.471Z"
   },
   {
    "duration": 0,
    "start_time": "2025-04-19T08:55:20.473Z"
   },
   {
    "duration": 580,
    "start_time": "2025-04-19T08:55:49.571Z"
   },
   {
    "duration": 43,
    "start_time": "2025-04-19T08:56:17.765Z"
   },
   {
    "duration": 9071,
    "start_time": "2025-04-19T08:58:02.964Z"
   },
   {
    "duration": 6792,
    "start_time": "2025-04-19T08:58:57.453Z"
   },
   {
    "duration": 14910,
    "start_time": "2025-04-19T08:59:20.042Z"
   },
   {
    "duration": 21423,
    "start_time": "2025-04-19T09:00:05.528Z"
   },
   {
    "duration": 35,
    "start_time": "2025-04-19T09:00:31.667Z"
   },
   {
    "duration": 4626,
    "start_time": "2025-04-19T09:00:51.340Z"
   },
   {
    "duration": 2316,
    "start_time": "2025-04-19T09:00:55.968Z"
   },
   {
    "duration": 0,
    "start_time": "2025-04-19T09:00:58.287Z"
   },
   {
    "duration": 0,
    "start_time": "2025-04-19T09:00:58.288Z"
   },
   {
    "duration": 0,
    "start_time": "2025-04-19T09:00:58.290Z"
   },
   {
    "duration": 0,
    "start_time": "2025-04-19T09:00:58.291Z"
   },
   {
    "duration": 0,
    "start_time": "2025-04-19T09:00:58.292Z"
   },
   {
    "duration": 0,
    "start_time": "2025-04-19T09:00:58.293Z"
   },
   {
    "duration": 0,
    "start_time": "2025-04-19T09:00:58.295Z"
   },
   {
    "duration": 0,
    "start_time": "2025-04-19T09:00:58.296Z"
   },
   {
    "duration": 0,
    "start_time": "2025-04-19T09:00:58.297Z"
   },
   {
    "duration": 0,
    "start_time": "2025-04-19T09:00:58.298Z"
   },
   {
    "duration": 0,
    "start_time": "2025-04-19T09:00:58.299Z"
   },
   {
    "duration": 0,
    "start_time": "2025-04-19T09:00:58.300Z"
   },
   {
    "duration": 0,
    "start_time": "2025-04-19T09:00:58.301Z"
   },
   {
    "duration": 0,
    "start_time": "2025-04-19T09:00:58.303Z"
   },
   {
    "duration": 0,
    "start_time": "2025-04-19T09:00:58.304Z"
   },
   {
    "duration": 1215,
    "start_time": "2025-04-19T09:01:45.556Z"
   },
   {
    "duration": 2700,
    "start_time": "2025-04-19T09:02:06.125Z"
   },
   {
    "duration": 111,
    "start_time": "2025-04-19T09:02:12.230Z"
   },
   {
    "duration": 68,
    "start_time": "2025-04-19T09:03:00.963Z"
   },
   {
    "duration": 62,
    "start_time": "2025-04-19T09:06:08.745Z"
   },
   {
    "duration": 68,
    "start_time": "2025-04-19T09:06:12.370Z"
   },
   {
    "duration": 733,
    "start_time": "2025-04-20T13:24:42.959Z"
   },
   {
    "duration": 0,
    "start_time": "2025-04-20T13:24:43.694Z"
   },
   {
    "duration": 0,
    "start_time": "2025-04-20T13:24:43.696Z"
   },
   {
    "duration": 0,
    "start_time": "2025-04-20T13:24:43.698Z"
   },
   {
    "duration": 0,
    "start_time": "2025-04-20T13:24:43.710Z"
   },
   {
    "duration": 0,
    "start_time": "2025-04-20T13:24:43.711Z"
   },
   {
    "duration": 0,
    "start_time": "2025-04-20T13:24:43.712Z"
   },
   {
    "duration": 0,
    "start_time": "2025-04-20T13:24:43.713Z"
   },
   {
    "duration": 0,
    "start_time": "2025-04-20T13:24:43.713Z"
   },
   {
    "duration": 0,
    "start_time": "2025-04-20T13:24:43.714Z"
   },
   {
    "duration": 0,
    "start_time": "2025-04-20T13:24:43.716Z"
   },
   {
    "duration": 0,
    "start_time": "2025-04-20T13:24:43.716Z"
   },
   {
    "duration": 0,
    "start_time": "2025-04-20T13:24:43.717Z"
   },
   {
    "duration": 0,
    "start_time": "2025-04-20T13:24:43.720Z"
   },
   {
    "duration": 0,
    "start_time": "2025-04-20T13:24:43.721Z"
   },
   {
    "duration": 730,
    "start_time": "2025-04-20T13:26:53.443Z"
   },
   {
    "duration": 0,
    "start_time": "2025-04-20T13:26:54.175Z"
   },
   {
    "duration": 1,
    "start_time": "2025-04-20T13:26:54.176Z"
   },
   {
    "duration": 0,
    "start_time": "2025-04-20T13:26:54.178Z"
   },
   {
    "duration": 0,
    "start_time": "2025-04-20T13:26:54.180Z"
   },
   {
    "duration": 0,
    "start_time": "2025-04-20T13:26:54.182Z"
   },
   {
    "duration": 0,
    "start_time": "2025-04-20T13:26:54.183Z"
   },
   {
    "duration": 0,
    "start_time": "2025-04-20T13:26:54.185Z"
   },
   {
    "duration": 1,
    "start_time": "2025-04-20T13:26:54.186Z"
   },
   {
    "duration": 0,
    "start_time": "2025-04-20T13:26:54.211Z"
   },
   {
    "duration": 0,
    "start_time": "2025-04-20T13:26:54.216Z"
   },
   {
    "duration": 0,
    "start_time": "2025-04-20T13:26:54.222Z"
   },
   {
    "duration": 0,
    "start_time": "2025-04-20T13:26:54.225Z"
   },
   {
    "duration": 0,
    "start_time": "2025-04-20T13:26:54.226Z"
   },
   {
    "duration": 0,
    "start_time": "2025-04-20T13:26:54.227Z"
   },
   {
    "duration": 9457,
    "start_time": "2025-04-20T15:57:39.093Z"
   },
   {
    "duration": 308,
    "start_time": "2025-04-20T15:58:15.621Z"
   },
   {
    "duration": 2490,
    "start_time": "2025-04-20T15:58:32.967Z"
   },
   {
    "duration": 2538,
    "start_time": "2025-04-20T15:58:52.016Z"
   },
   {
    "duration": 2594,
    "start_time": "2025-04-20T15:59:15.675Z"
   },
   {
    "duration": 289,
    "start_time": "2025-04-20T15:59:23.211Z"
   },
   {
    "duration": 6900,
    "start_time": "2025-04-20T16:03:29.933Z"
   },
   {
    "duration": 19888,
    "start_time": "2025-04-20T16:03:50.884Z"
   },
   {
    "duration": 27,
    "start_time": "2025-04-20T16:04:21.954Z"
   },
   {
    "duration": 1497,
    "start_time": "2025-04-20T16:05:07.002Z"
   },
   {
    "duration": 3043,
    "start_time": "2025-04-20T16:05:45.592Z"
   },
   {
    "duration": 112,
    "start_time": "2025-04-20T16:06:19.491Z"
   },
   {
    "duration": 1239,
    "start_time": "2025-04-20T16:06:33.877Z"
   },
   {
    "duration": 3006,
    "start_time": "2025-04-20T16:06:42.857Z"
   },
   {
    "duration": 1187,
    "start_time": "2025-04-20T16:06:51.512Z"
   },
   {
    "duration": 1269,
    "start_time": "2025-04-20T16:07:23.735Z"
   },
   {
    "duration": 198,
    "start_time": "2025-04-20T16:08:56.290Z"
   },
   {
    "duration": 8,
    "start_time": "2025-04-20T16:09:03.291Z"
   },
   {
    "duration": 4354,
    "start_time": "2025-04-20T16:10:55.691Z"
   },
   {
    "duration": 3070,
    "start_time": "2025-04-20T16:11:25.462Z"
   },
   {
    "duration": 117,
    "start_time": "2025-04-20T16:11:30.116Z"
   },
   {
    "duration": 1271,
    "start_time": "2025-04-20T16:11:36.182Z"
   },
   {
    "duration": 3169,
    "start_time": "2025-04-20T16:12:26.302Z"
   },
   {
    "duration": 2012,
    "start_time": "2025-04-20T16:12:46.839Z"
   },
   {
    "duration": 9448,
    "start_time": "2025-04-20T16:13:30.956Z"
   },
   {
    "duration": 1932,
    "start_time": "2025-04-20T16:13:55.208Z"
   },
   {
    "duration": 2,
    "start_time": "2025-04-20T16:14:10.061Z"
   },
   {
    "duration": 2199,
    "start_time": "2025-04-20T16:14:11.287Z"
   },
   {
    "duration": 1817,
    "start_time": "2025-04-20T16:14:15.193Z"
   },
   {
    "duration": 2043,
    "start_time": "2025-04-20T16:14:20.443Z"
   },
   {
    "duration": 3,
    "start_time": "2025-04-20T16:14:22.488Z"
   },
   {
    "duration": 1921,
    "start_time": "2025-04-20T16:14:22.492Z"
   },
   {
    "duration": 1847,
    "start_time": "2025-04-20T16:14:24.415Z"
   },
   {
    "duration": 166,
    "start_time": "2025-04-20T16:14:26.263Z"
   },
   {
    "duration": 986,
    "start_time": "2025-04-20T16:14:26.430Z"
   },
   {
    "duration": 185,
    "start_time": "2025-04-20T16:14:27.417Z"
   },
   {
    "duration": 35,
    "start_time": "2025-04-20T16:14:27.604Z"
   },
   {
    "duration": 755,
    "start_time": "2025-04-20T16:14:27.662Z"
   },
   {
    "duration": 4,
    "start_time": "2025-04-20T16:14:28.421Z"
   },
   {
    "duration": 9,
    "start_time": "2025-04-20T16:14:28.427Z"
   },
   {
    "duration": 1248,
    "start_time": "2025-04-20T16:14:28.438Z"
   },
   {
    "duration": 300,
    "start_time": "2025-04-20T16:14:29.687Z"
   },
   {
    "duration": 13,
    "start_time": "2025-04-20T16:14:29.989Z"
   },
   {
    "duration": 210,
    "start_time": "2025-04-20T16:14:30.004Z"
   },
   {
    "duration": 18,
    "start_time": "2025-04-20T16:22:02.938Z"
   },
   {
    "duration": 19,
    "start_time": "2025-04-20T16:22:05.565Z"
   },
   {
    "duration": 2045,
    "start_time": "2025-04-20T16:22:13.433Z"
   },
   {
    "duration": 3,
    "start_time": "2025-04-20T16:22:15.480Z"
   },
   {
    "duration": 2099,
    "start_time": "2025-04-20T16:22:15.484Z"
   },
   {
    "duration": 1777,
    "start_time": "2025-04-20T16:22:17.585Z"
   },
   {
    "duration": 164,
    "start_time": "2025-04-20T16:22:19.364Z"
   },
   {
    "duration": 953,
    "start_time": "2025-04-20T16:22:19.529Z"
   },
   {
    "duration": 132,
    "start_time": "2025-04-20T16:22:20.484Z"
   },
   {
    "duration": 68,
    "start_time": "2025-04-20T16:22:20.618Z"
   },
   {
    "duration": 730,
    "start_time": "2025-04-20T16:22:20.688Z"
   },
   {
    "duration": 4,
    "start_time": "2025-04-20T16:22:21.419Z"
   },
   {
    "duration": 10,
    "start_time": "2025-04-20T16:22:21.425Z"
   },
   {
    "duration": 1269,
    "start_time": "2025-04-20T16:22:21.437Z"
   },
   {
    "duration": 288,
    "start_time": "2025-04-20T16:22:22.708Z"
   },
   {
    "duration": 13,
    "start_time": "2025-04-20T16:22:22.999Z"
   },
   {
    "duration": 278,
    "start_time": "2025-04-20T16:22:23.014Z"
   },
   {
    "duration": 13,
    "start_time": "2025-04-20T16:22:48.769Z"
   },
   {
    "duration": 19,
    "start_time": "2025-04-20T16:22:56.864Z"
   },
   {
    "duration": 10,
    "start_time": "2025-04-20T16:28:05.027Z"
   },
   {
    "duration": 9,
    "start_time": "2025-04-20T16:28:13.670Z"
   },
   {
    "duration": 24,
    "start_time": "2025-04-20T16:28:26.269Z"
   },
   {
    "duration": 24,
    "start_time": "2025-04-20T16:29:31.816Z"
   },
   {
    "duration": 2029,
    "start_time": "2025-04-20T16:30:04.851Z"
   },
   {
    "duration": 3,
    "start_time": "2025-04-20T16:30:06.883Z"
   },
   {
    "duration": 2279,
    "start_time": "2025-04-20T16:30:06.888Z"
   },
   {
    "duration": 1800,
    "start_time": "2025-04-20T16:30:09.170Z"
   },
   {
    "duration": 171,
    "start_time": "2025-04-20T16:30:10.972Z"
   },
   {
    "duration": 944,
    "start_time": "2025-04-20T16:30:11.145Z"
   },
   {
    "duration": 133,
    "start_time": "2025-04-20T16:30:12.091Z"
   },
   {
    "duration": 59,
    "start_time": "2025-04-20T16:30:12.225Z"
   },
   {
    "duration": 816,
    "start_time": "2025-04-20T16:30:12.286Z"
   },
   {
    "duration": 5,
    "start_time": "2025-04-20T16:30:13.104Z"
   },
   {
    "duration": 146,
    "start_time": "2025-04-20T16:30:13.111Z"
   },
   {
    "duration": 1217,
    "start_time": "2025-04-20T16:30:13.258Z"
   },
   {
    "duration": 314,
    "start_time": "2025-04-20T16:30:14.476Z"
   },
   {
    "duration": 13,
    "start_time": "2025-04-20T16:30:14.792Z"
   },
   {
    "duration": 148,
    "start_time": "2025-04-20T16:30:14.807Z"
   },
   {
    "duration": 2009,
    "start_time": "2025-04-20T16:32:30.322Z"
   },
   {
    "duration": 3,
    "start_time": "2025-04-20T16:32:32.333Z"
   },
   {
    "duration": 2278,
    "start_time": "2025-04-20T16:32:32.338Z"
   },
   {
    "duration": 1888,
    "start_time": "2025-04-20T16:32:34.619Z"
   },
   {
    "duration": 198,
    "start_time": "2025-04-20T16:32:36.509Z"
   },
   {
    "duration": 1039,
    "start_time": "2025-04-20T16:32:36.709Z"
   },
   {
    "duration": 148,
    "start_time": "2025-04-20T16:32:37.749Z"
   },
   {
    "duration": 33,
    "start_time": "2025-04-20T16:32:37.899Z"
   },
   {
    "duration": 784,
    "start_time": "2025-04-20T16:32:37.934Z"
   },
   {
    "duration": 4,
    "start_time": "2025-04-20T16:32:38.720Z"
   },
   {
    "duration": 13,
    "start_time": "2025-04-20T16:32:38.726Z"
   },
   {
    "duration": 1220,
    "start_time": "2025-04-20T16:32:38.741Z"
   },
   {
    "duration": 325,
    "start_time": "2025-04-20T16:32:39.962Z"
   },
   {
    "duration": 14,
    "start_time": "2025-04-20T16:32:40.289Z"
   },
   {
    "duration": 138,
    "start_time": "2025-04-20T16:32:40.304Z"
   },
   {
    "duration": 2005,
    "start_time": "2025-04-20T16:36:09.647Z"
   },
   {
    "duration": 7,
    "start_time": "2025-04-20T16:36:11.654Z"
   },
   {
    "duration": 1902,
    "start_time": "2025-04-20T16:36:11.662Z"
   },
   {
    "duration": 1898,
    "start_time": "2025-04-20T16:36:13.566Z"
   },
   {
    "duration": 181,
    "start_time": "2025-04-20T16:36:15.466Z"
   },
   {
    "duration": 998,
    "start_time": "2025-04-20T16:36:15.649Z"
   },
   {
    "duration": 182,
    "start_time": "2025-04-20T16:36:16.649Z"
   },
   {
    "duration": 63,
    "start_time": "2025-04-20T16:36:16.833Z"
   },
   {
    "duration": 836,
    "start_time": "2025-04-20T16:36:16.898Z"
   },
   {
    "duration": 5,
    "start_time": "2025-04-20T16:36:17.736Z"
   },
   {
    "duration": 19,
    "start_time": "2025-04-20T16:36:17.742Z"
   },
   {
    "duration": 1271,
    "start_time": "2025-04-20T16:36:17.764Z"
   },
   {
    "duration": 337,
    "start_time": "2025-04-20T16:36:19.037Z"
   },
   {
    "duration": 13,
    "start_time": "2025-04-20T16:36:19.377Z"
   },
   {
    "duration": 240,
    "start_time": "2025-04-20T16:36:19.392Z"
   },
   {
    "duration": 139,
    "start_time": "2025-04-20T16:39:27.457Z"
   },
   {
    "duration": 175,
    "start_time": "2025-04-20T16:41:55.793Z"
   },
   {
    "duration": 2056,
    "start_time": "2025-04-20T16:42:02.017Z"
   },
   {
    "duration": 4,
    "start_time": "2025-04-20T16:42:04.075Z"
   },
   {
    "duration": 2556,
    "start_time": "2025-04-20T16:42:04.084Z"
   },
   {
    "duration": 1930,
    "start_time": "2025-04-20T16:42:06.642Z"
   },
   {
    "duration": 192,
    "start_time": "2025-04-20T16:42:08.574Z"
   },
   {
    "duration": 996,
    "start_time": "2025-04-20T16:42:08.768Z"
   },
   {
    "duration": 139,
    "start_time": "2025-04-20T16:42:09.765Z"
   },
   {
    "duration": 56,
    "start_time": "2025-04-20T16:42:09.906Z"
   },
   {
    "duration": 801,
    "start_time": "2025-04-20T16:42:09.965Z"
   },
   {
    "duration": 5,
    "start_time": "2025-04-20T16:42:10.767Z"
   },
   {
    "duration": 118,
    "start_time": "2025-04-20T16:42:10.773Z"
   },
   {
    "duration": 1312,
    "start_time": "2025-04-20T16:42:10.893Z"
   },
   {
    "duration": 292,
    "start_time": "2025-04-20T16:42:12.207Z"
   },
   {
    "duration": 14,
    "start_time": "2025-04-20T16:42:12.500Z"
   },
   {
    "duration": 164,
    "start_time": "2025-04-20T16:42:12.516Z"
   },
   {
    "duration": 0,
    "start_time": "2025-04-20T16:42:12.682Z"
   },
   {
    "duration": 210,
    "start_time": "2025-04-20T16:42:52.336Z"
   },
   {
    "duration": 125,
    "start_time": "2025-04-20T16:44:05.452Z"
   },
   {
    "duration": 232,
    "start_time": "2025-04-20T16:44:17.360Z"
   },
   {
    "duration": 210,
    "start_time": "2025-04-20T16:45:12.595Z"
   },
   {
    "duration": 14,
    "start_time": "2025-04-20T17:46:21.205Z"
   },
   {
    "duration": 1322,
    "start_time": "2025-04-20T17:46:31.823Z"
   },
   {
    "duration": 12,
    "start_time": "2025-04-20T17:46:53.387Z"
   },
   {
    "duration": 2014,
    "start_time": "2025-04-20T18:03:43.240Z"
   },
   {
    "duration": 6,
    "start_time": "2025-04-20T18:03:45.255Z"
   },
   {
    "duration": 2186,
    "start_time": "2025-04-20T18:03:45.263Z"
   },
   {
    "duration": 1926,
    "start_time": "2025-04-20T18:03:47.451Z"
   },
   {
    "duration": 180,
    "start_time": "2025-04-20T18:03:49.380Z"
   },
   {
    "duration": 952,
    "start_time": "2025-04-20T18:03:49.561Z"
   },
   {
    "duration": 157,
    "start_time": "2025-04-20T18:03:50.514Z"
   },
   {
    "duration": 35,
    "start_time": "2025-04-20T18:03:50.673Z"
   },
   {
    "duration": 775,
    "start_time": "2025-04-20T18:03:50.710Z"
   },
   {
    "duration": 5,
    "start_time": "2025-04-20T18:03:51.487Z"
   },
   {
    "duration": 67,
    "start_time": "2025-04-20T18:03:51.494Z"
   },
   {
    "duration": 1238,
    "start_time": "2025-04-20T18:03:51.563Z"
   },
   {
    "duration": 303,
    "start_time": "2025-04-20T18:03:52.803Z"
   },
   {
    "duration": 14,
    "start_time": "2025-04-20T18:03:53.108Z"
   },
   {
    "duration": 270,
    "start_time": "2025-04-20T18:03:53.124Z"
   },
   {
    "duration": 126,
    "start_time": "2025-04-20T18:03:53.396Z"
   },
   {
    "duration": 14,
    "start_time": "2025-04-20T18:03:53.524Z"
   },
   {
    "duration": 1340,
    "start_time": "2025-04-20T18:03:53.541Z"
   },
   {
    "duration": 15,
    "start_time": "2025-04-20T18:03:54.883Z"
   },
   {
    "duration": 1378,
    "start_time": "2025-04-20T18:11:14.606Z"
   },
   {
    "duration": 1382,
    "start_time": "2025-04-20T18:11:43.088Z"
   },
   {
    "duration": 1420,
    "start_time": "2025-04-20T18:12:05.150Z"
   },
   {
    "duration": 1401,
    "start_time": "2025-04-20T18:12:22.808Z"
   },
   {
    "duration": 103,
    "start_time": "2025-04-20T18:12:41.920Z"
   },
   {
    "duration": 1535,
    "start_time": "2025-04-20T18:12:53.949Z"
   },
   {
    "duration": 77,
    "start_time": "2025-04-20T18:13:28.900Z"
   },
   {
    "duration": 1293,
    "start_time": "2025-04-20T18:13:39.334Z"
   },
   {
    "duration": 1278,
    "start_time": "2025-04-20T18:15:29.623Z"
   },
   {
    "duration": 13,
    "start_time": "2025-04-20T18:15:33.784Z"
   },
   {
    "duration": 118,
    "start_time": "2025-04-20T18:23:09.203Z"
   },
   {
    "duration": 45,
    "start_time": "2025-04-20T18:23:13.916Z"
   },
   {
    "duration": 9,
    "start_time": "2025-04-20T18:23:26.396Z"
   },
   {
    "duration": 294,
    "start_time": "2025-04-20T18:23:40.705Z"
   },
   {
    "duration": 276,
    "start_time": "2025-04-20T18:25:42.232Z"
   },
   {
    "duration": 287,
    "start_time": "2025-04-20T18:25:50.893Z"
   },
   {
    "duration": 306,
    "start_time": "2025-04-20T18:26:57.219Z"
   },
   {
    "duration": 12,
    "start_time": "2025-04-20T18:29:57.209Z"
   },
   {
    "duration": 17,
    "start_time": "2025-04-20T18:30:12.535Z"
   },
   {
    "duration": 17,
    "start_time": "2025-04-20T18:32:52.133Z"
   },
   {
    "duration": 17,
    "start_time": "2025-04-20T18:33:04.058Z"
   },
   {
    "duration": 1941,
    "start_time": "2025-04-20T18:33:11.069Z"
   },
   {
    "duration": 3,
    "start_time": "2025-04-20T18:33:13.012Z"
   },
   {
    "duration": 2238,
    "start_time": "2025-04-20T18:33:13.017Z"
   },
   {
    "duration": 1872,
    "start_time": "2025-04-20T18:33:15.257Z"
   },
   {
    "duration": 172,
    "start_time": "2025-04-20T18:33:17.160Z"
   },
   {
    "duration": 1007,
    "start_time": "2025-04-20T18:33:17.334Z"
   },
   {
    "duration": 152,
    "start_time": "2025-04-20T18:33:18.343Z"
   },
   {
    "duration": 66,
    "start_time": "2025-04-20T18:33:18.496Z"
   },
   {
    "duration": 729,
    "start_time": "2025-04-20T18:33:18.564Z"
   },
   {
    "duration": 5,
    "start_time": "2025-04-20T18:33:19.295Z"
   },
   {
    "duration": 20,
    "start_time": "2025-04-20T18:33:19.302Z"
   },
   {
    "duration": 1258,
    "start_time": "2025-04-20T18:33:19.325Z"
   },
   {
    "duration": 304,
    "start_time": "2025-04-20T18:33:20.585Z"
   },
   {
    "duration": 16,
    "start_time": "2025-04-20T18:33:20.893Z"
   },
   {
    "duration": 292,
    "start_time": "2025-04-20T18:33:20.911Z"
   },
   {
    "duration": 133,
    "start_time": "2025-04-20T18:33:21.205Z"
   },
   {
    "duration": 26,
    "start_time": "2025-04-20T18:33:21.340Z"
   },
   {
    "duration": 1533,
    "start_time": "2025-04-20T18:33:21.368Z"
   },
   {
    "duration": 12,
    "start_time": "2025-04-20T18:33:22.902Z"
   },
   {
    "duration": 270,
    "start_time": "2025-04-20T18:33:22.916Z"
   },
   {
    "duration": 9,
    "start_time": "2025-04-20T18:33:23.187Z"
   },
   {
    "duration": 312,
    "start_time": "2025-04-20T18:33:23.198Z"
   },
   {
    "duration": 18,
    "start_time": "2025-04-20T18:33:23.512Z"
   },
   {
    "duration": 17,
    "start_time": "2025-04-20T18:35:31.640Z"
   },
   {
    "duration": 25,
    "start_time": "2025-04-20T18:35:59.421Z"
   },
   {
    "duration": 84,
    "start_time": "2025-04-20T18:36:07.308Z"
   },
   {
    "duration": 690,
    "start_time": "2025-04-20T18:36:32.107Z"
   },
   {
    "duration": 2277,
    "start_time": "2025-04-20T18:41:34.713Z"
   },
   {
    "duration": 3,
    "start_time": "2025-04-20T18:41:36.992Z"
   },
   {
    "duration": 2539,
    "start_time": "2025-04-20T18:41:36.997Z"
   },
   {
    "duration": 1850,
    "start_time": "2025-04-20T18:41:39.539Z"
   },
   {
    "duration": 182,
    "start_time": "2025-04-20T18:41:41.391Z"
   },
   {
    "duration": 936,
    "start_time": "2025-04-20T18:41:41.575Z"
   },
   {
    "duration": 168,
    "start_time": "2025-04-20T18:41:42.513Z"
   },
   {
    "duration": 35,
    "start_time": "2025-04-20T18:41:42.683Z"
   },
   {
    "duration": 816,
    "start_time": "2025-04-20T18:41:42.720Z"
   },
   {
    "duration": 5,
    "start_time": "2025-04-20T18:41:43.538Z"
   },
   {
    "duration": 23,
    "start_time": "2025-04-20T18:41:43.561Z"
   },
   {
    "duration": 1266,
    "start_time": "2025-04-20T18:41:43.586Z"
   },
   {
    "duration": 328,
    "start_time": "2025-04-20T18:41:44.861Z"
   },
   {
    "duration": 14,
    "start_time": "2025-04-20T18:41:45.190Z"
   },
   {
    "duration": 292,
    "start_time": "2025-04-20T18:41:45.206Z"
   },
   {
    "duration": 733,
    "start_time": "2025-04-21T17:33:04.933Z"
   },
   {
    "duration": 0,
    "start_time": "2025-04-21T17:33:05.668Z"
   },
   {
    "duration": 0,
    "start_time": "2025-04-21T17:33:05.672Z"
   },
   {
    "duration": 0,
    "start_time": "2025-04-21T17:33:05.673Z"
   },
   {
    "duration": 0,
    "start_time": "2025-04-21T17:33:05.675Z"
   },
   {
    "duration": 0,
    "start_time": "2025-04-21T17:33:05.676Z"
   },
   {
    "duration": 0,
    "start_time": "2025-04-21T17:33:05.677Z"
   },
   {
    "duration": 0,
    "start_time": "2025-04-21T17:33:05.678Z"
   },
   {
    "duration": 0,
    "start_time": "2025-04-21T17:33:05.679Z"
   },
   {
    "duration": 0,
    "start_time": "2025-04-21T17:33:05.680Z"
   },
   {
    "duration": 0,
    "start_time": "2025-04-21T17:33:05.682Z"
   },
   {
    "duration": 0,
    "start_time": "2025-04-21T17:33:05.683Z"
   },
   {
    "duration": 0,
    "start_time": "2025-04-21T17:33:05.684Z"
   },
   {
    "duration": 0,
    "start_time": "2025-04-21T17:33:05.684Z"
   },
   {
    "duration": 0,
    "start_time": "2025-04-21T17:33:05.685Z"
   },
   {
    "duration": 866,
    "start_time": "2025-04-21T17:36:28.262Z"
   },
   {
    "duration": 0,
    "start_time": "2025-04-21T17:36:29.130Z"
   },
   {
    "duration": 0,
    "start_time": "2025-04-21T17:36:29.131Z"
   },
   {
    "duration": 0,
    "start_time": "2025-04-21T17:36:29.133Z"
   },
   {
    "duration": 0,
    "start_time": "2025-04-21T17:36:29.134Z"
   },
   {
    "duration": 0,
    "start_time": "2025-04-21T17:36:29.135Z"
   },
   {
    "duration": 0,
    "start_time": "2025-04-21T17:36:29.137Z"
   },
   {
    "duration": 0,
    "start_time": "2025-04-21T17:36:29.138Z"
   },
   {
    "duration": 0,
    "start_time": "2025-04-21T17:36:29.139Z"
   },
   {
    "duration": 0,
    "start_time": "2025-04-21T17:36:29.141Z"
   },
   {
    "duration": 0,
    "start_time": "2025-04-21T17:36:29.142Z"
   },
   {
    "duration": 0,
    "start_time": "2025-04-21T17:36:29.143Z"
   },
   {
    "duration": 0,
    "start_time": "2025-04-21T17:36:29.144Z"
   },
   {
    "duration": 0,
    "start_time": "2025-04-21T17:36:29.145Z"
   },
   {
    "duration": 0,
    "start_time": "2025-04-21T17:36:29.146Z"
   },
   {
    "duration": 908,
    "start_time": "2025-04-21T20:29:06.971Z"
   },
   {
    "duration": 1226,
    "start_time": "2025-04-21T20:38:05.020Z"
   },
   {
    "duration": 3,
    "start_time": "2025-04-21T20:38:06.248Z"
   },
   {
    "duration": 3098,
    "start_time": "2025-04-21T20:38:06.252Z"
   },
   {
    "duration": 2160,
    "start_time": "2025-04-21T20:38:09.352Z"
   },
   {
    "duration": 221,
    "start_time": "2025-04-21T20:38:11.514Z"
   },
   {
    "duration": 1210,
    "start_time": "2025-04-21T20:38:11.737Z"
   },
   {
    "duration": 178,
    "start_time": "2025-04-21T20:38:12.948Z"
   },
   {
    "duration": 79,
    "start_time": "2025-04-21T20:38:13.128Z"
   },
   {
    "duration": 68,
    "start_time": "2025-04-21T20:38:13.209Z"
   },
   {
    "duration": 0,
    "start_time": "2025-04-21T20:38:13.279Z"
   },
   {
    "duration": 0,
    "start_time": "2025-04-21T20:38:13.281Z"
   },
   {
    "duration": 0,
    "start_time": "2025-04-21T20:38:13.282Z"
   },
   {
    "duration": 0,
    "start_time": "2025-04-21T20:38:13.283Z"
   },
   {
    "duration": 0,
    "start_time": "2025-04-21T20:38:13.284Z"
   },
   {
    "duration": 0,
    "start_time": "2025-04-21T20:38:13.285Z"
   },
   {
    "duration": 635,
    "start_time": "2025-04-21T20:42:12.429Z"
   },
   {
    "duration": 5,
    "start_time": "2025-04-21T20:45:35.529Z"
   },
   {
    "duration": 56,
    "start_time": "2025-04-21T20:46:27.670Z"
   },
   {
    "duration": 8,
    "start_time": "2025-04-21T20:46:39.254Z"
   },
   {
    "duration": 1258,
    "start_time": "2025-04-21T20:46:47.368Z"
   },
   {
    "duration": 3,
    "start_time": "2025-04-21T20:46:48.627Z"
   },
   {
    "duration": 2860,
    "start_time": "2025-04-21T20:46:48.632Z"
   },
   {
    "duration": 2091,
    "start_time": "2025-04-21T20:46:51.494Z"
   },
   {
    "duration": 214,
    "start_time": "2025-04-21T20:46:53.587Z"
   },
   {
    "duration": 1230,
    "start_time": "2025-04-21T20:46:53.802Z"
   },
   {
    "duration": 182,
    "start_time": "2025-04-21T20:46:55.034Z"
   },
   {
    "duration": 72,
    "start_time": "2025-04-21T20:46:55.218Z"
   },
   {
    "duration": 658,
    "start_time": "2025-04-21T20:46:55.293Z"
   },
   {
    "duration": 0,
    "start_time": "2025-04-21T20:46:55.953Z"
   },
   {
    "duration": 0,
    "start_time": "2025-04-21T20:46:55.963Z"
   },
   {
    "duration": 0,
    "start_time": "2025-04-21T20:46:55.965Z"
   },
   {
    "duration": 0,
    "start_time": "2025-04-21T20:46:55.966Z"
   },
   {
    "duration": 1,
    "start_time": "2025-04-21T20:46:55.967Z"
   },
   {
    "duration": 0,
    "start_time": "2025-04-21T20:46:55.970Z"
   },
   {
    "duration": 765,
    "start_time": "2025-04-21T20:47:45.627Z"
   },
   {
    "duration": 1262,
    "start_time": "2025-04-21T20:48:33.162Z"
   },
   {
    "duration": 2,
    "start_time": "2025-04-21T20:48:34.427Z"
   },
   {
    "duration": 2301,
    "start_time": "2025-04-21T20:48:34.433Z"
   },
   {
    "duration": 2149,
    "start_time": "2025-04-21T20:48:36.736Z"
   },
   {
    "duration": 210,
    "start_time": "2025-04-21T20:48:38.887Z"
   },
   {
    "duration": 1264,
    "start_time": "2025-04-21T20:48:39.099Z"
   },
   {
    "duration": 171,
    "start_time": "2025-04-21T20:48:40.366Z"
   },
   {
    "duration": 69,
    "start_time": "2025-04-21T20:48:40.539Z"
   },
   {
    "duration": 766,
    "start_time": "2025-04-21T20:48:40.610Z"
   },
   {
    "duration": 4,
    "start_time": "2025-04-21T20:48:41.378Z"
   },
   {
    "duration": 7,
    "start_time": "2025-04-21T20:48:41.384Z"
   },
   {
    "duration": 2186,
    "start_time": "2025-04-21T20:48:41.393Z"
   },
   {
    "duration": 182,
    "start_time": "2025-04-21T20:48:43.581Z"
   },
   {
    "duration": 23,
    "start_time": "2025-04-21T20:48:43.765Z"
   },
   {
    "duration": 201,
    "start_time": "2025-04-21T20:48:43.790Z"
   },
   {
    "duration": 323,
    "start_time": "2025-04-21T20:49:48.423Z"
   },
   {
    "duration": 1249,
    "start_time": "2025-04-21T20:50:44.165Z"
   },
   {
    "duration": 3,
    "start_time": "2025-04-21T20:50:45.416Z"
   },
   {
    "duration": 2624,
    "start_time": "2025-04-21T20:50:45.421Z"
   },
   {
    "duration": 2133,
    "start_time": "2025-04-21T20:50:48.047Z"
   },
   {
    "duration": 217,
    "start_time": "2025-04-21T20:50:50.182Z"
   },
   {
    "duration": 1250,
    "start_time": "2025-04-21T20:50:50.401Z"
   },
   {
    "duration": 170,
    "start_time": "2025-04-21T20:50:51.653Z"
   },
   {
    "duration": 65,
    "start_time": "2025-04-21T20:50:51.824Z"
   },
   {
    "duration": 749,
    "start_time": "2025-04-21T20:50:51.890Z"
   },
   {
    "duration": 4,
    "start_time": "2025-04-21T20:50:52.642Z"
   },
   {
    "duration": 37,
    "start_time": "2025-04-21T20:50:52.648Z"
   },
   {
    "duration": 2143,
    "start_time": "2025-04-21T20:50:52.687Z"
   },
   {
    "duration": 346,
    "start_time": "2025-04-21T20:50:54.831Z"
   },
   {
    "duration": 17,
    "start_time": "2025-04-21T20:50:55.179Z"
   },
   {
    "duration": 221,
    "start_time": "2025-04-21T20:50:55.199Z"
   },
   {
    "duration": 1068,
    "start_time": "2025-04-22T19:02:52.670Z"
   },
   {
    "duration": 3,
    "start_time": "2025-04-22T19:02:53.740Z"
   },
   {
    "duration": 2070,
    "start_time": "2025-04-22T19:02:53.744Z"
   },
   {
    "duration": 1710,
    "start_time": "2025-04-22T19:02:55.816Z"
   },
   {
    "duration": 190,
    "start_time": "2025-04-22T19:02:57.528Z"
   },
   {
    "duration": 1035,
    "start_time": "2025-04-22T19:02:57.719Z"
   },
   {
    "duration": 152,
    "start_time": "2025-04-22T19:02:58.755Z"
   },
   {
    "duration": 32,
    "start_time": "2025-04-22T19:02:58.909Z"
   },
   {
    "duration": 661,
    "start_time": "2025-04-22T19:02:58.942Z"
   },
   {
    "duration": 4,
    "start_time": "2025-04-22T19:02:59.605Z"
   },
   {
    "duration": 27,
    "start_time": "2025-04-22T19:02:59.610Z"
   },
   {
    "duration": 1859,
    "start_time": "2025-04-22T19:02:59.639Z"
   },
   {
    "duration": 291,
    "start_time": "2025-04-22T19:03:01.500Z"
   },
   {
    "duration": 14,
    "start_time": "2025-04-22T19:03:01.793Z"
   },
   {
    "duration": 181,
    "start_time": "2025-04-22T19:03:01.808Z"
   },
   {
    "duration": 55,
    "start_time": "2025-04-22T20:47:39.280Z"
   },
   {
    "duration": 1462,
    "start_time": "2025-04-22T20:47:47.495Z"
   },
   {
    "duration": 3,
    "start_time": "2025-04-22T20:47:48.960Z"
   },
   {
    "duration": 2555,
    "start_time": "2025-04-22T20:47:48.964Z"
   },
   {
    "duration": 2020,
    "start_time": "2025-04-22T20:47:51.521Z"
   },
   {
    "duration": 202,
    "start_time": "2025-04-22T20:47:53.543Z"
   },
   {
    "duration": 1240,
    "start_time": "2025-04-22T20:47:53.747Z"
   },
   {
    "duration": 179,
    "start_time": "2025-04-22T20:47:54.989Z"
   },
   {
    "duration": 64,
    "start_time": "2025-04-22T20:47:55.169Z"
   },
   {
    "duration": 855,
    "start_time": "2025-04-22T20:47:55.235Z"
   },
   {
    "duration": 6,
    "start_time": "2025-04-22T20:47:56.094Z"
   },
   {
    "duration": 14,
    "start_time": "2025-04-22T20:47:56.101Z"
   },
   {
    "duration": 2142,
    "start_time": "2025-04-22T20:47:56.117Z"
   },
   {
    "duration": 329,
    "start_time": "2025-04-22T20:47:58.261Z"
   },
   {
    "duration": 24,
    "start_time": "2025-04-22T20:47:58.591Z"
   },
   {
    "duration": 189,
    "start_time": "2025-04-22T20:47:58.616Z"
   },
   {
    "duration": 110,
    "start_time": "2025-04-22T20:47:58.807Z"
   },
   {
    "duration": 16,
    "start_time": "2025-04-22T20:48:44.890Z"
   },
   {
    "duration": 1065,
    "start_time": "2025-04-22T20:48:56.493Z"
   },
   {
    "duration": 13,
    "start_time": "2025-04-22T20:50:20.517Z"
   },
   {
    "duration": 52,
    "start_time": "2025-04-22T20:51:02.588Z"
   },
   {
    "duration": 10,
    "start_time": "2025-04-22T20:52:01.968Z"
   },
   {
    "duration": 1207,
    "start_time": "2025-04-22T20:52:10.838Z"
   },
   {
    "duration": 3,
    "start_time": "2025-04-22T20:52:12.047Z"
   },
   {
    "duration": 2264,
    "start_time": "2025-04-22T20:52:12.052Z"
   },
   {
    "duration": 2164,
    "start_time": "2025-04-22T20:52:14.319Z"
   },
   {
    "duration": 194,
    "start_time": "2025-04-22T20:52:16.505Z"
   },
   {
    "duration": 1216,
    "start_time": "2025-04-22T20:52:16.705Z"
   },
   {
    "duration": 188,
    "start_time": "2025-04-22T20:52:17.923Z"
   },
   {
    "duration": 39,
    "start_time": "2025-04-22T20:52:18.113Z"
   },
   {
    "duration": 752,
    "start_time": "2025-04-22T20:52:18.154Z"
   },
   {
    "duration": 6,
    "start_time": "2025-04-22T20:52:18.909Z"
   },
   {
    "duration": 10,
    "start_time": "2025-04-22T20:52:18.917Z"
   },
   {
    "duration": 2177,
    "start_time": "2025-04-22T20:52:18.929Z"
   },
   {
    "duration": 319,
    "start_time": "2025-04-22T20:52:21.108Z"
   },
   {
    "duration": 16,
    "start_time": "2025-04-22T20:52:21.428Z"
   },
   {
    "duration": 194,
    "start_time": "2025-04-22T20:52:21.446Z"
   },
   {
    "duration": 121,
    "start_time": "2025-04-22T20:52:21.642Z"
   },
   {
    "duration": 14,
    "start_time": "2025-04-22T20:52:21.765Z"
   },
   {
    "duration": 1152,
    "start_time": "2025-04-22T20:52:21.781Z"
   },
   {
    "duration": 14,
    "start_time": "2025-04-22T20:52:22.935Z"
   },
   {
    "duration": 127,
    "start_time": "2025-04-22T20:52:22.950Z"
   },
   {
    "duration": 10,
    "start_time": "2025-04-22T20:52:57.485Z"
   },
   {
    "duration": 10,
    "start_time": "2025-04-22T20:53:37.086Z"
   },
   {
    "duration": 10,
    "start_time": "2025-04-22T20:53:42.312Z"
   },
   {
    "duration": 10,
    "start_time": "2025-04-22T20:53:47.826Z"
   },
   {
    "duration": 51,
    "start_time": "2025-04-22T20:53:57.746Z"
   },
   {
    "duration": 11,
    "start_time": "2025-04-22T20:53:59.936Z"
   },
   {
    "duration": 14,
    "start_time": "2025-04-22T20:54:29.935Z"
   },
   {
    "duration": 88,
    "start_time": "2025-04-22T20:55:01.988Z"
   },
   {
    "duration": 12,
    "start_time": "2025-04-22T20:55:14.262Z"
   },
   {
    "duration": 9,
    "start_time": "2025-04-22T20:55:30.454Z"
   },
   {
    "duration": 14,
    "start_time": "2025-04-22T20:55:56.313Z"
   },
   {
    "duration": 11,
    "start_time": "2025-04-22T20:56:01.995Z"
   },
   {
    "duration": 1186,
    "start_time": "2025-04-22T20:56:07.460Z"
   },
   {
    "duration": 2,
    "start_time": "2025-04-22T20:56:08.648Z"
   },
   {
    "duration": 2395,
    "start_time": "2025-04-22T20:56:08.652Z"
   },
   {
    "duration": 2038,
    "start_time": "2025-04-22T20:56:11.049Z"
   },
   {
    "duration": 203,
    "start_time": "2025-04-22T20:56:13.105Z"
   },
   {
    "duration": 1251,
    "start_time": "2025-04-22T20:56:13.309Z"
   },
   {
    "duration": 170,
    "start_time": "2025-04-22T20:56:14.562Z"
   },
   {
    "duration": 37,
    "start_time": "2025-04-22T20:56:14.734Z"
   },
   {
    "duration": 753,
    "start_time": "2025-04-22T20:56:14.773Z"
   },
   {
    "duration": 5,
    "start_time": "2025-04-22T20:56:15.528Z"
   },
   {
    "duration": 24,
    "start_time": "2025-04-22T20:56:15.535Z"
   },
   {
    "duration": 2138,
    "start_time": "2025-04-22T20:56:15.562Z"
   },
   {
    "duration": 302,
    "start_time": "2025-04-22T20:56:17.705Z"
   },
   {
    "duration": 17,
    "start_time": "2025-04-22T20:56:18.010Z"
   },
   {
    "duration": 197,
    "start_time": "2025-04-22T20:56:18.030Z"
   },
   {
    "duration": 123,
    "start_time": "2025-04-22T20:56:18.229Z"
   },
   {
    "duration": 13,
    "start_time": "2025-04-22T20:56:18.354Z"
   },
   {
    "duration": 1047,
    "start_time": "2025-04-22T20:56:18.369Z"
   },
   {
    "duration": 13,
    "start_time": "2025-04-22T20:56:19.417Z"
   },
   {
    "duration": 10,
    "start_time": "2025-04-22T20:56:19.432Z"
   },
   {
    "duration": 9,
    "start_time": "2025-04-22T20:56:19.443Z"
   },
   {
    "duration": 83,
    "start_time": "2025-04-22T21:00:16.119Z"
   },
   {
    "duration": 81,
    "start_time": "2025-04-22T21:00:38.557Z"
   },
   {
    "duration": 81,
    "start_time": "2025-04-22T21:00:58.153Z"
   },
   {
    "duration": 12,
    "start_time": "2025-04-22T21:01:25.867Z"
   },
   {
    "duration": 1101,
    "start_time": "2025-04-22T21:01:30.847Z"
   },
   {
    "duration": 11,
    "start_time": "2025-04-22T21:01:36.647Z"
   },
   {
    "duration": 33,
    "start_time": "2025-04-22T21:04:42.159Z"
   },
   {
    "duration": 102,
    "start_time": "2025-04-22T21:05:55.058Z"
   },
   {
    "duration": 30,
    "start_time": "2025-04-22T21:06:16.313Z"
   },
   {
    "duration": 1005,
    "start_time": "2025-04-22T21:07:34.334Z"
   },
   {
    "duration": 1703,
    "start_time": "2025-04-22T21:08:00.382Z"
   },
   {
    "duration": 17,
    "start_time": "2025-04-22T21:08:34.360Z"
   },
   {
    "duration": 1249,
    "start_time": "2025-04-22T21:08:52.916Z"
   },
   {
    "duration": 3,
    "start_time": "2025-04-22T21:08:54.167Z"
   },
   {
    "duration": 2757,
    "start_time": "2025-04-22T21:08:54.172Z"
   },
   {
    "duration": 2115,
    "start_time": "2025-04-22T21:08:56.931Z"
   },
   {
    "duration": 205,
    "start_time": "2025-04-22T21:08:59.048Z"
   },
   {
    "duration": 1251,
    "start_time": "2025-04-22T21:08:59.255Z"
   },
   {
    "duration": 159,
    "start_time": "2025-04-22T21:09:00.508Z"
   },
   {
    "duration": 67,
    "start_time": "2025-04-22T21:09:00.668Z"
   },
   {
    "duration": 813,
    "start_time": "2025-04-22T21:09:00.737Z"
   },
   {
    "duration": 5,
    "start_time": "2025-04-22T21:09:01.552Z"
   },
   {
    "duration": 23,
    "start_time": "2025-04-22T21:09:01.558Z"
   },
   {
    "duration": 2189,
    "start_time": "2025-04-22T21:09:01.583Z"
   },
   {
    "duration": 344,
    "start_time": "2025-04-22T21:09:03.774Z"
   },
   {
    "duration": 15,
    "start_time": "2025-04-22T21:09:04.120Z"
   },
   {
    "duration": 193,
    "start_time": "2025-04-22T21:09:04.137Z"
   },
   {
    "duration": 101,
    "start_time": "2025-04-22T21:09:04.332Z"
   },
   {
    "duration": 31,
    "start_time": "2025-04-22T21:09:04.435Z"
   },
   {
    "duration": 1796,
    "start_time": "2025-04-22T21:09:04.468Z"
   },
   {
    "duration": 18,
    "start_time": "2025-04-22T21:09:06.266Z"
   },
   {
    "duration": 20,
    "start_time": "2025-04-22T21:09:06.286Z"
   },
   {
    "duration": 8,
    "start_time": "2025-04-22T21:09:06.308Z"
   },
   {
    "duration": 16,
    "start_time": "2025-04-22T21:11:08.134Z"
   },
   {
    "duration": 8,
    "start_time": "2025-04-22T21:11:25.469Z"
   },
   {
    "duration": 119,
    "start_time": "2025-04-22T21:12:20.661Z"
   },
   {
    "duration": 30,
    "start_time": "2025-04-22T21:13:17.804Z"
   },
   {
    "duration": 97,
    "start_time": "2025-04-22T21:13:38.899Z"
   },
   {
    "duration": 413,
    "start_time": "2025-04-22T21:13:50.909Z"
   },
   {
    "duration": 103,
    "start_time": "2025-04-22T21:15:31.742Z"
   },
   {
    "duration": 1188,
    "start_time": "2025-04-22T21:15:57.057Z"
   },
   {
    "duration": 3,
    "start_time": "2025-04-22T21:15:58.246Z"
   },
   {
    "duration": 2649,
    "start_time": "2025-04-22T21:15:58.251Z"
   },
   {
    "duration": 2120,
    "start_time": "2025-04-22T21:16:00.903Z"
   },
   {
    "duration": 216,
    "start_time": "2025-04-22T21:16:03.025Z"
   },
   {
    "duration": 1261,
    "start_time": "2025-04-22T21:16:03.244Z"
   },
   {
    "duration": 165,
    "start_time": "2025-04-22T21:16:04.507Z"
   },
   {
    "duration": 64,
    "start_time": "2025-04-22T21:16:04.673Z"
   },
   {
    "duration": 783,
    "start_time": "2025-04-22T21:16:04.739Z"
   },
   {
    "duration": 5,
    "start_time": "2025-04-22T21:16:05.525Z"
   },
   {
    "duration": 15,
    "start_time": "2025-04-22T21:16:05.531Z"
   },
   {
    "duration": 2110,
    "start_time": "2025-04-22T21:16:05.548Z"
   },
   {
    "duration": 360,
    "start_time": "2025-04-22T21:16:07.659Z"
   },
   {
    "duration": 16,
    "start_time": "2025-04-22T21:16:08.021Z"
   },
   {
    "duration": 195,
    "start_time": "2025-04-22T21:16:08.039Z"
   },
   {
    "duration": 95,
    "start_time": "2025-04-22T21:16:08.236Z"
   },
   {
    "duration": 32,
    "start_time": "2025-04-22T21:16:08.333Z"
   },
   {
    "duration": 1626,
    "start_time": "2025-04-22T21:16:08.366Z"
   },
   {
    "duration": 26,
    "start_time": "2025-04-22T21:16:09.994Z"
   },
   {
    "duration": 56,
    "start_time": "2025-04-22T21:16:10.022Z"
   },
   {
    "duration": 8,
    "start_time": "2025-04-22T21:16:10.080Z"
   },
   {
    "duration": 146,
    "start_time": "2025-04-22T21:16:10.090Z"
   },
   {
    "duration": 31,
    "start_time": "2025-04-22T21:16:10.238Z"
   },
   {
    "duration": 127,
    "start_time": "2025-04-22T21:16:10.270Z"
   },
   {
    "duration": 449,
    "start_time": "2025-04-22T21:16:10.405Z"
   },
   {
    "duration": 115,
    "start_time": "2025-04-22T21:16:10.855Z"
   },
   {
    "duration": 136,
    "start_time": "2025-04-22T21:16:10.972Z"
   },
   {
    "duration": 25,
    "start_time": "2025-04-22T21:16:22.952Z"
   },
   {
    "duration": 53,
    "start_time": "2025-04-22T21:17:29.618Z"
   },
   {
    "duration": 28,
    "start_time": "2025-04-22T21:17:59.493Z"
   },
   {
    "duration": 1249,
    "start_time": "2025-04-22T21:18:05.193Z"
   },
   {
    "duration": 4,
    "start_time": "2025-04-22T21:18:06.444Z"
   },
   {
    "duration": 2410,
    "start_time": "2025-04-22T21:18:06.450Z"
   },
   {
    "duration": 2093,
    "start_time": "2025-04-22T21:18:08.862Z"
   },
   {
    "duration": 225,
    "start_time": "2025-04-22T21:18:10.957Z"
   },
   {
    "duration": 1221,
    "start_time": "2025-04-22T21:18:11.184Z"
   },
   {
    "duration": 165,
    "start_time": "2025-04-22T21:18:12.407Z"
   },
   {
    "duration": 70,
    "start_time": "2025-04-22T21:18:12.574Z"
   },
   {
    "duration": 763,
    "start_time": "2025-04-22T21:18:12.646Z"
   },
   {
    "duration": 6,
    "start_time": "2025-04-22T21:18:13.414Z"
   },
   {
    "duration": 13,
    "start_time": "2025-04-22T21:18:13.422Z"
   },
   {
    "duration": 2184,
    "start_time": "2025-04-22T21:18:13.437Z"
   },
   {
    "duration": 312,
    "start_time": "2025-04-22T21:18:15.623Z"
   },
   {
    "duration": 17,
    "start_time": "2025-04-22T21:18:15.936Z"
   },
   {
    "duration": 213,
    "start_time": "2025-04-22T21:18:15.956Z"
   },
   {
    "duration": 103,
    "start_time": "2025-04-22T21:18:16.171Z"
   },
   {
    "duration": 46,
    "start_time": "2025-04-22T21:18:16.276Z"
   },
   {
    "duration": 1659,
    "start_time": "2025-04-22T21:18:16.324Z"
   },
   {
    "duration": 31,
    "start_time": "2025-04-22T21:18:17.985Z"
   },
   {
    "duration": 14,
    "start_time": "2025-04-22T21:18:18.017Z"
   },
   {
    "duration": 9,
    "start_time": "2025-04-22T21:18:18.033Z"
   },
   {
    "duration": 147,
    "start_time": "2025-04-22T21:18:18.043Z"
   },
   {
    "duration": 39,
    "start_time": "2025-04-22T21:18:18.191Z"
   },
   {
    "duration": 117,
    "start_time": "2025-04-22T21:18:18.232Z"
   },
   {
    "duration": 424,
    "start_time": "2025-04-22T21:18:18.351Z"
   },
   {
    "duration": 65,
    "start_time": "2025-04-22T21:18:18.777Z"
   },
   {
    "duration": 127,
    "start_time": "2025-04-22T21:18:18.844Z"
   },
   {
    "duration": 278,
    "start_time": "2025-04-22T21:19:10.001Z"
   },
   {
    "duration": 288,
    "start_time": "2025-04-22T21:19:23.195Z"
   },
   {
    "duration": 315,
    "start_time": "2025-04-22T21:19:30.190Z"
   },
   {
    "duration": 300,
    "start_time": "2025-04-22T21:20:18.105Z"
   },
   {
    "duration": 368,
    "start_time": "2025-04-22T21:21:27.440Z"
   },
   {
    "duration": 324,
    "start_time": "2025-04-22T21:21:38.564Z"
   },
   {
    "duration": 308,
    "start_time": "2025-04-22T21:21:43.421Z"
   },
   {
    "duration": 178,
    "start_time": "2025-04-22T21:23:56.777Z"
   },
   {
    "duration": 177,
    "start_time": "2025-04-22T21:24:18.915Z"
   },
   {
    "duration": 333,
    "start_time": "2025-04-22T21:24:26.650Z"
   },
   {
    "duration": 185,
    "start_time": "2025-04-22T21:24:35.709Z"
   },
   {
    "duration": 319,
    "start_time": "2025-04-22T21:24:40.770Z"
   },
   {
    "duration": 281,
    "start_time": "2025-04-22T21:25:04.201Z"
   },
   {
    "duration": 315,
    "start_time": "2025-04-22T21:25:25.628Z"
   },
   {
    "duration": 178,
    "start_time": "2025-04-22T21:25:47.995Z"
   },
   {
    "duration": 176,
    "start_time": "2025-04-22T21:25:54.067Z"
   },
   {
    "duration": 331,
    "start_time": "2025-04-22T21:26:04.756Z"
   },
   {
    "duration": 312,
    "start_time": "2025-04-22T21:26:55.475Z"
   },
   {
    "duration": 1240,
    "start_time": "2025-04-22T21:28:33.413Z"
   },
   {
    "duration": 3,
    "start_time": "2025-04-22T21:28:34.655Z"
   },
   {
    "duration": 2017,
    "start_time": "2025-04-22T21:28:34.659Z"
   },
   {
    "duration": 2005,
    "start_time": "2025-04-22T21:28:36.678Z"
   },
   {
    "duration": 226,
    "start_time": "2025-04-22T21:28:38.684Z"
   },
   {
    "duration": 1263,
    "start_time": "2025-04-22T21:28:38.911Z"
   },
   {
    "duration": 166,
    "start_time": "2025-04-22T21:28:40.175Z"
   },
   {
    "duration": 39,
    "start_time": "2025-04-22T21:28:40.342Z"
   },
   {
    "duration": 730,
    "start_time": "2025-04-22T21:28:40.404Z"
   },
   {
    "duration": 4,
    "start_time": "2025-04-22T21:28:41.137Z"
   },
   {
    "duration": 9,
    "start_time": "2025-04-22T21:28:41.143Z"
   },
   {
    "duration": 2123,
    "start_time": "2025-04-22T21:28:41.154Z"
   },
   {
    "duration": 335,
    "start_time": "2025-04-22T21:28:43.279Z"
   },
   {
    "duration": 17,
    "start_time": "2025-04-22T21:28:43.616Z"
   },
   {
    "duration": 203,
    "start_time": "2025-04-22T21:28:43.635Z"
   },
   {
    "duration": 106,
    "start_time": "2025-04-22T21:28:43.841Z"
   },
   {
    "duration": 32,
    "start_time": "2025-04-22T21:28:43.949Z"
   },
   {
    "duration": 1712,
    "start_time": "2025-04-22T21:28:43.983Z"
   },
   {
    "duration": 23,
    "start_time": "2025-04-22T21:28:45.697Z"
   },
   {
    "duration": 14,
    "start_time": "2025-04-22T21:28:45.721Z"
   },
   {
    "duration": 9,
    "start_time": "2025-04-22T21:28:45.737Z"
   },
   {
    "duration": 148,
    "start_time": "2025-04-22T21:28:45.747Z"
   },
   {
    "duration": 36,
    "start_time": "2025-04-22T21:28:45.896Z"
   },
   {
    "duration": 116,
    "start_time": "2025-04-22T21:28:45.934Z"
   },
   {
    "duration": 427,
    "start_time": "2025-04-22T21:28:46.054Z"
   },
   {
    "duration": 62,
    "start_time": "2025-04-22T21:28:46.484Z"
   },
   {
    "duration": 336,
    "start_time": "2025-04-22T21:28:46.547Z"
   },
   {
    "duration": 1586,
    "start_time": "2025-04-23T06:58:31.636Z"
   },
   {
    "duration": 3,
    "start_time": "2025-04-23T06:58:33.224Z"
   },
   {
    "duration": 2962,
    "start_time": "2025-04-23T06:58:33.228Z"
   },
   {
    "duration": 2097,
    "start_time": "2025-04-23T06:58:36.193Z"
   },
   {
    "duration": 194,
    "start_time": "2025-04-23T06:58:38.291Z"
   },
   {
    "duration": 1189,
    "start_time": "2025-04-23T06:58:38.487Z"
   },
   {
    "duration": 160,
    "start_time": "2025-04-23T06:58:39.678Z"
   },
   {
    "duration": 66,
    "start_time": "2025-04-23T06:58:39.840Z"
   },
   {
    "duration": 801,
    "start_time": "2025-04-23T06:58:39.908Z"
   },
   {
    "duration": 4,
    "start_time": "2025-04-23T06:58:40.712Z"
   },
   {
    "duration": 15,
    "start_time": "2025-04-23T06:58:40.717Z"
   },
   {
    "duration": 2086,
    "start_time": "2025-04-23T06:58:40.734Z"
   },
   {
    "duration": 333,
    "start_time": "2025-04-23T06:58:42.822Z"
   },
   {
    "duration": 24,
    "start_time": "2025-04-23T06:58:43.157Z"
   },
   {
    "duration": 189,
    "start_time": "2025-04-23T06:58:43.183Z"
   },
   {
    "duration": 78,
    "start_time": "2025-04-23T06:58:43.373Z"
   },
   {
    "duration": 51,
    "start_time": "2025-04-23T06:58:43.453Z"
   },
   {
    "duration": 1593,
    "start_time": "2025-04-23T06:58:43.506Z"
   },
   {
    "duration": 17,
    "start_time": "2025-04-23T06:58:45.101Z"
   },
   {
    "duration": 67,
    "start_time": "2025-04-23T06:58:45.119Z"
   },
   {
    "duration": 64,
    "start_time": "2025-04-23T06:58:45.188Z"
   },
   {
    "duration": 243,
    "start_time": "2025-04-23T06:58:45.253Z"
   },
   {
    "duration": 28,
    "start_time": "2025-04-23T06:58:45.498Z"
   },
   {
    "duration": 108,
    "start_time": "2025-04-23T06:58:45.527Z"
   },
   {
    "duration": 425,
    "start_time": "2025-04-23T06:58:45.636Z"
   },
   {
    "duration": 58,
    "start_time": "2025-04-23T06:58:46.063Z"
   },
   {
    "duration": 339,
    "start_time": "2025-04-23T06:58:46.122Z"
   },
   {
    "duration": 15,
    "start_time": "2025-04-23T06:59:00.086Z"
   },
   {
    "duration": 2123,
    "start_time": "2025-04-23T07:07:58.134Z"
   },
   {
    "duration": 2201,
    "start_time": "2025-04-23T07:14:44.673Z"
   },
   {
    "duration": 1275,
    "start_time": "2025-04-23T07:16:27.556Z"
   },
   {
    "duration": 3,
    "start_time": "2025-04-23T07:16:28.833Z"
   },
   {
    "duration": 1940,
    "start_time": "2025-04-23T07:16:28.837Z"
   },
   {
    "duration": 2131,
    "start_time": "2025-04-23T07:16:30.780Z"
   },
   {
    "duration": 216,
    "start_time": "2025-04-23T07:16:32.912Z"
   },
   {
    "duration": 1220,
    "start_time": "2025-04-23T07:16:33.130Z"
   },
   {
    "duration": 163,
    "start_time": "2025-04-23T07:16:34.352Z"
   },
   {
    "duration": 62,
    "start_time": "2025-04-23T07:16:34.516Z"
   },
   {
    "duration": 729,
    "start_time": "2025-04-23T07:16:34.580Z"
   },
   {
    "duration": 5,
    "start_time": "2025-04-23T07:16:35.312Z"
   },
   {
    "duration": 141,
    "start_time": "2025-04-23T07:16:35.319Z"
   },
   {
    "duration": 2174,
    "start_time": "2025-04-23T07:16:35.462Z"
   },
   {
    "duration": 323,
    "start_time": "2025-04-23T07:16:37.638Z"
   },
   {
    "duration": 21,
    "start_time": "2025-04-23T07:16:37.962Z"
   },
   {
    "duration": 200,
    "start_time": "2025-04-23T07:16:37.985Z"
   },
   {
    "duration": 93,
    "start_time": "2025-04-23T07:16:38.187Z"
   },
   {
    "duration": 30,
    "start_time": "2025-04-23T07:16:38.281Z"
   },
   {
    "duration": 2324,
    "start_time": "2025-04-23T07:16:38.313Z"
   },
   {
    "duration": 121,
    "start_time": "2025-04-23T07:16:40.638Z"
   },
   {
    "duration": 0,
    "start_time": "2025-04-23T07:16:40.761Z"
   },
   {
    "duration": 0,
    "start_time": "2025-04-23T07:16:40.762Z"
   },
   {
    "duration": 0,
    "start_time": "2025-04-23T07:16:40.764Z"
   },
   {
    "duration": 0,
    "start_time": "2025-04-23T07:16:40.765Z"
   },
   {
    "duration": 0,
    "start_time": "2025-04-23T07:16:40.766Z"
   },
   {
    "duration": 0,
    "start_time": "2025-04-23T07:16:40.777Z"
   },
   {
    "duration": 1790,
    "start_time": "2025-04-23T07:18:41.168Z"
   },
   {
    "duration": 16,
    "start_time": "2025-04-23T07:21:23.932Z"
   },
   {
    "duration": 1311,
    "start_time": "2025-04-23T07:21:41.416Z"
   },
   {
    "duration": 1122,
    "start_time": "2025-04-23T07:22:08.711Z"
   },
   {
    "duration": 1211,
    "start_time": "2025-04-23T07:23:25.525Z"
   },
   {
    "duration": 3,
    "start_time": "2025-04-23T07:23:26.738Z"
   },
   {
    "duration": 2374,
    "start_time": "2025-04-23T07:23:26.743Z"
   },
   {
    "duration": 2215,
    "start_time": "2025-04-23T07:23:29.119Z"
   },
   {
    "duration": 220,
    "start_time": "2025-04-23T07:23:31.336Z"
   },
   {
    "duration": 1390,
    "start_time": "2025-04-23T07:23:31.557Z"
   },
   {
    "duration": 182,
    "start_time": "2025-04-23T07:23:32.949Z"
   },
   {
    "duration": 61,
    "start_time": "2025-04-23T07:23:33.133Z"
   },
   {
    "duration": 801,
    "start_time": "2025-04-23T07:23:33.196Z"
   },
   {
    "duration": 5,
    "start_time": "2025-04-23T07:23:34.000Z"
   },
   {
    "duration": 50,
    "start_time": "2025-04-23T07:23:34.006Z"
   },
   {
    "duration": 2330,
    "start_time": "2025-04-23T07:23:34.058Z"
   },
   {
    "duration": 398,
    "start_time": "2025-04-23T07:23:36.389Z"
   },
   {
    "duration": 23,
    "start_time": "2025-04-23T07:23:36.789Z"
   },
   {
    "duration": 215,
    "start_time": "2025-04-23T07:23:36.814Z"
   },
   {
    "duration": 103,
    "start_time": "2025-04-23T07:23:37.031Z"
   },
   {
    "duration": 107,
    "start_time": "2025-04-23T07:23:37.135Z"
   },
   {
    "duration": 2405,
    "start_time": "2025-04-23T07:23:37.244Z"
   },
   {
    "duration": 41,
    "start_time": "2025-04-23T07:23:39.652Z"
   },
   {
    "duration": 1196,
    "start_time": "2025-04-23T07:23:39.695Z"
   },
   {
    "duration": 0,
    "start_time": "2025-04-23T07:23:40.893Z"
   },
   {
    "duration": 0,
    "start_time": "2025-04-23T07:23:40.894Z"
   },
   {
    "duration": 0,
    "start_time": "2025-04-23T07:23:40.895Z"
   },
   {
    "duration": 0,
    "start_time": "2025-04-23T07:23:40.896Z"
   },
   {
    "duration": 0,
    "start_time": "2025-04-23T07:23:40.897Z"
   },
   {
    "duration": 0,
    "start_time": "2025-04-23T07:23:40.898Z"
   },
   {
    "duration": 29,
    "start_time": "2025-04-23T07:32:07.618Z"
   },
   {
    "duration": 29,
    "start_time": "2025-04-23T07:47:10.103Z"
   },
   {
    "duration": 16,
    "start_time": "2025-04-23T07:51:20.888Z"
   },
   {
    "duration": 16,
    "start_time": "2025-04-23T07:51:54.461Z"
   },
   {
    "duration": 17,
    "start_time": "2025-04-23T07:51:56.837Z"
   },
   {
    "duration": 1196,
    "start_time": "2025-04-23T07:52:02.329Z"
   },
   {
    "duration": 3,
    "start_time": "2025-04-23T07:52:03.527Z"
   },
   {
    "duration": 3241,
    "start_time": "2025-04-23T07:52:03.533Z"
   },
   {
    "duration": 2068,
    "start_time": "2025-04-23T07:52:06.777Z"
   },
   {
    "duration": 208,
    "start_time": "2025-04-23T07:52:08.847Z"
   },
   {
    "duration": 1207,
    "start_time": "2025-04-23T07:52:09.057Z"
   },
   {
    "duration": 174,
    "start_time": "2025-04-23T07:52:10.266Z"
   },
   {
    "duration": 65,
    "start_time": "2025-04-23T07:52:10.442Z"
   },
   {
    "duration": 764,
    "start_time": "2025-04-23T07:52:10.509Z"
   },
   {
    "duration": 5,
    "start_time": "2025-04-23T07:52:11.276Z"
   },
   {
    "duration": 66,
    "start_time": "2025-04-23T07:52:11.283Z"
   },
   {
    "duration": 2089,
    "start_time": "2025-04-23T07:52:11.351Z"
   },
   {
    "duration": 319,
    "start_time": "2025-04-23T07:52:13.443Z"
   },
   {
    "duration": 27,
    "start_time": "2025-04-23T07:52:13.764Z"
   },
   {
    "duration": 196,
    "start_time": "2025-04-23T07:52:13.793Z"
   },
   {
    "duration": 90,
    "start_time": "2025-04-23T07:52:13.991Z"
   },
   {
    "duration": 32,
    "start_time": "2025-04-23T07:52:14.082Z"
   },
   {
    "duration": 2332,
    "start_time": "2025-04-23T07:52:14.116Z"
   },
   {
    "duration": 29,
    "start_time": "2025-04-23T07:52:16.450Z"
   },
   {
    "duration": 32,
    "start_time": "2025-04-23T07:52:16.481Z"
   },
   {
    "duration": 132,
    "start_time": "2025-04-23T07:52:16.515Z"
   },
   {
    "duration": 0,
    "start_time": "2025-04-23T07:52:16.649Z"
   },
   {
    "duration": 0,
    "start_time": "2025-04-23T07:52:16.650Z"
   },
   {
    "duration": 0,
    "start_time": "2025-04-23T07:52:16.651Z"
   },
   {
    "duration": 0,
    "start_time": "2025-04-23T07:52:16.652Z"
   },
   {
    "duration": 0,
    "start_time": "2025-04-23T07:52:16.653Z"
   },
   {
    "duration": 179,
    "start_time": "2025-04-23T07:53:23.091Z"
   },
   {
    "duration": 31,
    "start_time": "2025-04-23T07:53:41.842Z"
   },
   {
    "duration": 30,
    "start_time": "2025-04-23T07:57:02.868Z"
   },
   {
    "duration": 91,
    "start_time": "2025-04-23T07:57:05.175Z"
   },
   {
    "duration": 331,
    "start_time": "2025-04-23T07:57:10.647Z"
   },
   {
    "duration": 56,
    "start_time": "2025-04-23T07:57:13.869Z"
   },
   {
    "duration": 347,
    "start_time": "2025-04-23T07:57:15.954Z"
   },
   {
    "duration": 33,
    "start_time": "2025-04-23T08:02:33.017Z"
   },
   {
    "duration": 1236,
    "start_time": "2025-04-24T08:20:26.734Z"
   },
   {
    "duration": 3,
    "start_time": "2025-04-24T08:20:27.972Z"
   },
   {
    "duration": 2365,
    "start_time": "2025-04-24T08:20:27.976Z"
   },
   {
    "duration": 2187,
    "start_time": "2025-04-24T08:20:30.343Z"
   },
   {
    "duration": 198,
    "start_time": "2025-04-24T08:20:32.531Z"
   },
   {
    "duration": 1277,
    "start_time": "2025-04-24T08:20:32.731Z"
   },
   {
    "duration": 162,
    "start_time": "2025-04-24T08:20:34.010Z"
   },
   {
    "duration": 69,
    "start_time": "2025-04-24T08:20:34.173Z"
   },
   {
    "duration": 743,
    "start_time": "2025-04-24T08:20:34.243Z"
   },
   {
    "duration": 14,
    "start_time": "2025-04-24T08:20:34.991Z"
   },
   {
    "duration": 72,
    "start_time": "2025-04-24T08:20:35.007Z"
   },
   {
    "duration": 2095,
    "start_time": "2025-04-24T08:20:35.081Z"
   },
   {
    "duration": 320,
    "start_time": "2025-04-24T08:20:37.177Z"
   },
   {
    "duration": 21,
    "start_time": "2025-04-24T08:20:37.503Z"
   },
   {
    "duration": 210,
    "start_time": "2025-04-24T08:20:37.525Z"
   },
   {
    "duration": 99,
    "start_time": "2025-04-24T08:20:37.737Z"
   },
   {
    "duration": 32,
    "start_time": "2025-04-24T08:20:37.838Z"
   },
   {
    "duration": 2398,
    "start_time": "2025-04-24T08:20:37.872Z"
   },
   {
    "duration": 17,
    "start_time": "2025-04-24T08:20:40.272Z"
   },
   {
    "duration": 35,
    "start_time": "2025-04-24T08:20:40.291Z"
   },
   {
    "duration": 196,
    "start_time": "2025-04-24T08:20:40.327Z"
   },
   {
    "duration": 30,
    "start_time": "2025-04-24T08:20:40.525Z"
   },
   {
    "duration": 103,
    "start_time": "2025-04-24T08:20:40.557Z"
   },
   {
    "duration": 370,
    "start_time": "2025-04-24T08:20:40.661Z"
   },
   {
    "duration": 33,
    "start_time": "2025-04-24T08:20:41.033Z"
   },
   {
    "duration": 70,
    "start_time": "2025-04-24T08:20:41.068Z"
   },
   {
    "duration": 344,
    "start_time": "2025-04-24T08:20:41.140Z"
   },
   {
    "duration": 1286,
    "start_time": "2025-04-25T07:31:11.763Z"
   },
   {
    "duration": 3,
    "start_time": "2025-04-25T07:31:13.052Z"
   },
   {
    "duration": 1928,
    "start_time": "2025-04-25T07:31:13.056Z"
   },
   {
    "duration": 1856,
    "start_time": "2025-04-25T07:31:14.986Z"
   },
   {
    "duration": 210,
    "start_time": "2025-04-25T07:31:16.843Z"
   },
   {
    "duration": 1116,
    "start_time": "2025-04-25T07:31:17.055Z"
   },
   {
    "duration": 144,
    "start_time": "2025-04-25T07:31:18.173Z"
   },
   {
    "duration": 51,
    "start_time": "2025-04-25T07:31:18.319Z"
   },
   {
    "duration": 789,
    "start_time": "2025-04-25T07:31:18.372Z"
   },
   {
    "duration": 5,
    "start_time": "2025-04-25T07:31:19.165Z"
   },
   {
    "duration": 14,
    "start_time": "2025-04-25T07:31:19.171Z"
   },
   {
    "duration": 1914,
    "start_time": "2025-04-25T07:31:19.186Z"
   },
   {
    "duration": 304,
    "start_time": "2025-04-25T07:31:21.102Z"
   },
   {
    "duration": 14,
    "start_time": "2025-04-25T07:31:21.408Z"
   },
   {
    "duration": 177,
    "start_time": "2025-04-25T07:31:21.436Z"
   },
   {
    "duration": 85,
    "start_time": "2025-04-25T07:31:21.614Z"
   },
   {
    "duration": 39,
    "start_time": "2025-04-25T07:31:21.701Z"
   },
   {
    "duration": 2061,
    "start_time": "2025-04-25T07:31:21.741Z"
   },
   {
    "duration": 16,
    "start_time": "2025-04-25T07:31:23.804Z"
   },
   {
    "duration": 31,
    "start_time": "2025-04-25T07:31:23.822Z"
   },
   {
    "duration": 163,
    "start_time": "2025-04-25T07:31:23.854Z"
   },
   {
    "duration": 36,
    "start_time": "2025-04-25T07:31:24.019Z"
   },
   {
    "duration": 95,
    "start_time": "2025-04-25T07:31:24.057Z"
   },
   {
    "duration": 330,
    "start_time": "2025-04-25T07:31:24.154Z"
   },
   {
    "duration": 29,
    "start_time": "2025-04-25T07:31:24.485Z"
   },
   {
    "duration": 63,
    "start_time": "2025-04-25T07:31:24.515Z"
   },
   {
    "duration": 332,
    "start_time": "2025-04-25T07:31:24.579Z"
   }
  ],
  "colab": {
   "provenance": []
  },
  "kernelspec": {
   "display_name": "Python 3 (ipykernel)",
   "language": "python",
   "name": "python3"
  },
  "language_info": {
   "codemirror_mode": {
    "name": "ipython",
    "version": 3
   },
   "file_extension": ".py",
   "mimetype": "text/x-python",
   "name": "python",
   "nbconvert_exporter": "python",
   "pygments_lexer": "ipython3",
   "version": "3.9.5"
  },
  "toc": {
   "base_numbering": 1,
   "nav_menu": {},
   "number_sections": true,
   "sideBar": true,
   "skip_h1_title": true,
   "title_cell": "Table of Contents",
   "title_sidebar": "Contents",
   "toc_cell": false,
   "toc_position": {},
   "toc_section_display": true,
   "toc_window_display": false
  },
  "widgets": {
   "application/vnd.jupyter.widget-state+json": {
    "state": {},
    "version_major": 2,
    "version_minor": 0
   }
  }
 },
 "nbformat": 4,
 "nbformat_minor": 1
}
